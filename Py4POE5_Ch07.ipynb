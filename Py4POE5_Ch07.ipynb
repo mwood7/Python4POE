{
 "cells": [
  {
   "cell_type": "markdown",
   "metadata": {},
   "source": [
    "## POE5 Chapter 7: Using Indicator Variables\n",
    "\n",
    "### (Mostly done except marginal effects 5/13/21)"
   ]
  },
  {
   "cell_type": "markdown",
   "metadata": {},
   "source": [
    "### 7.1 Indicator Variables\n",
    "\n",
    "**POE5 Example 7.1 The university effect on house prices**\n"
   ]
  },
  {
   "cell_type": "code",
   "execution_count": 1,
   "metadata": {},
   "outputs": [],
   "source": [
    "%config InlineBackend.figure_format = \"retina\"\n",
    "import pandas as pd\n",
    "import numpy as np\n",
    "import statsmodels.formula.api as smf\n",
    "from scipy.stats import f"
   ]
  },
  {
   "cell_type": "code",
   "execution_count": 2,
   "metadata": {},
   "outputs": [
    {
     "name": "stdout",
     "output_type": "stream",
     "text": [
      "     price   sqft  age  utown  pool  fplace\n",
      "0  205.452  23.46    6      0     0       1\n",
      "1  185.328  20.03    5      0     0       1\n",
      "2  248.422  27.77    6      0     0       0\n",
      "3  154.690  20.17    1      0     0       0\n",
      "4  221.801  26.45    0      0     0       1\n",
      "       price   sqft  age  utown  pool  fplace\n",
      "500  314.650  29.28   24      1     1       0\n",
      "501  288.556  24.48    4      1     0       1\n",
      "502  302.834  27.02    1      1     0       1\n",
      "503  247.820  21.26    2      1     0       1\n",
      "504  269.971  22.76    4      1     0       0\n",
      "           price       sqft        age      utown       pool     fplace\n",
      "count  1000.0000  1000.0000  1000.0000  1000.0000  1000.0000  1000.0000\n",
      "mean    247.6557    25.2096     9.3920     0.5190     0.2040     0.5180\n",
      "std      42.1927     2.9185     9.4267     0.4999     0.4032     0.4999\n",
      "min     134.3160    20.0300     0.0000     0.0000     0.0000     0.0000\n",
      "50%     245.8325    25.3600     6.0000     1.0000     0.0000     1.0000\n",
      "max     345.1970    30.0000    60.0000     1.0000     1.0000     1.0000\n"
     ]
    }
   ],
   "source": [
    "poe5csv = 'http://principlesofeconometrics.com/poe5/data/csv/'\n",
    "utown = pd.read_csv(poe5csv+'utown.csv')\n",
    "\n",
    "pd.set_option(\"display.precision\", 4)\n",
    "\n",
    "print(utown[0:5])\n",
    "print(utown[500:505])\n",
    "print(utown.describe(percentiles=[]))"
   ]
  },
  {
   "cell_type": "code",
   "execution_count": 3,
   "metadata": {},
   "outputs": [
    {
     "name": "stdout",
     "output_type": "stream",
     "text": [
      "     price   sqft  age  utown  pool  fplace  large  midprice\n",
      "0  205.452  23.46    6      0     0       1  False     False\n",
      "1  185.328  20.03    5      0     0       1  False     False\n",
      "2  248.422  27.77    6      0     0       0   True      True\n",
      "3  154.690  20.17    1      0     0       0  False     False\n",
      "4  221.801  26.45    0      0     0       1   True      True\n"
     ]
    }
   ],
   "source": [
    "utown['large'] = utown.sqft>25\n",
    "utown['midprice'] = (utown.price > 215) & (utown.price < 275)\n",
    "print(utown.head())"
   ]
  },
  {
   "cell_type": "markdown",
   "metadata": {},
   "source": [
    "### 7.1.2 Estimating an indicator variable regression"
   ]
  },
  {
   "cell_type": "code",
   "execution_count": 4,
   "metadata": {},
   "outputs": [
    {
     "name": "stdout",
     "output_type": "stream",
     "text": [
      "==============================================================================\n",
      "                 coef    std err          t      P>|t|      [0.025      0.975]\n",
      "------------------------------------------------------------------------------\n",
      "Intercept     24.5000      6.192      3.957      0.000      12.350      36.650\n",
      "utown         27.4530      8.423      3.259      0.001      10.925      43.981\n",
      "sqft           7.6122      0.245     31.048      0.000       7.131       8.093\n",
      "sqft_utown     1.2994      0.332      3.913      0.000       0.648       1.951\n",
      "age           -0.1901      0.051     -3.712      0.000      -0.291      -0.090\n",
      "pool           4.3772      1.197      3.658      0.000       2.029       6.725\n",
      "fplace         1.6492      0.972      1.697      0.090      -0.258       3.557\n",
      "==============================================================================\n"
     ]
    }
   ],
   "source": [
    "utown['sqft_utown'] = utown.sqft*utown.utown\n",
    "\n",
    "formula = 'price ~ utown + sqft + sqft_utown + age + pool + fplace'\n",
    "res = smf.ols(formula=formula,data=utown).fit()\n",
    "\n",
    "print(res.summary().tables[1])"
   ]
  },
  {
   "cell_type": "code",
   "execution_count": 5,
   "metadata": {},
   "outputs": [
    {
     "name": "stdout",
     "output_type": "stream",
     "text": [
      "==============================================================================\n",
      "                 coef    std err          t      P>|t|      [0.025      0.975]\n",
      "------------------------------------------------------------------------------\n",
      "Intercept     24.5000      6.192      3.957      0.000      12.350      36.650\n",
      "utown         27.4530      8.423      3.259      0.001      10.925      43.981\n",
      "sqft           7.6122      0.245     31.048      0.000       7.131       8.093\n",
      "utown:sqft     1.2994      0.332      3.913      0.000       0.648       1.951\n",
      "age           -0.1901      0.051     -3.712      0.000      -0.291      -0.090\n",
      "pool           4.3772      1.197      3.658      0.000       2.029       6.725\n",
      "fplace         1.6492      0.972      1.697      0.090      -0.258       3.557\n",
      "==============================================================================\n"
     ]
    }
   ],
   "source": [
    "formula='price ~ utown * sqft + age + pool + fplace'\n",
    "res = smf.ols(formula, data=utown).fit()\n",
    "\n",
    "print(res.summary().tables[1])   "
   ]
  },
  {
   "cell_type": "markdown",
   "metadata": {},
   "source": [
    "### 7.1.3 Testing the significance of the indicator variables\n",
    "\n"
   ]
  },
  {
   "cell_type": "code",
   "execution_count": 6,
   "metadata": {},
   "outputs": [
    {
     "name": "stdout",
     "output_type": "stream",
     "text": [
      "F(2.0, 993.0) = 1954.8295\n",
      "Prob > F = 0.0000\n"
     ]
    }
   ],
   "source": [
    "hypothesis = '(utown = 0), (utown:sqft = 0)'\n",
    "f_test = res.f_test(hypothesis)\n",
    "\n",
    "print(f\"F{f_test.dist_args} = {f_test.fvalue:.4f}\")\n",
    "print(f\"Prob > F = {f_test.pvalue:.4f}\")"
   ]
  },
  {
   "cell_type": "markdown",
   "metadata": {},
   "source": [
    "### 7.1.4 Further calculations\n",
    "\n"
   ]
  },
  {
   "cell_type": "code",
   "execution_count": 7,
   "metadata": {},
   "outputs": [
    {
     "name": "stdout",
     "output_type": "stream",
     "text": [
      "                             Test for Constraints                             \n",
      "==============================================================================\n",
      "                 coef    std err          t      P>|t|      [0.025      0.975]\n",
      "------------------------------------------------------------------------------\n",
      "c0            51.9529      5.767      9.008      0.000      40.636      63.270\n",
      "==============================================================================\n"
     ]
    }
   ],
   "source": [
    "hypothesis = 'Intercept + utown = 0'\n",
    "print(res.t_test(hypothesis))"
   ]
  },
  {
   "cell_type": "code",
   "execution_count": 8,
   "metadata": {},
   "outputs": [
    {
     "name": "stdout",
     "output_type": "stream",
     "text": [
      "                             Test for Constraints                             \n",
      "==============================================================================\n",
      "                 coef    std err          t      P>|t|      [0.025      0.975]\n",
      "------------------------------------------------------------------------------\n",
      "c0             8.9116      0.225     39.643      0.000       8.470       9.353\n",
      "==============================================================================\n"
     ]
    }
   ],
   "source": [
    "hypothesis = 'sqft + utown:sqft = 0'\n",
    "print(res.t_test(hypothesis))"
   ]
  },
  {
   "cell_type": "markdown",
   "metadata": {},
   "source": [
    "### 7.1.5 Computing average marginal effects\n",
    "\n",
    "I don't know how to do this in statsmodels - will come back!"
   ]
  },
  {
   "cell_type": "markdown",
   "metadata": {},
   "source": [
    "### 7.2 Applying Indicator Variables\n",
    "#### POE5 Example 7.2 The effects of race and sex on wage\n"
   ]
  },
  {
   "cell_type": "code",
   "execution_count": 9,
   "metadata": {},
   "outputs": [
    {
     "name": "stdout",
     "output_type": "stream",
     "text": [
      "          count        mean         std   min      50%       max\n",
      "black    1200.0      0.0875      0.2827  0.00      0.0       1.0\n",
      "educ     1200.0     14.2025      2.8908  0.00     14.0      21.0\n",
      "exper    1200.0     23.3742     13.2693  0.00     24.0      62.0\n",
      "faminc   1200.0  35304.4217  45026.4882  0.00  23679.0  469000.0\n",
      "female   1200.0      0.4400      0.4966  0.00      0.0       1.0\n",
      "metro    1200.0      0.8217      0.3830  0.00      1.0       1.0\n",
      "midwest  1200.0      0.2475      0.4317  0.00      0.0       1.0\n",
      "south    1200.0      0.3250      0.4686  0.00      0.0       1.0\n",
      "wage     1200.0     23.6400     15.2166  3.94     19.3     221.1\n",
      "west     1200.0      0.2525      0.4346  0.00      0.0       1.0\n"
     ]
    }
   ],
   "source": [
    "poe5csv = 'http://principlesofeconometrics.com/poe5/data/csv/'\n",
    "cps5s = pd.read_csv(poe5csv+'cps5_small.csv')\n",
    "\n",
    "print(cps5s.describe(percentiles=[]).transpose())"
   ]
  },
  {
   "cell_type": "code",
   "execution_count": 10,
   "metadata": {},
   "outputs": [
    {
     "name": "stdout",
     "output_type": "stream",
     "text": [
      "==============================================================================\n",
      "                 coef    std err          t      P>|t|      [0.025      0.975]\n",
      "------------------------------------------------------------------------------\n",
      "Intercept     -9.4821      1.958     -4.843      0.000     -13.324      -5.641\n",
      "educ           2.4737      0.135     18.310      0.000       2.209       2.739\n",
      "black         -2.0653      2.162     -0.955      0.340      -6.306       2.176\n",
      "female        -4.2235      0.825     -5.120      0.000      -5.842      -2.605\n",
      "blk_female     0.5329      2.802      0.190      0.849      -4.965       6.030\n",
      "==============================================================================\n"
     ]
    }
   ],
   "source": [
    "cps5s['blk_female'] = cps5s.black*cps5s.female\n",
    "formula = 'wage ~ educ + black + female + blk_female'\n",
    "res = smf.ols(formula=formula,data=cps5s).fit()\n",
    "\n",
    "print(res.summary().tables[1])"
   ]
  },
  {
   "cell_type": "code",
   "execution_count": 11,
   "metadata": {},
   "outputs": [
    {
     "name": "stdout",
     "output_type": "stream",
     "text": [
      "                             Test for Constraints                             \n",
      "==============================================================================\n",
      "                 coef    std err          t      P>|t|      [0.025      0.975]\n",
      "------------------------------------------------------------------------------\n",
      "c0            -5.7558      1.757     -3.275      0.001      -9.203      -2.308\n",
      "==============================================================================\n"
     ]
    }
   ],
   "source": [
    "hypothesis = 'black + female + blk_female = 0'\n",
    "print(res.t_test(hypothesis))"
   ]
  },
  {
   "cell_type": "code",
   "execution_count": 12,
   "metadata": {},
   "outputs": [
    {
     "name": "stdout",
     "output_type": "stream",
     "text": [
      "F(3.0, 1195.0) = 10.5183\n",
      "Prob > F = 0.0000\n"
     ]
    }
   ],
   "source": [
    "hypothesis = 'black = 0, female = 0, blk_female = 0'\n",
    "f_test = res.f_test(hypothesis)\n",
    "print(f\"F{f_test.dist_args} = {f_test.fvalue:.4f}\")\n",
    "print(f\"Prob > F = {f_test.pvalue:.4f}\")"
   ]
  },
  {
   "cell_type": "markdown",
   "metadata": {},
   "source": [
    "#### POE5 Example 7.3 A Wage equation with regional indicators"
   ]
  },
  {
   "cell_type": "markdown",
   "metadata": {},
   "source": [
    "WARNING ON THE NEW UPDATE FOR STATSMODELS - {f_test.statistic:.4f}\") changed"
   ]
  },
  {
   "cell_type": "code",
   "execution_count": 13,
   "metadata": {},
   "outputs": [
    {
     "name": "stdout",
     "output_type": "stream",
     "text": [
      "==============================================================================\n",
      "                 coef    std err          t      P>|t|      [0.025      0.975]\n",
      "------------------------------------------------------------------------------\n",
      "Intercept     -8.3708      2.154     -3.886      0.000     -12.597      -4.145\n",
      "educ           2.4670      0.135     18.260      0.000       2.202       2.732\n",
      "black         -1.8777      2.180     -0.861      0.389      -6.155       2.399\n",
      "female        -4.1861      0.825     -5.077      0.000      -5.804      -2.568\n",
      "blk_female     0.6190      2.801      0.221      0.825      -4.876       6.114\n",
      "south         -1.6523      1.156     -1.430      0.153      -3.920       0.615\n",
      "midwest       -1.9392      1.208     -1.605      0.109      -4.310       0.431\n",
      "west          -0.1452      1.203     -0.121      0.904      -2.505       2.214\n",
      "==============================================================================\n"
     ]
    }
   ],
   "source": [
    "formula = 'wage ~ educ + black + female + blk_female + south + midwest + west'\n",
    "res = smf.ols(formula=formula,data=cps5s).fit()\n",
    "\n",
    "print(res.summary().tables[1])"
   ]
  },
  {
   "cell_type": "code",
   "execution_count": 14,
   "metadata": {},
   "outputs": [
    {
     "name": "stdout",
     "output_type": "stream",
     "text": [
      "F(3.0, 1192.0) = 1.5792\n",
      "Prob > F = 0.1926\n"
     ]
    }
   ],
   "source": [
    "hypothesis = 'south=0, midwest=0, west=0'\n",
    "f_test = res.f_test(hypothesis)\n",
    "print(f\"F{f_test.dist_args} = {f_test.fvalue:.4f}\")\n",
    "print(f\"Prob > F = {f_test.pvalue:.4f}\")"
   ]
  },
  {
   "cell_type": "code",
   "execution_count": 15,
   "metadata": {},
   "outputs": [
    {
     "name": "stdout",
     "output_type": "stream",
     "text": [
      "F(3,1192,0.95) = 2.6124\n",
      "F(3,1192,0.90) = 2.0884\n"
     ]
    }
   ],
   "source": [
    "f_crit_95 = f.ppf(q=0.95, dfn=3, dfd=1192)\n",
    "f_crit_90 = f.ppf(q=0.90, dfn=3, dfd=1192)\n",
    "print(f\"F(3,1192,0.95) = {f_crit_95:.4f}\")\n",
    "print(f\"F(3,1192,0.90) = {f_crit_90:.4f}\")"
   ]
  },
  {
   "cell_type": "markdown",
   "metadata": {},
   "source": [
    "#### POE5 Example 7.4 Testing the equivalence of two regressions: The Chow test"
   ]
  },
  {
   "cell_type": "code",
   "execution_count": 16,
   "metadata": {},
   "outputs": [
    {
     "name": "stdout",
     "output_type": "stream",
     "text": [
      "====================================================================================\n",
      "                       coef    std err          t      P>|t|      [0.025      0.975]\n",
      "------------------------------------------------------------------------------------\n",
      "Intercept           -9.9991      2.387     -4.189      0.000     -14.683      -5.315\n",
      "educ                 2.5271      0.164     15.391      0.000       2.205       2.849\n",
      "black                1.1276      3.525      0.320      0.749      -5.788       8.043\n",
      "female              -4.1520      0.984     -4.219      0.000      -6.083      -2.221\n",
      "blk_female          -4.4540      4.486     -0.993      0.321     -13.255       4.347\n",
      "south                1.5829      4.182      0.379      0.705      -6.622       9.788\n",
      "south_educ          -0.1714      0.290     -0.591      0.554      -0.740       0.397\n",
      "south_black         -4.6204      4.507     -1.025      0.306     -13.463       4.222\n",
      "south_female        -0.1886      1.808     -0.104      0.917      -3.736       3.359\n",
      "south_blk_female     8.1195      5.822      1.395      0.163      -3.302      19.541\n",
      "====================================================================================\n"
     ]
    }
   ],
   "source": [
    "cps5s['south_educ'] = cps5s.south*cps5s.educ\n",
    "cps5s['south_black'] = cps5s.south*cps5s.black\n",
    "cps5s['south_female'] = cps5s.south*cps5s.female\n",
    "cps5s['south_blk_female'] = cps5s.south*cps5s.blk_female\n",
    "\n",
    "formula = 'wage ~ educ + black + female + blk_female + south + \\\n",
    "          south_educ + south_black + south_female + south_blk_female'\n",
    "\n",
    "res = smf.ols(formula=formula,data=cps5s).fit()\n",
    "\n",
    "print(res.summary().tables[1])"
   ]
  },
  {
   "cell_type": "code",
   "execution_count": 17,
   "metadata": {},
   "outputs": [
    {
     "name": "stdout",
     "output_type": "stream",
     "text": [
      "F(5.0, 1190.0) = 0.6980\n",
      "Prob > F = 0.6250\n"
     ]
    }
   ],
   "source": [
    "hypothesis = 'south=0, south_educ=0, south_black=0, south_female=0, \\\n",
    "              south_blk_female=0'\n",
    "f_test = res.f_test(hypothesis)\n",
    "print(f\"F{f_test.dist_args} = {f_test.fvalue:.4f}\")\n",
    "print(f\"Prob > F = {f_test.pvalue:.4f}\")"
   ]
  },
  {
   "cell_type": "code",
   "execution_count": 18,
   "metadata": {},
   "outputs": [
    {
     "name": "stdout",
     "output_type": "stream",
     "text": [
      "                             Test for Constraints                             \n",
      "==============================================================================\n",
      "                 coef    std err          t      P>|t|      [0.025      0.975]\n",
      "------------------------------------------------------------------------------\n",
      "c0            -3.4928      2.809     -1.243      0.214      -9.004       2.018\n",
      "==============================================================================\n"
     ]
    }
   ],
   "source": [
    "hypothesis = 'black + south_black = 0'\n",
    "print(res.t_test(hypothesis))"
   ]
  },
  {
   "cell_type": "code",
   "execution_count": 19,
   "metadata": {},
   "outputs": [
    {
     "name": "stdout",
     "output_type": "stream",
     "text": [
      "                             Test for Constraints                             \n",
      "==============================================================================\n",
      "                 coef    std err          t      P>|t|      [0.025      0.975]\n",
      "------------------------------------------------------------------------------\n",
      "c0            -4.3406      1.517     -2.862      0.004      -7.316      -1.365\n",
      "==============================================================================\n"
     ]
    }
   ],
   "source": [
    "hypothesis = 'female + south_female = 0'\n",
    "print(res.t_test(hypothesis))"
   ]
  },
  {
   "cell_type": "markdown",
   "metadata": {},
   "source": [
    "### 7.2.4 Estimating separate regressions\n"
   ]
  },
  {
   "cell_type": "code",
   "execution_count": 20,
   "metadata": {
    "tags": []
   },
   "outputs": [
    {
     "name": "stdout",
     "output_type": "stream",
     "text": [
      "                            OLS Results: Not South                            \n",
      "==============================================================================\n",
      "Dep. Variable:                   wage   R-squared:                       0.263\n",
      "Model:                            OLS   Adj. R-squared:                  0.260\n",
      "No. Observations:                 810   F-statistic:                     71.94\n",
      "Covariance Type:            nonrobust   Prob (F-statistic):           4.06e-52\n",
      "==============================================================================\n",
      "                 coef    std err          t      P>|t|      [0.025      0.975]\n",
      "------------------------------------------------------------------------------\n",
      "Intercept     -9.9991      2.227     -4.489      0.000     -14.371      -5.627\n",
      "educ           2.5271      0.153     16.496      0.000       2.226       2.828\n",
      "black          1.1276      3.288      0.343      0.732      -5.327       7.583\n",
      "female        -4.1520      0.918     -4.522      0.000      -5.954      -2.350\n",
      "blk_female    -4.4540      4.185     -1.064      0.288     -12.669       3.761\n",
      "==============================================================================\n",
      "\n",
      "Notes:\n",
      "[1] Standard Errors assume that the covariance matrix of the errors is correctly specified.\n",
      "                              OLS Results: South                              \n",
      "==============================================================================\n",
      "Dep. Variable:                   wage   R-squared:                       0.172\n",
      "Model:                            OLS   Adj. R-squared:                  0.164\n",
      "No. Observations:                 390   F-statistic:                     20.01\n",
      "Covariance Type:            nonrobust   Prob (F-statistic):           5.52e-15\n",
      "==============================================================================\n",
      "                 coef    std err          t      P>|t|      [0.025      0.975]\n",
      "------------------------------------------------------------------------------\n",
      "Intercept     -8.4162      3.871     -2.174      0.030     -16.027      -0.805\n",
      "educ           2.3557      0.269      8.750      0.000       1.826       2.885\n",
      "black         -3.4928      3.167     -1.103      0.271      -9.719       2.733\n",
      "female        -4.3406      1.710     -2.539      0.012      -7.702      -0.979\n",
      "blk_female     3.6655      4.183      0.876      0.381      -4.559      11.890\n",
      "==============================================================================\n",
      "\n",
      "Notes:\n",
      "[1] Standard Errors assume that the covariance matrix of the errors is correctly specified.\n"
     ]
    }
   ],
   "source": [
    "cps5s_south = cps5s[cps5s.south==1].copy() # new DataFrame containing only south region\n",
    "cps5s_not_south = cps5s[cps5s.south==0].copy() # new DataFrame only non-south\n",
    "\n",
    "formula = 'wage ~ educ + black + female + blk_female'\n",
    "res_south = smf.ols(formula=formula,data=cps5s_south).fit()\n",
    "res_not_south = smf.ols(formula=formula,data=cps5s_not_south).fit()\n",
    "\n",
    "print(res_not_south.summary(slim=True,title=\"OLS Results: Not South\"))\n",
    "print(res_south.summary(slim=True,title=\"OLS Results: South\"))"
   ]
  },
  {
   "cell_type": "markdown",
   "metadata": {},
   "source": [
    "#### POE5 Example 7.5 and 7.6 Indicator variables in a log-linear model .."
   ]
  },
  {
   "cell_type": "code",
   "execution_count": 21,
   "metadata": {},
   "outputs": [
    {
     "name": "stdout",
     "output_type": "stream",
     "text": [
      "The estimated male/female wage differential is -16.288% +- 2.339%\n",
      "\n",
      "==============================================================================\n",
      "                 coef    std err          t      P>|t|      [0.025      0.975]\n",
      "------------------------------------------------------------------------------\n",
      "Intercept      1.6229      0.069     23.461      0.000       1.487       1.759\n",
      "educ           0.1024      0.005     21.343      0.000       0.093       0.112\n",
      "female        -0.1778      0.028     -6.364      0.000      -0.233      -0.123\n",
      "==============================================================================\n"
     ]
    }
   ],
   "source": [
    "cps5s['lwage'] = np.log(cps5s.wage)\n",
    "res = smf.ols('lwage ~ educ + female',data=cps5s).fit()\n",
    "\n",
    "wd = np.exp(res.params.female)-1\n",
    "se = np.sqrt(np.exp(res.params.female)**2 * res.cov_params().female.female)\n",
    "\n",
    "print(f\"The estimated male/female wage differential is \"\n",
    "      f\"{100*wd:.3f}% +- {100*se:.3f}%\\n\")\n",
    "print(res.summary().tables[1])"
   ]
  },
  {
   "cell_type": "markdown",
   "metadata": {},
   "source": [
    "#### POE5 Example 7.7: The Linear probability Model: An Example from Marketing"
   ]
  },
  {
   "cell_type": "code",
   "execution_count": 22,
   "metadata": {},
   "outputs": [
    {
     "name": "stdout",
     "output_type": "stream",
     "text": [
      "             count    mean     std     min   50%     max\n",
      "coke        1140.0  0.4474  0.4974  0.0000  0.00  1.0000\n",
      "pr_pepsi    1140.0  1.2027  0.3007  0.6800  1.19  1.7900\n",
      "pr_coke     1140.0  1.1901  0.2999  0.6800  1.19  1.7900\n",
      "disp_pepsi  1140.0  0.3640  0.4814  0.0000  0.00  1.0000\n",
      "disp_coke   1140.0  0.3789  0.4853  0.0000  0.00  1.0000\n",
      "pratio      1140.0  1.0272  0.2866  0.4972  1.00  2.3247\n",
      "                            OLS Regression Results                            \n",
      "==============================================================================\n",
      "Dep. Variable:                   coke   R-squared:                       0.120\n",
      "Model:                            OLS   Adj. R-squared:                  0.118\n",
      "No. Observations:                1140   F-statistic:                     51.67\n",
      "Covariance Type:            nonrobust   Prob (F-statistic):           2.64e-31\n",
      "==============================================================================\n",
      "                 coef    std err          t      P>|t|      [0.025      0.975]\n",
      "------------------------------------------------------------------------------\n",
      "Intercept      0.8902      0.065     13.594      0.000       0.762       1.019\n",
      "pratio        -0.4009      0.061     -6.534      0.000      -0.521      -0.280\n",
      "disp_coke      0.0772      0.034      2.244      0.025       0.010       0.145\n",
      "disp_pepsi    -0.1657      0.036     -4.654      0.000      -0.236      -0.096\n",
      "==============================================================================\n",
      "\n",
      "Notes:\n",
      "[1] Standard Errors assume that the covariance matrix of the errors is correctly specified.\n"
     ]
    }
   ],
   "source": [
    "coke = pd.read_csv(poe5csv+'coke.csv')\n",
    "\n",
    "print(coke.describe(percentiles=[]).transpose())\n",
    "\n",
    "formula = 'coke ~ pratio + disp_coke + disp_pepsi'\n",
    "res_coke = smf.ols(formula=formula,data=coke).fit()\n",
    "\n",
    "print(res_coke.summary(slim=True))"
   ]
  },
  {
   "cell_type": "code",
   "execution_count": 23,
   "metadata": {},
   "outputs": [
    {
     "name": "stdout",
     "output_type": "stream",
     "text": [
      "count    1140.0000\n",
      "mean        0.4474\n",
      "std         0.1724\n",
      "min        -0.2073\n",
      "50%         0.4596\n",
      "max         0.7681\n",
      "Name: phat, dtype: float64\n"
     ]
    }
   ],
   "source": [
    "coke['phat'] = res_coke.predict()\n",
    "print(coke.phat.describe(percentiles=[]))"
   ]
  },
  {
   "cell_type": "code",
   "execution_count": 24,
   "metadata": {},
   "outputs": [
    {
     "name": "stdout",
     "output_type": "stream",
     "text": [
      "count    16.0000\n",
      "mean     -0.0184\n",
      "std       0.0523\n",
      "min      -0.2073\n",
      "50%      -0.0002\n",
      "max      -0.0002\n",
      "Name: phat, dtype: float64\n"
     ]
    }
   ],
   "source": [
    "print(coke[coke.phat<=0].phat.describe(percentiles=[]))"
   ]
  },
  {
   "cell_type": "markdown",
   "metadata": {},
   "source": [
    "#### POE5 Example 7.8 An Application of difference estimateion: Project STAR"
   ]
  },
  {
   "cell_type": "code",
   "execution_count": 25,
   "metadata": {},
   "outputs": [
    {
     "name": "stdout",
     "output_type": "stream",
     "text": [
      "Total number of Observations = 5786\n",
      "Classrooms without aide present = 3743\n"
     ]
    }
   ],
   "source": [
    "star = pd.read_csv(poe5csv+'star.csv')\n",
    "print(f\"Total number of Observations = {len(star)}\")\n",
    "star = star[star.aide==0]\n",
    "print(f\"Classrooms without aide present = {len(star)}\")"
   ]
  },
  {
   "cell_type": "code",
   "execution_count": 26,
   "metadata": {},
   "outputs": [],
   "source": [
    "x1list = ['small']\n",
    "x2list = x1list + ['tchexper']\n",
    "x3list = x2list + ['boy','freelunch','white_asian']\n",
    "x4list = x3list + ['tchwhite','tchmasters','schurban','schrural']"
   ]
  },
  {
   "cell_type": "code",
   "execution_count": 27,
   "metadata": {},
   "outputs": [
    {
     "name": "stdout",
     "output_type": "stream",
     "text": [
      "              count      mean      std    min    50%     max\n",
      "totalscore   2005.0  918.0429  73.1380  635.0  912.0  1229.0\n",
      "small        2005.0    0.0000   0.0000    0.0    0.0     0.0\n",
      "tchexper     2005.0    9.0683   5.7244    0.0    9.0    24.0\n",
      "boy          2005.0    0.5132   0.4999    0.0    1.0     1.0\n",
      "freelunch    2005.0    0.4738   0.4994    0.0    0.0     1.0\n",
      "white_asian  2005.0    0.6813   0.4661    0.0    1.0     1.0\n",
      "tchwhite     2005.0    0.7980   0.4016    0.0    1.0     1.0\n",
      "tchmasters   2005.0    0.3651   0.4816    0.0    0.0     1.0\n",
      "schurban     2005.0    0.3012   0.4589    0.0    0.0     1.0\n",
      "schrural     2005.0    0.4998   0.5001    0.0    0.0     1.0\n"
     ]
    }
   ],
   "source": [
    "print(star[['totalscore']+x4list][star.regular==1].describe(percentiles=[]).transpose())"
   ]
  },
  {
   "cell_type": "code",
   "execution_count": 28,
   "metadata": {},
   "outputs": [
    {
     "name": "stdout",
     "output_type": "stream",
     "text": [
      "              count      mean      std    min    50%     max\n",
      "totalscore   1738.0  931.9419  76.3586  747.0  924.0  1253.0\n",
      "small        1738.0    1.0000   0.0000    1.0    1.0     1.0\n",
      "tchexper     1738.0    8.9954   5.7316    0.0    8.0    27.0\n",
      "boy          1738.0    0.5150   0.4999    0.0    1.0     1.0\n",
      "freelunch    1738.0    0.4718   0.4993    0.0    0.0     1.0\n",
      "white_asian  1738.0    0.6847   0.4648    0.0    1.0     1.0\n",
      "tchwhite     1738.0    0.8625   0.3445    0.0    1.0     1.0\n",
      "tchmasters   1738.0    0.3176   0.4657    0.0    0.0     1.0\n",
      "schurban     1738.0    0.3061   0.4610    0.0    0.0     1.0\n",
      "schrural     1738.0    0.4626   0.4987    0.0    0.0     1.0\n"
     ]
    }
   ],
   "source": [
    "print(star[['totalscore']+x4list][star.small==1].describe(percentiles=[]).transpose())"
   ]
  },
  {
   "cell_type": "code",
   "execution_count": 29,
   "metadata": {},
   "outputs": [
    {
     "name": "stdout",
     "output_type": "stream",
     "text": [
      "              small  tchexper     boy  freelunch  white_asian\n",
      "small        1.0000   -0.0064  0.0017    -0.0020       0.0036\n",
      "tchexper    -0.0064    1.0000 -0.0341    -0.0969       0.1286\n",
      "boy          0.0017   -0.0341  1.0000     0.0066       0.0231\n",
      "freelunch   -0.0020   -0.0969  0.0066     1.0000      -0.4378\n",
      "white_asian  0.0036    0.1286  0.0231    -0.4378       1.0000\n"
     ]
    }
   ],
   "source": [
    "print(star[x3list].corr())"
   ]
  },
  {
   "cell_type": "code",
   "execution_count": 30,
   "metadata": {},
   "outputs": [
    {
     "name": "stdout",
     "output_type": "stream",
     "text": [
      "totalscore ~ small + tchexper + boy + freelunch + white_asian\n"
     ]
    }
   ],
   "source": [
    "# Use Python .join() method to generate our formula strings\n",
    "example_formula = 'totalscore ~ ' + ' + '.join(x3list)\n",
    "print(example_formula)"
   ]
  },
  {
   "cell_type": "code",
   "execution_count": 31,
   "metadata": {},
   "outputs": [],
   "source": [
    "f1 = 'totalscore ~ ' + ' + '.join(x1list)\n",
    "mod1 = smf.ols(formula=f1,data=star).fit() \n",
    "\n",
    "f2 = 'totalscore ~ ' + ' + '.join(x2list)\n",
    "mod2 = smf.ols(formula=f2,data=star).fit() \n",
    "\n",
    "f3 = 'totalscore ~ ' + ' + '.join(x3list)\n",
    "mod3 = smf.ols(formula=f3,data=star).fit() \n",
    "\n",
    "f4 = 'totalscore ~ ' + ' + '.join(x4list)\n",
    "mod4 = smf.ols(formula=f4,data=star).fit() "
   ]
  },
  {
   "cell_type": "code",
   "execution_count": 32,
   "metadata": {},
   "outputs": [],
   "source": [
    "from pystout import pystout\n",
    "\n",
    "pystout(models=[mod1,mod2,mod3,mod4],\n",
    "        file='Table7.9.tex',\n",
    "        digits=3,\n",
    "        modstat={},\n",
    "        exogvars=['small','tchexper','boy'],\n",
    "        stars={.05:'*',0.01:\"**\",0.001:'***'},\n",
    "        addnotes=['Standard errors in parentheses',\n",
    "                  '* $p<0.05$, ** $p<0.01$, *** $p<0.001$'])"
   ]
  },
  {
   "attachments": {
    "image.png": {
     "image/png": "[encoded data removed]"
    }
   },
   "cell_type": "markdown",
   "metadata": {},
   "source": [
    "![image.png](attachment:image.png)"
   ]
  },
  {
   "cell_type": "markdown",
   "metadata": {},
   "source": [
    "![alt](https://quicklatex.com/cache3/f9/ql_10a65f343c5df9b96ad975608e7b9ef9_l3.png)"
   ]
  },
  {
   "cell_type": "markdown",
   "metadata": {},
   "source": [
    "#### POE5 Example 7.10 The difference estimator with fixed effects\n",
    "\n",
    "Whew - complicated!  I have a bare bones Example7.10.py file, but GRETL manual skips this example, and for now I'm skipping it, too.\n"
   ]
  },
  {
   "cell_type": "markdown",
   "metadata": {},
   "source": [
    "##ADD star1 not star for accurate regression results. old figure in text right now."
   ]
  },
  {
   "cell_type": "markdown",
   "metadata": {},
   "source": [
    "#### POE5 Example 7.11 Linear probability model check of random assignment"
   ]
  },
  {
   "cell_type": "code",
   "execution_count": 33,
   "metadata": {},
   "outputs": [
    {
     "name": "stdout",
     "output_type": "stream",
     "text": [
      "                            OLS Regression Results                            \n",
      "==============================================================================\n",
      "Dep. Variable:                  small   R-squared:                       0.000\n",
      "Model:                            OLS   Adj. R-squared:                 -0.001\n",
      "No. Observations:                3743   F-statistic:                   0.05902\n",
      "Covariance Type:            nonrobust   Prob (F-statistic):              0.994\n",
      "===============================================================================\n",
      "                  coef    std err          t      P>|t|      [0.025      0.975]\n",
      "-------------------------------------------------------------------------------\n",
      "Intercept       0.4665      0.025     18.542      0.000       0.417       0.516\n",
      "boy             0.0014      0.016      0.086      0.931      -0.031       0.033\n",
      "white_asian     0.0044      0.020      0.225      0.822      -0.034       0.043\n",
      "tchexper       -0.0006      0.001     -0.419      0.675      -0.003       0.002\n",
      "freelunch      -0.0009      0.018     -0.049      0.961      -0.037       0.035\n",
      "===============================================================================\n",
      "\n",
      "Notes:\n",
      "[1] Standard Errors assume that the covariance matrix of the errors is correctly specified.\n"
     ]
    }
   ],
   "source": [
    "formula = 'small ~ boy + white_asian + tchexper + freelunch'\n",
    "\n",
    "res = smf.ols(formula=formula,data=star).fit() \n",
    "\n",
    "print(res.summary(slim=True))"
   ]
  },
  {
   "cell_type": "markdown",
   "metadata": {},
   "source": [
    "#### POE5 Examples 7.12 Estimating the effect of a minimum wage change: the DID estimator"
   ]
  },
  {
   "cell_type": "code",
   "execution_count": 34,
   "metadata": {},
   "outputs": [
    {
     "name": "stdout",
     "output_type": "stream",
     "text": [
      "      count     mean     std  min   50%   max\n",
      "nj    820.0   0.8073  0.3946  0.0   1.0   1.0\n",
      "d     820.0   0.5000  0.5003  0.0   0.5   1.0\n",
      "d_nj  820.0   0.4037  0.4909  0.0   0.0   1.0\n",
      "fte   794.0  21.0265  9.4227  0.0  20.0  85.0\n"
     ]
    }
   ],
   "source": [
    "njmin3 = pd.read_csv(poe5csv+'njmin3.csv') \n",
    "\n",
    "vars = ['nj','d','d_nj','fte']\n",
    "print(njmin3[vars].describe(percentiles=[]).transpose())"
   ]
  },
  {
   "cell_type": "code",
   "execution_count": 35,
   "metadata": {},
   "outputs": [
    {
     "name": "stdout",
     "output_type": "stream",
     "text": [
      "        fte                                                 \n",
      "      count     mean      std  min    25%    50%   75%   max\n",
      "nj d                                                        \n",
      "0  0   77.0  23.3312  11.8563  7.5  15.50  20.50  27.0  70.5\n",
      "   1   77.0  21.1656   8.2767  0.0  15.00  20.00  26.0  43.5\n",
      "1  0  321.0  20.4394   9.1062  5.0  14.25  19.25  24.0  85.0\n",
      "   1  319.0  21.0274   9.2930  0.0  14.50  20.50  26.5  60.5\n"
     ]
    }
   ],
   "source": [
    "# The various means for the DID estimator are computed using\n",
    "print(njmin3[['fte','nj','d']].groupby(['nj','d']).describe())"
   ]
  },
  {
   "cell_type": "code",
   "execution_count": 36,
   "metadata": {},
   "outputs": [
    {
     "name": "stdout",
     "output_type": "stream",
     "text": [
      "                            OLS Regression Results                            \n",
      "==============================================================================\n",
      "Dep. Variable:                    fte   R-squared:                       0.007\n",
      "Model:                            OLS   Adj. R-squared:                  0.004\n",
      "No. Observations:                 794   F-statistic:                     1.964\n",
      "Covariance Type:            nonrobust   Prob (F-statistic):              0.118\n",
      "==============================================================================\n",
      "                 coef    std err          t      P>|t|      [0.025      0.975]\n",
      "------------------------------------------------------------------------------\n",
      "Intercept     23.3312      1.072     21.767      0.000      21.227      25.435\n",
      "nj            -2.8918      1.194     -2.423      0.016      -5.235      -0.549\n",
      "d             -2.1656      1.516     -1.429      0.154      -5.141       0.810\n",
      "d_nj           2.7536      1.688      1.631      0.103      -0.561       6.068\n",
      "==============================================================================\n",
      "\n",
      "Notes:\n",
      "[1] Standard Errors assume that the covariance matrix of the errors is correctly specified.\n"
     ]
    }
   ],
   "source": [
    "did1 = smf.ols('fte ~ nj + d + d_nj',data=njmin3).fit() \n",
    "\n",
    "print(did1.summary(slim=True))"
   ]
  },
  {
   "cell_type": "code",
   "execution_count": 37,
   "metadata": {},
   "outputs": [
    {
     "name": "stdout",
     "output_type": "stream",
     "text": [
      "                             Test for Constraints                             \n",
      "==============================================================================\n",
      "                 coef    std err          t      P>|t|      [0.025      0.975]\n",
      "------------------------------------------------------------------------------\n",
      "c0            20.4394      0.525     38.934      0.000      19.409      21.470\n",
      "==============================================================================\n"
     ]
    }
   ],
   "source": [
    "print(did1.t_test('nj + Intercept = 0'))"
   ]
  },
  {
   "cell_type": "code",
   "execution_count": 38,
   "metadata": {},
   "outputs": [
    {
     "name": "stdout",
     "output_type": "stream",
     "text": [
      "                             Test for Constraints                             \n",
      "==============================================================================\n",
      "                 coef    std err          t      P>|t|      [0.025      0.975]\n",
      "------------------------------------------------------------------------------\n",
      "c0            21.1656      1.072     19.746      0.000      19.062      23.270\n",
      "==============================================================================\n",
      "                             Test for Constraints                             \n",
      "==============================================================================\n",
      "                 coef    std err          t      P>|t|      [0.025      0.975]\n",
      "------------------------------------------------------------------------------\n",
      "c0            21.0274      0.527     39.930      0.000      19.994      22.061\n",
      "==============================================================================\n",
      "                             Test for Constraints                             \n",
      "==============================================================================\n",
      "                 coef    std err          t      P>|t|      [0.025      0.975]\n",
      "------------------------------------------------------------------------------\n",
      "c0             2.7536      1.688      1.631      0.103      -0.561       6.068\n",
      "==============================================================================\n"
     ]
    }
   ],
   "source": [
    "print(did1.t_test('d + Intercept = 0'))\n",
    "print(did1.t_test('nj + d + d_nj + Intercept = 0'))\n",
    "print(did1.t_test('d_nj = 0'))"
   ]
  },
  {
   "cell_type": "code",
   "execution_count": 39,
   "metadata": {},
   "outputs": [],
   "source": [
    "f2 = 'fte ~ nj + d + d_nj + kfc + roys + wendys + co_owned'\n",
    "did2 = smf.ols(formula=f2,data=njmin3).fit() \n",
    "\n",
    "f3 = 'fte ~ nj + d + d_nj + kfc + roys + wendys + co_owned + southj + centralj + pa1'\n",
    "did3 = smf.ols(formula=f3,data=njmin3).fit() \n",
    "\n",
    "pystout(models=[did1,did2,did3],\n",
    "        file='Table7.12.tex',\n",
    "        digits=3,\n",
    "        modstat={},\n",
    "        exogvars=['nj','d','d_nj'],\n",
    "        stars={.05:'*',0.01:\"**\",0.001:'***'},\n",
    "        addnotes=['Standard errors in parentheses',\n",
    "                  '* $p<0.05$, ** $p<0.01$, *** $p<0.001$'])"
   ]
  },
  {
   "attachments": {
    "image.png": {
     "image/png": "[encoded data removed]"
    }
   },
   "cell_type": "markdown",
   "metadata": {},
   "source": [
    "![image.png](attachment:image.png)"
   ]
  },
  {
   "cell_type": "code",
   "execution_count": 40,
   "metadata": {},
   "outputs": [
    {
     "name": "stdout",
     "output_type": "stream",
     "text": [
      "                            OLS Regression Results                            \n",
      "==============================================================================\n",
      "Dep. Variable:                    fte   R-squared:                       0.008\n",
      "Model:                            OLS   Adj. R-squared:                  0.004\n",
      "No. Observations:                 768   F-statistic:                     1.947\n",
      "Covariance Type:            nonrobust   Prob (F-statistic):              0.121\n",
      "==============================================================================\n",
      "                 coef    std err          t      P>|t|      [0.025      0.975]\n",
      "------------------------------------------------------------------------------\n",
      "Intercept     23.3800      1.098     21.288      0.000      21.224      25.536\n",
      "nj            -2.9494      1.224     -2.409      0.016      -5.353      -0.546\n",
      "d             -2.2833      1.553     -1.470      0.142      -5.332       0.766\n",
      "d_nj           2.7500      1.731      1.588      0.113      -0.649       6.149\n",
      "==============================================================================\n",
      "\n",
      "Notes:\n",
      "[1] Standard Errors assume that the covariance matrix of the errors is correctly specified.\n"
     ]
    }
   ],
   "source": [
    "did4 = smf.ols('fte ~ nj + d + d_nj',data=njmin3.dropna()).fit() \n",
    "print(did4.summary(slim=True))"
   ]
  },
  {
   "cell_type": "code",
   "execution_count": null,
   "metadata": {},
   "outputs": [],
   "source": []
  }
 ],
 "metadata": {
  "kernelspec": {
   "display_name": "Python 3 (ipykernel)",
   "language": "python",
   "name": "python3"
  },
  "language_info": {
   "codemirror_mode": {
    "name": "ipython",
    "version": 3
   },
   "file_extension": ".py",
   "mimetype": "text/x-python",
   "name": "python",
   "nbconvert_exporter": "python",
   "pygments_lexer": "ipython3",
   "version": "3.12.2"
  },
  "toc-autonumbering": false,
  "toc-showcode": true,
  "toc-showmarkdowntxt": false,
  "toc-showtags": false
 },
 "nbformat": 4,
 "nbformat_minor": 4
}
