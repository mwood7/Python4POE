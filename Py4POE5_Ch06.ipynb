{
 "cells": [
  {
   "cell_type": "code",
   "execution_count": 1,
   "metadata": {
    "tags": []
   },
   "outputs": [],
   "source": [
    "%config InlineBackend.figure_format = \"retina\"\n",
    "import pandas as pd\n",
    "import numpy as np\n",
    "from scipy.stats import f, t, chi2\n",
    "import statsmodels.api as sm\n",
    "import statsmodels.formula.api as smf\n",
    "import matplotlib.pyplot as plt\n",
    "import seaborn as sns; sns.set_style('whitegrid',  {\"grid.color\": '.95'})"
   ]
  },
  {
   "cell_type": "code",
   "execution_count": 2,
   "metadata": {
    "tags": []
   },
   "outputs": [
    {
     "name": "stdout",
     "output_type": "stream",
     "text": [
      "         sseu: 1532.0845\n",
      "         sser: 1896.3908\n",
      "            J: 2\n",
      "resu.df_resid: 71\n",
      "        fstat: 8.4414\n",
      "       pvalue: 0.00051416\n",
      "        crit1: 3.1258\n"
     ]
    }
   ],
   "source": [
    "poe5csv = 'http://principlesofeconometrics.com/poe5/data/csv/'\n",
    "andy = pd.read_csv(poe5csv+'andy.csv')\n",
    "\n",
    "andy['a2'] = andy.advert**2\n",
    "\n",
    "resu = smf.ols('sales ~ price + advert + a2',data=andy).fit()\n",
    "resr = smf.ols('sales ~ price',data=andy).fit()\n",
    "\n",
    "J = resr.df_resid - resu.df_resid\n",
    "fstat = ((resr.ssr-resu.ssr)/J) / (resu.ssr/resu.df_resid)\n",
    "crit1 = f.ppf(0.95,J,resu.df_resid)\n",
    "pvalue = 1-f.cdf(fstat,J,resu.df_resid)\n",
    "\n",
    "print(f\"         sseu: {resu.ssr:.4f}\")\n",
    "print(f\"         sser: {resr.ssr:.4f}\")\n",
    "print(f\"            J: {J:.0f}\")\n",
    "print(f\"resu.df_resid: {resu.df_resid:.0f}\")\n",
    "print(f\"        fstat: {fstat:.4f}\")\n",
    "print(f\"       pvalue: {pvalue:.8f}\")\n",
    "print(f\"        crit1: {crit1:.4f}\")"
   ]
  },
  {
   "cell_type": "markdown",
   "metadata": {},
   "source": [
    "#### POE5 Example 6.2 The F-Test Procedure"
   ]
  },
  {
   "cell_type": "code",
   "execution_count": 3,
   "metadata": {
    "tags": []
   },
   "outputs": [
    {
     "name": "stdout",
     "output_type": "stream",
     "text": [
      " fstat: 8.4414\n",
      "pvalue: 0.00051416\n",
      " crit1: 3.1258\n"
     ]
    }
   ],
   "source": [
    "hypotheses = '(advert = 0), (a2 = 0)'\n",
    "J = 2\n",
    "f_test = resu.f_test(hypotheses)\n",
    "fstat = f_test.fvalue\n",
    "crit1 = f.ppf(0.95,J,resu.df_resid)\n",
    "\n",
    "print(f\" fstat: {fstat:.4f}\")\n",
    "print(f\"pvalue: {f_test.pvalue:.8f}\")\n",
    "print(f\" crit1: {crit1:.4f}\")"
   ]
  },
  {
   "cell_type": "markdown",
   "metadata": {},
   "source": [
    "#### POE5 Example 6.3 Overall Significance of Burger Barns Equation\n",
    "\n"
   ]
  },
  {
   "cell_type": "markdown",
   "metadata": {},
   "source": [
    "Here we want the restricted model to have no dependent variables (just a constant, which we must add."
   ]
  },
  {
   "cell_type": "code",
   "execution_count": 4,
   "metadata": {
    "tags": []
   },
   "outputs": [
    {
     "name": "stdout",
     "output_type": "stream",
     "text": [
      "         sseu: 1532.0845\n",
      "         sser: 3115.4819\n",
      "            J: 3\n",
      "resu.df_resid: 71\n",
      "        fstat: 24.4593\n",
      "       pvalue: 5.6e-11\n",
      "        crit2: 2.7336\n",
      "==============================================================================\n",
      "                 coef    std err          t      P>|t|      [0.025      0.975]\n",
      "------------------------------------------------------------------------------\n",
      "Intercept    109.7190      6.799     16.137      0.000      96.162     123.276\n",
      "price         -7.6400      1.046     -7.304      0.000      -9.726      -5.554\n",
      "advert        12.1512      3.556      3.417      0.001       5.060      19.242\n",
      "a2            -2.7680      0.941     -2.943      0.004      -4.644      -0.892\n",
      "==============================================================================\n"
     ]
    }
   ],
   "source": [
    "# Unrestricted Model (all variables)\n",
    "resu = smf.ols('sales ~ price + advert + a2',data=andy).fit()\n",
    "\n",
    "# Restricted Model (no explanatory variables)\n",
    "andy['one'] = 1\n",
    "resr = smf.ols('sales ~ one',data=andy).fit()\n",
    "J = resr.df_resid - resu.df_resid\n",
    "\n",
    "hypotheses = '(price = 0), (advert = 0), (a2 = 0)'\n",
    "f_test = resu.f_test(hypotheses)\n",
    "fstat = f_test.fvalue\n",
    "crit2 = f.ppf(0.95,J,resu.df_resid)\n",
    "\n",
    "print(f\"         sseu: {resu.ssr:.4f}\")\n",
    "print(f\"         sser: {resr.ssr:.4f}\")\n",
    "print(f\"            J: {J:.0f}\")\n",
    "print(f\"resu.df_resid: {resu.df_resid:.0f}\")\n",
    "print(f\"        fstat: {fstat:.4f}\")\n",
    "print(f\"       pvalue: {f_test.pvalue:.5g}\")\n",
    "print(f\"        crit2: {crit2:.4f}\")\n",
    "print(resu.summary().tables[1])"
   ]
  },
  {
   "cell_type": "markdown",
   "metadata": {},
   "source": [
    "#### POE5 Example 6.4 Relation between t- and F-tests\n",
    "\n"
   ]
  },
  {
   "cell_type": "code",
   "execution_count": 5,
   "metadata": {},
   "outputs": [
    {
     "name": "stdout",
     "output_type": "stream",
     "text": [
      "         sseu: 1532.0845\n",
      "         sser: 2683.4109\n",
      "            J: 1\n",
      "resu.df_resid: 71\n",
      "        fstat: 53.3549\n",
      "       pvalue: 3.2365e-10\n",
      "        crit2: 2.7336\n",
      "       tratio: -7.3044\n",
      "    tratio_sq: 53.3549\n"
     ]
    }
   ],
   "source": [
    "# Unrestricted Model (all variables)\n",
    "resu = smf.ols('sales ~ price + advert + a2',data=andy).fit()\n",
    "hypothesis = '(price = 0)'\n",
    "f_test = resu.f_test(hypothesis)\n",
    "fstat = f_test.fvalue \n",
    "crit  = f.ppf(0.95,J,resu.df_resid)\n",
    "tratio = resu.params.price/resu.bse.price\n",
    "\n",
    "# Restricted Model\n",
    "resr = smf.ols('sales ~ advert + a2',data=andy).fit()\n",
    "J = resr.df_resid - resu.df_resid\n",
    "\n",
    "print(f\"         sseu: {resu.ssr:.4f}\")\n",
    "print(f\"         sser: {resr.ssr:.4f}\")\n",
    "print(f\"            J: {J:.0f}\")\n",
    "print(f\"resu.df_resid: {resu.df_resid:.0f}\")\n",
    "print(f\"        fstat: {fstat:.4f}\")\n",
    "print(f\"       pvalue: {f_test.pvalue:.5g}\")\n",
    "print(f\"        crit2: {crit:.4f}\")\n",
    "print(f\"       tratio: {tratio:.4f}\")\n",
    "print(f\"    tratio_sq: {tratio**2:.4f}\")"
   ]
  },
  {
   "cell_type": "markdown",
   "metadata": {},
   "source": [
    "#### POE5 Example 6.5 Testing Optimal Advertising\n"
   ]
  },
  {
   "cell_type": "code",
   "execution_count": 6,
   "metadata": {},
   "outputs": [
    {
     "name": "stdout",
     "output_type": "stream",
     "text": [
      " fstat: 0.93619531\n",
      "tvalue: 0.96757186\n",
      "pvalue: 0.3365\n",
      "                             Test for Constraints                             \n",
      "==============================================================================\n",
      "                 coef    std err          t      P>|t|      [0.025      0.975]\n",
      "------------------------------------------------------------------------------\n",
      "c0             1.6330      0.654      0.968      0.337       0.329       2.937\n",
      "==============================================================================\n"
     ]
    }
   ],
   "source": [
    "formula='sales ~ price + advert + a2'\n",
    "res = smf.ols(formula, data=andy).fit()\n",
    "\n",
    "hypothesis = 'advert + (3.8*a2) - 1'\n",
    "\n",
    "f_test = res.f_test(hypothesis)\n",
    "fstat = f_test.fvalue\n",
    "\n",
    "t_test = res.t_test(hypothesis)\n",
    "tvalue = t_test.tvalue.item(0)\n",
    "pvalue = t_test.pvalue\n",
    "\n",
    "print(f\" fstat: {fstat:.8f}\")\n",
    "print(f\"tvalue: {tvalue:.8f}\")\n",
    "print(f\"pvalue: {pvalue:.4f}\")\n",
    "print(t_test.summary())"
   ]
  },
  {
   "cell_type": "markdown",
   "metadata": {},
   "source": [
    "#### POE5 Example 6.6 A One-Tail Test\n"
   ]
  },
  {
   "cell_type": "code",
   "execution_count": 7,
   "metadata": {},
   "outputs": [
    {
     "name": "stdout",
     "output_type": "stream",
     "text": [
      "tvalue: 0.9675719\n",
      "pvalue: 0.1682713\n",
      "  crit: 1.6665997\n"
     ]
    }
   ],
   "source": [
    "pval = pvalue/2\n",
    "crit = t.ppf(0.95,res.df_resid)\n",
    "\n",
    "print(f\"tvalue: {tvalue:.7f}\")\n",
    "print(f\"pvalue: {pval:.7f}\")\n",
    "print(f\"  crit: {crit:.7f}\")"
   ]
  },
  {
   "cell_type": "markdown",
   "metadata": {},
   "source": [
    "#### POE5 Example 6.7 Two (J-2) Complex Hypotheses\n"
   ]
  },
  {
   "cell_type": "code",
   "execution_count": 8,
   "metadata": {},
   "outputs": [
    {
     "name": "stdout",
     "output_type": "stream",
     "text": [
      " fstat: 5.7412\n",
      "pvalue: 4.8847e-03\n"
     ]
    }
   ],
   "source": [
    "hypotheses = '(advert + 3.8*a2 - 1), \\\n",
    "    (6*price + 1.9*advert + 3.61*a2 + Intercept - 80)'\n",
    "J = 2\n",
    "f_test = res.f_test(hypotheses)\n",
    "fstat = f_test.fvalue\n",
    "\n",
    "print(f\" fstat: {fstat:.4f}\")\n",
    "print(f\"pvalue: {f_test.pvalue:.4e}\")"
   ]
  },
  {
   "cell_type": "markdown",
   "metadata": {},
   "source": [
    "#### POE5 Example 6.2 and 6.5 Revisited\n",
    "We need the chisquare number too as well - need toadd and replace the picture. \n",
    "add in the next box:\n",
    "print(f\"       chi2stat: {chi2stat:.4f}\")\n",
    "print(f\"       chi2critl: {chi2critl:.4f}\")\n",
    "print(f\"       chi2pvalue: {chi2pvalue:.8f}\")"
   ]
  },
  {
   "cell_type": "markdown",
   "metadata": {},
   "source": [
    "I don't know where this came from - Stata or book doesnt have this.\n",
    "\n",
    "from scipy.stats import chi2\n",
    "hypotheses = '(advert = 0), (a2 = 0)'\n",
    "J = 2 # J = the number of restrictions (fix terminology!)\n",
    "\n",
    "f_test = resu.f_test(hypotheses)\n",
    "\n",
    "fstat = f_test.fvalue\n",
    "crit1 = f.ppf(0.95,J,resu.df_resid)\n",
    "\n",
    "chi2pvalue = chi2.sf(J*fstat,J) # Survival Function\n",
    "\n",
    "print(f\"        fstat: {fstat:.4f}\")\n",
    "print(f\"        crit1: {crit1:.4f}\")\n",
    "print(f\"       pvalue: {f_test.pvalue:.8f}\")"
   ]
  },
  {
   "cell_type": "code",
   "execution_count": 9,
   "metadata": {},
   "outputs": [
    {
     "name": "stdout",
     "output_type": "stream",
     "text": [
      "     fstat: 0.93619531\n",
      "        df: 71.00000000\n",
      "   fpvalue: 0.33654267\n",
      "chi2pvalue: 0.33325824\n"
     ]
    }
   ],
   "source": [
    "hypothesis = 'advert + (3.8*a2) -1'\n",
    "\n",
    "f_test = res.f_test(hypothesis)\n",
    "fstat = f_test.fvalue\n",
    "fpvalue = f_test.pvalue\n",
    "\n",
    "J = 1\n",
    "df = res.df_resid\n",
    "chi2pvalue = chi2.sf(J*fstat,J) \n",
    "\n",
    "print(f\"     fstat: {fstat:.8f}\")\n",
    "print(f\"        df: {df:.8f}\")\n",
    "print(f\"   fpvalue: {fpvalue:.8f}\")\n",
    "print(f\"chi2pvalue: {chi2pvalue:.8f}\")"
   ]
  },
  {
   "cell_type": "markdown",
   "metadata": {},
   "source": [
    "#### POE5 Example 6.8 A Nonlinear Hypothesis\n",
    "\n"
   ]
  },
  {
   "cell_type": "code",
   "execution_count": 10,
   "metadata": {},
   "outputs": [
    {
     "name": "stdout",
     "output_type": "stream",
     "text": [
      "     tstat: 0.88826105\n",
      "fstat=chi2: 0.78900769\n",
      "   fpvalue: 0.37739976\n",
      "chi2pvalue: 0.37440035\n"
     ]
    }
   ],
   "source": [
    "mod1=smf.ols('sales ~ price + advert + a2',data=andy).fit()\n",
    "b1,b2,b3,b4=mod1.params\n",
    "c=1.9\n",
    "g=(1-b3)/(2*b4)\n",
    "d3=-1/(2*b4)\n",
    "d4=-(1-b3)/(2*b4**2)\n",
    "a=np.array([0,0,d3,d4])\n",
    "seg=np.sqrt(a.T.dot(mod1.cov_params()).dot(a))\n",
    "tv=(g-c)/seg\n",
    "chisq=F=tv**2\n",
    "dfd=mod1.nobs-len(mod1.params)\n",
    "Fpval=1-f.cdf(F,1,dfd)\n",
    "chi2pval=1-chi2.cdf(chisq,1)\n",
    "\n",
    "print(f\"     tstat: {tv:.8f}\")\n",
    "print(f\"fstat=chi2: {chisq:.8f}\")\n",
    "print(f\"   fpvalue: {Fpval:.8f}\")\n",
    "print(f\"chi2pvalue: {chi2pval:.8f}\")"
   ]
  },
  {
   "cell_type": "markdown",
   "metadata": {},
   "source": [
    "#### POE5 Example 6.9: Restricted Least Squares\n",
    "\n",
    "See https://www.statsmodels.org/dev/examples/notebooks/generated/recursive_ls.html#Example-3:-Linear-restrictions-and-formulas\n"
   ]
  },
  {
   "cell_type": "code",
   "execution_count": 11,
   "metadata": {},
   "outputs": [
    {
     "name": "stdout",
     "output_type": "stream",
     "text": [
      "==============================================================================\n",
      "                 coef    std err          z      P>|z|      [0.025      0.975]\n",
      "------------------------------------------------------------------------------\n",
      "Intercept     -4.7978      3.714     -1.292      0.196     -12.077       2.481\n",
      "lpb           -1.2994      0.166     -7.840      0.000      -1.624      -0.975\n",
      "lpl            0.1868      0.284      0.657      0.511      -0.371       0.744\n",
      "lpr            0.1667      0.077      2.163      0.031       0.016       0.318\n",
      "li             0.9458      0.427      2.215      0.027       0.109       1.783\n",
      "==============================================================================\n"
     ]
    }
   ],
   "source": [
    "beer = pd.read_csv(poe5csv+'beer.csv')\n",
    "\n",
    "beer['lq']  = np.log(beer.q)\n",
    "beer['lpb'] = np.log(beer.pb)\n",
    "beer['lpl'] = np.log(beer.pl)\n",
    "beer['lpr'] = np.log(beer.pr)\n",
    "beer['li']  = np.log(beer.i)\n",
    "\n",
    "formula='lq ~ lpb + lpl + lpr + li'\n",
    "constraint = 'lpb + lpl + lpr + li = 0'\n",
    "res = sm.RecursiveLS.from_formula(formula, constraints=constraint, data=beer).fit()\n",
    "\n",
    "print(res.summary().tables[1])"
   ]
  },
  {
   "cell_type": "markdown",
   "metadata": {},
   "source": [
    "#### POE5 Example 6.10 Family Income Equation"
   ]
  },
  {
   "cell_type": "code",
   "execution_count": 12,
   "metadata": {},
   "outputs": [
    {
     "name": "stdout",
     "output_type": "stream",
     "text": [
      "==============================================================================\n",
      "                 coef    std err          t      P>|t|      [0.025      0.975]\n",
      "------------------------------------------------------------------------------\n",
      "Intercept     10.2647      0.122     84.141      0.000      10.025      10.505\n",
      "hedu           0.0439      0.009      5.028      0.000       0.027       0.061\n",
      "wedu           0.0390      0.012      3.369      0.001       0.016       0.062\n",
      "==============================================================================\n"
     ]
    }
   ],
   "source": [
    "eduinc = pd.read_csv(poe5csv+'edu_inc.csv')\n",
    "\n",
    "eduinc['lfaminc'] =  np.log(eduinc.faminc)\n",
    "\n",
    "reshw = smf.ols('lfaminc ~ hedu + wedu', data=eduinc).fit()\n",
    "print(reshw.summary().tables[1])"
   ]
  },
  {
   "cell_type": "code",
   "execution_count": 13,
   "metadata": {},
   "outputs": [
    {
     "name": "stdout",
     "output_type": "stream",
     "text": [
      "==============================================================================\n",
      "                 coef    std err          t      P>|t|      [0.025      0.975]\n",
      "------------------------------------------------------------------------------\n",
      "Intercept     10.5385      0.092    114.436      0.000      10.358      10.720\n",
      "hedu           0.0613      0.007      8.638      0.000       0.047       0.075\n",
      "==============================================================================\n"
     ]
    }
   ],
   "source": [
    "resh = smf.ols('lfaminc ~ hedu', data=eduinc).fit()\n",
    "\n",
    "print(resh.summary().tables[1])"
   ]
  },
  {
   "cell_type": "code",
   "execution_count": 14,
   "metadata": {},
   "outputs": [
    {
     "name": "stdout",
     "output_type": "stream",
     "text": [
      "Correlation b/n hedu and wedu = 0.59\n",
      "Correlation Matrix:\n",
      "           faminc      hedu      wedu       kl6   xtra_x5   xtra_x6   lfaminc\n",
      "faminc   1.000000  0.354684  0.362328 -0.071956  0.289817  0.351366  0.920109\n",
      "hedu     0.354684  1.000000  0.594343  0.104877  0.836168  0.820563  0.386048\n",
      "wedu     0.362328  0.594343  1.000000  0.129340  0.517798  0.799306  0.349110\n",
      "kl6     -0.071956  0.104877  0.129340  1.000000  0.148742  0.159522 -0.085485\n",
      "xtra_x5  0.289817  0.836168  0.517798  0.148742  1.000000  0.900206  0.315066\n",
      "xtra_x6  0.351366  0.820563  0.799306  0.159522  0.900206  1.000000  0.363643\n",
      "lfaminc  0.920109  0.386048  0.349110 -0.085485  0.315066  0.363643  1.000000\n"
     ]
    }
   ],
   "source": [
    "print(f\"Correlation b/n hedu and wedu = {eduinc.corr().hedu.wedu:.2f}\")\n",
    "print(f\"Correlation Matrix:\")\n",
    "print(eduinc.corr())"
   ]
  },
  {
   "cell_type": "markdown",
   "metadata": {},
   "source": [
    "#### POE5 Example 6.11 Adding Children Aged Less Than 6 Years"
   ]
  },
  {
   "cell_type": "code",
   "execution_count": 15,
   "metadata": {},
   "outputs": [
    {
     "name": "stdout",
     "output_type": "stream",
     "text": [
      "==============================================================================\n",
      "                 coef    std err          t      P>|t|      [0.025      0.975]\n",
      "------------------------------------------------------------------------------\n",
      "Intercept     10.2378      0.121     84.619      0.000      10.000      10.476\n",
      "hedu           0.0448      0.009      5.191      0.000       0.028       0.062\n",
      "wedu           0.0421      0.012      3.662      0.000       0.020       0.065\n",
      "kl6           -0.1733      0.054     -3.196      0.001      -0.280      -0.067\n",
      "==============================================================================\n"
     ]
    }
   ],
   "source": [
    "reshwk = smf.ols('lfaminc ~ hedu + wedu + kl6', data=eduinc).fit()\n",
    "\n",
    "print(reshwk.summary().tables[1])"
   ]
  },
  {
   "cell_type": "markdown",
   "metadata": {},
   "source": [
    "#### POE5 Example 6.12 Adding Irrelevent Variables"
   ]
  },
  {
   "cell_type": "code",
   "execution_count": 16,
   "metadata": {},
   "outputs": [
    {
     "name": "stdout",
     "output_type": "stream",
     "text": [
      "==============================================================================\n",
      "                 coef    std err          t      P>|t|      [0.025      0.975]\n",
      "------------------------------------------------------------------------------\n",
      "Intercept     10.2393      0.121     84.366      0.000      10.001      10.478\n",
      "hedu           0.0460      0.014      3.396      0.001       0.019       0.073\n",
      "wedu           0.0492      0.025      1.993      0.047       0.001       0.098\n",
      "kl6           -0.1724      0.055     -3.153      0.002      -0.280      -0.065\n",
      "xtra_x5        0.0054      0.024      0.222      0.825      -0.042       0.053\n",
      "xtra_x6       -0.0069      0.021     -0.323      0.747      -0.049       0.035\n",
      "==============================================================================\n"
     ]
    }
   ],
   "source": [
    "formula = 'lfaminc ~ hedu + wedu + kl6 + xtra_x5 + xtra_x6'\n",
    "reshwk = smf.ols(formula=formula, data=eduinc).fit()\n",
    "\n",
    "print(reshwk.summary().tables[1])"
   ]
  },
  {
   "cell_type": "markdown",
   "metadata": {},
   "source": [
    "### 6.3.3 Choosing the Model\n",
    "#### Model Selection Criteria\n",
    "\n",
    "There is a package `pystout.py` (https://github.com/lucashusted/pystout) that will output a table similar to that produced by the Stata command `esttab`.  Note that you must install this package yourself if you want to use it, as it is not part of the standard Python installation.  Install with the command `pip install pystout`.  \n",
    "\n",
    "The example below will compute 5 different regressions and output the results to a LaTeX table.  You may not be a LaTeX user, but that's OK.  Open up the output file in a standard text editor (e.g., Wordpad), and copy everything to the clipboard.  Visit the website https://quicklatex.com and paste your table and click the Render! button.  You'll get a formatted table presented as a PNG image that you can copy into a Word document or PowerPoint presentation.  \n"
   ]
  },
  {
   "cell_type": "code",
   "execution_count": 17,
   "metadata": {},
   "outputs": [],
   "source": [
    "from pystout import pystout\n",
    "\n",
    "formula = 'lfaminc ~ hedu + wedu'\n",
    "model1 = smf.ols(formula=formula, data=eduinc).fit()\n",
    "\n",
    "formula = 'lfaminc ~ hedu'\n",
    "model2 = smf.ols(formula=formula, data=eduinc).fit()\n",
    "\n",
    "formula = 'lfaminc ~ hedu + wedu + kl6'\n",
    "model3 = smf.ols(formula=formula, data=eduinc).fit()\n",
    "\n",
    "formula = 'lfaminc ~ hedu + wedu + kl6 + xtra_x5 + xtra_x6'\n",
    "model4 = smf.ols(formula=formula, data=eduinc).fit()\n",
    "\n",
    "formula = 'lfaminc ~ hedu + kl6 + xtra_x5 + xtra_x6'\n",
    "model5 = smf.ols(formula=formula, data=eduinc).fit()\n",
    "\n",
    "pystout(models=[model1,model2,model3,model4,model5],\n",
    "        file='Model_Select_table.tex',\n",
    "        digits=3,\n",
    "        modstat={'nobs':'N','rsquared':'R\\\\sym{2}',\\\n",
    "                 'rsquared_adj':'Adj. R\\\\sym{2}',\\\n",
    "                 'aic':'AIC','bic':'BIC'},\n",
    "        stars={.05:'*',0.01:\"**\",0.001:'***'},\n",
    "        addnotes=['Standard errors in parentheses',\n",
    "                  '* p<0.05, ** p<0.01, *** p<0.001'])"
   ]
  },
  {
   "attachments": {
    "pystout_example_output.png": {
     "image/png": "[encoded data removed]"
    }
   },
   "cell_type": "markdown",
   "metadata": {},
   "source": [
    "![pystout_example_output.png](attachment:pystout_example_output.png)"
   ]
  },
  {
   "cell_type": "markdown",
   "metadata": {},
   "source": [
    "#### POE5 Example 6.14 Applying RESET to Family Income Equation\n"
   ]
  },
  {
   "cell_type": "code",
   "execution_count": 18,
   "metadata": {},
   "outputs": [
    {
     "name": "stdout",
     "output_type": "stream",
     "text": [
      "F(1.0, 423.0) = 1.7383\n",
      "Prob > F = 0.19\n",
      "\n",
      "F(2.0, 422.0) = 1.2783\n",
      "Prob > F = 0.28\n"
     ]
    }
   ],
   "source": [
    "from statsmodels.stats.diagnostic import linear_reset\n",
    "\n",
    "formula = 'lfaminc ~ hedu + wedu + kl6'\n",
    "res = smf.ols(formula=formula, data=eduinc).fit()\n",
    "res_np = sm.OLS(res.model.endog, res.model.exog).fit()\n",
    "\n",
    "lr2 = linear_reset(res_np,power=2,use_f=True)\n",
    "print(f\"F{lr2.dist_args} = {lr2.statistic:.4f}\")\n",
    "print(f\"Prob > F = {lr2.pvalue:.2f}\\n\")\n",
    "\n",
    "lr3 = linear_reset(res_np,power=3,use_f=True)\n",
    "print(f\"F{lr3.dist_args} = {lr3.statistic:.4f}\")\n",
    "print(f\"Prob > F = {lr3.pvalue:.2f}\")"
   ]
  },
  {
   "cell_type": "markdown",
   "metadata": {},
   "source": [
    "#### POE5 Example 6.13 A Control Variable for Ability"
   ]
  },
  {
   "cell_type": "code",
   "execution_count": 19,
   "metadata": {},
   "outputs": [
    {
     "name": "stdout",
     "output_type": "stream",
     "text": [
      "==============================================================================\n",
      "                 coef    std err          t      P>|t|      [0.025      0.975]\n",
      "------------------------------------------------------------------------------\n",
      "Intercept      0.8872      0.293      3.030      0.003       0.313       1.462\n",
      "educ           0.0728      0.009      8.013      0.000       0.055       0.091\n",
      "exper          0.1268      0.040      3.150      0.002       0.048       0.206\n",
      "exper2        -0.0057      0.002     -3.453      0.001      -0.009      -0.002\n",
      "==============================================================================\n"
     ]
    }
   ],
   "source": [
    "kt87 = pd.read_csv(poe5csv+'koop_tobias_87.csv')\n",
    "\n",
    "kt87['lwage'] = np.log(kt87.wage)\n",
    "kt87['exper2'] = kt87.exper**2\n",
    "\n",
    "formula = 'lwage ~ educ + exper + exper2'\n",
    "res = smf.ols(formula=formula, data=kt87).fit()\n",
    "print(res.summary().tables[1])"
   ]
  },
  {
   "cell_type": "code",
   "execution_count": 20,
   "metadata": {},
   "outputs": [
    {
     "name": "stdout",
     "output_type": "stream",
     "text": [
      "==============================================================================\n",
      "                 coef    std err          t      P>|t|      [0.025      0.975]\n",
      "------------------------------------------------------------------------------\n",
      "Intercept      1.0547      0.297      3.555      0.000       0.473       1.637\n",
      "educ           0.0592      0.010      5.881      0.000       0.039       0.079\n",
      "exper          0.1231      0.040      3.067      0.002       0.044       0.202\n",
      "exper2        -0.0054      0.002     -3.262      0.001      -0.009      -0.002\n",
      "score          0.0604      0.020      3.089      0.002       0.022       0.099\n",
      "==============================================================================\n"
     ]
    }
   ],
   "source": [
    "formula = 'lwage ~ educ + exper + exper2 + score'\n",
    "res = smf.ols(formula=formula, data=kt87).fit()\n",
    "print(res.summary().tables[1])"
   ]
  },
  {
   "cell_type": "markdown",
   "metadata": {},
   "source": [
    "#### POE5 Example 6.15 Forecasting SALES for the Burger Barn\n"
   ]
  },
  {
   "cell_type": "code",
   "execution_count": 21,
   "metadata": {},
   "outputs": [
    {
     "name": "stdout",
     "output_type": "stream",
     "text": [
      "The prediction standard error is 0.9177\n",
      "The forcast standard error is 4.7351\n",
      "The 95% confidence interval centered at 76.974is (67.533, 86.415)\n"
     ]
    }
   ],
   "source": [
    "formula='sales ~ price + advert + a2'\n",
    "res = smf.ols(formula, data=andy).fit()\n",
    "\n",
    "new_data = pd.DataFrame({'price':[6],'advert':[1.9],'a2':[1.9**2]})\n",
    "yhat = res.predict(new_data)\n",
    "\n",
    "tc = t.ppf(0.975,res.df_resid)\n",
    "\n",
    "pred_res = res.get_prediction(exog=new_data)\n",
    "\n",
    "yhat = pred_res.predicted_mean[0]\n",
    "se_obs = pred_res.se_obs[0]\n",
    "\n",
    "print(f\"The prediction standard error is {pred_res.se_mean[0]:.4f}\")\n",
    "print(f\"The forcast standard error is {pred_res.se_obs[0]:.4f}\")\n",
    "print(f\"The 95% confidence interval centered at {yhat:.3f}\"\\\n",
    "      +f\"is ({yhat-tc*se_obs:.3f}, {yhat+tc*se_obs:.3f})\")"
   ]
  },
  {
   "cell_type": "markdown",
   "metadata": {},
   "source": [
    "#### POE5 Example 6.16 Predicting House Prices"
   ]
  },
  {
   "cell_type": "code",
   "execution_count": 22,
   "metadata": {},
   "outputs": [
    {
     "name": "stdout",
     "output_type": "stream",
     "text": [
      "                Variables       R2   R2_adj       AIC       BIC     RMSE\n",
      "                     None 0.698496 0.697824 -2.534467 -2.518459 0.279074\n",
      "                   AGE**2 0.720690 0.719755 -2.608706 -2.587362 0.271362\n",
      "                  SQFT**2 0.699185 0.698177 -2.534529 -2.513185 0.284112\n",
      "                 AGExSQFT 0.699627 0.698622 -2.536003 -2.514659 0.278959\n",
      "          AGE**2, SQFT**2 0.720839 0.719591 -2.607014 -2.580334 0.275393\n",
      "         AGE**2, AGExSQFT 0.720994 0.719747 -2.607572 -2.580892 0.271232\n",
      "        SQFT**2, AGExSQFT 0.700613 0.699275 -2.537066 -2.510386 0.284044\n",
      "AGE**2, SQFT**2, AGExSQFT 0.721221 0.719662 -2.606164 -2.574148 0.275429\n"
     ]
    }
   ],
   "source": [
    "br5 = pd.read_csv(poe5csv+'br5.csv')\n",
    "\n",
    "br5['lprice']  = np.log(br5.price)\n",
    "br5['age2']    = br5.age**2\n",
    "br5['sqft2']   = br5.sqft**2\n",
    "br5['agesqft'] = br5.age * br5.sqft\n",
    "\n",
    "train = br5[:800]\n",
    "test  = br5[800:]\n",
    "\n",
    "def aic(r):\n",
    "    return np.log(r.ssr/r.nobs) + 2*(r.df_model+1)/r.nobs\n",
    "def bic(r):\n",
    "    return np.log(r.ssr/r.nobs) + (r.df_model+1)*np.log(r.nobs)/r.nobs\n",
    "\n",
    "f1 = 'lprice ~ age + sqft'\n",
    "f2 = f1+' + age2'\n",
    "f3 = f1+' + sqft2'\n",
    "f4 = f1+' + agesqft'\n",
    "f5 = f1+' + age2 + sqft2'\n",
    "f6 = f1+' + age2 + agesqft'\n",
    "f7 = f1+' + sqft2 + agesqft'\n",
    "f8 = f1+' + sqft2 + age2 + agesqft'\n",
    "formula = [f1,f2,f3,f4,f5,f6,f7,f8]\n",
    "vbls = ['None','AGE**2','SQFT**2','AGExSQFT','AGE**2, SQFT**2',\n",
    "        'AGE**2, AGExSQFT','SQFT**2, AGExSQFT',\n",
    "        'AGE**2, SQFT**2, AGExSQFT']\n",
    "\n",
    "def rmse(f,r):\n",
    "    res = smf.ols(formula=f, data=train).fit()\n",
    "    pred_res = res.get_prediction(exog=test)\n",
    "    return np.sqrt((1/100)*sum((test.lprice-pred_res.predicted_mean)**2))\n",
    "\n",
    "df = pd.DataFrame({})\n",
    "\n",
    "for f,v in zip(formula,vbls):\n",
    "    r = smf.ols(formula=f, data=br5).fit()\n",
    "    df = pd.concat([df,pd.DataFrame({'Variables':[v],'R2':[r.rsquared],\n",
    "                                   'R2_adj':[r.rsquared_adj],\n",
    "                                   'AIC':[aic(r)],'BIC':[bic(r)],\n",
    "                                   'RMSE':[rmse(f,r)]})])\n",
    "\n",
    "print(df.to_string(index=False))"
   ]
  },
  {
   "cell_type": "markdown",
   "metadata": {},
   "source": [
    "#### POE5 Example 6.17 Collinearity in a Rice Production Function"
   ]
  },
  {
   "cell_type": "code",
   "execution_count": 23,
   "metadata": {},
   "outputs": [
    {
     "name": "stdout",
     "output_type": "stream",
     "text": [
      "       count        mean         std   min      50%     max\n",
      "area    88.0    2.120227    1.419989   0.2    1.750    5.50\n",
      "fert    88.0  176.418182  154.270552  10.0  128.650  595.70\n",
      "labor   88.0  107.392045   71.115797  11.0   90.500  381.00\n",
      "prod    88.0    6.168636    4.849442   0.6    4.995   21.07\n",
      "Correlation Matrix\n",
      "           area      fert     labor      prod\n",
      "area   1.000000  0.853139  0.909333  0.834659\n",
      "fert   0.853139  1.000000  0.865619  0.858432\n",
      "labor  0.909333  0.865619  1.000000  0.886456\n",
      "prod   0.834659  0.858432  0.886456  1.000000\n"
     ]
    }
   ],
   "source": [
    "usecols = ['area','fert','labor','prod','year']\n",
    "rice5 = pd.read_csv(poe5csv+'rice5.csv',usecols=usecols)\n",
    "\n",
    "cols = ['area','fert','labor','prod']\n",
    "print(rice5[cols].describe(percentiles=[]).transpose())\n",
    "print(\"Correlation Matrix\")\n",
    "print(rice5[cols].corr())"
   ]
  },
  {
   "cell_type": "code",
   "execution_count": 24,
   "metadata": {},
   "outputs": [
    {
     "name": "stdout",
     "output_type": "stream",
     "text": [
      "           larea     lfert    llabor     lprod\n",
      "larea   1.000000  0.838686  0.931953  0.885636\n",
      "lfert   0.838686  1.000000  0.878999  0.898061\n",
      "llabor  0.931953  0.878999  1.000000  0.912960\n",
      "lprod   0.885636  0.898061  0.912960  1.000000 \n",
      "\n",
      "==============================================================================\n",
      "                 coef    std err          t      P>|t|      [0.025      0.975]\n",
      "------------------------------------------------------------------------------\n",
      "Intercept     -1.9473      0.738     -2.637      0.012      -3.440      -0.455\n",
      "larea          0.2106      0.182      1.157      0.254      -0.157       0.579\n",
      "llabor         0.3776      0.255      1.480      0.147      -0.138       0.893\n",
      "lfert          0.3433      0.128      2.682      0.011       0.085       0.602\n",
      "==============================================================================\n"
     ]
    }
   ],
   "source": [
    "rice5['larea'] = np.log(rice5['area'])\n",
    "rice5['lfert'] = np.log(rice5['fert'])\n",
    "rice5['llabor'] = np.log(rice5['labor'])\n",
    "rice5['lprod'] = np.log(rice5['prod'])\n",
    "\n",
    "lcols = ['larea','lfert','llabor','lprod']\n",
    "print(rice5[lcols].corr(),\"\\n\")\n",
    "\n",
    "r5y94 = rice5[rice5.year == 1994]\n",
    "\n",
    "formula = 'lprod ~ larea + llabor + lfert'\n",
    "res = smf.ols(formula=formula,data=r5y94).fit()\n",
    "print(res.summary().tables[1])"
   ]
  },
  {
   "cell_type": "code",
   "execution_count": 25,
   "metadata": {},
   "outputs": [
    {
     "name": "stdout",
     "output_type": "stream",
     "text": [
      "larea       9.149377\n",
      "lfert       7.683995\n",
      "llabor     17.733853\n",
      "const     244.574170\n"
     ]
    }
   ],
   "source": [
    "from statsmodels.stats.outliers_influence import variance_inflation_factor\n",
    "\n",
    "vif_cols = ['larea','lfert','llabor']\n",
    "X = r5y94[vif_cols].assign(const=1)\n",
    "vif = pd.Series([variance_inflation_factor(X.values, i) \n",
    "               for i in range(X.shape[1])],index=X.columns)\n",
    "\n",
    "print(vif.to_string())"
   ]
  },
  {
   "cell_type": "markdown",
   "metadata": {},
   "source": [
    "\n",
    "\n",
    "Note: Can suppress warning message by uncomenting first line"
   ]
  },
  {
   "cell_type": "code",
   "execution_count": 26,
   "metadata": {},
   "outputs": [
    {
     "name": "stdout",
     "output_type": "stream",
     "text": [
      "==============================================================================\n",
      "                 coef    std err          z      P>|z|      [0.025      0.975]\n",
      "------------------------------------------------------------------------------\n",
      "Intercept     -2.1683      0.706     -3.069      0.002      -3.553      -0.784\n",
      "larea          0.2262      0.182      1.246      0.213      -0.130       0.582\n",
      "llabor         0.4834      0.233      2.073      0.038       0.026       0.940\n",
      "lfert          0.2904      0.117      2.480      0.013       0.061       0.520\n",
      "==============================================================================\n"
     ]
    }
   ],
   "source": [
    "import warnings\n",
    "warnings.simplefilter(action='ignore')\n",
    "\n",
    "formula='lprod ~ larea + llabor + lfert'\n",
    "constraint = 'larea + llabor + lfert = 1'\n",
    "res = sm.RecursiveLS.from_formula(formula, constraints=constraint, data=r5y94).fit()\n",
    "\n",
    "print(res.summary().tables[1])"
   ]
  },
  {
   "cell_type": "markdown",
   "metadata": {},
   "source": [
    "**Here run for both years in the original DataFrame rice5**"
   ]
  },
  {
   "cell_type": "code",
   "execution_count": 27,
   "metadata": {},
   "outputs": [
    {
     "name": "stdout",
     "output_type": "stream",
     "text": [
      "==============================================================================\n",
      "                 coef    std err          t      P>|t|      [0.025      0.975]\n",
      "------------------------------------------------------------------------------\n",
      "Intercept     -1.8694      0.457     -4.095      0.000      -2.777      -0.962\n",
      "larea          0.2108      0.108      1.947      0.055      -0.005       0.426\n",
      "llabor         0.3997      0.131      3.059      0.003       0.140       0.659\n",
      "lfert          0.3195      0.064      5.030      0.000       0.193       0.446\n",
      "==============================================================================\n",
      "larea       7.704657\n",
      "lfert       4.454975\n",
      "llabor     10.051189\n",
      "const     223.335710\n"
     ]
    }
   ],
   "source": [
    "res_9394 = smf.ols(formula=formula,data=rice5).fit()\n",
    "print(res_9394.summary().tables[1])\n",
    "\n",
    "X = rice5[vif_cols].assign(const=1)\n",
    "vif = pd.Series([variance_inflation_factor(X.values, i) \n",
    "               for i in range(X.shape[1])],index=X.columns)\n",
    "\n",
    "print(vif.to_string())"
   ]
  },
  {
   "cell_type": "markdown",
   "metadata": {},
   "source": [
    "**POE5 Example 6.18**"
   ]
  },
  {
   "cell_type": "code",
   "execution_count": 28,
   "metadata": {},
   "outputs": [
    {
     "name": "stdout",
     "output_type": "stream",
     "text": [
      "      sqft  age   dfb_age\n",
      "51    9.56   35 -0.106406\n",
      "85   25.61   63  0.070842\n",
      "88   28.24   25  0.095037\n",
      "94   16.18   63  0.185800\n",
      "150  13.80   80 -0.332378\n",
      "\n",
      "Threshold: 2/SQRT(N)=0.067\n",
      "\n",
      "Smallest/Largest 5 DFBETAs for AGE\n",
      "      sqft  age   dfb_age\n",
      "150  13.80   80 -0.332378\n",
      "605  19.18   80 -0.181591\n",
      "160  20.87   63 -0.173037\n",
      "898  14.14   35 -0.144571\n",
      "283  23.34   35 -0.141375\n",
      "      sqft  age   dfb_age\n",
      "674  13.63   63  0.116242\n",
      "733  28.02   35  0.125156\n",
      "94   16.18   63  0.185800\n",
      "831  10.08   63  0.190141\n",
      "524  10.80   63  0.229888\n",
      "\n",
      "Largest 5 leverage\n",
      "497    0.063949\n",
      "150    0.063690\n",
      "605    0.062443\n",
      "392    0.062319\n",
      "148    0.062049\n",
      "\n",
      "Threshold: 2.5K/N=0.011\n",
      "\n",
      "Largest 5 Studentized Residuals (by absolute value)\n",
      "411   -4.980408\n",
      "898   -4.744688\n",
      "524   -4.313883\n",
      "503   -4.258513\n",
      "51    -3.885458\n",
      "\n",
      "Threshold: 2\n",
      "\n",
      "Largest 5 DFFits (by absolute value)\n",
      "411   -0.903601\n",
      "524   -0.560039\n",
      "150    0.511490\n",
      "94    -0.468596\n",
      "831   -0.461930\n",
      "\n",
      "Threshold: 2(K/N)^1/2=0.133\n"
     ]
    }
   ],
   "source": [
    "br5 = pd.read_csv(poe5csv+'br5.csv')\n",
    "br5.index += 1   # For comparison with POE5 (start count at 1)\n",
    "\n",
    "N = len(br5)\n",
    "br5['lprice']  = np.log(br5.price)\n",
    "br5['age2'] = br5.age**2\n",
    "\n",
    "res18 = smf.ols('lprice ~ sqft + age + age2',data=br5).fit()\n",
    "\n",
    "influence = res18.get_influence()\n",
    "\n",
    "# DFBETA columns\n",
    "br5['dfb_sqft'] = influence.dfbetas[:,1]\n",
    "br5['dfb_age'] = influence.dfbetas[:,2]\n",
    "br5['dfb_age2'] = influence.dfbetas[:,3]\n",
    "\n",
    "# print the first 5 DFBETAs for the AGE coefficient\n",
    "cols = ['sqft','age','dfb_age']\n",
    "print(br5[abs(br5.dfb_age) > 2/np.sqrt(N)][cols].head())\n",
    "print(\"\\nThreshold: 2/SQRT(N)=0.067\")\n",
    "\n",
    "# to print the 5 largest and smallest DFBETA by AGE\n",
    "print(\"\\nSmallest/Largest 5 DFBETAs for AGE\")\n",
    "print(br5[abs(br5.dfb_age) > 2/np.sqrt(N)].sort_values(['dfb_age'])[cols].head())\n",
    "print(br5[abs(br5.dfb_age) > 2/np.sqrt(N)].sort_values(['dfb_age'])[cols].tail())\n",
    "\n",
    "# Leverage\n",
    "# Note here we did ascending=False and head() so largest value is first in list\n",
    "br5['leverage'] = influence.hat_matrix_diag\n",
    "print(\"\\nLargest 5 leverage\")\n",
    "print(br5.sort_values(['leverage'],ascending=False)['leverage'].head().to_string())\n",
    "print(\"\\nThreshold: 2.5K/N=0.011\")\n",
    "\n",
    "# Studentized residuals\n",
    "br5['stu_res'] = influence.resid_studentized_external\n",
    "br5['ab_stu_res'] = abs(br5.stu_res)\n",
    "print(\"\\nLargest 5 Studentized Residuals (by absolute value)\")\n",
    "print(br5.sort_values(['ab_stu_res'],ascending=False)['stu_res'].head().to_string())\n",
    "print(\"\\nThreshold: 2\")\n",
    "\n",
    "# DFITS\n",
    "br5['dffits'] = influence.dffits[0]\n",
    "br5['ab_dffits'] = abs(br5.dffits)\n",
    "print(\"\\nLargest 5 DFFits (by absolute value)\")\n",
    "print(br5.sort_values(['ab_dffits'],ascending=False)['dffits'].head().to_string())\n",
    "print(\"\\nThreshold: 2(K/N)^1/2=0.133\")"
   ]
  },
  {
   "cell_type": "markdown",
   "metadata": {},
   "source": [
    "#### Example 6.19. Non-Linear Least Squares.  \n",
    "\n",
    "Here we are using the 'lmfit' package.  Citation here:  https://zenodo.org/record/11813#.YKlOCJNKiuo\n",
    "\n",
    "Cite as: Newville, Matthew, Stensitzki, Till, Allen, Daniel B., & Ingargiola, Antonino. (2014, September 21). LMFIT: Non-Linear Least-Square Minimization and Curve-Fitting for Python (Version 0.8.0). Zenodo. http://doi.org/10.5281/zenodo.11813"
   ]
  },
  {
   "cell_type": "code",
   "execution_count": 29,
   "metadata": {},
   "outputs": [
    {
     "name": "stdout",
     "output_type": "stream",
     "text": [
      "[[Fit Statistics]]\n",
      "    # fitting method   = leastsq\n",
      "    # function evals   = 7\n",
      "    # data points      = 20\n",
      "    # variables        = 1\n",
      "    chi-square         = 16.3079701\n",
      "    reduced chi-square = 0.85831421\n",
      "    Akaike info crit   = -2.08156650\n",
      "    Bayesian info crit = -1.08583423\n",
      "[[Variables]]\n",
      "    beta:  1.16120825 +/- 0.13066199 (11.25%) (init = 1)\n"
     ]
    }
   ],
   "source": [
    "from lmfit import minimize, Parameters, report_fit\n",
    "\n",
    "nlls = pd.read_csv(poe5csv+'nlls.csv')\n",
    "\n",
    "x1 = np.asarray(nlls.x1)\n",
    "x2 = np.asarray(nlls.x2)\n",
    "y  = np.asarray(nlls.y)\n",
    "\n",
    "def residual(params, x1, x2, y):\n",
    "    beta = params['beta']\n",
    "    model = beta*x1 + beta**2 * x2\n",
    "    return (y-model) \n",
    "    \n",
    "params = Parameters()\n",
    "params.add('beta',value=1.0) # initial guess\n",
    "\n",
    "out = minimize(residual, params, args=(x1,x2,y))\n",
    "\n",
    "report_fit(out)"
   ]
  },
  {
   "cell_type": "markdown",
   "metadata": {},
   "source": [
    "#### POE5 Example 6.20 A Logistic Growth Curve"
   ]
  },
  {
   "cell_type": "code",
   "execution_count": 30,
   "metadata": {},
   "outputs": [
    {
     "name": "stdout",
     "output_type": "stream",
     "text": [
      "[[Fit Statistics]]\n",
      "    # fitting method   = leastsq\n",
      "    # function evals   = 28\n",
      "    # data points      = 46\n",
      "    # variables        = 3\n",
      "    chi-square         = 0.01727243\n",
      "    reduced chi-square = 4.0168e-04\n",
      "    Akaike info crit   = -356.815109\n",
      "    Bayesian info crit = -351.329184\n",
      "[[Variables]]\n",
      "    alpha:  0.81437536 +/- 0.05104937 (6.27%) (init = 1)\n",
      "    beta:  -1.37767165 +/- 0.05635490 (4.09%) (init = -1)\n",
      "    delta:  0.05722258 +/- 0.00430387 (7.52%) (init = 0)\n",
      "[[Correlations]] (unreported correlations are < 0.100)\n",
      "    C(alpha, delta) = -0.9468\n",
      "    C(alpha, beta)  = -0.7579\n",
      "    C(beta, delta)  = +0.5300\n",
      "\n",
      "------------- Fit Results Only ------------------\n",
      "Parameter    Value     Stderr\n",
      "alpha       0.81438 +- 0.05105\n",
      "beta       -1.37767 +- 0.05635\n",
      "delta       0.05722 +- 0.00430\n",
      "\n",
      "Inflection point at t = 24.0757\n"
     ]
    },
    {
     "data": {
      "image/png": "[encoded data removed]",
      "text/plain": [
       "<Figure size 500x375 with 1 Axes>"
      ]
     },
     "metadata": {
      "image/png": {
       "height": 331,
       "width": 436
      }
     },
     "output_type": "display_data"
    }
   ],
   "source": [
    "steel = pd.read_csv(poe5csv+'steel.csv')\n",
    "t = np.asarray(steel.t)\n",
    "eaf = np.asarray(steel.eaf)\n",
    "\n",
    "def f(t,alpha,beta,delta):\n",
    "    return alpha / (1+np.exp(-beta-delta*t))\n",
    "\n",
    "def residual(params,t,eaf):\n",
    "    alpha = params['alpha']\n",
    "    beta = params['beta']\n",
    "    delta = params['delta']\n",
    "    model = f(t,alpha,beta,delta)\n",
    "    return (eaf-model) \n",
    "    \n",
    "params = Parameters()\n",
    "params.add('alpha',value=1.) # initial guesses\n",
    "params.add('beta',value=-1.)\n",
    "params.add('delta',value=0.)\n",
    "\n",
    "out = minimize(residual, params, args=(t,eaf))\n",
    "report_fit(out)\n",
    "\n",
    "print('\\n------------- Fit Results Only ------------------')\n",
    "print('Parameter    Value     Stderr')\n",
    "for name, param in out.params.items():\n",
    "    print(f\"{name:7s} {param.value:11.5f} +- {param.stderr:7.5f}\")\n",
    "    \n",
    "t_infl = -out.params['beta'].value / out.params['delta'].value\n",
    "print(f\"\\nInflection point at t = {t_infl:.4f}\")\n",
    "\n",
    "p=out.params['alpha'].value,out.params['beta'].value,out.params['delta'].value\n",
    "\n",
    "plt.plot(steel.t,steel.eaf,'bo',label='eaf')\n",
    "plt.plot(steel.t,f(steel.t,p[0],p[1],p[2]),'r',label='fit')\n",
    "plt.legend();"
   ]
  },
  {
   "cell_type": "code",
   "execution_count": 31,
   "metadata": {},
   "outputs": [
    {
     "name": "stdout",
     "output_type": "stream",
     "text": [
      "Fit Results:\n",
      "alpha =  0.8144 +- 0.0510\n",
      "beta  = -1.3777 +- 0.0564\n",
      "delta =  0.0572 +- 0.0043\n",
      "\n",
      "Inflection point at t = 24.0756\n"
     ]
    }
   ],
   "source": [
    "from scipy.optimize import curve_fit\n",
    "\n",
    "def f(t,alpha,beta,delta):\n",
    "    return alpha / (1+np.exp(-beta-delta*t))\n",
    "\n",
    "t = steel.t\n",
    "eaf = steel.eaf\n",
    "\n",
    "sigma = np.ones(len(t))\n",
    "p0 = np.array([1,-1,1])\n",
    "\n",
    "p, pcov = curve_fit(f,t,eaf,p0,sigma)\n",
    "\n",
    "pse = np.sqrt(np.diag(pcov))\n",
    "\n",
    "print(\"Fit Results:\")\n",
    "print(f\"alpha = {p[0]:7.4f} +- {pse[0]:.4f}\")\n",
    "print(f\"beta  = {p[1]:7.4f} +- {pse[1]:.4f}\")\n",
    "print(f\"delta = {p[2]:7.4f} +- {pse[2]:.4f}\")\n",
    "\n",
    "t_infl = -p[1]/p[2]\n",
    "print(f\"\\nInflection point at t = {t_infl:.4f}\")"
   ]
  }
 ],
 "metadata": {
  "kernelspec": {
   "display_name": "Python 3 (ipykernel)",
   "language": "python",
   "name": "python3"
  },
  "language_info": {
   "codemirror_mode": {
    "name": "ipython",
    "version": 3
   },
   "file_extension": ".py",
   "mimetype": "text/x-python",
   "name": "python",
   "nbconvert_exporter": "python",
   "pygments_lexer": "ipython3",
   "version": "3.12.2"
  }
 },
 "nbformat": 4,
 "nbformat_minor": 4
}
