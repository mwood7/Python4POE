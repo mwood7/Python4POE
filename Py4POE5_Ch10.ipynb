{
 "cells": [
  {
   "cell_type": "code",
   "execution_count": 1,
   "metadata": {},
   "outputs": [],
   "source": [
    "%config InlineBackend.figure_format='retina'\n",
    "\n",
    "import numpy as np\n",
    "import pandas as pd\n",
    "import statsmodels.api as sm\n",
    "import statsmodels.formula.api as smf\n",
    "import statsmodels.sandbox.regression.gmm as gmm \n",
    "import seaborn as sns;sns.set_style('whitegrid',{'grid.color':'0.95'})\n",
    "import weak_instr\n",
    "\n",
    "from scipy import stats\n",
    "from linearmodels.iv import IV2SLS\n",
    "from linearmodels.iv.results import compare\n",
    "from collections import OrderedDict\n",
    "from statsmodels.iolib.summary2 import summary_col\n",
    "from statsmodels.stats.multivariate_tools import cancorr\n",
    "from tabulate import tabulate\n",
    "from weak_instr import weak_instr"
   ]
  },
  {
   "cell_type": "code",
   "execution_count": 2,
   "metadata": {},
   "outputs": [
    {
     "name": "stdout",
     "output_type": "stream",
     "text": [
      "       count       mean       std  min     50%   max\n",
      "wage   753.0   2.374565  3.241829  0.0   1.625  25.0\n",
      "lfp    753.0   0.568393  0.495630  0.0   1.000   1.0\n",
      "educ   753.0  12.286853  2.280246  5.0  12.000  17.0\n",
      "exper  753.0  10.630810  8.069130  0.0   9.000  45.0\n"
     ]
    }
   ],
   "source": [
    "poe5csv='http://www.principlesofeconometrics.com/poe5/data/csv/'\n",
    "vars=['hours','mtr','kidsl6','faminc','wage','educ','exper','lfp','mothereduc',\n",
    "      'fathereduc','largecity']\n",
    "mroz=pd.read_csv(poe5csv+'mroz.csv',usecols=vars)\n",
    "print(mroz[['wage','lfp','educ','exper']].describe(percentiles=[]).transpose())"
   ]
  },
  {
   "cell_type": "code",
   "execution_count": 3,
   "metadata": {},
   "outputs": [
    {
     "name": "stdout",
     "output_type": "stream",
     "text": [
      "       count       mean       std     min      50%   max\n",
      "wage   428.0   4.177682  3.310282  0.1282   3.4819  25.0\n",
      "educ   428.0  12.658879  2.285376  5.0000  12.0000  17.0\n",
      "exper  428.0  13.037383  8.055923  0.0000  12.0000  38.0\n"
     ]
    }
   ],
   "source": [
    "mroz=mroz.drop(mroz[mroz.lfp==0].index)\n",
    "print(mroz[['wage','educ','exper']].describe(percentiles=[]).transpose())"
   ]
  },
  {
   "cell_type": "code",
   "execution_count": 4,
   "metadata": {},
   "outputs": [
    {
     "name": "stdout",
     "output_type": "stream",
     "text": [
      "                            OLS Regression Results                            \n",
      "==============================================================================\n",
      "Dep. Variable:                 lnwage   R-squared:                       0.157\n",
      "Model:                            OLS   Adj. R-squared:                  0.151\n",
      "No. Observations:                 428   F-statistic:                     26.29\n",
      "Covariance Type:            nonrobust   Prob (F-statistic):           1.30e-15\n",
      "==============================================================================\n",
      "                 coef    std err          t      P>|t|      [0.025      0.975]\n",
      "------------------------------------------------------------------------------\n",
      "Intercept     -0.5220      0.199     -2.628      0.009      -0.912      -0.132\n",
      "educ           0.1075      0.014      7.598      0.000       0.080       0.135\n",
      "exper          0.0416      0.013      3.155      0.002       0.016       0.067\n",
      "exper2        -0.0008      0.000     -2.063      0.040      -0.002   -3.82e-05\n",
      "==============================================================================\n",
      "\n",
      "Notes:\n",
      "[1] Standard Errors assume that the covariance matrix of the errors is correctly specified.\n",
      "[2] The condition number is large, 2.21e+03. This might indicate that there are\n",
      "strong multicollinearity or other numerical problems.\n"
     ]
    }
   ],
   "source": [
    "mroz['lnwage']=np.log(mroz['wage'])\n",
    "mroz['exper2']=mroz['exper']**2\n",
    "res=smf.ols('lnwage~educ+exper+exper2',data=mroz).fit()\n",
    "print(res.summary(slim=True))"
   ]
  },
  {
   "cell_type": "code",
   "execution_count": 5,
   "metadata": {},
   "outputs": [
    {
     "name": "stdout",
     "output_type": "stream",
     "text": [
      "                            OLS Regression Results                            \n",
      "==============================================================================\n",
      "Dep. Variable:                 lnwage   R-squared:                       0.118\n",
      "Model:                            OLS   Adj. R-squared:                  0.116\n",
      "No. Observations:                 428   F-statistic:                     56.93\n",
      "Covariance Type:            nonrobust   Prob (F-statistic):           2.76e-13\n",
      "==============================================================================\n",
      "                 coef    std err          t      P>|t|      [0.025      0.975]\n",
      "------------------------------------------------------------------------------\n",
      "Intercept     -0.1852      0.185     -1.000      0.318      -0.549       0.179\n",
      "educ           0.1086      0.014      7.545      0.000       0.080       0.137\n",
      "==============================================================================\n",
      "\n",
      "Notes:\n",
      "[1] Standard Errors assume that the covariance matrix of the errors is correctly specified.\n"
     ]
    }
   ],
   "source": [
    "res=smf.ols('lnwage~educ',data=mroz).fit()\n",
    "print(res.summary(slim=True))"
   ]
  },
  {
   "cell_type": "code",
   "execution_count": 6,
   "metadata": {},
   "outputs": [
    {
     "name": "stdout",
     "output_type": "stream",
     "text": [
      "                educ  mothereduc      wage\n",
      "educ        1.000000    0.387020  0.341954\n",
      "mothereduc  0.387020    1.000000  0.057074\n",
      "wage        0.341954    0.057074  1.000000\n"
     ]
    }
   ],
   "source": [
    "print(mroz[['educ','mothereduc','wage']].corr(method='pearson'))"
   ]
  },
  {
   "cell_type": "code",
   "execution_count": 7,
   "metadata": {},
   "outputs": [
    {
     "name": "stdout",
     "output_type": "stream",
     "text": [
      "                          IV-2SLS Estimation Summary                          \n",
      "==============================================================================\n",
      "Dep. Variable:                 lnwage   R-squared:                      0.0688\n",
      "Estimator:                    IV-2SLS   Adj. R-squared:                 0.0666\n",
      "No. Observations:                 428   F-statistic:                    1.0217\n",
      "Date:                Wed, Jun 18 2025   P-value (F-stat)                0.3121\n",
      "Time:                        09:24:45   Distribution:                  chi2(1)\n",
      "Cov. Estimator:            unadjusted                                         \n",
      "                                                                              \n",
      "                             Parameter Estimates                              \n",
      "==============================================================================\n",
      "            Parameter  Std. Err.     T-stat    P-value    Lower CI    Upper CI\n",
      "------------------------------------------------------------------------------\n",
      "Intercept      0.7022     0.4840     1.4509     0.1468     -0.2464      1.6507\n",
      "educ           0.0385     0.0381     1.0108     0.3121     -0.0362      0.1133\n",
      "==============================================================================\n",
      "\n",
      "Endogenous: educ\n",
      "Instruments: mothereduc\n",
      "Unadjusted Covariance (Homoskedastic)\n",
      "Debiased: False\n"
     ]
    }
   ],
   "source": [
    "mroz['Intercept']=1\n",
    "res2sls=IV2SLS(dependent=mroz['lnwage'],endog=mroz['educ'],\n",
    "               exog=mroz[['Intercept']],instruments=mroz['mothereduc']\n",
    "              ).fit(cov_type='unadjusted')\n",
    "print(res2sls.summary)"
   ]
  },
  {
   "cell_type": "code",
   "execution_count": 8,
   "metadata": {},
   "outputs": [
    {
     "name": "stdout",
     "output_type": "stream",
     "text": [
      "                          IV-2SLS Estimation Summary                          \n",
      "==============================================================================\n",
      "Dep. Variable:                 lnwage   R-squared:                      0.0688\n",
      "Estimator:                    IV-2SLS   Adj. R-squared:                 0.0666\n",
      "No. Observations:                 428   F-statistic:                    1.0169\n",
      "Date:                Wed, Jun 18 2025   P-value (F-stat)                0.3138\n",
      "Time:                        09:24:45   Distribution:                 F(1,426)\n",
      "Cov. Estimator:            unadjusted                                         \n",
      "                                                                              \n",
      "                             Parameter Estimates                              \n",
      "==============================================================================\n",
      "            Parameter  Std. Err.     T-stat    P-value    Lower CI    Upper CI\n",
      "------------------------------------------------------------------------------\n",
      "Intercept      0.7022     0.4851     1.4475     0.1485     -0.2513      1.6557\n",
      "educ           0.0385     0.0382     1.0084     0.3138     -0.0366      0.1137\n",
      "==============================================================================\n",
      "\n",
      "Endogenous: educ\n",
      "Instruments: mothereduc\n",
      "Unadjusted Covariance (Homoskedastic)\n",
      "Debiased: True\n"
     ]
    }
   ],
   "source": [
    "res2sls=IV2SLS(dependent=mroz['lnwage'],endog=mroz['educ'],\n",
    "               exog=mroz[['Intercept']],instruments=mroz['mothereduc']\n",
    "              ).fit(cov_type='unadjusted',debiased='True')\n",
    "print(res2sls.summary)"
   ]
  },
  {
   "cell_type": "code",
   "execution_count": 9,
   "metadata": {},
   "outputs": [
    {
     "name": "stdout",
     "output_type": "stream",
     "text": [
      "                          IV-2SLS Estimation Summary                          \n",
      "==============================================================================\n",
      "Dep. Variable:                 lnwage   R-squared:                      0.0688\n",
      "Estimator:                    IV-2SLS   Adj. R-squared:                 0.0666\n",
      "No. Observations:                 428   F-statistic:                    0.9640\n",
      "Date:                Wed, Jun 18 2025   P-value (F-stat)                0.3267\n",
      "Time:                        09:24:45   Distribution:                 F(1,426)\n",
      "Cov. Estimator:                robust                                         \n",
      "                                                                              \n",
      "                             Parameter Estimates                              \n",
      "==============================================================================\n",
      "            Parameter  Std. Err.     T-stat    P-value    Lower CI    Upper CI\n",
      "------------------------------------------------------------------------------\n",
      "Intercept      0.7022     0.4937     1.4222     0.1557     -0.2683      1.6726\n",
      "educ           0.0385     0.0393     0.9818     0.3267     -0.0386      0.1157\n",
      "==============================================================================\n",
      "\n",
      "Endogenous: educ\n",
      "Instruments: mothereduc\n",
      "Robust Covariance (Heteroskedastic)\n",
      "Debiased: True\n"
     ]
    }
   ],
   "source": [
    "res2sls=IV2SLS(dependent=mroz['lnwage'],endog=mroz['educ'],\n",
    "               exog=mroz[['Intercept']],instruments=mroz['mothereduc']\n",
    "              ).fit(cov_type='robust',debiased='True')\n",
    "print(res2sls.summary)"
   ]
  },
  {
   "cell_type": "code",
   "execution_count": 10,
   "metadata": {},
   "outputs": [
    {
     "name": "stdout",
     "output_type": "stream",
     "text": [
      "                            OLS Regression Results                            \n",
      "==============================================================================\n",
      "Dep. Variable:                   educ   R-squared:                       0.150\n",
      "Model:                            OLS   Adj. R-squared:                  0.148\n",
      "No. Observations:                 428   F-statistic:                     75.05\n",
      "Covariance Type:            nonrobust   Prob (F-statistic):           9.62e-17\n",
      "==============================================================================\n",
      "                 coef    std err          t      P>|t|      [0.025      0.975]\n",
      "------------------------------------------------------------------------------\n",
      "Intercept     10.1145      0.311     32.532      0.000       9.503      10.726\n",
      "mothereduc     0.2674      0.031      8.663      0.000       0.207       0.328\n",
      "==============================================================================\n",
      "\n",
      "Notes:\n",
      "[1] Standard Errors assume that the covariance matrix of the errors is correctly specified.\n"
     ]
    }
   ],
   "source": [
    "res=smf.ols('educ~mothereduc',data=mroz).fit()\n",
    "print(res.summary(slim=True))"
   ]
  },
  {
   "cell_type": "code",
   "execution_count": 11,
   "metadata": {},
   "outputs": [
    {
     "name": "stdout",
     "output_type": "stream",
     "text": [
      "F-statistic = 75.05\n",
      "p-value     =  0.0000\n"
     ]
    }
   ],
   "source": [
    "hypo='(mothereduc=0)'\n",
    "print(f'F-statistic = {res.f_test(hypo).fvalue:.2f}')\n",
    "print(f'p-value     =  {res.f_test(hypo).pvalue:.4f}')"
   ]
  },
  {
   "cell_type": "code",
   "execution_count": 12,
   "metadata": {},
   "outputs": [
    {
     "name": "stdout",
     "output_type": "stream",
     "text": [
      "                            OLS Regression Results                            \n",
      "==============================================================================\n",
      "Dep. Variable:                 lnwage   R-squared:                       0.002\n",
      "Model:                            OLS   Adj. R-squared:                 -0.000\n",
      "No. Observations:                 428   F-statistic:                    0.9491\n",
      "Covariance Type:            nonrobust   Prob (F-statistic):              0.331\n",
      "==============================================================================\n",
      "                 coef    std err          t      P>|t|      [0.025      0.975]\n",
      "------------------------------------------------------------------------------\n",
      "Intercept      0.7022      0.502      1.398      0.163      -0.285       1.689\n",
      "educhat        0.0385      0.040      0.974      0.331      -0.039       0.116\n",
      "==============================================================================\n",
      "\n",
      "Notes:\n",
      "[1] Standard Errors assume that the covariance matrix of the errors is correctly specified.\n"
     ]
    }
   ],
   "source": [
    "mroz['educhat']=res.predict()\n",
    "res2=smf.ols('lnwage~educhat',data=mroz).fit()\n",
    "print(res2.summary(slim=True))"
   ]
  },
  {
   "cell_type": "code",
   "execution_count": 13,
   "metadata": {},
   "outputs": [
    {
     "name": "stdout",
     "output_type": "stream",
     "text": [
      "==============================================================================\n",
      "                 coef    std err          t      P>|t|      [0.025      0.975]\n",
      "------------------------------------------------------------------------------\n",
      "Intercept     10.1145      0.311     32.532      0.000       9.503      10.726\n",
      "mothereduc     0.2674      0.031      8.663      0.000       0.207       0.328\n",
      "==============================================================================\n",
      "==============================================================================\n",
      "                 coef    std err          t      P>|t|      [0.025      0.975]\n",
      "------------------------------------------------------------------------------\n",
      "Intercept     10.2371      0.276     37.099      0.000       9.695      10.779\n",
      "fathereduc     0.2694      0.029      9.426      0.000       0.213       0.326\n",
      "==============================================================================\n"
     ]
    }
   ],
   "source": [
    "resm=smf.ols('educ~mothereduc',data=mroz).fit()\n",
    "resf=smf.ols('educ~fathereduc',data=mroz).fit()\n",
    "print(resm.summary().tables[1])\n",
    "print(resf.summary().tables[1])"
   ]
  },
  {
   "cell_type": "code",
   "execution_count": 14,
   "metadata": {},
   "outputs": [
    {
     "name": "stdout",
     "output_type": "stream",
     "text": [
      "F-statistic = 55.83\n",
      "p-value     =  0.0000\n"
     ]
    }
   ],
   "source": [
    "res=smf.ols('educ~mothereduc+fathereduc',data=mroz).fit()\n",
    "hypo='(mothereduc=0), (fathereduc=0)'\n",
    "print('F-statistic =','{:.2f}'.format(res.fvalue))\n",
    "print('p-value     =',' {:.4f}'.format(res.f_pvalue))"
   ]
  },
  {
   "cell_type": "code",
   "execution_count": 15,
   "metadata": {},
   "outputs": [
    {
     "name": "stdout",
     "output_type": "stream",
     "text": [
      "F-statistic = 48.64\n",
      "p-value     =  0.0000\n"
     ]
    }
   ],
   "source": [
    "res=smf.ols('educ~mothereduc+fathereduc',data=mroz).fit(cov_type='HC1')\n",
    "hypo='(mothereduc=0),(fathereduc=0)'\n",
    "print('F-statistic =','{:.2f}'.format(res.fvalue))\n",
    "print('p-value     =',' {:.4f}'.format(res.f_pvalue))"
   ]
  },
  {
   "cell_type": "code",
   "execution_count": 16,
   "metadata": {},
   "outputs": [
    {
     "name": "stdout",
     "output_type": "stream",
     "text": [
      "                            OLS Regression Results                            \n",
      "==============================================================================\n",
      "Dep. Variable:                 lnwage   R-squared:                       0.005\n",
      "Model:                            OLS   Adj. R-squared:                  0.003\n",
      "No. Observations:                 428   F-statistic:                     2.268\n",
      "Covariance Type:            nonrobust   Prob (F-statistic):              0.133\n",
      "==============================================================================\n",
      "                 coef    std err          t      P>|t|      [0.025      0.975]\n",
      "------------------------------------------------------------------------------\n",
      "Intercept      0.5510      0.426      1.294      0.196      -0.286       1.388\n",
      "educhat2       0.0505      0.034      1.506      0.133      -0.015       0.116\n",
      "==============================================================================\n",
      "\n",
      "Notes:\n",
      "[1] Standard Errors assume that the covariance matrix of the errors is correctly specified.\n"
     ]
    }
   ],
   "source": [
    "mroz['educhat2']=res.predict()\n",
    "res=smf.ols('lnwage~educhat2',data=mroz).fit()\n",
    "print(res.summary(slim=True))"
   ]
  },
  {
   "cell_type": "code",
   "execution_count": 17,
   "metadata": {},
   "outputs": [
    {
     "name": "stdout",
     "output_type": "stream",
     "text": [
      "                          IV-2SLS Estimation Summary                          \n",
      "==============================================================================\n",
      "Dep. Variable:                 lnwage   R-squared:                      0.0841\n",
      "Estimator:                    IV-2SLS   Adj. R-squared:                 0.0820\n",
      "No. Observations:                 428   F-statistic:                    2.4637\n",
      "Date:                Wed, Jun 18 2025   P-value (F-stat)                0.1172\n",
      "Time:                        09:24:46   Distribution:                 F(1,426)\n",
      "Cov. Estimator:            unadjusted                                         \n",
      "                                                                              \n",
      "                             Parameter Estimates                              \n",
      "==============================================================================\n",
      "            Parameter  Std. Err.     T-stat    P-value    Lower CI    Upper CI\n",
      "------------------------------------------------------------------------------\n",
      "Intercept      0.5510     0.4086     1.3486     0.1782     -0.2521      1.3541\n",
      "educ           0.0505     0.0322     1.5696     0.1172     -0.0127      0.1137\n",
      "==============================================================================\n",
      "\n",
      "Endogenous: educ\n",
      "Instruments: mothereduc, fathereduc\n",
      "Unadjusted Covariance (Homoskedastic)\n",
      "Debiased: True\n"
     ]
    }
   ],
   "source": [
    "res2sls=IV2SLS(dependent=mroz.lnwage,endog=mroz['educ']\n",
    "               ,exog=mroz[['Intercept']],\n",
    "               instruments=mroz[['mothereduc','fathereduc']]\n",
    "              ).fit(cov_type='unadjusted',debiased='True')\n",
    "print(res2sls.summary)"
   ]
  },
  {
   "cell_type": "code",
   "execution_count": 18,
   "metadata": {},
   "outputs": [
    {
     "name": "stdout",
     "output_type": "stream",
     "text": [
      "                            OLS Regression Results                            \n",
      "==============================================================================\n",
      "Dep. Variable:                   educ   R-squared:                       0.211\n",
      "Model:                            OLS   Adj. R-squared:                  0.204\n",
      "No. Observations:                 428   F-statistic:                     28.36\n",
      "Covariance Type:            nonrobust   Prob (F-statistic):           6.87e-21\n",
      "==============================================================================\n",
      "                 coef    std err          t      P>|t|      [0.025      0.975]\n",
      "------------------------------------------------------------------------------\n",
      "Intercept      9.1026      0.427     21.340      0.000       8.264       9.941\n",
      "exper          0.0452      0.040      1.124      0.262      -0.034       0.124\n",
      "exper2        -0.0010      0.001     -0.839      0.402      -0.003       0.001\n",
      "mothereduc     0.1576      0.036      4.391      0.000       0.087       0.228\n",
      "fathereduc     0.1895      0.034      5.615      0.000       0.123       0.256\n",
      "==============================================================================\n",
      "\n",
      "Notes:\n",
      "[1] Standard Errors assume that the covariance matrix of the errors is correctly specified.\n",
      "[2] The condition number is large, 1.55e+03. This might indicate that there are\n",
      "strong multicollinearity or other numerical problems.\n"
     ]
    }
   ],
   "source": [
    "res=smf.ols('educ~exper+exper2+mothereduc+fathereduc',data=mroz).fit()\n",
    "print(res.summary(slim=True))"
   ]
  },
  {
   "cell_type": "code",
   "execution_count": 19,
   "metadata": {},
   "outputs": [
    {
     "name": "stdout",
     "output_type": "stream",
     "text": [
      "                          IV-2SLS Estimation Summary                          \n",
      "==============================================================================\n",
      "Dep. Variable:                 lnwage   R-squared:                      0.1357\n",
      "Estimator:                    IV-2SLS   Adj. R-squared:                 0.1296\n",
      "No. Observations:                 428   F-statistic:                    8.1407\n",
      "Date:                Wed, Jun 18 2025   P-value (F-stat)                0.0000\n",
      "Time:                        09:24:46   Distribution:                 F(3,424)\n",
      "Cov. Estimator:            unadjusted                                         \n",
      "                                                                              \n",
      "                             Parameter Estimates                              \n",
      "==============================================================================\n",
      "            Parameter  Std. Err.     T-stat    P-value    Lower CI    Upper CI\n",
      "------------------------------------------------------------------------------\n",
      "Intercept      0.0481     0.4003     0.1202     0.9044     -0.7388      0.8350\n",
      "exper          0.0442     0.0134     3.2883     0.0011      0.0178      0.0706\n",
      "exper2        -0.0009     0.0004    -2.2380     0.0257     -0.0017     -0.0001\n",
      "educ           0.0614     0.0314     1.9530     0.0515     -0.0004      0.1232\n",
      "==============================================================================\n",
      "\n",
      "Endogenous: educ\n",
      "Instruments: mothereduc, fathereduc\n",
      "Unadjusted Covariance (Homoskedastic)\n",
      "Debiased: True\n"
     ]
    }
   ],
   "source": [
    "res2sls=IV2SLS(dependent=mroz.lnwage,endog=mroz.educ,\n",
    "               exog=mroz[['Intercept','exper','exper2']]\n",
    "               ,instruments=mroz[['mothereduc','fathereduc']]\n",
    "              ).fit(cov_type='unadjusted',debiased='True')\n",
    "print(res2sls.summary)"
   ]
  },
  {
   "cell_type": "code",
   "execution_count": 20,
   "metadata": {},
   "outputs": [
    {
     "name": "stdout",
     "output_type": "stream",
     "text": [
      "    First Stage Estimation Results    \n",
      "======================================\n",
      "                                  educ\n",
      "--------------------------------------\n",
      "R-squared                       0.2115\n",
      "Partial R-squared               0.2076\n",
      "Shea's R-squared                0.2076\n",
      "Partial F-statistic             55.400\n",
      "P-value (Partial F-stat)      1.11e-16\n",
      "Partial F-stat Distn          F(2,423)\n",
      "========================== ===========\n",
      "Intercept                       9.1026\n",
      "                              (21.340)\n",
      "exper                           0.0452\n",
      "                              (1.1236)\n",
      "exper2                         -0.0010\n",
      "                             (-0.8386)\n",
      "mothereduc                      0.1576\n",
      "                              (4.3906)\n",
      "fathereduc                      0.1895\n",
      "                              (5.6152)\n",
      "--------------------------------------\n",
      "\n",
      "T-stats reported in parentheses\n",
      "T-stats use same covariance type as original model\n"
     ]
    }
   ],
   "source": [
    "print(res2sls.first_stage)"
   ]
  },
  {
   "cell_type": "code",
   "execution_count": 21,
   "metadata": {},
   "outputs": [
    {
     "name": "stdout",
     "output_type": "stream",
     "text": [
      "Minimum eigenvalue statistic: educ    55.4003\n",
      "Name: f.stat, dtype: float64\n",
      "\n",
      " Stock & Yogo (2005) Weak Instrument Critical Values\n",
      "--------------------------------------------------------------\n",
      "H0: Instruments are weak\n",
      "                                 # of endogenous regressors: 1\n",
      "                                 # of excluded instruments:  2\n",
      "--------------------------------------------------------------\n",
      "                                        5%    10%   20%    30%\n",
      "2SLS relative bias:                    nan    nan   nan    nan\n",
      "Fuller-k relative bias:              13.64  10.89  9.00   7.49\n",
      "Fuller-k maximum bias:               12.38  10.14  8.16   6.97\n",
      "--------------------------------------------------------------\n",
      "                                       10%    15%   20%    25%\n",
      "2SLS Size of nominal 5% Wald test:   19.93  11.59  8.75   7.25\n",
      "LIML Size of nominal 5% Wald test:    8.68   5.33  4.42   3.92\n",
      "--------------------------------------------------------------\n"
     ]
    }
   ],
   "source": [
    "print(f'Minimum eigenvalue statistic: {res2sls.first_stage.diagnostics['f.stat']}')\n",
    "weak_instr(1,2)"
   ]
  },
  {
   "cell_type": "code",
   "execution_count": 22,
   "metadata": {},
   "outputs": [
    {
     "name": "stdout",
     "output_type": "stream",
     "text": [
      "                          IV-2SLS Estimation Summary                          \n",
      "==============================================================================\n",
      "Dep. Variable:                 lnwage   R-squared:                      0.1357\n",
      "Estimator:                    IV-2SLS   Adj. R-squared:                 0.1296\n",
      "No. Observations:                 428   F-statistic:                    6.1456\n",
      "Date:                Wed, Jun 18 2025   P-value (F-stat)                0.0004\n",
      "Time:                        09:24:46   Distribution:                 F(3,424)\n",
      "Cov. Estimator:                robust                                         \n",
      "                                                                              \n",
      "                             Parameter Estimates                              \n",
      "==============================================================================\n",
      "            Parameter  Std. Err.     T-stat    P-value    Lower CI    Upper CI\n",
      "------------------------------------------------------------------------------\n",
      "Intercept      0.0481     0.4298     0.1119     0.9109     -0.7967      0.8929\n",
      "exper          0.0442     0.0155     2.8412     0.0047      0.0136      0.0747\n",
      "exper2        -0.0009     0.0004    -2.0902     0.0372     -0.0017  -5.361e-05\n",
      "educ           0.0614     0.0333     1.8416     0.0662     -0.0041      0.1269\n",
      "==============================================================================\n",
      "\n",
      "Endogenous: educ\n",
      "Instruments: mothereduc, fathereduc\n",
      "Robust Covariance (Heteroskedastic)\n",
      "Debiased: True\n"
     ]
    }
   ],
   "source": [
    "res2sls=IV2SLS(dependent=mroz.lnwage,endog=mroz['educ'],\n",
    "               exog=mroz[['Intercept','exper','exper2']]\n",
    "               ,instruments=mroz[['mothereduc','fathereduc']]\n",
    "              ).fit(cov_type='robust',debiased='True')\n",
    "print(res2sls.summary)"
   ]
  },
  {
   "cell_type": "code",
   "execution_count": 23,
   "metadata": {},
   "outputs": [
    {
     "name": "stdout",
     "output_type": "stream",
     "text": [
      "    First Stage Estimation Results    \n",
      "======================================\n",
      "                                  educ\n",
      "--------------------------------------\n",
      "R-squared                       0.2115\n",
      "Partial R-squared               0.2076\n",
      "Shea's R-squared                0.2076\n",
      "Partial F-statistic             99.053\n",
      "P-value (Partial F-stat)        0.0000\n",
      "Partial F-stat Distn           chi2(2)\n",
      "========================== ===========\n",
      "Intercept                       9.1026\n",
      "                              (21.461)\n",
      "exper                           0.0452\n",
      "                              (1.0791)\n",
      "exper2                         -0.0010\n",
      "                             (-0.7626)\n",
      "mothereduc                      0.1576\n",
      "                              (4.4456)\n",
      "fathereduc                      0.1895\n",
      "                              (5.8427)\n",
      "--------------------------------------\n",
      "\n",
      "T-stats reported in parentheses\n",
      "T-stats use same covariance type as original model\n"
     ]
    }
   ],
   "source": [
    "print(res2sls.first_stage)"
   ]
  },
  {
   "cell_type": "code",
   "execution_count": 24,
   "metadata": {},
   "outputs": [
    {
     "name": "stdout",
     "output_type": "stream",
     "text": [
      "    First Stage Estimation Results    \n",
      "======================================\n",
      "                                  educ\n",
      "--------------------------------------\n",
      "R-squared                       0.1527\n",
      "Partial R-squared               0.1485\n",
      "Shea's R-squared                0.1485\n",
      "Partial F-statistic             73.946\n",
      "P-value (Partial F-stat)      1.11e-16\n",
      "Partial F-stat Distn          F(1,424)\n",
      "========================== ===========\n",
      "Intercept                       9.7751\n",
      "                              (23.061)\n",
      "exper                           0.0489\n",
      "                              (1.1726)\n",
      "exper2                         -0.0013\n",
      "                             (-1.0290)\n",
      "mothereduc                      0.2677\n",
      "                              (8.5992)\n",
      "--------------------------------------\n",
      "\n",
      "T-stats reported in parentheses\n",
      "T-stats use same covariance type as original model\n"
     ]
    }
   ],
   "source": [
    "res2sls=IV2SLS(dependent=mroz.lnwage,endog=mroz['educ'],\n",
    "               exog=mroz[['Intercept','exper','exper2']],instruments=mroz[['mothereduc']]\n",
    "              ).fit(cov_type='unadjusted',debiased='True')\n",
    "print(res2sls.first_stage)"
   ]
  },
  {
   "cell_type": "code",
   "execution_count": 25,
   "metadata": {},
   "outputs": [
    {
     "name": "stdout",
     "output_type": "stream",
     "text": [
      "\n",
      " Partial correlations (using Pearson): \n",
      "          reduc     rmom\n",
      "reduc  1.00000  0.38536\n",
      "rmom   0.38536  1.00000 \n",
      "\n",
      "Squared partial correlations (using Pearson):  \n",
      "           reduc      rmom\n",
      "reduc  1.000000  0.148502\n",
      "rmom   0.148502  1.000000\n"
     ]
    }
   ],
   "source": [
    "res=smf.ols('educ~exper+exper2',data=mroz).fit(cov_type='nonrobust')\n",
    "mroz['reduc']=res.resid\n",
    "res=smf.ols('mothereduc~exper+exper2',data=mroz).fit(cov_type='nonrobust')\n",
    "mroz['rmom']=res.resid\n",
    "print('\\n','Partial correlations (using Pearson):'\n",
    "      ,'\\n',mroz[['reduc','rmom']].corr(method='pearson'),'\\n')\n",
    "print('Squared partial correlations (using Pearson): '\n",
    "      ,'\\n',(mroz[['reduc','rmom']].corr(method='pearson'))**2)"
   ]
  },
  {
   "cell_type": "code",
   "execution_count": 26,
   "metadata": {},
   "outputs": [
    {
     "name": "stdout",
     "output_type": "stream",
     "text": [
      "                                 OLS Regression Results                                \n",
      "=======================================================================================\n",
      "Dep. Variable:                  reduc   R-squared (uncentered):                   0.149\n",
      "Model:                            OLS   Adj. R-squared (uncentered):              0.147\n",
      "Method:                 Least Squares   F-statistic:                              74.47\n",
      "Date:                Wed, 18 Jun 2025   Prob (F-statistic):                    1.23e-16\n",
      "Time:                        09:24:46   Log-Likelihood:                         -925.10\n",
      "No. Observations:                 428   AIC:                                      1852.\n",
      "Df Residuals:                     427   BIC:                                      1856.\n",
      "Df Model:                           1                                                  \n",
      "Covariance Type:            nonrobust                                                  \n",
      "======================================================================================= \n",
      "\n",
      "OLS R-squared = First-Stage IV2SLS Partial R-squared =  0.1485\n"
     ]
    }
   ],
   "source": [
    "res=smf.ols('reduc~rmom-1',data=mroz).fit()\n",
    "print(res.summary().tables[0],'\\n')\n",
    "print('OLS R-squared = First-Stage IV2SLS Partial R-squared = ','{:.4}'\n",
    "      .format(res.rsquared))"
   ]
  },
  {
   "cell_type": "code",
   "execution_count": 27,
   "metadata": {},
   "outputs": [
    {
     "name": "stdout",
     "output_type": "stream",
     "text": [
      "    First Stage Estimation Results    \n",
      "======================================\n",
      "                                  educ\n",
      "--------------------------------------\n",
      "R-squared                       0.2115\n",
      "Partial R-squared               0.2076\n",
      "Shea's R-squared                0.2076\n",
      "Partial F-statistic             55.400\n",
      "P-value (Partial F-stat)      1.11e-16\n",
      "Partial F-stat Distn          F(2,423)\n",
      "========================== ===========\n",
      "Intercept                       9.1026\n",
      "                              (21.340)\n",
      "exper                           0.0452\n",
      "                              (1.1236)\n",
      "exper2                         -0.0010\n",
      "                             (-0.8386)\n",
      "mothereduc                      0.1576\n",
      "                              (4.3906)\n",
      "fathereduc                      0.1895\n",
      "                              (5.6152)\n",
      "--------------------------------------\n",
      "\n",
      "T-stats reported in parentheses\n",
      "T-stats use same covariance type as original model\n"
     ]
    }
   ],
   "source": [
    "res2sls=IV2SLS(dependent=mroz.lnwage,endog=mroz.educ,\n",
    "               exog=mroz[['Intercept','exper','exper2']]\n",
    "               ,instruments=mroz[['mothereduc','fathereduc']]\n",
    "              ).fit(cov_type='unadjusted',debiased='True')\n",
    "print(res2sls.first_stage)"
   ]
  },
  {
   "cell_type": "code",
   "execution_count": 28,
   "metadata": {},
   "outputs": [
    {
     "name": "stdout",
     "output_type": "stream",
     "text": [
      "                                 OLS Regression Results                                \n",
      "=======================================================================================\n",
      "Dep. Variable:                  reduc   R-squared (uncentered):                   0.208\n",
      "Model:                            OLS   Adj. R-squared (uncentered):              0.204\n",
      "Method:                 Least Squares   F-statistic:                              55.79\n",
      "Date:                Wed, 18 Jun 2025   Prob (F-statistic):                    3.01e-22\n",
      "Time:                        09:24:46   Log-Likelihood:                         -909.72\n",
      "No. Observations:                 428   AIC:                                      1823.\n",
      "Df Residuals:                     426   BIC:                                      1832.\n",
      "Df Model:                           2                                                  \n",
      "Covariance Type:            nonrobust                                                  \n",
      "======================================================================================= \n",
      "\n",
      "OLS R-squared = First-Stage IV2SLS Partial R-squared =  0.2076\n"
     ]
    }
   ],
   "source": [
    "res=smf.ols('fathereduc~exper+exper2',data=mroz).fit()\n",
    "mroz['rdad']=res.resid\n",
    "res=smf.ols('reduc~rmom+rdad-1',data=mroz).fit()\n",
    "print(res.summary().tables[0],'\\n')\n",
    "print('OLS R-squared = First-Stage IV2SLS Partial R-squared = ','{:.4}'\n",
    "      .format(res.rsquared) )"
   ]
  },
  {
   "cell_type": "code",
   "execution_count": 29,
   "metadata": {},
   "outputs": [
    {
     "name": "stdout",
     "output_type": "stream",
     "text": [
      "==============================================================================\n",
      "                 coef    std err          t      P>|t|      [0.025      0.975]\n",
      "------------------------------------------------------------------------------\n",
      "Intercept      0.0481      0.395      0.122      0.903      -0.727       0.824\n",
      "educ           0.0614      0.031      1.981      0.048       0.000       0.122\n",
      "exper          0.0442      0.013      3.336      0.001       0.018       0.070\n",
      "exper2        -0.0009      0.000     -2.271      0.024      -0.002      -0.000\n",
      "vhat           0.0582      0.035      1.671      0.095      -0.010       0.127\n",
      "==============================================================================\n"
     ]
    }
   ],
   "source": [
    "res=smf.ols('educ~exper+exper2+mothereduc+fathereduc',data=mroz).fit()\n",
    "mroz['vhat']=res.resid\n",
    "res=smf.ols('lnwage~educ+exper+exper2+vhat',data=mroz).fit()\n",
    "print(res.summary().tables[1])"
   ]
  },
  {
   "cell_type": "code",
   "execution_count": 30,
   "metadata": {},
   "outputs": [
    {
     "name": "stdout",
     "output_type": "stream",
     "text": [
      "==============================================================================\n",
      "                 coef    std err          z      P>|z|      [0.025      0.975]\n",
      "------------------------------------------------------------------------------\n",
      "Intercept      0.0481      0.422      0.114      0.909      -0.779       0.875\n",
      "educ           0.0614      0.033      1.879      0.060      -0.003       0.125\n",
      "exper          0.0442      0.015      2.921      0.003       0.015       0.074\n",
      "exper2        -0.0009      0.000     -2.165      0.030      -0.002   -8.51e-05\n",
      "vhat           0.0582      0.036      1.597      0.110      -0.013       0.130\n",
      "==============================================================================\n"
     ]
    }
   ],
   "source": [
    "res=smf.ols('lnwage~educ+exper+exper2+vhat',data=mroz).fit(cov_type='HC1')\n",
    "print(res.summary().tables[1])"
   ]
  },
  {
   "cell_type": "code",
   "execution_count": 31,
   "metadata": {},
   "outputs": [
    {
     "name": "stdout",
     "output_type": "stream",
     "text": [
      "                             Parameter Estimates                              \n",
      "==============================================================================\n",
      "            Parameter  Std. Err.     T-stat    P-value    Lower CI    Upper CI\n",
      "------------------------------------------------------------------------------\n",
      "Intercept      0.0481     0.4003     0.1202     0.9044     -0.7388      0.8350\n",
      "exper          0.0442     0.0134     3.2883     0.0011      0.0178      0.0706\n",
      "exper2        -0.0009     0.0004    -2.2380     0.0257     -0.0017     -0.0001\n",
      "educ           0.0614     0.0314     1.9530     0.0515     -0.0004      0.1232\n",
      "============================================================================== \n",
      "\n",
      "Wu-Hausman test of exogeneity\n",
      "H0: All endogenous variables are exogenous\n",
      "Statistic: 2.8035\n",
      "P-value: 0.0948\n",
      "Distributed: F(1,423)\n"
     ]
    }
   ],
   "source": [
    "res2sls=IV2SLS(dependent=mroz.lnwage,endog=mroz.educ\n",
    "               ,exog=mroz[['Intercept','exper','exper2']]\n",
    "               ,instruments=mroz[['mothereduc','fathereduc']]\n",
    "              ).fit(cov_type='unadjusted',debiased='True')\n",
    "print(res2sls.summary.tables[1],'\\n')\n",
    "print(res2sls.wu_hausman())"
   ]
  },
  {
   "cell_type": "code",
   "execution_count": 32,
   "metadata": {},
   "outputs": [
    {
     "name": "stdout",
     "output_type": "stream",
     "text": [
      "           LM Test of Validity for Surplus Instruments\n",
      "------------------------------------------------------------\n",
      "R-squared artificial regression                 = 0.0009\n",
      "N x R-squared test overidentifying restrictions = 0.3781\n",
      "Chi-square(1) critical value, 0.05 level        = 3.8415\n",
      "p-value for overidentifying test 0.05 level     = 0.5386\n"
     ]
    }
   ],
   "source": [
    "res2sls=IV2SLS(dependent=mroz.lnwage,endog=mroz['educ']\n",
    "               ,exog=mroz[['Intercept','exper','exper2']]\n",
    "               ,instruments=mroz[['mothereduc','fathereduc']]\n",
    "              ).fit(cov_type='unadjusted',debiased='True')\n",
    "mroz['ehat']=res2sls.resids\n",
    "res=smf.ols('ehat~exper+exper2+mothereduc+fathereduc',data=mroz).fit()\n",
    "nr2=res.nobs*res.rsquared\n",
    "chic_stat=stats.chi2.ppf(.95,1)\n",
    "print(f'           LM Test of Validity for Surplus Instruments')\n",
    "print('------------------------------------------------------------')\n",
    "print(f'R-squared artificial regression                 = {res.rsquared:.4f}')\n",
    "print(f'N x R-squared test overidentifying restrictions = {nr2:.4f}')\n",
    "print(f'Chi-square(1) critical value, 0.05 level        = {chic_stat:.4f}')\n",
    "print(f'p-value for overidentifying test 0.05 level     = {1-stats.chi2.cdf(nr2,1):.4f}')"
   ]
  },
  {
   "cell_type": "code",
   "execution_count": 33,
   "metadata": {},
   "outputs": [
    {
     "name": "stdout",
     "output_type": "stream",
     "text": [
      "\n",
      " Sargan's test of overidentification\n",
      "H0: The model is not overidentified.\n",
      "Statistic: 0.3781\n",
      "P-value: 0.5386\n",
      "Distributed: chi2(1)\n",
      "\n",
      " Basmann's test of overidentification\n",
      "H0: The model is not overidentified.\n",
      "Statistic: 0.3740\n",
      "P-value: 0.5408\n",
      "Distributed: chi2(1)\n"
     ]
    }
   ],
   "source": [
    "res2sls=IV2SLS(dependent=mroz.lnwage,endog=mroz['educ']\n",
    "               ,exog=mroz[['Intercept','exper','exper2']]\n",
    "               ,instruments=mroz[['mothereduc','fathereduc']]\n",
    "              ).fit(cov_type='unadjusted',debiased='True')\n",
    "print('\\n',res2sls.sargan)\n",
    "print('\\n',res2sls.basmann)"
   ]
  },
  {
   "cell_type": "code",
   "execution_count": 34,
   "metadata": {},
   "outputs": [
    {
     "name": "stdout",
     "output_type": "stream",
     "text": [
      "\n",
      " Stock & Yogo (2005) Weak Instrument Critical Values\n",
      "--------------------------------------------------------------\n",
      "H0: Instruments are weak\n",
      "                                 # of endogenous regressors: 1\n",
      "                                 # of excluded instruments:  1\n",
      "--------------------------------------------------------------\n",
      "                                        5%    10%   20%    30%\n",
      "2SLS relative bias:                    nan    nan   nan    nan\n",
      "Fuller-k relative bias:              24.09  19.35 15.42  12.71\n",
      "Fuller-k maximum bias:               23.81  19.40 15.39  12.76\n",
      "--------------------------------------------------------------\n",
      "                                       10%    15%   20%    25%\n",
      "2SLS Size of nominal 5% Wald test:   16.38   8.96  6.66   5.53\n",
      "LIML Size of nominal 5% Wald test:   16.38   8.96  6.66   5.53\n",
      "--------------------------------------------------------------\n",
      "Weak Instrument F-test for MTR: B=1 and L=1\n",
      "F(1,423) = 30.61\n",
      "Prob > F =  0.0000\n"
     ]
    }
   ],
   "source": [
    "mroz['nwifeinc']=(mroz.faminc-mroz.wage*mroz.hours)/1000\n",
    "res2sls11=IV2SLS(dependent=mroz.hours,endog=mroz.mtr\n",
    "                 ,exog=mroz[['Intercept','educ','kidsl6','nwifeinc']]\n",
    "                 ,instruments=mroz.exper).fit()\n",
    "weak_instr(1,1)\n",
    "res11=smf.ols('mtr~exper+educ+kidsl6+nwifeinc',data=mroz).fit()\n",
    "hypo='exper=0'\n",
    "print('Weak Instrument F-test for MTR: B=1 and L=1')\n",
    "print(f'F(1,423) = {res11.f_test(hypo).fvalue:.2f}')\n",
    "print(f'Prob > F =  {res11.f_test(hypo).pvalue.item(0):.4f}')"
   ]
  },
  {
   "cell_type": "code",
   "execution_count": 35,
   "metadata": {},
   "outputs": [
    {
     "name": "stdout",
     "output_type": "stream",
     "text": [
      "\n",
      "\n",
      " Stock & Yogo (2005) Weak Instrument Critical Values\n",
      "--------------------------------------------------------------\n",
      "H0: Instruments are weak\n",
      "                                 # of endogenous regressors: 1\n",
      "                                 # of excluded instruments:  3\n",
      "--------------------------------------------------------------\n",
      "                                        5%    10%   20%    30%\n",
      "2SLS relative bias:                  13.91   9.08  6.46   5.39\n",
      "Fuller-k relative bias:               9.61   7.90  6.61   5.60\n",
      "Fuller-k maximum bias:                8.66   7.18  5.87   5.11\n",
      "--------------------------------------------------------------\n",
      "                                       10%    15%   20%    25%\n",
      "2SLS Size of nominal 5% Wald test:   22.30  12.83  9.54   7.80\n",
      "LIML Size of nominal 5% Wald test:    6.46   4.36  3.69   3.32\n",
      "--------------------------------------------------------------\n",
      "Weak Instrument F-test for MTR: B=1 and L=3\n",
      "F(3,421) = 13.22\n",
      "Prob > F =  0.0000\n"
     ]
    }
   ],
   "source": [
    "res2sls13=IV2SLS(dependent=mroz.hours,endog=mroz.mtr\n",
    "                 ,exog=mroz[['Intercept','educ','kidsl6','nwifeinc']],\n",
    "                 instruments=mroz[['exper','exper2','largecity']]).fit()\n",
    "weak_instr(1,3)\n",
    "res13=smf.ols('mtr~exper+exper2+largecity+educ+kidsl6+nwifeinc',data=mroz).fit()\n",
    "hypo='(exper=0),(exper2=0),(largecity=0)'\n",
    "print('Weak Instrument F-test for MTR: B=1 and L=3')\n",
    "print(f'F(3,421) = {res13.f_test(hypo).fvalue:.2f}')\n",
    "print(f'Prob > F =  {res13.f_test(hypo).pvalue.item(0):.4f}')"
   ]
  },
  {
   "cell_type": "code",
   "execution_count": 36,
   "metadata": {},
   "outputs": [
    {
     "name": "stdout",
     "output_type": "stream",
     "text": [
      "\n",
      " Stock & Yogo (2005) Weak Instrument Critical Values\n",
      "--------------------------------------------------------------\n",
      "H0: Instruments are weak\n",
      "                                 # of endogenous regressors: 2\n",
      "                                 # of excluded instruments:  2\n",
      "--------------------------------------------------------------\n",
      "                                        5%    10%   20%    30%\n",
      "2SLS relative bias:                    nan    nan   nan    nan\n",
      "Fuller-k relative bias:              15.50  12.55  9.72   8.03\n",
      "Fuller-k maximum bias:               14.19  11.92  9.41   8.01\n",
      "--------------------------------------------------------------\n",
      "                                       10%    15%   20%    25%\n",
      "2SLS Size of nominal 5% Wald test:    7.03   4.58  3.95   3.63\n",
      "LIML Size of nominal 5% Wald test:    7.03   4.58  3.95   3.63\n",
      "--------------------------------------------------------------\n",
      "Weak Instrument F-Test for MTR: B=2 and L=2\n",
      "F(2,423) =  8.14\n",
      "Prob > F =  0.0003\n",
      "Weak Instrument F-Test for EDUC: B=2 and L=2\n",
      "F(2,423) = 49.02\n",
      "Prob > F =  0.0000\n"
     ]
    }
   ],
   "source": [
    "res2sls22=IV2SLS(dependent=mroz.hours,endog=mroz[['mtr','educ']]\n",
    "                 ,exog=mroz[['Intercept','kidsl6','nwifeinc']]\n",
    "                 ,instruments=mroz[['mothereduc','fathereduc']]).fit()\n",
    "weak_instr(2,2)\n",
    "res22a=smf.ols('mtr~mothereduc+fathereduc+kidsl6+nwifeinc',data=mroz).fit()\n",
    "hypo='(mothereduc=0, fathereduc=0)'\n",
    "print('Weak Instrument F-Test for MTR: B=2 and L=2')\n",
    "print(f'F(2,423) =  {res22a.f_test(hypo).fvalue:.2f}')\n",
    "print(f'Prob > F =  {res22a.f_test(hypo).pvalue.item(0):.4f}')\n",
    "res22b=smf.ols('educ~mothereduc+fathereduc+kidsl6+nwifeinc',data=mroz).fit()\n",
    "print('Weak Instrument F-Test for EDUC: B=2 and L=2')\n",
    "print(f'F(2,423) = {res22b.f_test(hypo).fvalue:.2f}')\n",
    "print(f'Prob > F =  {res22b.f_test(hypo).pvalue.item(0):.4f}')"
   ]
  },
  {
   "cell_type": "code",
   "execution_count": 37,
   "metadata": {},
   "outputs": [
    {
     "name": "stdout",
     "output_type": "stream",
     "text": [
      "\n",
      " Stock & Yogo (2005) Weak Instrument Critical Values\n",
      "--------------------------------------------------------------\n",
      "H0: Instruments are weak\n",
      "                                 # of endogenous regressors: 2\n",
      "                                 # of excluded instruments:  3\n",
      "--------------------------------------------------------------\n",
      "                                        5%    10%   20%    30%\n",
      "2SLS relative bias:                    nan    nan   nan    nan\n",
      "Fuller-k relative bias:              10.83   8.96  7.18   6.15\n",
      "Fuller-k maximum bias:               10.00   8.39  6.79   5.88\n",
      "--------------------------------------------------------------\n",
      "                                       10%    15%   20%    25%\n",
      "2SLS Size of nominal 5% Wald test:   13.43   8.18  6.40   5.45\n",
      "LIML Size of nominal 5% Wald test:    5.44   3.81  3.32   3.09\n",
      "--------------------------------------------------------------\n",
      "Weak Instrument F-Test for MTR: B=2 and L=3\n",
      "F(3,422) = 18.86\n",
      "Prob > F = 0.0000\n",
      "Weak Instrument F-Test for EDUC: B=2 and L=3\n",
      "F(3,422) = 35.03\n",
      "Prob > F = 0.0000\n"
     ]
    }
   ],
   "source": [
    "res2sls23=IV2SLS(dependent=mroz.hours,endog=mroz[['mtr','educ']]\n",
    "                 ,exog=mroz[['Intercept','kidsl6','nwifeinc']]\n",
    "                 ,instruments=mroz[['mothereduc','fathereduc','exper']]\n",
    "                ).fit(cov_type='unadjusted',debiased='True')\n",
    "weak_instr(2,3)\n",
    "res23a=smf.ols('mtr~mothereduc+fathereduc+exper+kidsl6+nwifeinc',data=mroz).fit()\n",
    "hypo='(mothereduc=0),(fathereduc=0),(exper=0)'\n",
    "print('Weak Instrument F-Test for MTR: B=2 and L=3')\n",
    "print(f'F(3,422) = {res23a.f_test(hypo).fvalue:.2f}')\n",
    "print(f'Prob > F = {res23a.f_test(hypo).pvalue.item(0):.4f}')\n",
    "res23b=smf.ols('educ~mothereduc+fathereduc+exper+kidsl6+nwifeinc',data=mroz).fit()\n",
    "print('Weak Instrument F-Test for EDUC: B=2 and L=3')\n",
    "print(f'F(3,422) = {res23b.f_test(hypo).fvalue:.2f}')\n",
    "print(f'Prob > F = {res23b.f_test(hypo).pvalue.item(0):.4f}')"
   ]
  },
  {
   "cell_type": "code",
   "execution_count": 38,
   "metadata": {},
   "outputs": [
    {
     "name": "stdout",
     "output_type": "stream",
     "text": [
      "                                Model Comparison                                \n",
      "================================================================================\n",
      "                              mtr11          mtr13          mtr22          mtr23\n",
      "--------------------------------------------------------------------------------\n",
      "Dep. Variable                 hours          hours          hours          hours\n",
      "Estimator                   IV-2SLS        IV-2SLS        IV-2SLS        IV-2SLS\n",
      "No. Observations                428            428            428            428\n",
      "Cov. Est.                    robust         robust         robust     unadjusted\n",
      "R-squared                   -0.1415         0.0514        -4.0197        -0.1678\n",
      "Adj. R-squared              -0.1523         0.0425        -4.0672        -0.1789\n",
      "F-statistic                  40.977         41.569         2.5190         9.2617\n",
      "P-value (F-stat)          2.718e-08      2.049e-08         0.6412      3.503e-07\n",
      "==================     ============   ============   ============   ============\n",
      "Intercept                 1.742e+04      1.439e+04     -2.449e+04      1.807e+04\n",
      "                           (5.8214)       (5.6166)      (-0.3038)       (5.1113)\n",
      "educ                        -145.29        -118.88         258.56        -189.86\n",
      "                          (-4.3117)      (-4.5021)       (0.3040)      (-3.0448)\n",
      "kidsl6                       151.02         58.788        -1144.5         190.28\n",
      "                           (1.0703)       (0.4521)      (-0.4585)       (1.2020)\n",
      "nwifeinc                    -103.90        -85.193         149.23        -102.15\n",
      "                          (-5.1913)      (-4.5646)       (0.3122)      (-5.1334)\n",
      "mtr                      -1.846e+04     -1.493e+04      2.971e+04     -1.863e+04\n",
      "                          (-5.2638)      (-4.9598)       (0.3243)      (-4.8477)\n",
      "==================== ============== ============== ============== ==============\n",
      "Instruments                   exper          exper     mothereduc     mothereduc\n",
      "                                            exper2     fathereduc     fathereduc\n",
      "                                         largecity                         exper\n",
      "--------------------------------------------------------------------------------\n",
      "\n",
      "T-stats reported in parentheses\n"
     ]
    }
   ],
   "source": [
    "res=OrderedDict()\n",
    "res['mtr11']=res2sls11\n",
    "res['mtr13']=res2sls13\n",
    "res['mtr22']=res2sls22\n",
    "res['mtr23']=res2sls23\n",
    "print(compare(res))"
   ]
  },
  {
   "cell_type": "code",
   "execution_count": 39,
   "metadata": {},
   "outputs": [
    {
     "name": "stdout",
     "output_type": "stream",
     "text": [
      "Canonical Correlations:, [0.46236 0.24005]\n",
      "Minimum Canonical Correlation: 0.24005\n"
     ]
    }
   ],
   "source": [
    "res2sls=IV2SLS(dependent=mroz.hours,endog=mroz[['mtr','educ']]\n",
    "               ,exog=mroz[['Intercept','kidsl6','nwifeinc',]]\n",
    "               ,instruments=mroz[['mothereduc','fathereduc','exper']]).fit()\n",
    "nobs=res2sls.nobs\n",
    "varlist=mroz[['mtr','educ','mothereduc','fathereduc','exper']]\n",
    "for v in varlist:\n",
    "    res=sm.OLS(mroz[v],mroz[['Intercept','kidsl6','nwifeinc']]).fit()\n",
    "    mroz[str(v+'r')]=res.resid\n",
    "canc=cancorr(mroz[['mtrr','educr']],mroz[['mothereducr','fathereducr','experr']])\n",
    "mincc=np.amin(canc)\n",
    "print(f'Canonical Correlations:, {np.round(canc,5)}')\n",
    "print(f'Minimum Canonical Correlation: {mincc:.5f}')"
   ]
  },
  {
   "cell_type": "code",
   "execution_count": 40,
   "metadata": {},
   "outputs": [
    {
     "name": "stdout",
     "output_type": "stream",
     "text": [
      "The Cragg-Donald F-statitic: 8.6014\n"
     ]
    }
   ],
   "source": [
    "l=res2sls.first_stage.instr.shape\n",
    "g=res2sls.first_stage.exog.shape\n",
    "numiv=l[1]+g[1]\n",
    "cd_f_stat=((nobs-numiv)/l[1])*(mincc**2)/((1-mincc**2))\n",
    "print(f'The Cragg-Donald F-statitic: {cd_f_stat:.4f}')"
   ]
  }
 ],
 "metadata": {
  "kernelspec": {
   "display_name": "Python 3 (ipykernel)",
   "language": "python",
   "name": "python3"
  },
  "language_info": {
   "codemirror_mode": {
    "name": "ipython",
    "version": 3
   },
   "file_extension": ".py",
   "mimetype": "text/x-python",
   "name": "python",
   "nbconvert_exporter": "python",
   "pygments_lexer": "ipython3",
   "version": "3.12.4"
  }
 },
 "nbformat": 4,
 "nbformat_minor": 4
}
