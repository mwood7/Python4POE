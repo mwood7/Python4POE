{
 "cells": [
  {
   "cell_type": "code",
   "execution_count": 1,
   "metadata": {},
   "outputs": [],
   "source": [
    "%config InlineBackend.figure_format='retina'\n",
    "\n",
    "import numpy as np\n",
    "import pandas as pd\n",
    "import matplotlib.pyplot as plt\n",
    "import seaborn as sns;sns.set_style('whitegrid',{'grid.color':'0.95'})\n",
    "import matplotlib.dates as mdates\n",
    "import statsmodels.formula.api as smf\n",
    "import statsmodels.api as sm\n",
    "import datetime\n",
    "import numpy.linalg as la\n",
    "\n",
    "from matplotlib.dates import DateFormatter\n",
    "from linearmodels.panel import PanelOLS\n",
    "from linearmodels.panel import RandomEffects\n",
    "from linearmodels.panel import BetweenOLS\n",
    "from scipy import stats\n",
    "from stargazer.stargazer import Stargazer\n",
    "from linearmodels.panel import compare\n",
    "from collections import OrderedDict "
   ]
  },
  {
   "cell_type": "code",
   "execution_count": 2,
   "metadata": {},
   "outputs": [
    {
     "name": "stdout",
     "output_type": "stream",
     "text": [
      "   id  year     lwage  educ      exper    tenure  south  black\n",
      "0   1    82  1.808289    12   7.666667  7.666667      0      1\n",
      "1   1    83  1.863417    12   8.583333  8.583333      0      1\n",
      "2   1    85  1.789367    12  10.179490  1.833333      0      1\n",
      "3   1    87  1.846530    12  12.179490  3.750000      0      1\n",
      "4   1    88  1.856449    12  13.621790  5.250000      0      1\n",
      "5   2    82  1.280933    17   7.576923  2.416667      0      0\n",
      "6   2    83  1.515855    17   8.384615  3.416667      0      0\n",
      "7   2    85  1.930170    17  10.384610  5.416667      0      0\n",
      "8   2    87  1.919034    17  12.038460  0.333333      0      0\n",
      "9   2    88  2.200974    17  13.211540  1.750000      0      0 \n",
      "\n"
     ]
    }
   ],
   "source": [
    "url='http://www.principlesofeconometrics.com/poe5/data/csv/'\n",
    "nls=pd.read_csv(url+'nls_panel.csv')\n",
    "vars=nls[['id','year','lwage','educ','exper','tenure','south','black']]\n",
    "print(vars.head(10),'\\n')"
   ]
  },
  {
   "cell_type": "code",
   "execution_count": 3,
   "metadata": {},
   "outputs": [
    {
     "name": "stdout",
     "output_type": "stream",
     "text": [
      "            lwage  educ      exper    tenure  south  black\n",
      "id year                                                   \n",
      "1  1982  1.808289    12   7.666667  7.666667      0      1\n",
      "   1983  1.863417    12   8.583333  8.583333      0      1\n",
      "   1985  1.789367    12  10.179490  1.833333      0      1\n",
      "   1987  1.846530    12  12.179490  3.750000      0      1\n",
      "   1988  1.856449    12  13.621790  5.250000      0      1\n",
      "2  1982  1.280933    17   7.576923  2.416667      0      0\n",
      "   1983  1.515855    17   8.384615  3.416667      0      0\n",
      "   1985  1.930170    17  10.384610  5.416667      0      0\n",
      "   1987  1.919034    17  12.038460  0.333333      0      0\n",
      "   1988  2.200974    17  13.211540  1.750000      0      0\n"
     ]
    }
   ],
   "source": [
    "nls['year']=pd.to_datetime(nls['year'].astype(str),format='%y')\n",
    "nls['year']=nls['year'].dt.year\n",
    "nls=nls.set_index(['id','year'])\n",
    "print(nls[['lwage','educ','exper','tenure','south','black']].head(10))"
   ]
  },
  {
   "cell_type": "code",
   "execution_count": 4,
   "metadata": {},
   "outputs": [
    {
     "name": "stdout",
     "output_type": "stream",
     "text": [
      "         count       mean       std       min        50%        max\n",
      "lwage   3580.0   1.918238  0.464607  0.137109   1.896619   4.254619\n",
      "educ    3580.0  13.022346  2.444020  4.000000  12.000000  18.000000\n",
      "exper   3580.0  12.028583  3.862796  1.057692  12.054485  27.192300\n",
      "tenure  3580.0   6.947439  5.171849  0.000000   6.083333  24.750000\n",
      "south   3580.0   0.424022  0.494263  0.000000   0.000000   1.000000\n",
      "black   3580.0   0.282123  0.450096  0.000000   0.000000   1.000000\n"
     ]
    }
   ],
   "source": [
    "print(nls[['lwage','educ','exper','tenure','south','black']].describe(percentiles=[]\n",
    "                                                                     ).transpose())"
   ]
  },
  {
   "cell_type": "code",
   "execution_count": 5,
   "metadata": {},
   "outputs": [
    {
     "name": "stdout",
     "output_type": "stream",
     "text": [
      "year             int32\n",
      "firm             int64\n",
      "lsales         float64\n",
      "lcapital       float64\n",
      "llabor         float64\n",
      "sk_labor       float64\n",
      "lmaterials     float64\n",
      "foreign        float64\n",
      "export           int64\n",
      "intangibles      int64\n",
      "ownership        int64\n",
      "dtype: object\n"
     ]
    }
   ],
   "source": [
    "url='http://www.principlesofeconometrics.com/poe5/data/csv/'\n",
    "chem=pd.read_csv(url+'chemical2.csv',parse_dates=['year'])\n",
    "chem['year']=chem['year'].dt.year\n",
    "print(chem.dtypes)"
   ]
  },
  {
   "cell_type": "code",
   "execution_count": 6,
   "metadata": {},
   "outputs": [
    {
     "name": "stdout",
     "output_type": "stream",
     "text": [
      "   firm  year     lsales   lcapital    llabor\n",
      "0     1  2004  10.421390   9.848661  5.308268\n",
      "1     1  2005  10.879330  10.065050  5.438079\n",
      "2     1  2006  11.282740  10.093900  5.493062\n",
      "3     2  2004   9.355739   8.774158  4.025352\n",
      "4     2  2005   9.313799   8.874867  4.025352\n",
      "5     2  2006   9.574984   8.874867  4.043051 \n",
      "\n",
      "     firm  year     lsales  lcapital    llabor\n",
      "594   199  2004  10.340130  8.055158  4.787492\n",
      "595   199  2005   9.758462  8.872066  4.700480\n",
      "596   199  2006   9.895959  9.052516  4.787492\n",
      "597   200  2004   8.836374  7.649693  4.007333\n",
      "598   200  2005   9.126959  8.143517  4.007333\n",
      "599   200  2006   9.879707  8.470101  4.007333\n"
     ]
    }
   ],
   "source": [
    "vars=chem[['firm','year','lsales','lcapital','llabor']]    \n",
    "print(vars.head(6),'\\n')\n",
    "print(vars.tail(6))"
   ]
  },
  {
   "cell_type": "code",
   "execution_count": 7,
   "metadata": {},
   "outputs": [
    {
     "name": "stdout",
     "output_type": "stream",
     "text": [
      "                            OLS Regression Results                            \n",
      "==============================================================================\n",
      "Dep. Variable:                 lsales   R-squared:                       0.504\n",
      "Model:                            OLS   Adj. R-squared:                  0.502\n",
      "No. Observations:                 400   F-statistic:                     201.9\n",
      "Covariance Type:            nonrobust   Prob (F-statistic):           3.28e-61\n",
      "==============================================================================\n",
      "                 coef    std err          t      P>|t|      [0.025      0.975]\n",
      "------------------------------------------------------------------------------\n",
      "Intercept      5.8745      0.211     27.885      0.000       5.460       6.289\n",
      "lcapital       0.2536      0.035      7.155      0.000       0.184       0.323\n",
      "llabor         0.4264      0.058      7.391      0.000       0.313       0.540\n",
      "==============================================================================\n",
      "\n",
      "Notes:\n",
      "[1] Standard Errors assume that the covariance matrix of the errors is correctly specified.\n"
     ]
    }
   ],
   "source": [
    "chem_t2=chem.copy()\n",
    "chem_t2=chem_t2.sort_values(['firm','year'])\n",
    "chem_t2=chem_t2[chem_t2['year']>2004][['lsales','lcapital','llabor','firm','year']] \n",
    "res=smf.ols(formula='lsales~lcapital+llabor',data=chem_t2).fit() \n",
    "print(res.summary(slim=True))"
   ]
  },
  {
   "cell_type": "code",
   "execution_count": 8,
   "metadata": {},
   "outputs": [
    {
     "name": "stdout",
     "output_type": "stream",
     "text": [
      "                   OLS Regression Results                  \n",
      "===========================================================\n",
      "Dep. Variable:                lsalesd   F-statistic:       \n",
      "Model:                            OLS   Prob (F-statistic):\n",
      "No. Observations:                 200                      \n",
      "Covariance Type:            nonrobust                      \n",
      "==============================================================================\n",
      "                 coef    std err          t      P>|t|      [0.025      0.975]\n",
      "------------------------------------------------------------------------------\n",
      "lcapitald      0.0384      0.051      0.757      0.450      -0.062       0.138\n",
      "llabord        0.3097      0.075      4.104      0.000       0.161       0.459\n",
      "==============================================================================\n",
      "\n",
      "Notes:\n",
      "[1] R² is computed without centering (uncentered) since the model does not contain a constant.\n",
      "[2] Standard Errors assume that the covariance matrix of the errors is correctly specified.\n"
     ]
    }
   ],
   "source": [
    "chem_t2=chem_t2.set_index(['firm'])\n",
    "chem_t2['lsalesd']=chem_t2.groupby('firm')['lsales'].diff()\n",
    "chem_t2['lcapitald']=chem_t2.groupby('firm')['lcapital'].diff()\n",
    "chem_t2['llabord']=chem_t2.groupby('firm')['llabor'].diff()\n",
    "res=smf.ols(formula='lsalesd~lcapitald+llabord-1', data=chem_t2).fit() \n",
    "print(res.summary(slim=True))"
   ]
  },
  {
   "cell_type": "code",
   "execution_count": 9,
   "metadata": {},
   "outputs": [
    {
     "name": "stdout",
     "output_type": "stream",
     "text": [
      "            lwage  educ     exper\n",
      "id year                          \n",
      "1  1987  1.846530    12  12.17949\n",
      "   1988  1.856449    12  13.62179\n",
      "2  1987  1.919034    17  12.03846\n",
      "   1988  2.200974    17  13.21154\n",
      "3  1987  2.007068    12  16.41667\n",
      "   1988  2.089854    12  17.82051\n"
     ]
    }
   ],
   "source": [
    "nls=pd.read_csv(url+'nls_panel.csv',parse_dates=['year'],date_format='%y')\n",
    "nls['year']=pd.to_datetime(nls['year'].astype(str))\n",
    "nls['year']=nls['year'].dt.year\n",
    "nls=nls[nls['year']>1986]\n",
    "nls=nls.set_index(['id','year'])\n",
    "print(nls[['lwage','educ','exper']].head(6))"
   ]
  },
  {
   "cell_type": "code",
   "execution_count": 10,
   "metadata": {},
   "outputs": [
    {
     "name": "stdout",
     "output_type": "stream",
     "text": [
      "                   OLS Regression Results                  \n",
      "===========================================================\n",
      "Dep. Variable:                 lwaged   F-statistic:       \n",
      "Model:                            OLS   Prob (F-statistic):\n",
      "No. Observations:                 716                      \n",
      "Covariance Type:            nonrobust                      \n",
      "==============================================================================\n",
      "                 coef    std err          t      P>|t|      [0.025      0.975]\n",
      "------------------------------------------------------------------------------\n",
      "educd               0          0        nan        nan           0           0\n",
      "experd         0.0218      0.007      3.059      0.002       0.008       0.036\n",
      "==============================================================================\n",
      "\n",
      "Notes:\n",
      "[1] R² is computed without centering (uncentered) since the model does not contain a constant.\n",
      "[2] Standard Errors assume that the covariance matrix of the errors is correctly specified.\n",
      "[3] The smallest eigenvalue is      0. This might indicate that there are\n",
      "strong multicollinearity problems or that the design matrix is singular.\n"
     ]
    },
    {
     "name": "stderr",
     "output_type": "stream",
     "text": [
      "/opt/anaconda3/lib/python3.12/site-packages/statsmodels/regression/linear_model.py:1967: RuntimeWarning: divide by zero encountered in scalar divide\n",
      "  return np.sqrt(eigvals[0]/eigvals[-1])\n"
     ]
    }
   ],
   "source": [
    "nls['lwaged']=nls.groupby('id')['lwage'].diff()\n",
    "nls['educd']=nls.groupby('id')['educ'].diff()\n",
    "nls['experd']=nls.groupby('id')['exper'].diff()\n",
    "res=smf.ols(formula='lwaged~educd+experd-1', data=nls).fit() \n",
    "print(res.summary(slim=True))"
   ]
  },
  {
   "cell_type": "code",
   "execution_count": 11,
   "metadata": {},
   "outputs": [
    {
     "name": "stdout",
     "output_type": "stream",
     "text": [
      "count    716.0\n",
      "mean       0.0\n",
      "std        0.0\n",
      "min        0.0\n",
      "50%        0.0\n",
      "max        0.0\n",
      "Name: educd, dtype: float64\n"
     ]
    }
   ],
   "source": [
    "print(nls['educd'].describe(percentiles=[]).transpose())"
   ]
  },
  {
   "cell_type": "code",
   "execution_count": 12,
   "metadata": {},
   "outputs": [
    {
     "name": "stdout",
     "output_type": "stream",
     "text": [
      "                   OLS Regression Results                  \n",
      "===========================================================\n",
      "Dep. Variable:                 lwaged   F-statistic:       \n",
      "Model:                            OLS   Prob (F-statistic):\n",
      "No. Observations:                 716                      \n",
      "Covariance Type:            nonrobust                      \n",
      "==============================================================================\n",
      "                 coef    std err          t      P>|t|      [0.025      0.975]\n",
      "------------------------------------------------------------------------------\n",
      "experd         0.0218      0.007      3.059      0.002       0.008       0.036\n",
      "==============================================================================\n",
      "\n",
      "Notes:\n",
      "[1] R² is computed without centering (uncentered) since the model does not contain a constant.\n",
      "[2] Standard Errors assume that the covariance matrix of the errors is correctly specified.\n"
     ]
    }
   ],
   "source": [
    "res=smf.ols(formula='lwaged~experd-1',data=nls).fit()\n",
    "print(res.summary(slim=True))"
   ]
  },
  {
   "cell_type": "code",
   "execution_count": 13,
   "metadata": {},
   "outputs": [
    {
     "name": "stdout",
     "output_type": "stream",
     "text": [
      "      year     lsales  lsales_d   lsales_m  lsales_w\n",
      "firm                                                \n",
      "1     2005  10.879330       NaN  11.081035 -0.201705\n",
      "1     2006  11.282740  0.403410  11.081035  0.201705\n",
      "2     2005   9.313799       NaN   9.444392 -0.130593\n",
      "2     2006   9.574984  0.261185   9.444392  0.130593\n"
     ]
    }
   ],
   "source": [
    "l=chem_t2[['lsales','lcapital','llabor']]\n",
    "for i in l:\n",
    "    chem_t2[str(i)+'_d']=chem_t2.groupby(chem_t2.index)[str(i)].diff()\n",
    "    chem_t2[str(i)+'_m']=chem_t2.groupby(chem_t2.index)[str(i)].mean()\n",
    "    chem_t2[str(i)+'_w']=chem_t2[i]-chem_t2[str(i)+'_m']\n",
    "print(chem_t2[['year','lsales','lsales_d','lsales_m','lsales_w']].head(4))"
   ]
  },
  {
   "cell_type": "code",
   "execution_count": 14,
   "metadata": {},
   "outputs": [
    {
     "name": "stdout",
     "output_type": "stream",
     "text": [
      "                   OLS Regression Results                  \n",
      "===========================================================\n",
      "Dep. Variable:               lsales_w   F-statistic:       \n",
      "Model:                            OLS   Prob (F-statistic):\n",
      "No. Observations:                 400                      \n",
      "Covariance Type:            nonrobust                      \n",
      "==============================================================================\n",
      "                 coef    std err          t      P>|t|      [0.025      0.975]\n",
      "------------------------------------------------------------------------------\n",
      "lcapital_w     0.0384      0.036      1.073      0.284      -0.032       0.109\n",
      "llabor_w       0.3097      0.053      5.819      0.000       0.205       0.414\n",
      "==============================================================================\n",
      "\n",
      "Notes:\n",
      "[1] R² is computed without centering (uncentered) since the model does not contain a constant.\n",
      "[2] Standard Errors assume that the covariance matrix of the errors is correctly specified.\n"
     ]
    }
   ],
   "source": [
    "res=smf.ols(formula='lsales_w~lcapital_w+llabor_w-1',data=chem_t2).fit() \n",
    "print(res.summary(slim=True))"
   ]
  },
  {
   "cell_type": "code",
   "execution_count": 15,
   "metadata": {},
   "outputs": [
    {
     "name": "stdout",
     "output_type": "stream",
     "text": [
      "correction factor  = 1.4178\n",
      "se2                = 0.0507\n",
      "se3                = 0.0755\n"
     ]
    }
   ],
   "source": [
    "cf=np.sqrt((res.nobs-res.df_model)/(res.nobs-chem_t2.index.nunique()-res.df_model))\n",
    "print(f'correction factor  = {cf:.4f}')\n",
    "se2=cf*res.bse['lcapital_w']\n",
    "se3=cf*res.bse['llabor_w']\n",
    "print(f'se2                = {se2:.4f}')\n",
    "print(f'se3                = {se3:.4f}')"
   ]
  },
  {
   "cell_type": "code",
   "execution_count": 16,
   "metadata": {},
   "outputs": [
    {
     "name": "stdout",
     "output_type": "stream",
     "text": [
      "                          PanelOLS Estimation Summary                           \n",
      "================================================================================\n",
      "Dep. Variable:                 lsales   R-squared:                        0.0806\n",
      "Estimator:                   PanelOLS   R-squared (Between):              0.3484\n",
      "No. Observations:                 400   R-squared (Within):               0.0806\n",
      "Date:                Wed, Jun 18 2025   R-squared (Overall):              0.3422\n",
      "Time:                        09:28:40   Log-likelihood                    128.22\n",
      "Cov. Estimator:            Unadjusted                                           \n",
      "                                        F-statistic:                      8.6759\n",
      "Entities:                         200   P-value                           0.0002\n",
      "Avg Obs:                       2.0000   Distribution:                   F(2,198)\n",
      "Min Obs:                       2.0000                                           \n",
      "Max Obs:                       2.0000   F-statistic (robust):             8.6759\n",
      "                                        P-value                           0.0002\n",
      "Time periods:                       2   Distribution:                   F(2,198)\n",
      "Avg Obs:                       200.00                                           \n",
      "Min Obs:                       200.00                                           \n",
      "Max Obs:                       200.00                                           \n",
      "                                                                                \n",
      "                             Parameter Estimates                              \n",
      "==============================================================================\n",
      "            Parameter  Std. Err.     T-stat    P-value    Lower CI    Upper CI\n",
      "------------------------------------------------------------------------------\n",
      "lcapital       0.0384     0.0507     0.7566     0.4502     -0.0616      0.1384\n",
      "llabor         0.3097     0.0755     4.1041     0.0001      0.1609      0.4585\n",
      "cons           8.2229     0.5470     15.033     0.0000      7.1442      9.3016\n",
      "==============================================================================\n",
      "\n",
      "F-test for Poolability: 22.049\n",
      "P-value: 0.0000\n",
      "Distribution: F(199,198)\n",
      "\n",
      "Included effects: Entity\n"
     ]
    }
   ],
   "source": [
    "chem_t2=chem_t2.set_index(['year'],append=True)\n",
    "chem_t2['cons']=1\n",
    "exog=chem_t2[['lcapital','llabor','cons']]\n",
    "res=PanelOLS(chem_t2.lsales,exog,entity_effects=True).fit()\n",
    "print(res.summary)"
   ]
  },
  {
   "cell_type": "code",
   "execution_count": 17,
   "metadata": {},
   "outputs": [
    {
     "name": "stdout",
     "output_type": "stream",
     "text": [
      "         lsales  lsales_d   lsales_m  lsales_w\n",
      "firm                                          \n",
      "1     10.421390       NaN  10.861153 -0.439763\n",
      "1     10.879330  0.457940  10.861153  0.018177\n",
      "1     11.282740  0.403410  10.861153  0.421587\n",
      "2      9.355739       NaN   9.414841 -0.059102\n",
      "2      9.313799 -0.041940   9.414841 -0.101042\n",
      "2      9.574984  0.261185   9.414841  0.160143\n"
     ]
    }
   ],
   "source": [
    "chem_t3=chem.copy()\n",
    "chem_t3=chem_t3.set_index(['firm'])\n",
    "l=chem_t3[['lsales','lcapital','llabor']]\n",
    "for i in l:\n",
    "    chem_t3[str(i)+'_d']=chem_t3.groupby(chem_t3.index)[str(i)].diff()\n",
    "    chem_t3[str(i)+'_m']=chem_t3.groupby(chem_t3.index)[str(i)].mean()\n",
    "    chem_t3[str(i)+'_w']=chem_t3[i]-chem_t3[str(i)+'_m']\n",
    "print(chem_t3[['lsales','lsales_d','lsales_m','lsales_w']].head(6))"
   ]
  },
  {
   "cell_type": "code",
   "execution_count": 18,
   "metadata": {},
   "outputs": [
    {
     "name": "stdout",
     "output_type": "stream",
     "text": [
      "                   OLS Regression Results                  \n",
      "===========================================================\n",
      "Dep. Variable:               lsales_w   F-statistic:       \n",
      "Model:                            OLS   Prob (F-statistic):\n",
      "No. Observations:                 600                      \n",
      "Covariance Type:            nonrobust                      \n",
      "==============================================================================\n",
      "                 coef    std err          t      P>|t|      [0.025      0.975]\n",
      "------------------------------------------------------------------------------\n",
      "lcapital_w     0.0889      0.027      3.280      0.001       0.036       0.142\n",
      "llabor_w       0.3522      0.041      8.521      0.000       0.271       0.433\n",
      "==============================================================================\n",
      "\n",
      "Notes:\n",
      "[1] R² is computed without centering (uncentered) since the model does not contain a constant.\n",
      "[2] Standard Errors assume that the covariance matrix of the errors is correctly specified.\n",
      "\n",
      "\n",
      "Corrected Standard Errors of the Estimates\n",
      "correction factor = 1.2258\n",
      "corrected se2     = 0.0332\n",
      "corrected se3     = 0.0507\n"
     ]
    }
   ],
   "source": [
    "chem_t3=chem_t3.reset_index()\n",
    "res=smf.ols(formula='lsales_w~lcapital_w+llabor_w-1', data=chem_t3).fit() \n",
    "print(res.summary(slim=True))\n",
    "cf=np.sqrt((res.nobs-res.df_model)/(res.nobs-chem_t3['firm'].nunique()-res.df_model))\n",
    "print('\\n')\n",
    "print(f'Corrected Standard Errors of the Estimates')\n",
    "print(f'correction factor = {cf:.4f}')\n",
    "se2=cf*res.bse['lcapital_w']\n",
    "se3=cf*res.bse['llabor_w']\n",
    "print(f'corrected se2     = {se2:.4f}')\n",
    "print(f'corrected se3     = {se3:.4f}')"
   ]
  },
  {
   "cell_type": "code",
   "execution_count": 19,
   "metadata": {},
   "outputs": [
    {
     "name": "stdout",
     "output_type": "stream",
     "text": [
      "                          PanelOLS Estimation Summary                           \n",
      "================================================================================\n",
      "Dep. Variable:                 lsales   R-squared:                        0.1252\n",
      "Estimator:                   PanelOLS   R-squared (Between):              0.4272\n",
      "No. Observations:                 600   R-squared (Within):               0.1252\n",
      "Date:                Wed, Jun 18 2025   R-squared (Overall):              0.4132\n",
      "Time:                        09:28:40   Log-likelihood                    5.8503\n",
      "Cov. Estimator:            Unadjusted                                           \n",
      "                                        F-statistic:                      28.491\n",
      "Entities:                         200   P-value                           0.0000\n",
      "Avg Obs:                       3.0000   Distribution:                   F(2,398)\n",
      "Min Obs:                       3.0000                                           \n",
      "Max Obs:                       3.0000   F-statistic (robust):             28.491\n",
      "                                        P-value                           0.0000\n",
      "Time periods:                       3   Distribution:                   F(2,398)\n",
      "Avg Obs:                       200.00                                           \n",
      "Min Obs:                       200.00                                           \n",
      "Max Obs:                       200.00                                           \n",
      "                                                                                \n",
      "                             Parameter Estimates                              \n",
      "==============================================================================\n",
      "            Parameter  Std. Err.     T-stat    P-value    Lower CI    Upper CI\n",
      "------------------------------------------------------------------------------\n",
      "Intercept      7.5782     0.3523     21.509     0.0000      6.8855      8.2709\n",
      "lcapital       0.0889     0.0332     2.6763     0.0078      0.0236      0.1542\n",
      "llabor         0.3522     0.0507     6.9517     0.0000      0.2526      0.4519\n",
      "==============================================================================\n",
      "\n",
      "F-test for Poolability: 22.709\n",
      "P-value: 0.0000\n",
      "Distribution: F(199,398)\n",
      "\n",
      "Included effects: Entity\n"
     ]
    }
   ],
   "source": [
    "chem_t3=chem_t3.set_index(['firm','year'])\n",
    "exog_vars=['lcapital','llabor']\n",
    "exog=sm.add_constant(chem[exog_vars])\n",
    "res=PanelOLS.from_formula('lsales~1+lcapital+llabor+EntityEffects',data=chem_t3).fit()\n",
    "print(res.summary)"
   ]
  },
  {
   "cell_type": "code",
   "execution_count": 20,
   "metadata": {},
   "outputs": [
    {
     "name": "stdout",
     "output_type": "stream",
     "text": [
      "   year  firm     lsales   lcapital    llabor    1    2    3    4    5    6\n",
      "0  2004     1  10.421390   9.848661  5.308268  1.0  0.0  0.0  0.0  0.0  0.0\n",
      "1  2005     1  10.879330  10.065050  5.438079  1.0  0.0  0.0  0.0  0.0  0.0\n",
      "2  2006     1  11.282740  10.093900  5.493062  1.0  0.0  0.0  0.0  0.0  0.0\n",
      "3  2004     2   9.355739   8.774158  4.025352  0.0  1.0  0.0  0.0  0.0  0.0\n",
      "4  2005     2   9.313799   8.874867  4.025352  0.0  1.0  0.0  0.0  0.0  0.0\n"
     ]
    }
   ],
   "source": [
    "chem_DV=chem.copy()\n",
    "chemD=pd.get_dummies(chem_DV.firm,dtype=float)\n",
    "chem_DV=pd.concat([chem_DV,chemD],axis=1,join='inner')\n",
    "print(chem_DV[['year','firm','lsales','lcapital','llabor',1,2,3,4,5,6]].head())"
   ]
  },
  {
   "cell_type": "code",
   "execution_count": 21,
   "metadata": {},
   "outputs": [
    {
     "name": "stdout",
     "output_type": "stream",
     "text": [
      "                            OLS Regression Results                            \n",
      "==============================================================================\n",
      "Dep. Variable:                 lsales   R-squared:                       0.959\n",
      "Model:                            OLS   Adj. R-squared:                  0.939\n",
      "No. Observations:                 600   F-statistic:                     46.91\n",
      "Covariance Type:            nonrobust   Prob (F-statistic):          2.10e-198\n",
      "==============================================================================\n",
      "                 coef    std err          t      P>|t|      [0.025      0.975]\n",
      "------------------------------------------------------------------------------\n",
      "lcapital       0.0889      0.033      2.676      0.008       0.024       0.154\n",
      "llabor         0.3522      0.051      6.952      0.000       0.253       0.452\n",
      "D[0]           8.0655      0.456     17.706      0.000       7.170       8.961\n",
      "D[1]           7.2091      0.390     18.477      0.000       6.442       7.976\n",
      "D[2]           6.8696      0.473     14.523      0.000       5.940       7.800\n",
      "D[3]           6.4230      0.469     13.710      0.000       5.502       7.344\n",
      "D[4]           7.0340      0.356     19.776      0.000       6.335       7.733\n",
      "D[5]           7.7776      0.426     18.269      0.000       6.941       8.615\n",
      "D[6]           7.5606      0.382     19.792      0.000       6.810       8.312\n",
      "D[7]           6.0650      0.398     15.233      0.000       5.282       6.848\n",
      "D[8]           5.5034      0.347     15.859      0.000       4.821       6.186\n",
      "D[9]           6.5903      0.391     16.852      0.000       5.821       7.359\n",
      "D[10]          7.8526      0.444     17.694      0.000       6.980       8.725\n",
      "D[11]          8.1184      0.339     23.927      0.000       7.451       8.785\n",
      "D[12]          8.6756      0.480     18.058      0.000       7.731       9.620\n",
      "D[13]          6.8683      0.374     18.350      0.000       6.132       7.604\n",
      "D[14]          7.2137      0.399     18.071      0.000       6.429       7.999\n",
      "D[15]          7.3796      0.447     16.516      0.000       6.501       8.258\n",
      "D[16]          7.6558      0.426     17.987      0.000       6.819       8.493\n",
      "D[17]          6.9262      0.371     18.666      0.000       6.197       7.656\n",
      "D[18]          7.0747      0.312     22.696      0.000       6.462       7.688\n",
      "D[19]          8.1631      0.405     20.152      0.000       7.367       8.960\n",
      "D[20]          7.2230      0.449     16.098      0.000       6.341       8.105\n",
      "D[21]          7.1190      0.346     20.548      0.000       6.438       7.800\n",
      "D[22]          7.8430      0.457     17.160      0.000       6.944       8.742\n",
      "D[23]          7.0703      0.396     17.854      0.000       6.292       7.849\n",
      "D[24]          7.9313      0.479     16.543      0.000       6.989       8.874\n",
      "D[25]          5.0652      0.345     14.687      0.000       4.387       5.743\n",
      "D[26]          7.0486      0.332     21.257      0.000       6.397       7.700\n",
      "D[27]          7.3770      0.371     19.875      0.000       6.647       8.107\n",
      "D[28]          6.9387      0.383     18.122      0.000       6.186       7.691\n",
      "D[29]          7.8858      0.333     23.669      0.000       7.231       8.541\n",
      "D[30]          9.0498      0.382     23.700      0.000       8.299       9.800\n",
      "D[31]          6.9663      0.361     19.324      0.000       6.258       7.675\n",
      "D[32]          6.7548      0.432     15.652      0.000       5.906       7.603\n",
      "D[33]          6.8975      0.336     20.499      0.000       6.236       7.559\n",
      "D[34]          8.5097      0.453     18.804      0.000       7.620       9.399\n",
      "D[35]          7.8060      0.370     21.084      0.000       7.078       8.534\n",
      "D[36]          5.3713      0.292     18.385      0.000       4.797       5.946\n",
      "D[37]          7.7990      0.407     19.167      0.000       6.999       8.599\n",
      "D[38]          6.9700      0.344     20.253      0.000       6.293       7.647\n",
      "D[39]          5.5635      0.310     17.946      0.000       4.954       6.173\n",
      "D[40]          7.6529      0.308     24.822      0.000       7.047       8.259\n",
      "D[41]          7.0398      0.325     21.632      0.000       6.400       7.680\n",
      "D[42]          7.6338      0.475     16.067      0.000       6.700       8.568\n",
      "D[43]          6.2306      0.314     19.874      0.000       5.614       6.847\n",
      "D[44]          6.8480      0.361     18.996      0.000       6.139       7.557\n",
      "D[45]          7.0518      0.350     20.173      0.000       6.365       7.739\n",
      "D[46]          7.3018      0.322     22.650      0.000       6.668       7.936\n",
      "D[47]          7.9224      0.418     18.940      0.000       7.100       8.745\n",
      "D[48]          7.6666      0.423     18.142      0.000       6.836       8.497\n",
      "D[49]          7.0398      0.457     15.410      0.000       6.142       7.938\n",
      "D[50]          8.7626      0.486     18.031      0.000       7.807       9.718\n",
      "D[51]          7.3589      0.384     19.154      0.000       6.604       8.114\n",
      "D[52]          8.2942      0.343     24.189      0.000       7.620       8.968\n",
      "D[53]          7.1875      0.358     20.095      0.000       6.484       7.891\n",
      "D[54]          7.9113      0.282     28.022      0.000       7.356       8.466\n",
      "D[55]          9.2232      0.567     16.276      0.000       8.109      10.337\n",
      "D[56]          8.9775      0.261     34.411      0.000       8.465       9.490\n",
      "D[57]          6.7475      0.355     18.986      0.000       6.049       7.446\n",
      "D[58]          8.5601      0.372     22.988      0.000       7.828       9.292\n",
      "D[59]          7.6909      0.384     20.032      0.000       6.936       8.446\n",
      "D[60]          8.3415      0.278     29.974      0.000       7.794       8.889\n",
      "D[61]          7.4624      0.329     22.692      0.000       6.816       8.109\n",
      "D[62]          6.5475      0.389     16.832      0.000       5.783       7.312\n",
      "D[63]          8.0805      0.332     24.309      0.000       7.427       8.734\n",
      "D[64]          9.1120      0.429     21.234      0.000       8.268       9.956\n",
      "D[65]          7.8510      0.289     27.153      0.000       7.283       8.419\n",
      "D[66]          7.0430      0.393     17.912      0.000       6.270       7.816\n",
      "D[67]          7.6440      0.305     25.075      0.000       7.045       8.243\n",
      "D[68]          7.1087      0.349     20.357      0.000       6.422       7.795\n",
      "D[69]          7.6144      0.454     16.765      0.000       6.721       8.507\n",
      "D[70]          7.1985      0.401     17.947      0.000       6.410       7.987\n",
      "D[71]          8.0657      0.330     24.406      0.000       7.416       8.715\n",
      "D[72]          9.2936      0.425     21.880      0.000       8.459      10.129\n",
      "D[73]          9.9495      0.453     21.979      0.000       9.060      10.839\n",
      "D[74]          7.4495      0.381     19.573      0.000       6.701       8.198\n",
      "D[75]          7.4385      0.369     20.168      0.000       6.713       8.164\n",
      "D[76]          7.5814      0.404     18.764      0.000       6.787       8.376\n",
      "D[77]          6.6913      0.376     17.788      0.000       5.952       7.431\n",
      "D[78]          7.6880      0.490     15.676      0.000       6.724       8.652\n",
      "D[79]          7.7889      0.435     17.919      0.000       6.934       8.643\n",
      "D[80]          8.5247      0.307     27.729      0.000       7.920       9.129\n",
      "D[81]          7.6953      0.297     25.914      0.000       7.112       8.279\n",
      "D[82]          6.6681      0.460     14.508      0.000       5.765       7.572\n",
      "D[83]          7.8525      0.297     26.396      0.000       7.268       8.437\n",
      "D[84]          6.9006      0.371     18.603      0.000       6.171       7.630\n",
      "D[85]          6.8757      0.405     16.973      0.000       6.079       7.672\n",
      "D[86]          7.4026      0.334     22.150      0.000       6.746       8.060\n",
      "D[87]          6.1645      0.444     13.893      0.000       5.292       7.037\n",
      "D[88]          8.3263      0.457     18.232      0.000       7.428       9.224\n",
      "D[89]          7.8032      0.404     19.315      0.000       7.009       8.597\n",
      "D[90]          8.0182      0.403     19.874      0.000       7.225       8.811\n",
      "D[91]          8.4872      0.420     20.222      0.000       7.662       9.312\n",
      "D[92]          8.0761      0.342     23.585      0.000       7.403       8.749\n",
      "D[93]          7.6603      0.328     23.376      0.000       7.016       8.305\n",
      "D[94]          8.6468      0.355     24.350      0.000       7.949       9.345\n",
      "D[95]          8.1397      0.311     26.214      0.000       7.529       8.750\n",
      "D[96]          6.1630      0.368     16.762      0.000       5.440       6.886\n",
      "D[97]          7.3114      0.341     21.411      0.000       6.640       7.983\n",
      "D[98]          6.9181      0.367     18.832      0.000       6.196       7.640\n",
      "D[99]          7.0313      0.313     22.453      0.000       6.416       7.647\n",
      "D[100]         7.7416      0.289     26.797      0.000       7.174       8.310\n",
      "D[101]         7.6223      0.360     21.202      0.000       6.916       8.329\n",
      "D[102]         7.4229      0.336     22.077      0.000       6.762       8.084\n",
      "D[103]         7.3290      0.389     18.860      0.000       6.565       8.093\n",
      "D[104]         8.0145      0.336     23.868      0.000       7.354       8.675\n",
      "D[105]         7.3018      0.332     22.024      0.000       6.650       7.954\n",
      "D[106]         7.8915      0.285     27.646      0.000       7.330       8.453\n",
      "D[107]         8.0641      0.398     20.264      0.000       7.282       8.846\n",
      "D[108]         7.0325      0.350     20.110      0.000       6.345       7.720\n",
      "D[109]         7.0790      0.312     22.704      0.000       6.466       7.692\n",
      "D[110]         7.4710      0.372     20.089      0.000       6.740       8.202\n",
      "D[111]         4.7721      0.335     14.231      0.000       4.113       5.431\n",
      "D[112]         8.6462      0.445     19.444      0.000       7.772       9.520\n",
      "D[113]         9.9836      0.420     23.743      0.000       9.157      10.810\n",
      "D[114]         7.9767      0.429     18.577      0.000       7.133       8.821\n",
      "D[115]         8.4718      0.369     22.978      0.000       7.747       9.197\n",
      "D[116]         7.3054      0.431     16.951      0.000       6.458       8.153\n",
      "D[117]         8.4656      0.453     18.693      0.000       7.575       9.356\n",
      "D[118]         7.4367      0.295     25.178      0.000       6.856       8.017\n",
      "D[119]         8.0461      0.462     17.403      0.000       7.137       8.955\n",
      "D[120]         8.6723      0.443     19.558      0.000       7.801       9.544\n",
      "D[121]         6.9112      0.403     17.132      0.000       6.118       7.704\n",
      "D[122]         7.3553      0.295     24.974      0.000       6.776       7.934\n",
      "D[123]         7.2906      0.326     22.363      0.000       6.650       7.932\n",
      "D[124]         8.3986      0.388     21.638      0.000       7.636       9.162\n",
      "D[125]         7.4845      0.405     18.491      0.000       6.689       8.280\n",
      "D[126]         8.3959      0.447     18.785      0.000       7.517       9.275\n",
      "D[127]         8.3874      0.460     18.225      0.000       7.483       9.292\n",
      "D[128]         6.7268      0.472     14.255      0.000       5.799       7.655\n",
      "D[129]         8.3914      0.393     21.365      0.000       7.619       9.164\n",
      "D[130]         7.7298      0.451     17.156      0.000       6.844       8.616\n",
      "D[131]         6.6769      0.375     17.815      0.000       5.940       7.414\n",
      "D[132]         7.1764      0.322     22.292      0.000       6.544       7.809\n",
      "D[133]         6.5479      0.455     14.389      0.000       5.653       7.443\n",
      "D[134]         7.1576      0.459     15.592      0.000       6.255       8.060\n",
      "D[135]         8.0200      0.411     19.519      0.000       7.212       8.828\n",
      "D[136]         7.3683      0.399     18.467      0.000       6.584       8.153\n",
      "D[137]         8.6438      0.491     17.591      0.000       7.678       9.610\n",
      "D[138]         9.0628      0.520     17.415      0.000       8.040      10.086\n",
      "D[139]         8.0503      0.504     15.968      0.000       7.059       9.041\n",
      "D[140]         7.3105      0.486     15.054      0.000       6.356       8.265\n",
      "D[141]         8.9178      0.547     16.304      0.000       7.842       9.993\n",
      "D[142]         8.3025      0.541     15.345      0.000       7.239       9.366\n",
      "D[143]         8.5648      0.559     15.335      0.000       7.467       9.663\n",
      "D[144]         7.6577      0.495     15.468      0.000       6.684       8.631\n",
      "D[145]         9.8629      0.503     19.625      0.000       8.875      10.851\n",
      "D[146]         7.8577      0.316     24.827      0.000       7.236       8.480\n",
      "D[147]         8.7920      0.464     18.952      0.000       7.880       9.704\n",
      "D[148]         6.9250      0.331     20.935      0.000       6.275       7.575\n",
      "D[149]         6.6782      0.476     14.017      0.000       5.742       7.615\n",
      "D[150]         4.3490      0.316     13.773      0.000       3.728       4.970\n",
      "D[151]         4.9666      0.301     16.508      0.000       4.375       5.558\n",
      "D[152]         9.8705      0.637     15.500      0.000       8.619      11.122\n",
      "D[153]         8.0712      0.391     20.643      0.000       7.302       8.840\n",
      "D[154]         8.6026      0.429     20.067      0.000       7.760       9.445\n",
      "D[155]         7.4030      0.427     17.337      0.000       6.564       8.242\n",
      "D[156]         6.1987      0.280     22.128      0.000       5.648       6.749\n",
      "D[157]         6.5839      0.342     19.235      0.000       5.911       7.257\n",
      "D[158]         8.0507      0.394     20.455      0.000       7.277       8.824\n",
      "D[159]         7.6444      0.320     23.869      0.000       7.015       8.274\n",
      "D[160]         7.6576      0.334     22.960      0.000       7.002       8.313\n",
      "D[161]         7.6947      0.310     24.797      0.000       7.085       8.305\n",
      "D[162]         6.9806      0.372     18.769      0.000       6.249       7.712\n",
      "D[163]         7.0004      0.400     17.517      0.000       6.215       7.786\n",
      "D[164]         8.0372      0.417     19.282      0.000       7.218       8.857\n",
      "D[165]         6.7965      0.399     17.014      0.000       6.011       7.582\n",
      "D[166]         7.5740      0.458     16.541      0.000       6.674       8.474\n",
      "D[167]         7.0317      0.380     18.508      0.000       6.285       7.779\n",
      "D[168]         6.5069      0.410     15.887      0.000       5.702       7.312\n",
      "D[169]         7.1151      0.427     16.678      0.000       6.276       7.954\n",
      "D[170]         7.8377      0.378     20.744      0.000       7.095       8.581\n",
      "D[171]         7.9264      0.424     18.680      0.000       7.092       8.761\n",
      "D[172]         8.6712      0.333     26.078      0.000       8.018       9.325\n",
      "D[173]         7.8693      0.288     27.364      0.000       7.304       8.435\n",
      "D[174]         7.9851      0.415     19.230      0.000       7.169       8.801\n",
      "D[175]         6.9980      0.397     17.645      0.000       6.218       7.778\n",
      "D[176]         6.8292      0.372     18.347      0.000       6.097       7.561\n",
      "D[177]         8.0898      0.485     16.673      0.000       7.136       9.044\n",
      "D[178]         8.3013      0.433     19.191      0.000       7.451       9.152\n",
      "D[179]         8.1616      0.507     16.105      0.000       7.165       9.158\n",
      "D[180]         7.4175      0.357     20.799      0.000       6.716       8.119\n",
      "D[181]         6.5048      0.375     17.340      0.000       5.767       7.242\n",
      "D[182]         8.4158      0.503     16.729      0.000       7.427       9.405\n",
      "D[183]         7.3768      0.361     20.456      0.000       6.668       8.086\n",
      "D[184]         7.9429      0.335     23.723      0.000       7.285       8.601\n",
      "D[185]         8.4404      0.473     17.835      0.000       7.510       9.371\n",
      "D[186]         8.8281      0.489     18.063      0.000       7.867       9.789\n",
      "D[187]         8.1627      0.485     16.819      0.000       7.209       9.117\n",
      "D[188]         7.7570      0.412     18.813      0.000       6.946       8.568\n",
      "D[189]         7.5361      0.335     22.486      0.000       6.877       8.195\n",
      "D[190]         7.8153      0.437     17.883      0.000       6.956       8.674\n",
      "D[191]         7.1130      0.367     19.383      0.000       6.392       7.834\n",
      "D[192]         8.7730      0.489     17.943      0.000       7.812       9.734\n",
      "D[193]         7.3403      0.408     17.970      0.000       6.537       8.143\n",
      "D[194]         8.4130      0.437     19.256      0.000       7.554       9.272\n",
      "D[195]         7.8750      0.334     23.610      0.000       7.219       8.531\n",
      "D[196]         7.7119      0.436     17.669      0.000       6.854       8.570\n",
      "D[197]         7.3850      0.392     18.856      0.000       6.615       8.155\n",
      "D[198]         7.5524      0.406     18.625      0.000       6.755       8.350\n",
      "D[199]         7.1507      0.372     19.243      0.000       6.420       7.881\n",
      "==============================================================================\n",
      "\n",
      "Notes:\n",
      "[1] Standard Errors assume that the covariance matrix of the errors is correctly specified.\n",
      "[2] The condition number is large, 4.14e+03. This might indicate that there are\n",
      "strong multicollinearity or other numerical problems.\n"
     ]
    }
   ],
   "source": [
    "D=chem_DV.iloc[:,11:]\n",
    "res=smf.ols(formula='lsales~lcapital+llabor+D-1',data=chem_DV).fit() \n",
    "print(res.summary(slim=True))"
   ]
  },
  {
   "cell_type": "code",
   "execution_count": 22,
   "metadata": {},
   "outputs": [
    {
     "name": "stdout",
     "output_type": "stream",
     "text": [
      "The mean least squares dummy variable estimates: 7.5782\n"
     ]
    }
   ],
   "source": [
    "DV=res.params.iloc[2:]\n",
    "print(f'The mean least squares dummy variable estimates: {np.round(DV.mean(),4)}')"
   ]
  },
  {
   "cell_type": "code",
   "execution_count": 23,
   "metadata": {},
   "outputs": [
    {
     "name": "stdout",
     "output_type": "stream",
     "text": [
      "==============================================================================\n",
      "                 coef    std err          t      P>|t|      [0.025      0.975]\n",
      "------------------------------------------------------------------------------\n",
      "lcapital_w     0.0889      0.027      3.280      0.001       0.036       0.142\n",
      "llabor_w       0.3522      0.041      8.521      0.000       0.271       0.433\n",
      "==============================================================================\n",
      "SSE_u: 34.4515\n"
     ]
    }
   ],
   "source": [
    "res=smf.ols(formula='lsales_w~lcapital_w+llabor_w-1',data=chem_t3).fit()\n",
    "print(res.summary().tables[1])\n",
    "sse_u=res.ssr\n",
    "print(f'SSE_u: {np.round(sse_u,4)}')"
   ]
  },
  {
   "cell_type": "code",
   "execution_count": 24,
   "metadata": {},
   "outputs": [
    {
     "name": "stdout",
     "output_type": "stream",
     "text": [
      "==============================================================================\n",
      "                 coef    std err          t      P>|t|      [0.025      0.975]\n",
      "------------------------------------------------------------------------------\n",
      "Intercept      5.8797      0.171     34.368      0.000       5.544       6.216\n",
      "lcapital       0.2732      0.029      9.403      0.000       0.216       0.330\n",
      "llabor         0.3815      0.047      8.176      0.000       0.290       0.473\n",
      "==============================================================================\n",
      "SSE_r       = 425.6366\n",
      "F-statistic =  22.7093\n"
     ]
    }
   ],
   "source": [
    "chem_t3=chem_t3.reset_index()\n",
    "res=smf.ols(formula='lsales~lcapital+llabor+1', data=chem_t3).fit()\n",
    "print(res.summary().tables[1])\n",
    "sse_r=res.ssr\n",
    "N=chem_t3.firm.nunique()\n",
    "T=chem_t3.year.nunique()\n",
    "Ks=res.df_model\n",
    "print(f'SSE_r       = {sse_r:.4f}')\n",
    "F_stat=((sse_r-sse_u)/(N-1))/(sse_u/(N*T-N-Ks))\n",
    "print(f'F-statistic =  {F_stat:.4f}')"
   ]
  },
  {
   "cell_type": "code",
   "execution_count": 25,
   "metadata": {},
   "outputs": [],
   "source": [
    "conv=smf.ols(formula='lsales~lcapital+llabor',data=chem_t3).fit(cov_type='nonrobust')\n",
    "robust=smf.ols(formula='lsales~lcapital+llabor',data=chem_t3).fit(cov_type='HC1')\n",
    "clus_ent=smf.ols(formula='lsales~lcapital+llabor',data=chem_t3).fit(\n",
    "    cov_type='cluster',cov_kwds={'groups':chem_t3['firm']})\n",
    "panel_res=Stargazer([conv,robust,clus_ent])\n",
    "panel_res.custom_columns(['Conventional','Robust','Cluster-Robust'])\n",
    "panel_res;"
   ]
  },
  {
   "cell_type": "markdown",
   "metadata": {},
   "source": [
    "The HTML code from the previous cell is copied in this markdown cell to show the well-formatted table.\n",
    "\n",
    "<table style=\"text-align:center\"><tr><td colspan=\"4\" style=\"border-bottom: 1px solid black\"></td></tr><tr><td style=\"text-align:left\"></td><td colspan=\"3\"><em>Dependent variable:lsales</em></td></tr><tr><td style=\"text-align:left\"></td><tr><td style=\"text-align:left\"></td><td>(1)</td><td>(2)</td><td>(3)</td></tr><tr><td colspan=\"4\" style=\"border-bottom: 1px solid black\"></td></tr><tr><td style=\"text-align:left\">Intercept</td><td>5.880<sup>***</sup></td><td>5.880<sup>***</sup></td><td>5.880<sup>***</sup></td></tr><tr><td style=\"text-align:left\"></td><td>(0.171)</td><td>(0.197)</td><td>(0.328)</td></tr><tr><td style=\"text-align:left\">lcapital</td><td>0.273<sup>***</sup></td><td>0.273<sup>***</sup></td><td>0.273<sup>***</sup></td></tr><tr><td style=\"text-align:left\"></td><td>(0.029)</td><td>(0.035)</td><td>(0.055)</td></tr><tr><td style=\"text-align:left\">llabor</td><td>0.382<sup>***</sup></td><td>0.382<sup>***</sup></td><td>0.382<sup>***</sup></td></tr><tr><td style=\"text-align:left\"></td><td>(0.047)</td><td>(0.056)</td><td>(0.088)</td></tr><td colspan=\"4\" style=\"border-bottom: 1px solid black\"></td></tr><tr><td style=\"text-align: left\">Observations</td><td>600</td><td>600</td><td>600</td></tr><tr><td style=\"text-align: left\">R<sup>2</sup></td><td>0.500</td><td>0.500</td><td>0.500</td></tr><tr><td style=\"text-align: left\">Adjusted R<sup>2</sup></td><td>0.498</td><td>0.498</td><td>0.498</td></tr><tr><td style=\"text-align: left\">Residual Std. Error</td><td>0.844 (df=597)</td><td>0.844 (df=597)</td><td>0.844 (df=597)</td></tr><tr><td style=\"text-align: left\">F Statistic</td><td>297.997<sup>***</sup> (df=2; 597)</td><td>236.038<sup>***</sup> (df=2; 597)</td><td>84.558<sup>***</sup> (df=2; 597)</td></tr><tr><td colspan=\"4\" style=\"border-bottom: 1px solid black\"></td></tr><tr><td style=\"text-align: left\">Note:</td>\n",
    " <td colspan=\"3\" style=\"text-align: right\">\n",
    "  <sup>*</sup>p&lt;0.1;\n",
    "  <sup>**</sup>p&lt;0.05;\n",
    "  <sup>***</sup>p&lt;0.01\n",
    " </td></tr></table> "
   ]
  },
  {
   "cell_type": "code",
   "execution_count": 26,
   "metadata": {},
   "outputs": [
    {
     "name": "stdout",
     "output_type": "stream",
     "text": [
      "                         Model Comparison                         \n",
      "==================================================================\n",
      "                          Conventional       Robust Cluster-Robust\n",
      "------------------------------------------------------------------\n",
      "Dep. Variable                   lsales       lsales         lsales\n",
      "Estimator                     PanelOLS     PanelOLS       PanelOLS\n",
      "No. Observations                   600          600            600\n",
      "Cov. Est.                   Unadjusted       Robust      Clustered\n",
      "R-squared                       0.1252       0.1252         0.1252\n",
      "R-Squared (Within)              0.1252       0.1252         0.1252\n",
      "R-Squared (Between)             0.4272       0.4272         0.4272\n",
      "R-Squared (Overall)             0.4132       0.4132         0.4132\n",
      "F-statistic                     28.491       28.491         28.491\n",
      "P-value (F-stat)                0.0000       0.0000         0.0000\n",
      "=====================     ============   ==========    ===========\n",
      "Intercept                       7.5782       7.5782         7.5782\n",
      "                              (21.509)     (19.450)       (18.545)\n",
      "lcapital                        0.0889       0.0889         0.0889\n",
      "                              (2.6763)     (2.2668)       (2.1550)\n",
      "llabor                          0.3522       0.3522         0.3522\n",
      "                              (6.9517)     (5.6394)       (5.3392)\n",
      "======================= ============== ============  =============\n",
      "Effects                         Entity       Entity         Entity\n",
      "------------------------------------------------------------------\n",
      "\n",
      "T-stats reported in parentheses\n"
     ]
    }
   ],
   "source": [
    "chem_t3=chem_t3.set_index(['firm','year'])\n",
    "fe=PanelOLS.from_formula('lsales~1+lcapital+llabor+EntityEffects', data=chem_t3\n",
    "                        ).fit(cov_type='unadjusted')\n",
    "fe_rob=PanelOLS.from_formula('lsales~1+lcapital+llabor+EntityEffects', data=chem_t3\n",
    "                            ).fit(cov_type='robust')\n",
    "fe_clus=PanelOLS.from_formula('lsales~1+lcapital+llabor+EntityEffects', data=chem_t3\n",
    "                             ).fit(cov_type='clustered',cluster_entity=True)\n",
    "res=OrderedDict()\n",
    "res['Conventional']=fe\n",
    "res['Robust']=fe_rob\n",
    "res['Cluster-Robust']=fe_clus\n",
    "print(compare(res))"
   ]
  },
  {
   "cell_type": "code",
   "execution_count": 27,
   "metadata": {},
   "outputs": [
    {
     "name": "stdout",
     "output_type": "stream",
     "text": [
      "                        RandomEffects Estimation Summary                        \n",
      "================================================================================\n",
      "Dep. Variable:                 lsales   R-squared:                        0.2946\n",
      "Estimator:              RandomEffects   R-squared (Between):              0.5033\n",
      "No. Observations:                 600   R-squared (Within):               0.1058\n",
      "Date:                Wed, Jun 18 2025   R-squared (Overall):              0.4849\n",
      "Time:                        09:28:40   Log-likelihood                   -122.89\n",
      "Cov. Estimator:            Unadjusted                                           \n",
      "                                        F-statistic:                      124.67\n",
      "Entities:                         200   P-value                           0.0000\n",
      "Avg Obs:                       3.0000   Distribution:                   F(2,597)\n",
      "Min Obs:                       3.0000                                           \n",
      "Max Obs:                       3.0000   F-statistic (robust):             124.67\n",
      "                                        P-value                           0.0000\n",
      "Time periods:                       3   Distribution:                   F(2,597)\n",
      "Avg Obs:                       200.00                                           \n",
      "Min Obs:                       200.00                                           \n",
      "Max Obs:                       200.00                                           \n",
      "                                                                                \n",
      "                             Parameter Estimates                              \n",
      "==============================================================================\n",
      "            Parameter  Std. Err.     T-stat    P-value    Lower CI    Upper CI\n",
      "------------------------------------------------------------------------------\n",
      "Intercept      6.5429     0.2285     28.633     0.0000      6.0941      6.9916\n",
      "lcapital       0.1744     0.0258     6.7467     0.0000      0.1236      0.2252\n",
      "llabor         0.4227     0.0405     10.441     0.0000      0.3432      0.5022\n",
      "==============================================================================\n"
     ]
    }
   ],
   "source": [
    "res=RandomEffects.from_formula(formula='lsales~lcapital+llabor+1',data=chem_t3).fit()\n",
    "print(res.summary)"
   ]
  },
  {
   "cell_type": "code",
   "execution_count": 28,
   "metadata": {},
   "outputs": [
    {
     "name": "stdout",
     "output_type": "stream",
     "text": [
      "Effects                   0.628050\n",
      "Residual                  0.086561\n",
      "Percent due to Effects    0.878869\n",
      "Name: Variance Decomposition, dtype: float64\n"
     ]
    }
   ],
   "source": [
    "print(res.variance_decomposition)"
   ]
  },
  {
   "cell_type": "code",
   "execution_count": 29,
   "metadata": {},
   "outputs": [
    {
     "name": "stdout",
     "output_type": "stream",
     "text": [
      "                             Parameter Estimates                              \n",
      "==============================================================================\n",
      "            Parameter  Std. Err.     T-stat    P-value    Lower CI    Upper CI\n",
      "------------------------------------------------------------------------------\n",
      "Intercept      6.5429     0.2863     22.856     0.0000      5.9806      7.1051\n",
      "lcapital       0.1744     0.0387     4.5022     0.0000      0.0983      0.2505\n",
      "llabor         0.4227     0.0561     7.5287     0.0000      0.3124      0.5329\n",
      "==============================================================================\n"
     ]
    }
   ],
   "source": [
    "res=RandomEffects.from_formula(formula='lsales~lcapital+llabor+1',data=chem_t3\n",
    "                              ).fit(cov_type='clustered',cluster_entity=True)\n",
    "print(res.summary.tables[1])"
   ]
  },
  {
   "cell_type": "code",
   "execution_count": 30,
   "metadata": {},
   "outputs": [
    {
     "name": "stdout",
     "output_type": "stream",
     "text": [
      "                             Parameter Estimates                              \n",
      "==============================================================================\n",
      "            Parameter  Std. Err.     T-stat    P-value    Lower CI    Upper CI\n",
      "------------------------------------------------------------------------------\n",
      "Intercept      1.4500     0.0401     36.124     0.0000      1.3713      1.5287\n",
      "exper          0.0411     0.0066     6.2059     0.0000      0.0281      0.0541\n",
      "exper2        -0.0004     0.0003    -1.4965     0.1346     -0.0009      0.0001\n",
      "tenure         0.0139     0.0033     4.2433     0.0000      0.0075      0.0203\n",
      "tenure2       -0.0009     0.0002    -4.3536     0.0000     -0.0013     -0.0005\n",
      "south         -0.0163     0.0361    -0.4515     0.6516     -0.0872      0.0546\n",
      "union          0.0637     0.0143     4.4688     0.0000      0.0357      0.0916\n",
      "==============================================================================\n"
     ]
    },
    {
     "name": "stderr",
     "output_type": "stream",
     "text": [
      "/var/folders/0h/jw29b3kd0ng35y2lh_0cr8bc0000gn/T/ipykernel_22290/1431450177.py:7: AbsorbingEffectWarning: \n",
      "Variables have been fully absorbed and have removed from the regression:\n",
      "\n",
      "educ, black\n",
      "\n",
      "  res_fe=PanelOLS.from_formula(formula,data=nls,drop_absorbed=True).fit()\n"
     ]
    }
   ],
   "source": [
    "url='http://www.principlesofeconometrics.com/poe5/data/csv/'\n",
    "nls=pd.read_csv(url+'nls_panel.csv')\n",
    "nls['year']=pd.to_datetime(nls['year'].astype(str),format='%y')\n",
    "nls['year']=nls['year'].dt.year\n",
    "nls=nls.set_index(['id','year'])\n",
    "formula='lwage~educ+exper+exper2+tenure+tenure2+black+south+union+EntityEffects+1'\n",
    "res_fe=PanelOLS.from_formula(formula,data=nls,drop_absorbed=True).fit()\n",
    "print(res_fe.summary.tables[1])"
   ]
  },
  {
   "cell_type": "code",
   "execution_count": 31,
   "metadata": {},
   "outputs": [
    {
     "name": "stdout",
     "output_type": "stream",
     "text": [
      "                             Parameter Estimates                              \n",
      "==============================================================================\n",
      "            Parameter  Std. Err.     T-stat    P-value    Lower CI    Upper CI\n",
      "------------------------------------------------------------------------------\n",
      "Intercept      0.5339     0.0799     6.6854     0.0000      0.3773      0.6905\n",
      "educ           0.0733     0.0053     13.745     0.0000      0.0628      0.0837\n",
      "exper          0.0436     0.0064     6.8606     0.0000      0.0312      0.0561\n",
      "exper2        -0.0006     0.0003    -2.1364     0.0327     -0.0011  -4.615e-05\n",
      "tenure         0.0142     0.0032     4.4697     0.0000      0.0079      0.0204\n",
      "tenure2       -0.0008     0.0002    -3.8785     0.0001     -0.0011     -0.0004\n",
      "black         -0.1167     0.0302    -3.8652     0.0001     -0.1759     -0.0575\n",
      "south         -0.0818     0.0224    -3.6518     0.0003     -0.1258     -0.0379\n",
      "union          0.0802     0.0132     6.0729     0.0000      0.0543      0.1062\n",
      "==============================================================================\n",
      "       theta\n",
      "id          \n",
      "1   0.743593\n",
      "2   0.743593\n",
      "3   0.743593\n",
      "4   0.743593\n",
      "5   0.743593\n"
     ]
    }
   ],
   "source": [
    "formula='lwage~educ+exper+exper2+tenure+tenure2+black+south+union+1'\n",
    "res_re=RandomEffects.from_formula(formula,data=nls).fit()\n",
    "print(res_re.summary.tables[1])\n",
    "print(res_re.theta.head())"
   ]
  },
  {
   "cell_type": "code",
   "execution_count": 32,
   "metadata": {},
   "outputs": [
    {
     "name": "stdout",
     "output_type": "stream",
     "text": [
      "                         BetweenOLS Estimation Summary                          \n",
      "================================================================================\n",
      "Dep. Variable:                  lwage   R-squared:                        0.3655\n",
      "Estimator:                 BetweenOLS   R-squared (Between):              0.3655\n",
      "No. Observations:                 716   R-squared (Within):               0.1161\n",
      "Date:                Wed, Jun 18 2025   R-squared (Overall):              0.3245\n",
      "Time:                        09:28:41   Log-likelihood                   -239.89\n",
      "Cov. Estimator:            Unadjusted                                           \n",
      "                                        F-statistic:                      50.901\n",
      "Entities:                         716   P-value                           0.0000\n",
      "Avg Obs:                       5.0000   Distribution:                   F(8,707)\n",
      "Min Obs:                       5.0000                                           \n",
      "Max Obs:                       5.0000   F-statistic (robust):             50.901\n",
      "                                        P-value                           0.0000\n",
      "Time periods:                       5   Distribution:                   F(8,707)\n",
      "Avg Obs:                       716.00                                           \n",
      "Min Obs:                       716.00                                           \n",
      "Max Obs:                       716.00                                           \n",
      "                                                                                \n",
      "                             Parameter Estimates                              \n",
      "==============================================================================\n",
      "            Parameter  Std. Err.     T-stat    P-value    Lower CI    Upper CI\n",
      "------------------------------------------------------------------------------\n",
      "Intercept      0.4167     0.1358     3.0693     0.0022      0.1501      0.6832\n",
      "educ           0.0708     0.0054     13.137     0.0000      0.0602      0.0813\n",
      "exper          0.0662     0.0235     2.8221     0.0049      0.0201      0.1122\n",
      "exper2        -0.0016     0.0010    -1.6068     0.1086     -0.0036      0.0004\n",
      "tenure         0.0166     0.0122     1.3570     0.1752     -0.0074      0.0405\n",
      "tenure2       -0.0005     0.0007    -0.7040     0.4817     -0.0019      0.0009\n",
      "black         -0.1216     0.0317    -3.8392     0.0001     -0.1837     -0.0594\n",
      "south         -0.1053     0.0291    -3.6191     0.0003     -0.1625     -0.0482\n",
      "union          0.1557     0.0355     4.3918     0.0000      0.0861      0.2254\n",
      "==============================================================================\n"
     ]
    }
   ],
   "source": [
    "sig2e=res_fe.s2\n",
    "res_be=BetweenOLS.from_formula(formula,data=nls).fit()\n",
    "print(res_be.summary)"
   ]
  },
  {
   "cell_type": "code",
   "execution_count": 33,
   "metadata": {},
   "outputs": [
    {
     "name": "stdout",
     "output_type": "stream",
     "text": [
      "Error Components of Variance\n",
      "sig2e   = 0.0381 variance of overall error e(it)\n",
      "sige    = 0.1951 standard deviation of e(it)\n",
      "sig2_be = 0.1159 variance from between regression\n",
      "sig2u   = 0.1083 dervied variance mu(i)\n",
      "sigu    = 0.3290  standard deviation mu(i)\n",
      "theta   = 0.7437 transformation parameter\n"
     ]
    }
   ],
   "source": [
    "sig2_be=res_be.resid_ss/res_be.df_resid\n",
    "tbar=res_be.time_info.iloc[4]\n",
    "sig2u=sig2_be-sig2e/tbar\n",
    "sigu=np.sqrt(sig2u)\n",
    "theta=1-np.sqrt(sig2e/(tbar*sig2u+sig2e))\n",
    "print('Error Components of Variance')\n",
    "print(f'sig2e   = {sig2e:.4f} variance of overall error e(it)')\n",
    "print(f'sige    = {np.sqrt(sig2e):.4f} standard deviation of e(it)')\n",
    "print(f'sig2_be = {sig2_be:.4f} variance from between regression')\n",
    "print(f'sig2u   = {sig2u:.4f} dervied variance mu(i)')\n",
    "print(f'sigu    = {sigu:.4f}  standard deviation mu(i)')\n",
    "print(f'theta   = {theta:.4f} transformation parameter')"
   ]
  },
  {
   "cell_type": "code",
   "execution_count": 34,
   "metadata": {},
   "outputs": [
    {
     "name": "stdout",
     "output_type": "stream",
     "text": [
      "                            OLS Regression Results                            \n",
      "==============================================================================\n",
      "Dep. Variable:                 lwaged   R-squared:                       0.194\n",
      "Model:                            OLS   Adj. R-squared:                  0.192\n",
      "No. Observations:                3580   F-statistic:                     107.5\n",
      "Covariance Type:            nonrobust   Prob (F-statistic):          3.23e-161\n",
      "==============================================================================\n",
      "                 coef    std err          t      P>|t|      [0.025      0.975]\n",
      "------------------------------------------------------------------------------\n",
      "educd          0.0733      0.005     13.742      0.000       0.063       0.084\n",
      "experd         0.0436      0.006      6.861      0.000       0.031       0.056\n",
      "exper2d       -0.0006      0.000     -2.136      0.033      -0.001   -4.61e-05\n",
      "tenured        0.0142      0.003      4.470      0.000       0.008       0.020\n",
      "tenure2d      -0.0008      0.000     -3.879      0.000      -0.001      -0.000\n",
      "blackd        -0.1167      0.030     -3.864      0.000      -0.176      -0.058\n",
      "southd        -0.0818      0.022     -3.651      0.000      -0.126      -0.038\n",
      "uniond         0.0802      0.013      6.072      0.000       0.054       0.106\n",
      "consd          0.5339      0.080      6.684      0.000       0.377       0.691\n",
      "==============================================================================\n",
      "\n",
      "Notes:\n",
      "[1] Standard Errors assume that the covariance matrix of the errors is correctly specified.\n",
      "[2] The condition number is large, 2.07e+03. This might indicate that there are\n",
      "strong multicollinearity or other numerical problems.\n"
     ]
    }
   ],
   "source": [
    "nls['cons']=1\n",
    "nls['lwage_bar']=nls.groupby(['id'])['lwage'].transform('mean')\n",
    "nls['lwaged']=nls['lwage']-theta*nls['lwage_bar']\n",
    "cols=[]\n",
    "l=nls[['educ','exper','exper2','tenure','tenure2','black','south','union','cons']]\n",
    "for i in l:\n",
    "    nls[str(i)+'_bar']=nls.groupby(['id'])[str(i)].transform('mean')\n",
    "    nls[str(i)+'d']=nls[str(i)]-theta*nls[str(i)+'_bar']\n",
    "    cols.append(str(i)+'d')\n",
    "exogd=nls[cols]\n",
    "res=sm.OLS(nls.lwaged,exogd).fit()\n",
    "print(res.summary(slim=True))"
   ]
  },
  {
   "cell_type": "code",
   "execution_count": 35,
   "metadata": {},
   "outputs": [
    {
     "name": "stdout",
     "output_type": "stream",
     "text": [
      "                             Parameter Estimates                              \n",
      "==============================================================================\n",
      "            Parameter  Std. Err.     T-stat    P-value    Lower CI    Upper CI\n",
      "------------------------------------------------------------------------------\n",
      "Intercept      6.1718     0.1142     54.039     0.0000      5.9478      6.3957\n",
      "lcapital       0.2393     0.0147     16.293     0.0000      0.2105      0.2681\n",
      "llabor         0.4140     0.0220     18.784     0.0000      0.3708      0.4572\n",
      "==============================================================================\n",
      "Number of Time Periods:    3.0\n",
      "Number of Entities:     1000.0\n"
     ]
    }
   ],
   "source": [
    "url='http://www.principlesofeconometrics.com/poe5/data/csv/'\n",
    "chem=pd.read_csv(url+'chemical3.csv')\n",
    "chem=chem.set_index(['firm','year'])\n",
    "res=RandomEffects.from_formula('lsales~1+lcapital+llabor', data=chem).fit()\n",
    "print(res.summary.tables[1])\n",
    "tgroups=res.time_info.iloc[4]\n",
    "print(f'Number of Time Periods:    {tgroups}')\n",
    "ngroups=res.entity_info.iloc[4]\n",
    "print(f'Number of Entities:     {ngroups}')"
   ]
  },
  {
   "cell_type": "code",
   "execution_count": 36,
   "metadata": {},
   "outputs": [
    {
     "name": "stdout",
     "output_type": "stream",
     "text": [
      "Components of the Breusch and Pagan LM Test for Random Effects\n",
      "sse       = 2267.3\n",
      "n         = 1000.0\n",
      "t         =    3.0\n",
      "sumtop    = 5915.34\n",
      "lmstat    =   44.06\n",
      "lmstat_sq = 1941.61\n"
     ]
    }
   ],
   "source": [
    "chem=chem.reset_index()\n",
    "res=smf.ols(formula='lsales~lcapital+llabor',data=chem).fit()\n",
    "sse=res.ssr\n",
    "chem['ehat']=res.resid\n",
    "sum_ehat_id=chem.groupby(['firm'])['ehat'].sum()\n",
    "sum_ehat_id_sq=sum_ehat_id**2\n",
    "sum_ehat_id_sq_bar=sum_ehat_id_sq.mean()\n",
    "sumtop=res.nobs*sum_ehat_id_sq_bar/tgroups\n",
    "lmstat=((sumtop/sse)-1)*np.sqrt(ngroups*tgroups/(2*(tgroups-1)))\n",
    "lmstatsq=lmstat**2\n",
    "print('Components of the Breusch and Pagan LM Test for Random Effects')\n",
    "print(f'sse       = {sse:.6}')\n",
    "print(f'n         = {ngroups:.6}')\n",
    "print(f't         =    {tgroups:.4}')\n",
    "print(f'sumtop    = {sumtop:.6}')\n",
    "print(f'lmstat    =   {lmstat:.4}')\n",
    "print(f'lmstat_sq = {lmstatsq:.6}')"
   ]
  },
  {
   "cell_type": "code",
   "execution_count": 37,
   "metadata": {},
   "outputs": [
    {
     "name": "stdout",
     "output_type": "stream",
     "text": [
      "b2_fe  =  0.116    b2_re = 0.239  t2_num = -0.123\n",
      "se2_fe =  0.0195  se2_re = 0.0147 t2_num =  0.0129\n",
      "t2     = -9.55494\n"
     ]
    }
   ],
   "source": [
    "chem=chem.set_index(['firm','year']) \n",
    "res_fe=PanelOLS.from_formula('lsales~1+lcapital+llabor+EntityEffects', data=chem).fit()\n",
    "b2_fe=res_fe.params.iloc[1]\n",
    "se2_fe=res_fe.std_errors.iloc[1]\n",
    "res_re=RandomEffects.from_formula('lsales~1+lcapital+llabor',data=chem).fit()\n",
    "b2_re=res_re.params.iloc[1]\n",
    "se2_re=res_re.std_errors.iloc[1]\n",
    "t2_num=b2_fe-b2_re\n",
    "t2_den=np.sqrt(se2_fe**2-se2_re**2)\n",
    "t2=t2_num/t2_den\n",
    "print(f'b2_fe  =  {b2_fe:.3}    b2_re = {b2_re:.3}  t2_num = {t2_num:.3}')\n",
    "print(f'se2_fe =  {se2_fe:.3}  se2_re = {se2_re:.3} t2_num =  {t2_den:.3}')\n",
    "print(f't2     = {t2:.6}')"
   ]
  },
  {
   "cell_type": "code",
   "execution_count": 38,
   "metadata": {},
   "outputs": [
    {
     "name": "stdout",
     "output_type": "stream",
     "text": [
      "chi-Squared:        98.82\n",
      "degrees of freedom:  2\n",
      "pvalue:              0.0\n"
     ]
    }
   ],
   "source": [
    "def hausman(fe,re):\n",
    "    b=fe.params\n",
    "    B=re.params\n",
    "    v_b=fe.cov\n",
    "    v_B=re.cov\n",
    "    df=b[np.abs(b)<1e8].size\n",
    "    chi2=np.dot((b-B).T,la.inv(v_b-v_B).dot(b-B))\n",
    "    pval=stats.chi2.sf(chi2,df)\n",
    "    return chi2, df, pval\n",
    "hausman_results=hausman(res_fe,res_re)\n",
    "print(f'chi-Squared:        {str(np.round(hausman_results[0],2))}')\n",
    "print(f'degrees of freedom:  {str(hausman_results[1]-1)}')\n",
    "print(f'pvalue:              {np.round(hausman_results[2],6)}')"
   ]
  },
  {
   "cell_type": "code",
   "execution_count": 39,
   "metadata": {},
   "outputs": [
    {
     "name": "stdout",
     "output_type": "stream",
     "text": [
      "chi-Squared:        20.745\n",
      "degrees of freedom:  6\n",
      "pvalue:              0.002\n"
     ]
    }
   ],
   "source": [
    "exog=nls[['exper','exper2','tenure','tenure2','south','union','cons']] \n",
    "res_fe=PanelOLS(nls.lwage,exog,entity_effects=True,drop_absorbed=True).fit()\n",
    "exog=nls[['educ','exper','exper2','tenure','tenure2','black','south','union','cons']] \n",
    "res_re=RandomEffects(nls.lwage,exog).fit()\n",
    "def hausman(fe,re):\n",
    "    b=fe.params\n",
    "    b=b.drop(['cons'],axis=0)\n",
    "    B=re.params\n",
    "    B=B.drop(['educ','black','cons'],axis=0)\n",
    "    v_b=fe.cov[['exper','exper2','tenure','tenure2','south','union']]\n",
    "    v_b=v_b.drop(['cons'],axis=0)\n",
    "    v_B=re.cov[['exper','exper2','tenure','tenure2','south','union']]\n",
    "    v_B=v_B.drop(['educ','black','cons'],axis=0)\n",
    "    df=b[np.abs(b)<1e8].size\n",
    "    chi2=np.dot((b-B).T,la.inv(v_b-v_B).dot(b-B))\n",
    "    pval=stats.chi2.sf(chi2,df)\n",
    "    return chi2, df, pval\n",
    "hausman_results=hausman(res_fe,res_re)\n",
    "print(f'chi-Squared:        {np.round(hausman_results[0],4)}')\n",
    "print(f'degrees of freedom:  {hausman_results[1]}')\n",
    "print(f'pvalue:              {np.round(hausman_results[2],4)}')"
   ]
  },
  {
   "cell_type": "code",
   "execution_count": 40,
   "metadata": {},
   "outputs": [
    {
     "name": "stdout",
     "output_type": "stream",
     "text": [
      "===============================================================================\n",
      "                  coef    std err          z      P>|z|      [0.025      0.975]\n",
      "-------------------------------------------------------------------------------\n",
      "Intercept       5.4553      0.148     36.757      0.000       5.164       5.746\n",
      "lcapital        0.1160      0.027      4.243      0.000       0.062       0.170\n",
      "llabor          0.2689      0.046      5.868      0.000       0.179       0.359\n",
      "lcapitalbar     0.2223      0.041      5.389      0.000       0.141       0.303\n",
      "llaborbar       0.1095      0.062      1.760      0.078      -0.012       0.231\n",
      "===============================================================================\n",
      "Joint Hypothesis Test: lcapitalbar=llaborbar=0\n",
      "F(2,999)    = 28.29\n",
      "   Prob > F =  1.117e-12\n",
      "chisq       = 56.586\n"
     ]
    }
   ],
   "source": [
    "chem=chem.reset_index() \n",
    "chem['lcapitalbar']=chem.groupby(['firm'])['lcapital'].transform('mean')\n",
    "chem['llaborbar']=chem.groupby(['firm'])['llabor'].transform('mean')\n",
    "res=smf.ols(formula='lsales~lcapital+llabor+lcapitalbar+llaborbar',data=chem\n",
    "           ).fit(cov_type='cluster',cov_kwds={'groups': chem['firm']})\n",
    "print(res.summary().tables[1])\n",
    "hypo='lcapitalbar=llaborbar=0'\n",
    "print('Joint Hypothesis Test: lcapitalbar=llaborbar=0')\n",
    "print(f'F(2,999)    = {res.f_test(hypo).fvalue:.4}')\n",
    "print(f'   Prob > F =  {res.f_test(hypo).pvalue:.4}')\n",
    "print(f'chisq       = {res.f_test(hypo).df_num*res.f_test(hypo).fvalue:.5}')"
   ]
  },
  {
   "cell_type": "code",
   "execution_count": 41,
   "metadata": {},
   "outputs": [
    {
     "name": "stdout",
     "output_type": "stream",
     "text": [
      "                              Parameter Estimates                              \n",
      "===============================================================================\n",
      "             Parameter  Std. Err.     T-stat    P-value    Lower CI    Upper CI\n",
      "-------------------------------------------------------------------------------\n",
      "lcapital        0.1160     0.0195     5.9367     0.0000      0.0777      0.1544\n",
      "llabor          0.2689     0.0307     8.7674     0.0000      0.2087      0.3290\n",
      "lcapitalbar     0.2223     0.0334     6.6582     0.0000      0.1569      0.2878\n",
      "llaborbar       0.1095     0.0501     2.1853     0.0289      0.0113      0.2077\n",
      "cons            5.4553     0.1372     39.768     0.0000      5.1864      5.7243\n",
      "===============================================================================\n",
      "Linear Equality Hypothesis Test\n",
      "H0: Linear equality constraint is valid\n",
      "Statistic: 97.0007\n",
      "P-value: 0.0000\n",
      "Distributed: chi2(2)\n"
     ]
    }
   ],
   "source": [
    "chem=chem.set_index(['firm','year'])\n",
    "chem['cons']=1\n",
    "exog=chem[['lcapital','llabor','lcapitalbar','llaborbar','cons']]\n",
    "res=RandomEffects(chem.lsales,exog).fit()\n",
    "print(res.summary.tables[1])\n",
    "hypo='lcapitalbar=llaborbar=0'\n",
    "print(res.wald_test(formula=hypo))"
   ]
  },
  {
   "cell_type": "code",
   "execution_count": 42,
   "metadata": {},
   "outputs": [
    {
     "name": "stdout",
     "output_type": "stream",
     "text": [
      "                              Parameter Estimates                              \n",
      "===============================================================================\n",
      "             Parameter  Std. Err.     T-stat    P-value    Lower CI    Upper CI\n",
      "-------------------------------------------------------------------------------\n",
      "lcapital        0.1160     0.0273     4.2440     0.0000      0.0624      0.1697\n",
      "llabor          0.2689     0.0458     5.8696     0.0000      0.1791      0.3587\n",
      "lcapitalbar     0.2223     0.0412     5.3907     0.0000      0.1415      0.3032\n",
      "llaborbar       0.1095     0.0622     1.7608     0.0784     -0.0124      0.2314\n",
      "cons            5.4553     0.1484     36.769     0.0000      5.1644      5.7462\n",
      "===============================================================================\n",
      "Linear Equality Hypothesis Test\n",
      "H0: Linear equality constraint is valid\n",
      "Statistic: 56.6237\n",
      "P-value: 0.0000\n",
      "Distributed: chi2(2)\n"
     ]
    }
   ],
   "source": [
    "res=RandomEffects(chem.lsales, exog).fit(cov_type='clustered',cluster_entity=True)\n",
    "print(res.summary.tables[1])\n",
    "hypo='lcapitalbar=llaborbar=0'\n",
    "print(res.wald_test(formula=hypo))"
   ]
  },
  {
   "cell_type": "code",
   "execution_count": 43,
   "metadata": {},
   "outputs": [
    {
     "name": "stdout",
     "output_type": "stream",
     "text": [
      "Linear Equality Hypothesis Test\n",
      "H0: Linear equality constraint is valid\n",
      "Statistic: 20.3829\n",
      "P-value: 0.0024\n",
      "Distributed: chi2(6)\n"
     ]
    }
   ],
   "source": [
    "nls=nls[['lwage','educ','black','south','union', 'exper','exper2','tenure','tenure2']]\n",
    "cols=[]\n",
    "l=nls.iloc[:,3:]\n",
    "for i in l:\n",
    "    nls[str(i)+'bar']=nls.groupby(['id'])[str(i)].transform('mean')\n",
    "    cols.append(str(i)+'bar')\n",
    "nls['cons']=1\n",
    "exog=nls.iloc[:,1:]\n",
    "res=RandomEffects(nls.lwage,exog).fit()    \n",
    "hypo='experbar=exper2bar=tenurebar=tenure2bar=southbar=unionbar=0'\n",
    "print(res.wald_test(formula=hypo))"
   ]
  },
  {
   "cell_type": "code",
   "execution_count": 44,
   "metadata": {},
   "outputs": [
    {
     "name": "stdout",
     "output_type": "stream",
     "text": [
      "Linear Equality Hypothesis Test\n",
      "H0: Linear equality constraint is valid\n",
      "Statistic: 17.2819\n",
      "P-value: 0.0083\n",
      "Distributed: chi2(6)\n"
     ]
    }
   ],
   "source": [
    "res=RandomEffects(nls.lwage,exog).fit(cov_type='clustered',cluster_entity=True)\n",
    "hypo='experbar=exper2bar=tenurebar=tenure2bar=southbar=unionbar=0'\n",
    "print(res.wald_test(formula=hypo))"
   ]
  },
  {
   "cell_type": "code",
   "execution_count": 45,
   "metadata": {},
   "outputs": [
    {
     "name": "stdout",
     "output_type": "stream",
     "text": [
      "Linear Equality Hypothesis Test\n",
      "H0: Linear equality constraint is valid\n",
      "Statistic: 16.3110\n",
      "P-value: 0.0122\n",
      "Distributed: chi2(6)\n"
     ]
    }
   ],
   "source": [
    "nls=nls.reset_index()\n",
    "Dum=pd.get_dummies(nls.year,dtype=int)\n",
    "nlsD=pd.DataFrame(Dum)\n",
    "nlsD.columns=['Y1982','Y1983','Y1985','Y1987','Y1988']\n",
    "nls=pd.concat([nls,nlsD],axis=1,join='inner')\n",
    "nls=nls.set_index(['id','year'])\n",
    "nls=nls[['lwage','educ','south','black','union','exper','exper2','tenure','tenure2',\n",
    "         'experbar','exper2bar','tenurebar','tenure2bar','southbar','unionbar','Y1983',\n",
    "         'Y1985','Y1987','Y1988','cons']]\n",
    "exog=nls.iloc[:,1:]\n",
    "res=RandomEffects(nls.lwage,exog).fit(cov_type='clustered',cluster_entity=True)\n",
    "hypo='experbar=exper2bar=tenurebar=tenure2bar=southbar=unionbar=0'\n",
    "print(res.wald_test(formula=hypo))"
   ]
  }
 ],
 "metadata": {
  "kernelspec": {
   "display_name": "Python 3 (ipykernel)",
   "language": "python",
   "name": "python3"
  },
  "language_info": {
   "codemirror_mode": {
    "name": "ipython",
    "version": 3
   },
   "file_extension": ".py",
   "mimetype": "text/x-python",
   "name": "python",
   "nbconvert_exporter": "python",
   "pygments_lexer": "ipython3",
   "version": "3.12.4"
  }
 },
 "nbformat": 4,
 "nbformat_minor": 4
}
