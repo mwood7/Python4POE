{
 "cells": [
  {
   "cell_type": "markdown",
   "metadata": {},
   "source": [
    "## POE5 Chapter 6: Further Inference in the Multiple Regression Model\n",
    "\n",
    "## 6.1 Testing Joint Hypothesis: The $F$-Test\n",
    "\n",
    "**POE Example 6.1 Testing the Effect of Advertising**\n",
    "\n",
    "Equations in LaTeX\n",
    "\n",
    "$$\n",
    "SALES_i = \\beta_0 + \\beta_1 PRICE_i + \\beta_2 ADVERT_i + \\beta_3 ADVERT_i^2 + e_i\n",
    "$$\n",
    "\n",
    "$$ \n",
    "F = \\frac{(SSE_R - SSE_U)/J}{SSE_U/(N-K)}\n",
    "$$\n",
    "\n"
   ]
  },
  {
   "cell_type": "code",
   "execution_count": null,
   "metadata": {},
   "outputs": [],
   "source": []
  }
 ],
 "metadata": {
  "kernelspec": {
   "display_name": "Python 3",
   "language": "python",
   "name": "python3"
  },
  "language_info": {
   "codemirror_mode": {
    "name": "ipython",
    "version": 3
   },
   "file_extension": ".py",
   "mimetype": "text/x-python",
   "name": "python",
   "nbconvert_exporter": "python",
   "pygments_lexer": "ipython3",
   "version": "3.8.3"
  }
 },
 "nbformat": 4,
 "nbformat_minor": 4
}
