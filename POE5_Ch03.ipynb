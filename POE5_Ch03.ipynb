{
 "cells": [
  {
   "cell_type": "markdown",
   "metadata": {},
   "source": [
    "## POE5 Chapter 3: Interval Estimation and Hypothesis Testing"
   ]
  },
  {
   "cell_type": "markdown",
   "metadata": {},
   "source": [
    "## 3.1 Interval Estimates\n",
    "\n",
    "**POE5 Example 3.1 Interval Estimate for the Food Expenditure Data**"
   ]
  },
  {
   "cell_type": "code",
   "execution_count": 1,
   "metadata": {},
   "outputs": [
    {
     "name": "stdout",
     "output_type": "stream",
     "text": [
      "                 Results: Ordinary least squares\n",
      "=================================================================\n",
      "Model:              OLS              Adj. R-squared:     0.369   \n",
      "Dependent Variable: food_exp         AIC:                475.0176\n",
      "Date:               2020-07-27 18:12 BIC:                478.3954\n",
      "No. Observations:   40               Log-Likelihood:     -235.51 \n",
      "Df Model:           1                F-statistic:        23.79   \n",
      "Df Residuals:       38               Prob (F-statistic): 1.95e-05\n",
      "R-squared:          0.385            Scale:              8013.3  \n",
      "-------------------------------------------------------------------\n",
      "           Coef.    Std.Err.     t      P>|t|     [0.025    0.975] \n",
      "-------------------------------------------------------------------\n",
      "const     83.4160    43.4102   1.9216   0.0622   -4.4633   171.2953\n",
      "income    10.2096     2.0933   4.8774   0.0000    5.9721    14.4472\n",
      "-----------------------------------------------------------------\n",
      "Omnibus:               0.277        Durbin-Watson:          1.894\n",
      "Prob(Omnibus):         0.870        Jarque-Bera (JB):       0.063\n",
      "Skew:                  -0.097       Prob(JB):               0.969\n",
      "Kurtosis:              2.989        Condition No.:          64   \n",
      "=================================================================\n",
      "\n"
     ]
    }
   ],
   "source": [
    "%matplotlib inline\n",
    "\n",
    "import pandas as pd\n",
    "import numpy as np\n",
    "import matplotlib.pyplot as plt\n",
    "import statsmodels.api as sm\n",
    "\n",
    "df = pd.read_excel('food.xlsx')\n",
    "\n",
    "df['const'] = 1\n",
    "\n",
    "reg = sm.OLS(endog=df['food_exp'],exog=df[['const','income']])\n",
    "\n",
    "results = reg.fit()\n",
    "\n",
    "print(results.summary2())"
   ]
  },
  {
   "cell_type": "markdown",
   "metadata": {},
   "source": [
    "If we want to view the summary output with a different confidence interval, we can specify that as a keyword argument to summary2().  For example, to return a 90% interval, we would enter \n"
   ]
  },
  {
   "cell_type": "code",
   "execution_count": 2,
   "metadata": {},
   "outputs": [
    {
     "name": "stdout",
     "output_type": "stream",
     "text": [
      "                 Results: Ordinary least squares\n",
      "=================================================================\n",
      "Model:              OLS              Adj. R-squared:     0.369   \n",
      "Dependent Variable: food_exp         AIC:                475.0176\n",
      "Date:               2020-07-27 18:12 BIC:                478.3954\n",
      "No. Observations:   40               Log-Likelihood:     -235.51 \n",
      "Df Model:           1                F-statistic:        23.79   \n",
      "Df Residuals:       38               Prob (F-statistic): 1.95e-05\n",
      "R-squared:          0.385            Scale:              8013.3  \n",
      "-------------------------------------------------------------------\n",
      "           Coef.    Std.Err.     t      P>|t|     [0.05     0.95]  \n",
      "-------------------------------------------------------------------\n",
      "const     83.4160    43.4102   1.9216   0.0622   10.2284   156.6036\n",
      "income    10.2096     2.0933   4.8774   0.0000    6.6805    13.7388\n",
      "-----------------------------------------------------------------\n",
      "Omnibus:               0.277        Durbin-Watson:          1.894\n",
      "Prob(Omnibus):         0.870        Jarque-Bera (JB):       0.063\n",
      "Skew:                  -0.097       Prob(JB):               0.969\n",
      "Kurtosis:              2.989        Condition No.:          64   \n",
      "=================================================================\n",
      "\n"
     ]
    }
   ],
   "source": [
    "print(results.summary2(alpha=0.1))"
   ]
  },
  {
   "cell_type": "markdown",
   "metadata": {},
   "source": [
    "If for whatever reason we simply want to print out the confidence interval alone, we can enter"
   ]
  },
  {
   "cell_type": "code",
   "execution_count": 3,
   "metadata": {},
   "outputs": [
    {
     "data": {
      "text/html": [
       "<div>\n",
       "<style scoped>\n",
       "    .dataframe tbody tr th:only-of-type {\n",
       "        vertical-align: middle;\n",
       "    }\n",
       "\n",
       "    .dataframe tbody tr th {\n",
       "        vertical-align: top;\n",
       "    }\n",
       "\n",
       "    .dataframe thead th {\n",
       "        text-align: right;\n",
       "    }\n",
       "</style>\n",
       "<table border=\"1\" class=\"dataframe\">\n",
       "  <thead>\n",
       "    <tr style=\"text-align: right;\">\n",
       "      <th></th>\n",
       "      <th>0</th>\n",
       "      <th>1</th>\n",
       "    </tr>\n",
       "  </thead>\n",
       "  <tbody>\n",
       "    <tr>\n",
       "      <th>const</th>\n",
       "      <td>10.228444</td>\n",
       "      <td>156.60356</td>\n",
       "    </tr>\n",
       "    <tr>\n",
       "      <th>income</th>\n",
       "      <td>6.680496</td>\n",
       "      <td>13.73879</td>\n",
       "    </tr>\n",
       "  </tbody>\n",
       "</table>\n",
       "</div>"
      ],
      "text/plain": [
       "                0          1\n",
       "const   10.228444  156.60356\n",
       "income   6.680496   13.73879"
      ]
     },
     "execution_count": 3,
     "metadata": {},
     "output_type": "execute_result"
    }
   ],
   "source": [
    "results.conf_int(alpha=0.10,cols=None)    # 90% CI"
   ]
  },
  {
   "cell_type": "markdown",
   "metadata": {},
   "source": [
    "### 3.1.1 Critical values from the $t$ distribution\n",
    "\n",
    "Here we have 38 degrees of freedome.  This is stored in `res.df_resid`, but for the examples here lets just use the number directly.\n",
    "\n",
    "We import the `t` package from scipy.stats which gives us access to the function `ppf(q,*args)` which is the *percent point function*, (inverse of `cdf`) at $q$.  It returns the quantile corresponding to the lower tail probability $q$."
   ]
  },
  {
   "cell_type": "code",
   "execution_count": 4,
   "metadata": {},
   "outputs": [
    {
     "name": "stdout",
     "output_type": "stream",
     "text": [
      "t critical value 97.5 percentile = 2.024\n"
     ]
    }
   ],
   "source": [
    "from scipy.stats import t\n",
    "\n",
    "print(f\"t critical value 97.5 percentile = {t.ppf(0.975,38):.3f}\")"
   ]
  },
  {
   "cell_type": "markdown",
   "metadata": {},
   "source": [
    "Here are some additional examples"
   ]
  },
  {
   "cell_type": "code",
   "execution_count": 5,
   "metadata": {},
   "outputs": [
    {
     "name": "stdout",
     "output_type": "stream",
     "text": [
      "t(30) 95th percentile = 1.697\n",
      "t(20)  5th percentile = -1.725\n",
      "t(30) 2.5th percentile = -2.042\n"
     ]
    }
   ],
   "source": [
    "print(f\"t(30) 95th percentile = {t.ppf(0.95,30):.3f}\")\n",
    "print(f\"t(20)  5th percentile = {t.ppf(0.05,20):.3f}\")\n",
    "print(f\"t(30) 2.5th percentile = {t.ppf(0.025,30):.3f}\")"
   ]
  },
  {
   "cell_type": "markdown",
   "metadata": {},
   "source": [
    "### 3.1.2 Creating an Interval Estimate\n",
    "\n",
    "The coefficients and standard errors are available in `results.params` and `results.bse`.\n",
    "\n",
    "The *b* in `bse` is a historical artifact from the linear model y = X b + u. It would cause less confusion if this object was instead named params_se in parallel with params, but bse it is for the forseeable future."
   ]
  },
  {
   "cell_type": "code",
   "execution_count": 6,
   "metadata": {},
   "outputs": [
    {
     "name": "stdout",
     "output_type": "stream",
     "text": [
      "const     83.416002\n",
      "income    10.209643\n",
      "dtype: float64\n",
      "const     43.410163\n",
      "income     2.093264\n",
      "dtype: float64\n"
     ]
    }
   ],
   "source": [
    "print(results.params)\n",
    "print(results.bse)"
   ]
  },
  {
   "cell_type": "markdown",
   "metadata": {},
   "source": [
    "We can access the variables individually and give our results in a more readable format as follows:"
   ]
  },
  {
   "cell_type": "code",
   "execution_count": 7,
   "metadata": {},
   "outputs": [
    {
     "name": "stdout",
     "output_type": "stream",
     "text": [
      "Best-fit slope = 10.21 +- 2.09\n",
      "Best-fit intercept = 83.42 +- 43.41\n"
     ]
    }
   ],
   "source": [
    "slope     = results.params.income\n",
    "slope_err = results.bse.income\n",
    "intcp     = results.params.const\n",
    "intcp_err = results.bse.const\n",
    "\n",
    "print(f\"Best-fit slope = {slope:.2f} +- {slope_err:.2f}\")\n",
    "print(f\"Best-fit intercept = {intcp:.2f} +- {intcp_err:.2f}\")"
   ]
  },
  {
   "cell_type": "markdown",
   "metadata": {},
   "source": [
    "We can use these values to obtain a 95% interval estimate ourselves.  Comparing with the table above we see that they agree."
   ]
  },
  {
   "cell_type": "code",
   "execution_count": 8,
   "metadata": {},
   "outputs": [
    {
     "name": "stdout",
     "output_type": "stream",
     "text": [
      "β1 95% interval estimate is -4.46 to 171.30\n",
      "β2 95% interval estimate is 5.97 to 14.45\n"
     ]
    }
   ],
   "source": [
    "tc975 = t.ppf(0.975,38)\n",
    "\n",
    "ub1 = intcp + tc975*intcp_err\n",
    "lb1 = intcp - tc975*intcp_err\n",
    "ub2 = slope + tc975*slope_err\n",
    "lb2 = slope - tc975*slope_err\n",
    "\n",
    "print(f\"β1 95% interval estimate is {lb1:.2f} to {ub1:.2f}\")\n",
    "print(f\"β2 95% interval estimate is {lb2:.2f} to {ub2:.2f}\")"
   ]
  },
  {
   "cell_type": "markdown",
   "metadata": {},
   "source": [
    "### 3.1.3 Creating an interval estimate using a linear combination of parameters\n",
    "\n",
    "We can use the method `results.t_test(r)` with argument `r` to return an interval estimate.  The array `r` is simply the coefficients of the linear combination of our regression parameters, $r_0\\beta_0 + r_1\\beta_1$.  For example, if we let $r_0=0$ and $r_1=1$, then the linear combination is $r_0\\beta_0 + r_1\\beta_1 = \\beta_1$."
   ]
  },
  {
   "cell_type": "code",
   "execution_count": 9,
   "metadata": {},
   "outputs": [
    {
     "name": "stdout",
     "output_type": "stream",
     "text": [
      "                             Test for Constraints                             \n",
      "==============================================================================\n",
      "                 coef    std err          t      P>|t|      [0.025      0.975]\n",
      "------------------------------------------------------------------------------\n",
      "c0            10.2096      2.093      4.877      0.000       5.972      14.447\n",
      "==============================================================================\n"
     ]
    }
   ],
   "source": [
    "r = [0, 1]\n",
    "\n",
    "print(results.t_test(r))"
   ]
  },
  {
   "cell_type": "markdown",
   "metadata": {},
   "source": [
    "Similarly, for `r = [1,0]`, we have:"
   ]
  },
  {
   "cell_type": "code",
   "execution_count": 10,
   "metadata": {},
   "outputs": [
    {
     "name": "stdout",
     "output_type": "stream",
     "text": [
      "                             Test for Constraints                             \n",
      "==============================================================================\n",
      "                 coef    std err          t      P>|t|      [0.025      0.975]\n",
      "------------------------------------------------------------------------------\n",
      "c0            83.4160     43.410      1.922      0.062      -4.463     171.295\n",
      "==============================================================================\n"
     ]
    }
   ],
   "source": [
    "r = [1,0]\n",
    "\n",
    "print(results.t_test(r))"
   ]
  },
  {
   "cell_type": "markdown",
   "metadata": {},
   "source": [
    "And a quick check with the summary results from Example 3.1 above confirms that these agree with that output.\n",
    "\n",
    "---\n",
    "## 3.2 Hypothesis Tests\n",
    "\n",
    "### 3.2.1 Right-tail test of significance\n",
    "\n",
    "**POE5 Example 3.2 Right-Tail Test of Significance**\n",
    "\n"
   ]
  },
  {
   "cell_type": "code",
   "execution_count": 11,
   "metadata": {},
   "outputs": [
    {
     "name": "stdout",
     "output_type": "stream",
     "text": [
      "t statistic for H0 = 4.88\n",
      "t(38) 95th percentile = 1.69\n"
     ]
    }
   ],
   "source": [
    "tstat0 = results.params.income/results.bse.income\n",
    "print(f\"t statistic for H0 = {tstat0:.2f}\")\n",
    "print(f\"t(38) 95th percentile = {t.ppf(0.95,38):.2f}\")"
   ]
  },
  {
   "cell_type": "markdown",
   "metadata": {},
   "source": [
    "---\n",
    "### 3.2.2 Right-Tail Test of an Economic Hypothesis\n",
    "\n",
    "**Example 3.3 Right-Tail Test of an Economic Hypothesis**"
   ]
  },
  {
   "cell_type": "code",
   "execution_count": 12,
   "metadata": {},
   "outputs": [
    {
     "name": "stdout",
     "output_type": "stream",
     "text": [
      "t statistic for H0: β2 = 5.5 is 2.25\n",
      "t(38) 99th percentile = 2.43\n"
     ]
    }
   ],
   "source": [
    "tstat1 = (results.params.income-5.5)/results.bse.income\n",
    "print(f\"t statistic for H0: β2 = 5.5 is {tstat1:.2f}\")\n",
    "print(f\"t(38) 99th percentile = {t.ppf(0.99,38):.2f}\")"
   ]
  },
  {
   "cell_type": "markdown",
   "metadata": {},
   "source": [
    "When calling the `t_test()` function we passed *array-like* list `r = [0,1]` (for example),\n",
    "but we can alternatively call `t_test()` with a string (actual string or string variable) that contains the behavior we're wanting to explore.  Here, "
   ]
  },
  {
   "cell_type": "code",
   "execution_count": 13,
   "metadata": {},
   "outputs": [
    {
     "name": "stdout",
     "output_type": "stream",
     "text": [
      "                             Test for Constraints                             \n",
      "==============================================================================\n",
      "                 coef    std err          t      P>|t|      [0.025      0.975]\n",
      "------------------------------------------------------------------------------\n",
      "c0            10.2096      2.093      2.250      0.030       5.972      14.447\n",
      "==============================================================================\n"
     ]
    }
   ],
   "source": [
    "hypothesis = 'income-5.5'\n",
    "print(results.t_test(hypothesis))"
   ]
  },
  {
   "cell_type": "markdown",
   "metadata": {},
   "source": [
    "Here the $t$-statistic is 2.25 along with the 95\\% confidence interval.  It is important to note that the values of `coef` and the confidence interval limits are indicitive of the original (`income`) data.  This is different from the behavior of, for example `lincom` from Stata.  Stata's `lincom` function would return these three values as 4.7096, 0.4720 and 8.9472.  "
   ]
  },
  {
   "cell_type": "markdown",
   "metadata": {},
   "source": [
    "---\n",
    "### 3.2.3 Left-Tail Test of an Economic Hypythesis\n",
    "**POE5 Example 3.4 Left-Tail Test of an Economic Hypythesis**"
   ]
  },
  {
   "cell_type": "code",
   "execution_count": 14,
   "metadata": {},
   "outputs": [
    {
     "name": "stdout",
     "output_type": "stream",
     "text": [
      "t statistic for H0: β2 = 15 is -2.29\n"
     ]
    }
   ],
   "source": [
    "tstat2 = (results.params.income-15)/results.bse.income\n",
    "print(f\"t statistic for H0: β2 = 15 is {tstat2:.2f}\")"
   ]
  },
  {
   "cell_type": "code",
   "execution_count": 15,
   "metadata": {},
   "outputs": [
    {
     "name": "stdout",
     "output_type": "stream",
     "text": [
      "t(38) 95th percentile = -1.69\n"
     ]
    }
   ],
   "source": [
    "print(f\"t(38) 95th percentile = {t.ppf(0.05,38):.2f}\")"
   ]
  },
  {
   "cell_type": "code",
   "execution_count": 16,
   "metadata": {},
   "outputs": [
    {
     "name": "stdout",
     "output_type": "stream",
     "text": [
      "                             Test for Constraints                             \n",
      "==============================================================================\n",
      "                 coef    std err          t      P>|t|      [0.025      0.975]\n",
      "------------------------------------------------------------------------------\n",
      "c0            10.2096      2.093     -2.288      0.028       5.972      14.447\n",
      "==============================================================================\n"
     ]
    }
   ],
   "source": [
    "hypothesis = 'income-15'\n",
    "print(results.t_test(hypothesis))"
   ]
  },
  {
   "cell_type": "markdown",
   "metadata": {},
   "source": [
    "---\n",
    "### 3.2.4 Two-Tail Test of an Economic Hypythesis\n",
    "**POE5 Example 3.5 Two-Tail Test of an Economic Hypythesis**"
   ]
  },
  {
   "cell_type": "code",
   "execution_count": 17,
   "metadata": {},
   "outputs": [
    {
     "name": "stdout",
     "output_type": "stream",
     "text": [
      "t statistic for H0: β2 = 7.5 is 1.29\n"
     ]
    }
   ],
   "source": [
    "tstat3 = (results.params.income-7.5)/results.bse.income\n",
    "print(f\"t statistic for H0: β2 = 7.5 is {tstat3:.2f}\")"
   ]
  },
  {
   "cell_type": "code",
   "execution_count": 18,
   "metadata": {},
   "outputs": [
    {
     "name": "stdout",
     "output_type": "stream",
     "text": [
      "t(38) 97.5th percentile = 2.02\n"
     ]
    }
   ],
   "source": [
    "print(f\"t(38) 97.5th percentile = {t.ppf(0.975,38):.2f}\")"
   ]
  },
  {
   "cell_type": "code",
   "execution_count": 19,
   "metadata": {},
   "outputs": [
    {
     "name": "stdout",
     "output_type": "stream",
     "text": [
      "t(38)  2.5th percentile = -2.02\n"
     ]
    }
   ],
   "source": [
    "print(f\"t(38)  2.5th percentile = {t.ppf(0.025,38):.2f}\")"
   ]
  },
  {
   "cell_type": "code",
   "execution_count": 20,
   "metadata": {},
   "outputs": [
    {
     "name": "stdout",
     "output_type": "stream",
     "text": [
      "                             Test for Constraints                             \n",
      "==============================================================================\n",
      "                 coef    std err          t      P>|t|      [0.025      0.975]\n",
      "------------------------------------------------------------------------------\n",
      "c0            10.2096      2.093      1.294      0.203       5.972      14.447\n",
      "==============================================================================\n"
     ]
    }
   ],
   "source": [
    "hypothesis = 'income-7.5'\n",
    "print(results.t_test(hypothesis))"
   ]
  },
  {
   "cell_type": "markdown",
   "metadata": {},
   "source": [
    "---\n",
    "### 3.2.5 Two-Tail test of significance\n",
    "\n",
    "(discussion of we had this in standard output), "
   ]
  },
  {
   "cell_type": "code",
   "execution_count": 21,
   "metadata": {},
   "outputs": [
    {
     "name": "stdout",
     "output_type": "stream",
     "text": [
      "                             Test for Constraints                             \n",
      "==============================================================================\n",
      "                 coef    std err          t      P>|t|      [0.025      0.975]\n",
      "------------------------------------------------------------------------------\n",
      "c0            10.2096      2.093      4.877      0.000       5.972      14.447\n",
      "==============================================================================\n"
     ]
    }
   ],
   "source": [
    "print(results.t_test('income'))"
   ]
  },
  {
   "cell_type": "code",
   "execution_count": 22,
   "metadata": {},
   "outputs": [
    {
     "name": "stdout",
     "output_type": "stream",
     "text": [
      "                             Test for Constraints                             \n",
      "==============================================================================\n",
      "                 coef    std err          t      P>|t|      [0.025      0.975]\n",
      "------------------------------------------------------------------------------\n",
      "c0            83.4160     43.410      1.922      0.062      -4.463     171.295\n",
      "==============================================================================\n"
     ]
    }
   ],
   "source": [
    "print(results.t_test('const'))"
   ]
  },
  {
   "cell_type": "markdown",
   "metadata": {},
   "source": [
    "---\n",
    "## 3.3 $p$-Values\n",
    "\n",
    "Ability to determine $p$-values is an extremely useful function of Statsmodels.\n",
    "\n",
    "* If $H_1:\\beta_k>c,p =$ probability to the right of $t$\n",
    "* If $H_1:\\beta_k<c,p =$ probability to the left of $t$\n",
    "* If $H_1:\\beta_k\\ne c,p =$ sum of probabilities to the right of $|t|$ and to the left of $-|t|$\n",
    "\n",
    "Critical values for the $t$ distribution are available by a variety of means, including published tables (e.g., https://www.itl.nist.gov/div898/handbook/eda/section3/eda3672.htm) or via computation.  However, $p$-values must be computed.\n",
    "\n",
    "For this, we again use the `scipy.stats.t` package, specifically the function `sf` (where *sf* is short for *survival function* defined as 1-`cdf`"
   ]
  },
  {
   "cell_type": "markdown",
   "metadata": {},
   "source": [
    "### 3.3.1 $p$-value of a right-tail test\n",
    "**POE5 Example 3.3 (continued) $p$-value for Right-tail Test**"
   ]
  },
  {
   "cell_type": "code",
   "execution_count": 23,
   "metadata": {},
   "outputs": [
    {
     "name": "stdout",
     "output_type": "stream",
     "text": [
      "p value right tail test H0:β2 = 5.5 is 0.0152\n"
     ]
    }
   ],
   "source": [
    "print(f\"p value right tail test H0:β2 = 5.5 is {t.sf(tstat1,38):.4f}\")"
   ]
  },
  {
   "cell_type": "markdown",
   "metadata": {},
   "source": [
    "---\n",
    "### 3.3.2 p-value of a left-tail test\n",
    "**POE5 Example 3.4 (cont) p-value for Left-Tail Test**"
   ]
  },
  {
   "cell_type": "code",
   "execution_count": 24,
   "metadata": {},
   "outputs": [
    {
     "name": "stdout",
     "output_type": "stream",
     "text": [
      "p value left tail test H0:β2 = 15 is 0.0139\n"
     ]
    }
   ],
   "source": [
    "print(f\"p value left tail test H0:β2 = 15 is {1-t.sf(tstat2,38):.4f}\")"
   ]
  },
  {
   "cell_type": "markdown",
   "metadata": {},
   "source": [
    "Carter's Stata manual doesn't have this, but shouldn't we:\n",
    "\n",
    "And of course by the definition of the survival function (1-`cdf`), we can also compute this value from"
   ]
  },
  {
   "cell_type": "code",
   "execution_count": 25,
   "metadata": {},
   "outputs": [
    {
     "name": "stdout",
     "output_type": "stream",
     "text": [
      "p value left tail test H0:β2 = 15 is 0.0139\n"
     ]
    }
   ],
   "source": [
    "print(f\"p value left tail test H0:β2 = 15 is {t.cdf(tstat2,38):.4f}\")"
   ]
  },
  {
   "cell_type": "markdown",
   "metadata": {},
   "source": [
    "---\n",
    "### 3.3.3 p-value for a two-tail test\n",
    "**POE5 Example 3.5 (cont) p-value for Two-Tail Test**\n",
    "\n",
    "See Stata manual.  Let me know if you want to explain it this way and if this needs to be split up as it is there."
   ]
  },
  {
   "cell_type": "code",
   "execution_count": 26,
   "metadata": {},
   "outputs": [
    {
     "name": "stdout",
     "output_type": "stream",
     "text": [
      "p value two tail test H0:β2 = 7.5 is 0.2033\n"
     ]
    }
   ],
   "source": [
    "\n",
    "p3 = 2 * t.sf(tstat3,38)  # see text for explanation of factor of 2\n",
    "print(f\"p value two tail test H0:β2 = 7.5 is {p3:.4f}\")"
   ]
  },
  {
   "cell_type": "markdown",
   "metadata": {},
   "source": [
    "### 3.3.4 p-values in Stata Output\n",
    "\n",
    "(nothing that really goes into a notebook - section refers to previous cells' results)"
   ]
  },
  {
   "cell_type": "markdown",
   "metadata": {},
   "source": [
    "### 3.3.5\n",
    "**POE5 Example 3.7 Estimating Expected Food Expenditure, and\n",
    "POE5 Example 3.8 An Interval Estimate of Expected Food Expenditure**\n",
    "\n",
    "Linear hypothesis\n",
    "$$H_0:c_0\\beta_0 + c_1\\beta_1 = c_?$$\n",
    "\n",
    "Test uses $t$-statistic\n",
    "$$ t = \\frac{(c_0\\beta_0 + c_1\\beta_1)-c}{{\\rm se}(c_0\\beta_0 + c_1\\beta_1)}$$\n",
    "\n",
    "Standard Error in the denominator is the square root of\n",
    "\n",
    "$$\n",
    "\\widehat{{\\rm var}[c_0b_0 + c_1b_1]} = \\widehat{c_0^2{\\rm var}(b_0)} + \n",
    "\\widehat{c_1^2{\\rm var}(b_1)} + \\widehat{2c_0c_1{\\rm cov}(b_0b_1)}\n",
    "$$\n",
    "\n",
    "To compute this value we can use the estimated covariance matrix of the least squares estimates which are stored in `res.cov_params()`"
   ]
  },
  {
   "cell_type": "code",
   "execution_count": 27,
   "metadata": {},
   "outputs": [
    {
     "name": "stdout",
     "output_type": "stream",
     "text": [
      "              const     income\n",
      "const   1884.442263 -85.903157\n",
      "income   -85.903157   4.381752\n"
     ]
    }
   ],
   "source": [
    "print(results.cov_params())"
   ]
  },
  {
   "cell_type": "code",
   "execution_count": 28,
   "metadata": {},
   "outputs": [
    {
     "name": "stdout",
     "output_type": "stream",
     "text": [
      "                             Test for Constraints                             \n",
      "==============================================================================\n",
      "                 coef    std err          t      P>|t|      [0.025      0.975]\n",
      "------------------------------------------------------------------------------\n",
      "c0           287.6089     14.178     20.286      0.000     258.907     316.311\n",
      "==============================================================================\n"
     ]
    }
   ],
   "source": [
    "print(results.t_test('const + income*20'))"
   ]
  },
  {
   "cell_type": "markdown",
   "metadata": {},
   "source": [
    "**POE5 Example 3.9 Testing Expected Food Expenditure**\n",
    "\n",
    "To test the null hypythesis that this linear combination equals 250 (POE Example 3.9), use"
   ]
  },
  {
   "cell_type": "code",
   "execution_count": 29,
   "metadata": {},
   "outputs": [
    {
     "name": "stdout",
     "output_type": "stream",
     "text": [
      "                             Test for Constraints                             \n",
      "==============================================================================\n",
      "                 coef    std err          t      P>|t|      [0.025      0.975]\n",
      "------------------------------------------------------------------------------\n",
      "c0           287.6089     14.178      2.653      0.012     258.907     316.311\n",
      "==============================================================================\n"
     ]
    }
   ],
   "source": [
    "print(results.t_test('const + income*20 = 250'))"
   ]
  },
  {
   "cell_type": "markdown",
   "metadata": {},
   "source": [
    "Again note that if you are comparing directly to Stata results, Stata subtracts 250 from the `coef` and confidence interval limit values."
   ]
  },
  {
   "cell_type": "markdown",
   "metadata": {},
   "source": [
    "---\n",
    "## Appendix 3A Graphical Tools\n"
   ]
  },
  {
   "cell_type": "code",
   "execution_count": 30,
   "metadata": {},
   "outputs": [
    {
     "data": {
      "image/png": "[encoded data removed]",
      "text/plain": [
       "<Figure size 432x288 with 1 Axes>"
      ]
     },
     "metadata": {},
     "output_type": "display_data"
    }
   ],
   "source": [
    "# Two-tail rejection region for t(38), alpha = 0.05\n",
    "\n",
    "import numpy as np\n",
    "import matplotlib.pyplot as plt\n",
    "import seaborn as sns\n",
    "from scipy.stats import norm, t\n",
    "\n",
    "sns.set(font_scale=1.3)\n",
    "\n",
    "ndf = 38\n",
    "\n",
    "tleft  = t.ppf(0.025,ndf)   # -2.024\n",
    "tright = t.ppf(0.975,ndf)   #  2.024\n",
    "\n",
    "left_tail  = np.arange(-5,tleft, 0.001) \n",
    "right_tail = np.arange(tright, 5, 0.001) \n",
    "x_all = np.arange(-5, 5, 0.01) \n",
    "\n",
    "yleft  = t.pdf(left_tail,ndf)\n",
    "yright = t.pdf(right_tail,ndf)\n",
    "y_all  = t.pdf(x_all,ndf)\n",
    "\n",
    "# build the plot\n",
    "fig, ax = plt.subplots()\n",
    "\n",
    "sns.lineplot(x_all,y_all)\n",
    "\n",
    "ax.fill_between(left_tail,yleft,0, color='r',alpha=0.2)\n",
    "ax.fill_between(right_tail,yright,0, color='r',alpha=0.2)\n",
    "ax.set_xlim([-4,4])\n",
    "ax.set_xlabel('t')\n",
    "ax.set_ylabel('f(t)')\n",
    "ax.set_title(r'Two-tail rejection region: t(38), $\\alpha=0.05$')\n",
    "\n",
    "plt.show()"
   ]
  },
  {
   "cell_type": "code",
   "execution_count": 31,
   "metadata": {},
   "outputs": [
    {
     "data": {
      "image/png": "[encoded data removed]",
      "text/plain": [
       "<Figure size 432x288 with 1 Axes>"
      ]
     },
     "metadata": {},
     "output_type": "display_data"
    }
   ],
   "source": [
    "# Right-tail rejection region for t(38), alpha = 0.05\n",
    "\n",
    "ndf = 38\n",
    "\n",
    "tright = t.ppf(0.95,ndf)   #  1.686\n",
    "\n",
    "right_tail = np.arange(tright, 5, 0.001) \n",
    "x_all = np.arange(-5, 5, 0.01) \n",
    "\n",
    "yright = t.pdf(right_tail,ndf)\n",
    "y_all  = t.pdf(x_all,ndf)\n",
    "\n",
    "# build the plot\n",
    "fig, ax = plt.subplots()\n",
    "\n",
    "sns.lineplot(x_all,y_all)\n",
    "\n",
    "ax.fill_between(right_tail,yright,0, color='r',alpha=0.2)\n",
    "ax.set_xlim([-4,4])\n",
    "ax.set_xlabel('t')\n",
    "ax.set_ylabel('f(t)')\n",
    "ax.set_title(r'Right-tail rejection region: t(38), $\\alpha=0.05$')\n",
    "\n",
    "plt.show()"
   ]
  },
  {
   "cell_type": "markdown",
   "metadata": {},
   "source": [
    "## Appendix 3B Monte Carlo Simulation\n",
    "\n",
    "Here we have a code that is a little more involved that we've seen up to this point.  Let us step through what it is doing.\n",
    "\n",
    "First, because this is a longer example, you may want to cut/paste into Spyder for your experimenting, and for that reason we have made this a self-contained example, not relying on any of the cells above.\n",
    "\n",
    "* We read in the packages that we need and set our `font_scale=1.3` so labels are a good size.\n",
    "* We set a pseudo-random seed so we have the same sequence (your plots should look exactly like these for `seed(42)` and different every time if you comment this out (try it!).\n",
    "* We set our model parameters for $\\beta_0$, $\\beta_1$, $\\sigma$, etc., and initialize the lists `beta0hat` and `beta1hat` that will hold our 1000 estimates of $\\hat\\beta_0$ and $\\hat\\beta_1$\n",
    "* Next we set the 20 `x` values such that the first 20 values are $x_i = 10$ for $i=0,1,\\ldots9$ and then the remaining 20 samples have $x_i = 20$ for $i=10,\\ldots,19$.  \n",
    "* This gives $y_i=200$, for $i=0,\\ldots9$, and $y_i=300$, for $i=10,\\ldots19$.  \n",
    "* In the main loop, we \n",
    "    * randomize the `y` values with values drawn from a Gaussian normal distribution of width `sigma`,\n",
    "    * use `np.polyfit` to return the linear-least squares estimates of $\\hat\\beta_0$ and $\\hat\\beta_1$ for the current sample\n",
    "    * store those estimates in lists for later use\n",
    "    \n",
    "* Finally, we plot\n",
    "    * The final sample, best fit line, and the best-fit-line solution on the plot. \n",
    "    * The distribution of estimates of $\\beta_0$ and $\\beta_1$.  Note that these appear fairly normal, and will be moreso as `nsameples` is increased (try it!).\n"
   ]
  },
  {
   "cell_type": "code",
   "execution_count": 32,
   "metadata": {},
   "outputs": [
    {
     "data": {
      "text/plain": [
       "Text(0, 0.5, 'count')"
      ]
     },
     "execution_count": 32,
     "metadata": {},
     "output_type": "execute_result"
    },
    {
     "data": {
      "image/png": "[encoded data removed]",
      "text/plain": [
       "<Figure size 432x288 with 1 Axes>"
      ]
     },
     "metadata": {},
     "output_type": "display_data"
    },
    {
     "data": {
      "image/png": "[encoded data removed]",
      "text/plain": [
       "<Figure size 432x288 with 1 Axes>"
      ]
     },
     "metadata": {},
     "output_type": "display_data"
    },
    {
     "data": {
      "image/png": "[encoded data removed]",
      "text/plain": [
       "<Figure size 432x288 with 1 Axes>"
      ]
     },
     "metadata": {},
     "output_type": "display_data"
    }
   ],
   "source": [
    "import numpy as np\n",
    "from numpy.random import seed, randn\n",
    "import matplotlib.pyplot as plt\n",
    "import seaborn as sns\n",
    "\n",
    "sns.set(font_scale=1.3)\n",
    "seed(42)  # So we get the same pseudo-random sequence every time\n",
    "\n",
    "nobs = 40\n",
    "beta0 = 100\n",
    "beta1 = 10\n",
    "sigma = 50\n",
    "nsamples = 10000\n",
    "\n",
    "beta0hat = []  # list of best-fit beta0\n",
    "beta1hat = []  # list of best-fit beta1\n",
    "\n",
    "x = 20*[10] + 20*[20]  # first 20 elements are '10', second 20 are '20'\n",
    "x = np.array(x)  # make it a NumPy array\n",
    "y0 = beta0 + beta1*x\n",
    "\n",
    "for i in range(nsamples):\n",
    "    y = y0 + sigma*randn(nobs)\n",
    "    c = np.polyfit(x,y,1)        # Obtain best fine line\n",
    "    beta0hat.append(c[1])           # Store intercept est in list\n",
    "    beta1hat.append(c[0])           # Store slope est in list\n",
    "\n",
    "fig, ax = plt.subplots()\n",
    "\n",
    "sns.scatterplot(x,y)\n",
    "\n",
    "ax.set_xlabel('x')\n",
    "ax.set_ylabel('y')\n",
    "x_fit = np.linspace(10,20,10)\n",
    "y_fit = c[1] + c[0] * x_fit\n",
    "sns.lineplot(x_fit,y_fit)\n",
    "s = f\"Best fit: $\\hat y$ = {c[1]:.2f} + {c[0]:.2f}x\"\n",
    "ax.text(10, 410, s, horizontalalignment='left')\n",
    "\n",
    "fig, ax = plt.subplots()\n",
    "\n",
    "sns.distplot(beta0hat,kde=False)\n",
    "ax.set_xlabel(r\"$\\hat\\beta_0$\")\n",
    "ax.set_ylabel(\"count\")\n",
    "\n",
    "fig, ax = plt.subplots()\n",
    "sns.distplot(beta1hat,kde=False)\n",
    "ax.set_xlabel(r\"$\\hat\\beta_1$\")\n",
    "ax.set_ylabel(\"count\")"
   ]
  },
  {
   "cell_type": "markdown",
   "metadata": {},
   "source": [
    "Here we are bringing in the pandas package, and populating a DataFrame with our same variables as above, but also we will now keep track of the formal errors in new lists.\n",
    "\n",
    "Need to look at this to make sure we're doing what is needed. ... I think there's some code we can take out, but I might have guessed wrong on what we're reporting here.\n"
   ]
  },
  {
   "cell_type": "code",
   "execution_count": 33,
   "metadata": {},
   "outputs": [
    {
     "name": "stdout",
     "output_type": "stream",
     "text": [
      "Percent rejected = 5.060\n",
      "Percent kept.    = 94.510\n"
     ]
    }
   ],
   "source": [
    "import numpy as np\n",
    "import pandas as pd\n",
    "from numpy.random import seed, randn\n",
    "import matplotlib.pyplot as plt\n",
    "import seaborn as sns\n",
    "import statsmodels.api as sm\n",
    "from scipy.stats import t\n",
    "\n",
    "#seed(42)\n",
    "\n",
    "nobs = 40\n",
    "beta1 = 100\n",
    "beta2 = 10\n",
    "sigma = 50\n",
    "nsamples = 10000\n",
    "tc975 = t.ppf(0.975,nobs-2)\n",
    "\n",
    "intcp     = []  # list of best-fit beta0\n",
    "intcp_err = []  # best-fit beta0 err\n",
    "slope     = []  # best-fit beta1\n",
    "slope_err = []  # best-fit beta1 err\n",
    "ub = []         # CI upper bound\n",
    "lb = []         # CI lower bound\n",
    "tstat = []      # t statistic\n",
    "\n",
    "df = pd.DataFrame(columns=['x','y','const'])\n",
    "df.x = 20*[10] + 20*[20]  # first 20 elements are '10', second 20 are '20'\n",
    "y0 = beta1 + beta2*df.x\n",
    "df.const = 1\n",
    "\n",
    "for i in range(nsamples):\n",
    "    df.y = y0 + sigma*randn(nobs)\n",
    "    reg = sm.OLS(endog=df['y'],exog=df[['const','x']])\n",
    "    results = reg.fit()\n",
    "\n",
    "    slope.append(results.params.x)\n",
    "    slope_err.append(results.bse.x)\n",
    "    intcp.append(results.params.const)\n",
    "    intcp_err.append(results.bse.const)\n",
    "    ub.append(slope[-1]+tc975*slope_err[-1])\n",
    "    lb.append(slope[-1]-tc975*slope_err[-1])\n",
    "    tstat.append((slope[-1]-beta2)/slope_err[-1])\n",
    "\n",
    "tstat = np.array(tstat)  # convert to arrays for ease of handling\n",
    "lb = np.array(lb)\n",
    "ub = np.array(ub)\n",
    "\n",
    "reject = tstat > t.ppf(0.95,nobs-2)  # logical array ([False, True, ...])\n",
    "cover = (lb < beta2) & (ub > beta2)  # logical array\n",
    "\n",
    "n_rejected = sum(reject)/nsamples    # sum() returns number of \"True\" elements in reject\n",
    "n_kept = sum(cover)/nsamples\n",
    "\n",
    "print(f\"Percent rejected = {n_rejected*100:.3f}\")\n",
    "print(f\"Percent kept.    = {n_kept*100:.3f}\")"
   ]
  },
  {
   "cell_type": "markdown",
   "metadata": {},
   "source": [
    "We can compare this with the expected statistics, and with 10,000 points the agreement is excellent."
   ]
  },
  {
   "cell_type": "code",
   "execution_count": 34,
   "metadata": {},
   "outputs": [
    {
     "name": "stdout",
     "output_type": "stream",
     "text": [
      "0.0506\n",
      "0.9451\n"
     ]
    }
   ],
   "source": [
    "tstata = np.array(tstat)\n",
    "lb = np.array(lb)\n",
    "ub = np.array(ub)\n",
    "\n",
    "print(len(tstata[tstata>t.ppf(0.95,nobs-2)])/nsamples)\n",
    "test = tstata>t.ppf(0.95,nobs-2)\n",
    "\n",
    "testin = (lb < beta2) & (ub > beta2)\n",
    "print(len(tstata[testin])/nsamples)"
   ]
  },
  {
   "cell_type": "code",
   "execution_count": 35,
   "metadata": {},
   "outputs": [
    {
     "data": {
      "text/plain": [
       "0.9451"
      ]
     },
     "execution_count": 35,
     "metadata": {},
     "output_type": "execute_result"
    }
   ],
   "source": [
    "sum(testin)/nsamples"
   ]
  },
  {
   "cell_type": "markdown",
   "metadata": {},
   "source": [
    "### 3B.1 Random x's\n",
    "\n",
    "Now we let the `x` values be random in the interval 10-20, and we draw from a normal distribution with mean 15 and width of 1.6.\n",
    "\n",
    "We'll have to puzzle this one out.\n"
   ]
  },
  {
   "cell_type": "code",
   "execution_count": 36,
   "metadata": {},
   "outputs": [
    {
     "name": "stdout",
     "output_type": "stream",
     "text": [
      "[0.3164 0.554 ]\n",
      "0.9525\n"
     ]
    }
   ],
   "source": [
    "from numpy.random import seed, randn\n",
    "\n",
    "#seed(42)\n",
    "\n",
    "nobs = 40\n",
    "beta1 = 100\n",
    "beta2 = 10\n",
    "sigma = 50\n",
    "nsamples = 10000\n",
    "tc975 = t.ppf(0.975,nobs-2)\n",
    "\n",
    "intcp     = []  # list of best-fit beta1\n",
    "intcp_err = []  # best-fit beta1 err\n",
    "slope     = []  # best-fit beta2\n",
    "slope_err = []  # best-fit beta2 err\n",
    "ub = []         # CI upper bound\n",
    "lb = []         # CI lower bound\n",
    "tstat = []      # t statistic\n",
    "\n",
    "df = pd.DataFrame(columns=['x','y','const'])\n",
    "df.x = 15 + 1.6*randn(40)\n",
    "y0 = beta1 + beta2*df.x\n",
    "df.const = 1\n",
    "\n",
    "for i in range(nsamples):\n",
    "    df.y = y0 + sigma*randn(nobs)\n",
    "    reg = sm.OLS(endog=df['y'],exog=df[['const','x']])\n",
    "    results = reg.fit()\n",
    "\n",
    "    slope.append(results.params.x)\n",
    "    slope_err.append(results.bse.x)\n",
    "    intcp.append(results.params.const)\n",
    "    intcp_err.append(results.bse.const)\n",
    "    ub.append(slope[-1]+tc975*slope_err[-1])\n",
    "    lb.append(slope[-1]-tc975*slope_err[-1])\n",
    "    tstat.append(results.tvalues)\n",
    "\n",
    "tstat = np.array(tstat)  # convert to arrays for ease of handling\n",
    "lb = np.array(lb)\n",
    "ub = np.array(ub)\n",
    "\n",
    "reject = tstat > t.ppf(0.95,nobs-2)  # logical array([False, True, ...])\n",
    "cover = (lb < beta2) & (ub > beta2)\n",
    "\n",
    "print(sum(reject)/nsamples)    # sum() returns number of \"True\" elements in reject\n",
    "print(sum(cover)/nsamples)"
   ]
  },
  {
   "cell_type": "code",
   "execution_count": 37,
   "metadata": {},
   "outputs": [
    {
     "data": {
      "text/plain": [
       "Text(0, 0.5, 'count')"
      ]
     },
     "execution_count": 37,
     "metadata": {},
     "output_type": "execute_result"
    },
    {
     "data": {
      "image/png": "[encoded data removed]",
      "text/plain": [
       "<Figure size 432x288 with 1 Axes>"
      ]
     },
     "metadata": {},
     "output_type": "display_data"
    }
   ],
   "source": [
    "fig, ax = plt.subplots()\n",
    "sns.distplot(tstat,kde=False)\n",
    "ax.set_xlabel(r\"$t$-statistic\")\n",
    "ax.set_ylabel(\"count\")\n"
   ]
  },
  {
   "cell_type": "code",
   "execution_count": 38,
   "metadata": {},
   "outputs": [
    {
     "name": "stdout",
     "output_type": "stream",
     "text": [
      "[[ 1.18710005  1.6691269 ]\n",
      " [ 2.09773063  0.93962495]\n",
      " [-0.31046402  3.31378239]\n",
      " ...\n",
      " [ 2.23205077  1.38324454]\n",
      " [ 0.821003    2.46931811]\n",
      " [ 1.38538269  1.42562785]]\n"
     ]
    }
   ],
   "source": [
    "print(tstat)"
   ]
  },
  {
   "cell_type": "code",
   "execution_count": 39,
   "metadata": {},
   "outputs": [
    {
     "name": "stdout",
     "output_type": "stream",
     "text": [
      "1.5339735221496063\n"
     ]
    }
   ],
   "source": [
    "print(np.mean(tstat))"
   ]
  },
  {
   "cell_type": "code",
   "execution_count": 41,
   "metadata": {},
   "outputs": [
    {
     "name": "stdout",
     "output_type": "stream",
     "text": [
      "1.0855167327413149\n"
     ]
    }
   ],
   "source": [
    "print(np.std(tstat))"
   ]
  },
  {
   "cell_type": "code",
   "execution_count": null,
   "metadata": {},
   "outputs": [],
   "source": []
  }
 ],
 "metadata": {
  "kernelspec": {
   "display_name": "Python 3",
   "language": "python",
   "name": "python3"
  },
  "language_info": {
   "codemirror_mode": {
    "name": "ipython",
    "version": 3
   },
   "file_extension": ".py",
   "mimetype": "text/x-python",
   "name": "python",
   "nbconvert_exporter": "python",
   "pygments_lexer": "ipython3",
   "version": "3.8.3"
  }
 },
 "nbformat": 4,
 "nbformat_minor": 2
}
