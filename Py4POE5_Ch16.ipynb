{
 "cells": [
  {
   "cell_type": "code",
   "execution_count": 1,
   "id": "f2d5bbb8",
   "metadata": {},
   "outputs": [],
   "source": [
    "%config InlineBackend.figure_format='retina'\n",
    "import math\n",
    "import numpy as np\n",
    "import pandas as pd\n",
    "import matplotlib.pyplot as plt\n",
    "import seaborn as sns;sns.set_style('whitegrid',{'grid.color':'0.95'})\n",
    "import statsmodels.formula.api as smf\n",
    "import statsmodels.api as sm\n",
    "import scipy.stats as stats\n",
    "\n",
    "from sklearn.metrics import confusion_matrix\n",
    "from tabulate import tabulate \n",
    "from statsmodels.formula.api import probit\n",
    "from statsmodels.formula.api import logit\n",
    "from linearmodels.iv.model import IV2SLS\n",
    "from statsmodels.discrete.conditional_models import ConditionalLogit\n",
    "from statsmodels.discrete.conditional_models import ConditionalMNLogit\n",
    "from statsmodels.miscmodels.ordinal_model import OrderedModel\n",
    "from IPython.display import display, Markdown, Latex\n",
    "from py4etrics import tobit,heckit\n",
    "from py4etrics.base_for_models import *"
   ]
  },
  {
   "cell_type": "code",
   "execution_count": 2,
   "id": "ac834bd0",
   "metadata": {},
   "outputs": [
    {
     "name": "stdout",
     "output_type": "stream",
     "text": [
      "          count       mean        std   min   50%   max\n",
      "autotime   21.0  49.347619  32.434914  0.20  51.4  99.1\n",
      "bustime    21.0  48.123810  34.630823  1.60  38.0  91.5\n",
      "dtime      21.0  -0.122381   5.691037 -9.07  -0.7   9.1\n",
      "auto       21.0   0.476190   0.511766  0.00   0.0   1.0\n"
     ]
    }
   ],
   "source": [
    "url='http://www.principlesofeconometrics.com/poe5/data/csv/'\n",
    "tran=pd.read_csv(url+'transport.csv')\n",
    "print(tran.describe(percentiles=[]).transpose())"
   ]
  },
  {
   "cell_type": "code",
   "execution_count": 3,
   "id": "8152a2ba",
   "metadata": {},
   "outputs": [
    {
     "name": "stdout",
     "output_type": "stream",
     "text": [
      "==============================================================================\n",
      "                 coef    std err          z      P>|z|      [0.025      0.975]\n",
      "------------------------------------------------------------------------------\n",
      "Intercept      0.4848      0.071      6.809      0.000       0.345       0.624\n",
      "dtime          0.0703      0.009      8.264      0.000       0.054       0.087\n",
      "==============================================================================\n"
     ]
    }
   ],
   "source": [
    "res=smf.ols(formula='auto~dtime', data=tran).fit(cov_type='HC1')\n",
    "print(res.summary().tables[1])"
   ]
  },
  {
   "cell_type": "code",
   "execution_count": 4,
   "id": "d561b98c",
   "metadata": {},
   "outputs": [
    {
     "name": "stdout",
     "output_type": "stream",
     "text": [
      "                             Test for Constraints                             \n",
      "==============================================================================\n",
      "                 coef    std err          z      P>|z|      [0.025      0.975]\n",
      "------------------------------------------------------------------------------\n",
      "c0             0.5551      0.070      7.942      0.000       0.418       0.692\n",
      "==============================================================================\n"
     ]
    }
   ],
   "source": [
    "hypo='Intercept+dtime=0'\n",
    "print(res.t_test(hypo))\n",
    "tran['phat']=res.predict()\n",
    "tran['yhat']=0\n",
    "tran.loc[tran.phat>=0.5, 'yhat']=1"
   ]
  },
  {
   "cell_type": "code",
   "execution_count": 5,
   "id": "b0eb80aa",
   "metadata": {},
   "outputs": [
    {
     "name": "stdout",
     "output_type": "stream",
     "text": [
      "Confusion Matrix for Transportation Linear Probability Model: \n",
      "              pred Bus  pred Auto\n",
      "actual Bus         10          1\n",
      "actual Auto         1          9\n"
     ]
    }
   ],
   "source": [
    "cm=confusion_matrix(tran.auto,np.where(tran.phat>=0.5,1,0))\n",
    "cm=pd.DataFrame(cm,columns=['pred Bus','pred Auto'],index=['actual Bus','actual Auto'])\n",
    "print('Confusion Matrix for Transportation Linear Probability Model:','\\n',cm)"
   ]
  },
  {
   "cell_type": "code",
   "execution_count": 6,
   "id": "0bd34534",
   "metadata": {},
   "outputs": [
    {
     "name": "stdout",
     "output_type": "stream",
     "text": [
      "    autotime  bustime  dtime  auto      phat  yhat\n",
      "2        4.1     86.9   8.28     1  1.066961     1\n",
      "5        0.2     91.2   9.10     1  1.124615     1\n",
      "7       89.9      2.2  -8.77     0 -0.131823     0\n",
      "10      99.1      8.4  -9.07     0 -0.152916     0\n",
      "19      95.1     22.2  -7.29     0 -0.027764     0\n"
     ]
    }
   ],
   "source": [
    "print(tran.loc[(tran.phat<0) | (tran.phat>1)])"
   ]
  },
  {
   "cell_type": "code",
   "execution_count": 7,
   "id": "4c2d22ef",
   "metadata": {},
   "outputs": [
    {
     "name": "stdout",
     "output_type": "stream",
     "text": [
      "Optimization terminated successfully.\n",
      "         Current function value: 0.531324\n",
      "         Iterations 6\n",
      "                          Probit Regression Results                           \n",
      "==============================================================================\n",
      "Dep. Variable:                      y   No. Observations:                    3\n",
      "Model:                         Probit   Df Residuals:                        1\n",
      "Method:                           MLE   Df Model:                            1\n",
      "Date:                Wed, 18 Jun 2025   Pseudo R-squ.:                  0.1653\n",
      "Time:                        09:29:21   Log-Likelihood:                -1.5940\n",
      "converged:                       True   LL-Null:                       -1.9095\n",
      "Covariance Type:            nonrobust   LLR p-value:                    0.4269\n",
      "==============================================================================\n",
      "                 coef    std err          z      P>|z|      [0.025      0.975]\n",
      "------------------------------------------------------------------------------\n",
      "const         -1.1525      2.345     -0.491      0.623      -5.749       3.444\n",
      "x1             1.8916      2.915      0.649      0.516      -3.822       7.605\n",
      "==============================================================================\n"
     ]
    }
   ],
   "source": [
    "y=np.array([1,1,0])\n",
    "x=np.array([1.5,0.6,0.7])\n",
    "X=sm.add_constant(x)\n",
    "resp=sm.Probit(y,X).fit()\n",
    "print(resp.summary())"
   ]
  },
  {
   "cell_type": "code",
   "execution_count": 8,
   "id": "e7d2d6fc",
   "metadata": {},
   "outputs": [
    {
     "name": "stdout",
     "output_type": "stream",
     "text": [
      "Optimization terminated successfully.\n",
      "         Current function value: 0.293579\n",
      "         Iterations 6\n",
      "                          Probit Regression Results                           \n",
      "==============================================================================\n",
      "Dep. Variable:                   auto   No. Observations:                   21\n",
      "Model:                         Probit   Df Residuals:                       19\n",
      "Method:                           MLE   Df Model:                            1\n",
      "Date:                Wed, 18 Jun 2025   Pseudo R-squ.:                  0.5758\n",
      "Time:                        09:29:21   Log-Likelihood:                -6.1652\n",
      "converged:                       True   LL-Null:                       -14.532\n",
      "Covariance Type:            nonrobust   LLR p-value:                 4.300e-05\n",
      "==============================================================================\n",
      "                 coef    std err          z      P>|z|      [0.025      0.975]\n",
      "------------------------------------------------------------------------------\n",
      "Intercept     -0.0644      0.399     -0.161      0.872      -0.847       0.718\n",
      "dtime          0.3000      0.103      2.916      0.004       0.098       0.502\n",
      "==============================================================================\n",
      "LR test statistic (manual):       16.7342\n",
      "LR test statistic (llr property): 16.7342\n"
     ]
    }
   ],
   "source": [
    "tran=pd.read_csv(url+'transport.csv')\n",
    "resp=probit('auto~1+dtime',data=tran).fit()\n",
    "print(resp.summary())\n",
    "print(f'LR test statistic (manual):       {-2*(resp.llnull-resp.llf):.4f}')\n",
    "print(f'LR test statistic (llr property): {resp.llr:.4f}')"
   ]
  },
  {
   "cell_type": "code",
   "execution_count": 9,
   "id": "43fe9647-9478-4b7e-ace9-98a3caedcd39",
   "metadata": {},
   "outputs": [
    {
     "name": "stdout",
     "output_type": "stream",
     "text": [
      "Linear Prediction: Manual Computation\n",
      "y_hat when DTIME = 0 : -0.06443\n",
      "y_hat when DTIME = 2 : 0.53555\n",
      "y_hat when DTIME = 3 : 0.83554\n"
     ]
    }
   ],
   "source": [
    "x=[0,2,3]\n",
    "print('Linear Prediction: Manual Computation')\n",
    "for i in x:\n",
    "    y_pred=resp.params.iloc[0]+resp.params.iloc[1]*i\n",
    "    print(f'y_hat when DTIME = {str(i)} : {y_pred:.5f}')\n",
    "    i=+1"
   ]
  },
  {
   "cell_type": "code",
   "execution_count": 10,
   "id": "e6bf99ff-1850-4ce1-a317-7908a9d2af74",
   "metadata": {},
   "outputs": [
    {
     "name": "stdout",
     "output_type": "stream",
     "text": [
      "Predicted Probability: Manual Computation\n",
      "p_hat when DTIME = 0 : 0.47431\n",
      "p_hat when DTIME = 2 : 0.70386\n",
      "p_hat when DTIME = 3 : 0.79829\n"
     ]
    }
   ],
   "source": [
    "x=[0,2,3]\n",
    "print('Predicted Probability: Manual Computation')\n",
    "for i in x:\n",
    "    y_pred=resp.params.iloc[0]+resp.params.iloc[1]*i\n",
    "    p_hatm=stats.norm.cdf(y_pred)\n",
    "    print(f'p_hat when DTIME = {str(i)} : {p_hatm:.5f}')\n",
    "    i=+1"
   ]
  },
  {
   "cell_type": "code",
   "execution_count": 11,
   "id": "a96faa4d-b444-4e87-ba14-b7b7405dc14f",
   "metadata": {},
   "outputs": [
    {
     "name": "stdout",
     "output_type": "stream",
     "text": [
      "Predicted Probability: \"Predict\" Command\n",
      "p_hat when DTIME = 1 : 0.47431\n",
      "p_hat when DTIME = 1 : 0.70386\n",
      "p_hat when DTIME = 1 : 0.79829\n"
     ]
    }
   ],
   "source": [
    "p_hatc=resp.predict(exog=dict(dtime=x))\n",
    "print('Predicted Probability: \"Predict\" Command')\n",
    "print(f'p_hat when DTIME = {str(i)} : {p_hatc[0]:.5f}')\n",
    "print(f'p_hat when DTIME = {str(i)} : {p_hatc[1]:.5f}')\n",
    "print(f'p_hat when DTIME = {str(i)} : {p_hatc[2]:.5f}')"
   ]
  },
  {
   "cell_type": "code",
   "execution_count": 12,
   "id": "af4340ba-f88c-4882-8b5e-470af03d8bb5",
   "metadata": {},
   "outputs": [
    {
     "name": "stdout",
     "output_type": "stream",
     "text": [
      "Marginal Effect: Manual Computation\n",
      "dy/dx when DTIME = 0 : 0.11943\n",
      "dy/dx when DTIME = 2 : 0.10369\n",
      "dy/dx when DTIME = 3 : 0.08442\n"
     ]
    }
   ],
   "source": [
    "print('Marginal Effect: Manual Computation')\n",
    "for i in x:\n",
    "    y_pred=resp.params.iloc[0]+resp.params.iloc[1]*i\n",
    "    marg_eff=stats.norm.pdf(y_pred)*resp.params.iloc[1]\n",
    "    print(f'dy/dx when DTIME = {str(i)} : {marg_eff:.5f}')"
   ]
  },
  {
   "cell_type": "code",
   "execution_count": 13,
   "id": "b41770c1-f9e6-4008-980b-bb9aa62fe554",
   "metadata": {},
   "outputs": [
    {
     "name": "stdout",
     "output_type": "stream",
     "text": [
      "       Probit Marginal Effects       \n",
      "=====================================\n",
      "Dep. Variable:                   auto\n",
      "Method:                          dydx\n",
      "At:                           overall\n",
      "==============================================================================\n",
      "                dy/dx    std err          z      P>|z|      [0.025      0.975]\n",
      "------------------------------------------------------------------------------\n",
      "dtime          0.1037      0.033      3.177      0.001       0.040       0.168\n",
      "==============================================================================\n"
     ]
    }
   ],
   "source": [
    "mer=resp.get_margeff(atexog={1:2})\n",
    "print(mer.summary())"
   ]
  },
  {
   "cell_type": "code",
   "execution_count": 14,
   "id": "54e2b3ba-dfdf-4e56-a1d7-9e60410feeaf",
   "metadata": {},
   "outputs": [
    {
     "name": "stdout",
     "output_type": "stream",
     "text": [
      "       Probit Marginal Effects       \n",
      "=====================================\n",
      "Dep. Variable:                   auto\n",
      "Method:                          dydx\n",
      "At:                           overall\n",
      "==============================================================================\n",
      "                dy/dx    std err          z      P>|z|      [0.025      0.975]\n",
      "------------------------------------------------------------------------------\n",
      "dtime          0.1191      0.041      2.904      0.004       0.039       0.199\n",
      "==============================================================================\n"
     ]
    }
   ],
   "source": [
    "mem=resp.get_margeff(atexog={1:tran.dtime.mean()})\n",
    "print(mem.summary())"
   ]
  },
  {
   "cell_type": "code",
   "execution_count": 15,
   "id": "67025c5c-2ade-4011-926c-67ed48bca72c",
   "metadata": {},
   "outputs": [
    {
     "name": "stdout",
     "output_type": "stream",
     "text": [
      "Summary Statistics for AME\n",
      "count     mean     sd     min     max\n",
      " 21      0.0484  0.0356 0.0025  0.1153\n"
     ]
    }
   ],
   "source": [
    "y_pred_mean=resp.params.iloc[0]+resp.params.iloc[1]*tran.dtime\n",
    "ame=stats.norm.pdf(y_pred_mean)*resp.params.iloc[1]\n",
    "print('Summary Statistics for AME')\n",
    "print(f'count     mean     sd     min     max')\n",
    "print(f' {resp.nobs}      {ame.mean():.4f}  {ame.std():.4f} \\\n",
    "{ame.min():.4f}  {ame.max():.4f}')"
   ]
  },
  {
   "cell_type": "code",
   "execution_count": 16,
   "id": "cb719229-bc27-4d49-92a0-6dd0fbce0a10",
   "metadata": {},
   "outputs": [
    {
     "name": "stdout",
     "output_type": "stream",
     "text": [
      "Variance-Covariance Matrix \n",
      "            Intercept   dtime\n",
      "Intercept     0.1594  0.0003\n",
      "dtime         0.0003  0.0106\n"
     ]
    }
   ],
   "source": [
    "cov=resp.cov_params()\n",
    "print(f'Variance-Covariance Matrix \\n {np.round(cov,4)}')"
   ]
  },
  {
   "cell_type": "code",
   "execution_count": 17,
   "id": "17450bfa-f95d-4722-be29-a8a8ce52e414",
   "metadata": {},
   "outputs": [
    {
     "name": "stdout",
     "output_type": "stream",
     "text": [
      "NumPy Variance-Covariance Matrix \n",
      " [[0.1594 0.0003]\n",
      " [0.0003 0.0106]]\n"
     ]
    }
   ],
   "source": [
    "cov_np=cov.to_numpy()\n",
    "print(f'NumPy Variance-Covariance Matrix \\n {np.round(cov_np,4)}')"
   ]
  },
  {
   "cell_type": "code",
   "execution_count": 18,
   "id": "cfb8f173-784f-4063-a3aa-b1e0ff324dc3",
   "metadata": {},
   "outputs": [
    {
     "name": "stdout",
     "output_type": "stream",
     "text": [
      "predicted dg(b1,b2)/db1 = -0.056\n",
      "predicted dg(b1,b2)/db1 =  0.235\n"
     ]
    }
   ],
   "source": [
    "cov_np00=cov_np[0,0]\n",
    "cov_np01=cov_np[0,1]\n",
    "cov_np11=cov_np[1,1]\n",
    "y_pred2=resp.params.iloc[0]+resp.params.iloc[1]*2\n",
    "p_beta0=-stats.norm.pdf(y_pred2)*y_pred2*resp.params.iloc[1]\n",
    "print(f'predicted dg(b1,b2)/db1 = {p_beta0:.3f}')\n",
    "p_beta1=stats.norm.pdf(y_pred2)*(1-y_pred2*resp.params.iloc[1]*2)\n",
    "print(f'predicted dg(b1,b2)/db1 =  {p_beta1:.3f}')"
   ]
  },
  {
   "cell_type": "code",
   "execution_count": 19,
   "id": "7e5b7b82-2b14-451d-a16a-ff27b98c867f",
   "metadata": {},
   "outputs": [
    {
     "name": "stdout",
     "output_type": "stream",
     "text": [
      "predicted var(g(b1,b2)) = 0.00107\n",
      "predicted se(g(b1,b2)) =  0.03264\n"
     ]
    }
   ],
   "source": [
    "var=p_beta0**2*cov_np00+p_beta1**2*cov_np11+2*p_beta0*p_beta1*cov_np01\n",
    "print(f'predicted var(g(b1,b2)) = {var:.5f}')\n",
    "print(f'predicted se(g(b1,b2)) =  {var**0.5:.5f}')"
   ]
  },
  {
   "cell_type": "code",
   "execution_count": 20,
   "id": "4ad11fca-fbe6-499c-bb97-65986b2246d0",
   "metadata": {},
   "outputs": [
    {
     "name": "stdout",
     "output_type": "stream",
     "text": [
      "coke            int64\n",
      "pr_pepsi      float64\n",
      "pr_coke       float64\n",
      "disp_pepsi      int64\n",
      "disp_coke       int64\n",
      "pratio        float64\n",
      "dtype: object\n",
      "              coke     pr_pepsi      pr_coke   disp_pepsi    disp_coke  \\\n",
      "count  1140.000000  1140.000000  1140.000000  1140.000000  1140.000000   \n",
      "mean      0.447368     1.202719     1.190088     0.364035     0.378947   \n",
      "std       0.497440     0.300726     0.299916     0.481370     0.485338   \n",
      "min       0.000000     0.680000     0.680000     0.000000     0.000000   \n",
      "25%       0.000000     0.980000     0.890000     0.000000     0.000000   \n",
      "50%       0.000000     1.190000     1.190000     0.000000     0.000000   \n",
      "75%       1.000000     1.390000     1.390000     1.000000     1.000000   \n",
      "max       1.000000     1.790000     1.790000     1.000000     1.000000   \n",
      "\n",
      "            pratio  \n",
      "count  1140.000000  \n",
      "mean      1.027249  \n",
      "std       0.286608  \n",
      "min       0.497207  \n",
      "25%       0.857143  \n",
      "50%       1.000000  \n",
      "75%       1.150376  \n",
      "max       2.324675  \n"
     ]
    }
   ],
   "source": [
    "coke=pd.read_csv(url+'coke.csv')\n",
    "print(coke.dtypes)\n",
    "print(coke.describe())"
   ]
  },
  {
   "cell_type": "code",
   "execution_count": 21,
   "id": "260f8026-5642-4d9b-a976-f85a9bc96e9c",
   "metadata": {},
   "outputs": [
    {
     "name": "stdout",
     "output_type": "stream",
     "text": [
      "==============================================================================\n",
      "                 coef    std err          z      P>|z|      [0.025      0.975]\n",
      "------------------------------------------------------------------------------\n",
      "Intercept      0.8902      0.065     13.632      0.000       0.762       1.018\n",
      "pratio        -0.4009      0.060     -6.640      0.000      -0.519      -0.283\n",
      "disp_coke      0.0772      0.034      2.274      0.023       0.011       0.144\n",
      "disp_pepsi    -0.1657      0.034     -4.821      0.000      -0.233      -0.098\n",
      "==============================================================================\n"
     ]
    }
   ],
   "source": [
    "resols=smf.ols('coke~pratio+disp_coke+disp_pepsi',data=coke).fit(cov_type='HC1')\n",
    "print(resols.summary().tables[1])\n",
    "coke['phatols']=resols.predict()"
   ]
  },
  {
   "cell_type": "code",
   "execution_count": 22,
   "id": "74748fc6-41ef-469e-9d7a-48f5e60ccffc",
   "metadata": {},
   "outputs": [
    {
     "name": "stdout",
     "output_type": "stream",
     "text": [
      "Marginal effect for the Coke Linear Probability Model \n",
      "       mean  mean_se  mean_ci_lower  mean_ci_upper\n",
      "0  0.44927   0.0202        0.40967        0.48886\n"
     ]
    }
   ],
   "source": [
    "x=pd.DataFrame({'Intercept':[1],'pratio':[1.1],'disp_coke':[0],'disp_pepsi':[0]})\n",
    "meols=resols.get_prediction(x).summary_frame()[['mean','mean_se','mean_ci_lower',\n",
    "                                                'mean_ci_upper']]\n",
    "print(f'Marginal effect for the Coke Linear Probability Model \\n {round(meols,5)}')"
   ]
  },
  {
   "cell_type": "code",
   "execution_count": 23,
   "id": "37bbb076-7265-4fba-a41a-8d73b4d4aed8",
   "metadata": {},
   "outputs": [
    {
     "name": "stdout",
     "output_type": "stream",
     "text": [
      "Confusion Matrix for the Coke Linear Probability Model \n",
      "               pred Pepsi  pred Coke\n",
      "actual Pepsi         507        123\n",
      "actual Coke          263        247\n"
     ]
    }
   ],
   "source": [
    "cmols=confusion_matrix(coke.coke,np.where(coke.phatols>=0.5,1,0))\n",
    "cmols=pd.DataFrame(cmols,columns=['pred Pepsi','pred Coke'],\n",
    "                   index=['actual Pepsi','actual Coke'])\n",
    "print(f'Confusion Matrix for the Coke Linear Probability Model \\n {cmols}')"
   ]
  },
  {
   "cell_type": "code",
   "execution_count": 24,
   "id": "6cfa90ee-56a4-44e2-800d-400d8bf8f8ea",
   "metadata": {},
   "outputs": [
    {
     "name": "stdout",
     "output_type": "stream",
     "text": [
      "Optimization terminated successfully.\n",
      "         Current function value: 0.623639\n",
      "         Iterations 5\n",
      "==============================================================================\n",
      "                 coef    std err          z      P>|z|      [0.025      0.975]\n",
      "------------------------------------------------------------------------------\n",
      "Intercept      1.1081      0.190      5.833      0.000       0.736       1.480\n",
      "pratio        -1.1460      0.181     -6.335      0.000      -1.500      -0.791\n",
      "disp_coke      0.2172      0.097      2.248      0.025       0.028       0.407\n",
      "disp_pepsi    -0.4473      0.101     -4.411      0.000      -0.646      -0.249\n",
      "==============================================================================\n"
     ]
    }
   ],
   "source": [
    "resp=probit('coke~pratio+disp_coke+disp_pepsi',data=coke).fit()\n",
    "print(resp.summary().tables[1])\n",
    "coke['phatp']=resp.predict()"
   ]
  },
  {
   "cell_type": "code",
   "execution_count": 25,
   "id": "6db12dcc-0597-4236-987e-e75c550f6323",
   "metadata": {},
   "outputs": [
    {
     "name": "stdout",
     "output_type": "stream",
     "text": [
      "Marginal Effect for the Coke Probit Model: 0    0.4394\n",
      "dtype: float64\n",
      "Confusion Matrix for the Coke Probit Model \n",
      "               pred Pepsi  pred Coke\n",
      "actual Pepsi         507        123\n",
      "actual Coke          263        247\n"
     ]
    }
   ],
   "source": [
    "x=pd.DataFrame({'Intercept':[1],'pratio':[1.1],'disp_coke':[0],'disp_pepsi':[0]})\n",
    "mep=resp.predict(x)\n",
    "print(f'Marginal Effect for the Coke Probit Model: {round(mep,5)}')\n",
    "cmp=confusion_matrix(coke.coke,np.where(coke.phatp>=0.5,1,0))\n",
    "cmp=pd.DataFrame(cmp,columns=['pred Pepsi','pred Coke'],\n",
    "                 index=['actual Pepsi','actual Coke'])\n",
    "print(f'Confusion Matrix for the Coke Probit Model \\n {round(cmp,5)}')"
   ]
  },
  {
   "cell_type": "code",
   "execution_count": 26,
   "id": "72b89492-827e-41f8-aeef-fa9fd89abc8c",
   "metadata": {},
   "outputs": [
    {
     "name": "stdout",
     "output_type": "stream",
     "text": [
      "       Probit Marginal Effects       \n",
      "=====================================\n",
      "Dep. Variable:                   coke\n",
      "Method:                          dydx\n",
      "At:                           overall\n",
      "==============================================================================\n",
      "                dy/dx    std err          z      P>|z|      [0.025      0.975]\n",
      "------------------------------------------------------------------------------\n",
      "pratio        -0.4097      0.062     -6.646      0.000      -0.531      -0.289\n",
      "disp_coke      0.0776      0.034      2.263      0.024       0.010       0.145\n",
      "disp_pepsi    -0.1599      0.035     -4.529      0.000      -0.229      -0.091\n",
      "==============================================================================\n"
     ]
    }
   ],
   "source": [
    "mepAME=resp.get_margeff(at='overall',method='dydx')\n",
    "print(mepAME.summary())"
   ]
  },
  {
   "cell_type": "code",
   "execution_count": 27,
   "id": "ef0d1841-dab4-4f56-8d4e-5a82a7dc62ac",
   "metadata": {},
   "outputs": [
    {
     "name": "stdout",
     "output_type": "stream",
     "text": [
      "       Probit Marginal Effects       \n",
      "=====================================\n",
      "Dep. Variable:                   coke\n",
      "Method:                          dydx\n",
      "At:                           overall\n",
      "==============================================================================\n",
      "                dy/dx    std err          z      P>|z|      [0.025      0.975]\n",
      "------------------------------------------------------------------------------\n",
      "pratio        -0.4519      0.070     -6.429      0.000      -0.590      -0.314\n",
      "disp_coke      0.0856      0.038      2.257      0.024       0.011       0.160\n",
      "disp_pepsi    -0.1764      0.041     -4.336      0.000      -0.256      -0.097\n",
      "==============================================================================\n"
     ]
    }
   ],
   "source": [
    "mepRV=resp.get_margeff(atexog={0:1,1:1.1,2:0,3:0})\n",
    "print(mepRV.summary())"
   ]
  },
  {
   "cell_type": "code",
   "execution_count": 28,
   "id": "4c7b66e8-49b4-4469-81eb-02ac6e07a6cd",
   "metadata": {},
   "outputs": [
    {
     "name": "stdout",
     "output_type": "stream",
     "text": [
      "Predicted probability of selecting Coke with the Probit Model: 0.4394\n"
     ]
    }
   ],
   "source": [
    "x=pd.DataFrame({'Intercept':[1],'pratio':[1.1],'disp_coke':[0],'disp_pepsi':[0]})\n",
    "phatp=resp.predict(x)\n",
    "print(f'Predicted probability of selecting Coke with the Probit Model: {round(phatp[0],5)}')"
   ]
  },
  {
   "cell_type": "code",
   "execution_count": 29,
   "id": "52701279-1a36-415d-b228-f9007298b25f",
   "metadata": {},
   "outputs": [
    {
     "name": "stdout",
     "output_type": "stream",
     "text": [
      "Optimization terminated successfully.\n",
      "         Current function value: 0.622321\n",
      "         Iterations 5\n",
      "                           Logit Regression Results                           \n",
      "==============================================================================\n",
      "Dep. Variable:                   coke   No. Observations:                 1140\n",
      "Model:                          Logit   Df Residuals:                     1136\n",
      "Method:                           MLE   Df Model:                            3\n",
      "Date:                Wed, 18 Jun 2025   Pseudo R-squ.:                 0.09493\n",
      "Time:                        09:29:22   Log-Likelihood:                -709.45\n",
      "converged:                       True   LL-Null:                       -783.86\n",
      "Covariance Type:            nonrobust   LLR p-value:                 4.715e-32\n",
      "==============================================================================\n",
      "                 coef    std err          z      P>|z|      [0.025      0.975]\n",
      "------------------------------------------------------------------------------\n",
      "Intercept      1.9230      0.326      5.902      0.000       1.284       2.562\n",
      "pratio        -1.9957      0.315     -6.344      0.000      -2.612      -1.379\n",
      "disp_coke      0.3516      0.159      2.218      0.027       0.041       0.662\n",
      "disp_pepsi    -0.7310      0.168     -4.355      0.000      -1.060      -0.402\n",
      "==============================================================================\n"
     ]
    }
   ],
   "source": [
    "resl=logit('coke~pratio+disp_coke+disp_pepsi',data=coke).fit()\n",
    "print(resl.summary())"
   ]
  },
  {
   "cell_type": "code",
   "execution_count": 30,
   "id": "5fc5a846-0dab-42eb-b9cc-1c9c9b7f6f67",
   "metadata": {},
   "outputs": [
    {
     "name": "stdout",
     "output_type": "stream",
     "text": [
      "Marginal Effect for the Coke Logit Model: 0    0.43233\n",
      "dtype: float64\n",
      "Confusion Matrix for the Coke Logit Model \n",
      "               pred Pepsi  pred Coke\n",
      "actual Pepsi         507        123\n",
      "actual Coke          263        247\n"
     ]
    }
   ],
   "source": [
    "x=pd.DataFrame({'Intercept':[1],'pratio':[1.1],'disp_coke':[0],'disp_pepsi':[0]})\n",
    "mel=resl.predict(x)\n",
    "print(f'Marginal Effect for the Coke Logit Model: {round(mel,5)}')\n",
    "cml=confusion_matrix(coke.coke,np.where(coke.phatp>=0.5,1,0))\n",
    "cml=pd.DataFrame(cml,columns=['pred Pepsi','pred Coke'],\n",
    "                 index=['actual Pepsi','actual Coke'])\n",
    "print(f'Confusion Matrix for the Coke Logit Model \\n {round(cml,5)}')"
   ]
  },
  {
   "cell_type": "code",
   "execution_count": 31,
   "id": "733444c1-5b61-4e1b-8cfb-23ec4d9b907a",
   "metadata": {},
   "outputs": [
    {
     "name": "stdout",
     "output_type": "stream",
     "text": [
      "        Logit Marginal Effects       \n",
      "=====================================\n",
      "Dep. Variable:                   coke\n",
      "Method:                          dydx\n",
      "At:                           overall\n",
      "==============================================================================\n",
      "                dy/dx    std err          z      P>|z|      [0.025      0.975]\n",
      "------------------------------------------------------------------------------\n",
      "pratio        -0.4333      0.064     -6.776      0.000      -0.559      -0.308\n",
      "disp_coke      0.0763      0.034      2.235      0.025       0.009       0.143\n",
      "disp_pepsi    -0.1587      0.035     -4.498      0.000      -0.228      -0.090\n",
      "==============================================================================\n"
     ]
    }
   ],
   "source": [
    "melAME=resl.get_margeff(at='overall',method='dydx')\n",
    "print(melAME.summary())"
   ]
  },
  {
   "cell_type": "code",
   "execution_count": 32,
   "id": "e8fdfe99-2b6a-4406-83a0-cfc015e6e3a6",
   "metadata": {},
   "outputs": [
    {
     "name": "stdout",
     "output_type": "stream",
     "text": [
      "        Logit Marginal Effects       \n",
      "=====================================\n",
      "Dep. Variable:                   coke\n",
      "Method:                          dydx\n",
      "At:                           overall\n",
      "==============================================================================\n",
      "                dy/dx    std err          z      P>|z|      [0.025      0.975]\n",
      "------------------------------------------------------------------------------\n",
      "pratio        -0.4898      0.075     -6.503      0.000      -0.637      -0.342\n",
      "disp_coke      0.0863      0.039      2.229      0.026       0.010       0.162\n",
      "disp_pepsi    -0.1794      0.042     -4.253      0.000      -0.262      -0.097\n",
      "==============================================================================\n"
     ]
    }
   ],
   "source": [
    "melRV=resl.get_margeff(atexog={0:1,1:1.1,2:0,3:0},method='dydx')\n",
    "print(melRV.summary())"
   ]
  },
  {
   "cell_type": "code",
   "execution_count": 33,
   "id": "03520e91-435e-4e73-91d4-d989b6112f33",
   "metadata": {},
   "outputs": [
    {
     "name": "stdout",
     "output_type": "stream",
     "text": [
      "Optimization terminated successfully.\n",
      "         Current function value: 0.623639\n",
      "         Iterations 5\n",
      "==============================================================================\n",
      "                 coef    std err          z      P>|z|      [0.025      0.975]\n",
      "------------------------------------------------------------------------------\n",
      "Intercept      1.1081      0.190      5.833      0.000       0.736       1.480\n",
      "pratio        -1.1460      0.181     -6.335      0.000      -1.500      -0.791\n",
      "disp_coke      0.2172      0.097      2.248      0.025       0.028       0.407\n",
      "disp_pepsi    -0.4473      0.101     -4.411      0.000      -0.646      -0.249\n",
      "==============================================================================\n"
     ]
    }
   ],
   "source": [
    "resp=probit('coke~pratio+disp_coke+disp_pepsi',data=coke).fit()\n",
    "phatp=resp.predict()\n",
    "print(resp.summary().tables[1])"
   ]
  },
  {
   "cell_type": "code",
   "execution_count": 34,
   "id": "b89dc1db-3461-4898-a99d-4877295c4465",
   "metadata": {},
   "outputs": [
    {
     "name": "stdout",
     "output_type": "stream",
     "text": [
      "Individual Parameter Hypothesis Test: H_0: beta_3 <= 0 v. H_1: beta_3 > 0\n",
      "  chi2(1)       = 5.054\n",
      "    Prob > chi2 = 0.02457\n"
     ]
    }
   ],
   "source": [
    "hypo1='disp_coke=0'\n",
    "wt1=resp.wald_test(hypo1,scalar=True)\n",
    "print('Individual Parameter Hypothesis Test: H_0: beta_3 <= 0 v. H_1: beta_3 > 0')\n",
    "print(f'  chi2(1)       = {wt1.statistic:.4}')\n",
    "print(f'    Prob > chi2 = {wt1.pvalue:.4}')"
   ]
  },
  {
   "cell_type": "code",
   "execution_count": 35,
   "id": "5051eacf-9967-4ef0-81db-d36cc13520b4",
   "metadata": {},
   "outputs": [
    {
     "name": "stdout",
     "output_type": "stream",
     "text": [
      "Economic Hypothesis Test: H_0: beta_3 = -beta4 v. H_1: beta_3 != -beta4\n",
      "  chi2(1)       = 5.404\n",
      "    Prob > chi2 = 0.02009\n"
     ]
    }
   ],
   "source": [
    "hypo2='disp_coke+disp_pepsi=0'\n",
    "wt2=resp.wald_test(hypo2,scalar=True)\n",
    "print('Economic Hypothesis Test: H_0: beta_3 = -beta4 v. H_1: beta_3 != -beta4')\n",
    "print(f'  chi2(1)       = {wt2.statistic:.4}')\n",
    "print(f'    Prob > chi2 = {wt2.pvalue:.4}')"
   ]
  },
  {
   "cell_type": "code",
   "execution_count": 36,
   "id": "b1b1abc4-54f6-4247-82cf-3f83695d5453",
   "metadata": {},
   "outputs": [
    {
     "name": "stdout",
     "output_type": "stream",
     "text": [
      "Joint Hypothesis Test: H_0: beta_3 = 0, beta4 =0 v. H_1: beta_3 != 0, beta4 != 0\n",
      "  chi2(1)       = 19.46\n",
      "    Prob > chi2 =  5.949e-05\n"
     ]
    }
   ],
   "source": [
    "hypo3='disp_coke=0,disp_pepsi=0'\n",
    "wt3=resp.wald_test(hypo3,scalar=True)\n",
    "print('Joint Hypothesis Test: H_0: beta_3 = 0, beta4 =0 v. H_1: beta_3 != 0, beta4 != 0')\n",
    "print(f'  chi2(1)       = {wt3.statistic:.4}')\n",
    "print(f'    Prob > chi2 =  {wt3.pvalue:.4}')"
   ]
  },
  {
   "cell_type": "code",
   "execution_count": 37,
   "id": "9ff8b00c-0b0e-4bde-b986-668bf33224f7",
   "metadata": {},
   "outputs": [
    {
     "name": "stdout",
     "output_type": "stream",
     "text": [
      "Joint Significance Hypothesis Test: \n",
      " H_0: beta2 = 0, beta_3 = 0, beta4 =0 v. H_1: beta2 != 0, beta_3 != 0, beta4 != 0\n",
      "  chi2(1)       = 132.5\n",
      "    Prob > chi2 = 1.533e-28\n"
     ]
    }
   ],
   "source": [
    "hypo4='pratio=0,disp_coke=0,disp_pepsi=0'\n",
    "wt4=resp.wald_test(hypo4,scalar=True)\n",
    "print(f'Joint Significance Hypothesis Test: \\n H_0: beta2 = 0, beta_3 = 0, beta4 =0 v. \\\n",
    "H_1: beta2 != 0, beta_3 != 0, beta4 != 0')\n",
    "print(f'  chi2(1)       = {wt4.statistic:.4}')\n",
    "print(f'    Prob > chi2 = {wt4.pvalue:.4}')"
   ]
  },
  {
   "cell_type": "code",
   "execution_count": 38,
   "id": "393ff746-0496-4837-9384-e8dba36d77ce",
   "metadata": {},
   "outputs": [
    {
     "name": "stdout",
     "output_type": "stream",
     "text": [
      "Maximized Log-Likelihood Function, Unrestricted Probit Model: -710.95\n",
      "Optimization terminated successfully.\n",
      "         Current function value: 0.625860\n",
      "         Iterations 5\n",
      "                          Probit Regression Results                           \n",
      "==============================================================================\n",
      "Dep. Variable:                   coke   No. Observations:                 1140\n",
      "Model:                         Probit   Df Residuals:                     1137\n",
      "Method:                           MLE   Df Model:                            2\n",
      "Date:                Wed, 18 Jun 2025   Pseudo R-squ.:                 0.08979\n",
      "Time:                        09:29:22   Log-Likelihood:                -713.48\n",
      "converged:                       True   LL-Null:                       -783.86\n",
      "Covariance Type:            nonrobust   LLR p-value:                 2.719e-31\n",
      "==============================================================================\n",
      "                 coef    std err          z      P>|z|      [0.025      0.975]\n",
      "------------------------------------------------------------------------------\n",
      "Intercept      1.3535      0.156      8.650      0.000       1.047       1.660\n",
      "pratio        -1.3453      0.159     -8.468      0.000      -1.657      -1.034\n",
      "disp_pepsi    -0.3339      0.088     -3.801      0.000      -0.506      -0.162\n",
      "==============================================================================\n",
      "Maximized Log-Likelihood Function, Restricted Probit Model: -713.48\n"
     ]
    }
   ],
   "source": [
    "lnlu=resp.llf\n",
    "print(f'Maximized Log-Likelihood Function, Unrestricted Probit Model: {lnlu:.5}')\n",
    "resp=probit('coke~pratio+disp_pepsi',data=coke).fit()\n",
    "print(resp.summary())\n",
    "lnlr=resp.llf\n",
    "print(f'Maximized Log-Likelihood Function, Restricted Probit Model: {lnlr:.5}')"
   ]
  },
  {
   "cell_type": "code",
   "execution_count": 39,
   "id": "6fea420a-1ad4-4eef-a841-059b1349cb18",
   "metadata": {},
   "outputs": [
    {
     "name": "stdout",
     "output_type": "stream",
     "text": [
      "LR Test for Model Significance: 5.063\n",
      "    pvalue 0.02444\n"
     ]
    }
   ],
   "source": [
    "lr_test=2*(lnlu-lnlr)\n",
    "print(f'LR Test for Model Significance: {lr_test:.4}')\n",
    "pvalue=stats.chi2.sf(lr_test,1)\n",
    "print(f'    pvalue {pvalue:.4}')"
   ]
  },
  {
   "cell_type": "code",
   "execution_count": 40,
   "id": "ac389ff8-9da3-4ca6-a59c-a20177c10d3d",
   "metadata": {},
   "outputs": [
    {
     "name": "stdout",
     "output_type": "stream",
     "text": [
      "Optimization terminated successfully.\n",
      "         Current function value: 0.626017\n",
      "         Iterations 5\n",
      "==============================================================================\n",
      "                 coef    std err          z      P>|z|      [0.025      0.975]\n",
      "------------------------------------------------------------------------------\n",
      "Intercept      1.0527      0.189      5.580      0.000       0.683       1.422\n",
      "pratio        -1.1740      0.181     -6.486      0.000      -1.529      -0.819\n",
      "disp          -0.3208      0.086     -3.747      0.000      -0.489      -0.153\n",
      "==============================================================================\n",
      "Maximized Log-Likelihood Function, Restricted Probit Model: -713.7\n",
      "\n",
      "LR Test Statistic for a Joint Significance Test: 5.422\n",
      "   pvalue: 0.01989\n"
     ]
    }
   ],
   "source": [
    "coke['disp']=coke.disp_pepsi-coke.disp_coke\n",
    "resp=probit('coke~pratio+disp',data=coke).fit()\n",
    "print(resp.summary().tables[1])\n",
    "lnlr=resp.llf\n",
    "print(f'Maximized Log-Likelihood Function, Restricted Probit Model: {lnlr:.4}\\n')\n",
    "lr_test=2*(lnlu-lnlr)\n",
    "print(f'LR Test Statistic for a Joint Significance Test: {lr_test:.4}')\n",
    "pvalue=stats.chi2.sf(lr_test,1)\n",
    "print(f'   pvalue: {pvalue:.4}')"
   ]
  },
  {
   "cell_type": "code",
   "execution_count": 41,
   "id": "aed8e793-29b1-4ba4-83ba-efe7d945ba7a",
   "metadata": {},
   "outputs": [
    {
     "name": "stdout",
     "output_type": "stream",
     "text": [
      "Optimization terminated successfully.\n",
      "         Current function value: 0.632214\n",
      "         Iterations 5\n",
      "==============================================================================\n",
      "                 coef    std err          z      P>|z|      [0.025      0.975]\n",
      "------------------------------------------------------------------------------\n",
      "Intercept      1.4727      0.154      9.573      0.000       1.171       1.774\n",
      "pratio        -1.5794      0.148    -10.694      0.000      -1.869      -1.290\n",
      "==============================================================================\n",
      "Maximized Log-Likelihood Function, Restricted Probit Model: -720.7\n",
      "\n",
      "LR Test Statistic for a Joint Significance Test: 19.55\n",
      "   pvalue: 9.793e-06\n"
     ]
    }
   ],
   "source": [
    "resp=probit('coke~pratio',data=coke).fit()\n",
    "print(resp.summary().tables[1])\n",
    "lnlr=resp.llf\n",
    "print(f'Maximized Log-Likelihood Function, Restricted Probit Model: {lnlr:.4}\\n')\n",
    "lr_test=2*(lnlu-lnlr)\n",
    "print(f'LR Test Statistic for a Joint Significance Test: {lr_test:.4}')\n",
    "pvalue=stats.chi2.sf(lr_test,1)\n",
    "print(f'   pvalue: {pvalue:.4}')"
   ]
  },
  {
   "cell_type": "code",
   "execution_count": 42,
   "id": "a9765a39-c178-409b-b4ca-08b9bb4bd1c1",
   "metadata": {},
   "outputs": [
    {
     "name": "stdout",
     "output_type": "stream",
     "text": [
      "Optimization terminated successfully.\n",
      "         Current function value: 0.687597\n",
      "         Iterations 3\n",
      "==============================================================================\n",
      "                 coef    std err          z      P>|z|      [0.025      0.975]\n",
      "------------------------------------------------------------------------------\n",
      "Intercept     -0.1323      0.037     -3.553      0.000      -0.205      -0.059\n",
      "==============================================================================\n",
      "Maximized Log-Likelihood Function, Restricted Probit Model: -783.9\n",
      "\n",
      "LR Test Statistic for a Joint Significance Test: 145.8\n",
      "   pvalue: 1.419e-33\n"
     ]
    }
   ],
   "source": [
    "resp=probit('coke~1',data=coke).fit()\n",
    "print(resp.summary().tables[1])\n",
    "lnlr=resp.llf\n",
    "print(f'Maximized Log-Likelihood Function, Restricted Probit Model: {lnlr:.4}\\n')\n",
    "lr_test=2*(lnlu-lnlr)\n",
    "print(f'LR Test Statistic for a Joint Significance Test: {lr_test:.4}')\n",
    "pvalue=stats.chi2.sf(lr_test,1)\n",
    "print(f'   pvalue: {pvalue:.4}')"
   ]
  },
  {
   "cell_type": "code",
   "execution_count": 43,
   "id": "3cb3bc8a-c1a0-4e19-8d77-6f79f5b24019",
   "metadata": {},
   "outputs": [
    {
     "name": "stdout",
     "output_type": "stream",
     "text": [
      "==============================================================================\n",
      "                 coef    std err          z      P>|z|      [0.025      0.975]\n",
      "------------------------------------------------------------------------------\n",
      "Intercept      0.6792      0.140      4.846      0.000       0.404       0.954\n",
      "educ           0.0320      0.007      4.654      0.000       0.019       0.045\n",
      "exper          0.0401      0.006      6.911      0.000       0.029       0.051\n",
      "expersq       -0.0006      0.000     -3.074      0.002      -0.001      -0.000\n",
      "kidsl6        -0.2686      0.031     -8.547      0.000      -0.330      -0.207\n",
      "age           -0.0179      0.002     -8.012      0.000      -0.022      -0.014\n",
      "==============================================================================\n"
     ]
    }
   ],
   "source": [
    "mroz=pd.read_csv(url+'mroz.csv')\n",
    "mroz['expersq']=mroz.exper**2\n",
    "res=smf.ols('lfp~educ+exper+expersq+kidsl6+age',data=mroz).fit(cov_type='HC1')\n",
    "print(res.summary().tables[1])"
   ]
  },
  {
   "cell_type": "code",
   "execution_count": 44,
   "id": "887df42a-ff9f-4086-b7f7-0477797b7af7",
   "metadata": {},
   "outputs": [
    {
     "name": "stdout",
     "output_type": "stream",
     "text": [
      "==============================================================================\n",
      "                 coef    std err          t      P>|t|      [0.025      0.975]\n",
      "------------------------------------------------------------------------------\n",
      "Intercept      8.9952      0.585     15.381      0.000       7.847      10.143\n",
      "exper          0.0940      0.027      3.535      0.000       0.042       0.146\n",
      "expersq       -0.0021      0.001     -2.363      0.018      -0.004      -0.000\n",
      "kidsl6         0.3540      0.158      2.246      0.025       0.045       0.663\n",
      "age           -0.0026      0.011     -0.236      0.813      -0.024       0.019\n",
      "mothereduc     0.2905      0.023     12.849      0.000       0.246       0.335\n",
      "==============================================================================\n"
     ]
    }
   ],
   "source": [
    "res=smf.ols('educ~exper+expersq+kidsl6+age+mothereduc',data=mroz).fit()\n",
    "mroz['vhat']=res.resid\n",
    "print(res.summary().tables[1])"
   ]
  },
  {
   "cell_type": "code",
   "execution_count": 45,
   "id": "43ee7159-da52-4fdb-b156-1d260cd3cc9a",
   "metadata": {},
   "outputs": [
    {
     "name": "stdout",
     "output_type": "stream",
     "text": [
      "                          IV-2SLS Estimation Summary                          \n",
      "==============================================================================\n",
      "Dep. Variable:                    lfp   R-squared:                      0.2571\n",
      "Estimator:                    IV-2SLS   Adj. R-squared:                 0.2521\n",
      "No. Observations:                 753   F-statistic:                    74.784\n",
      "Date:                Wed, Jun 18 2025   P-value (F-stat)                0.0000\n",
      "Time:                        09:29:22   Distribution:                 F(5,747)\n",
      "Cov. Estimator:                robust                                         \n",
      "                                                                              \n",
      "                             Parameter Estimates                              \n",
      "==============================================================================\n",
      "            Parameter  Std. Err.     T-stat    P-value    Lower CI    Upper CI\n",
      "------------------------------------------------------------------------------\n",
      "Intercept      0.5919     0.2382     2.4845     0.0132      0.1242      1.0596\n",
      "exper          0.0394     0.0060     6.5890     0.0000      0.0276      0.0511\n",
      "expersq       -0.0006     0.0002    -2.9402     0.0034     -0.0010     -0.0002\n",
      "kidsl6        -0.2712     0.0321    -8.4422     0.0000     -0.3342     -0.2081\n",
      "age           -0.0177     0.0023    -7.7612     0.0000     -0.0222     -0.0132\n",
      "educ           0.0388     0.0165     2.3522     0.0189      0.0064      0.0712\n",
      "==============================================================================\n",
      "\n",
      "Endogenous: educ\n",
      "Instruments: mothereduc\n",
      "Robust Covariance (Heteroskedastic)\n",
      "Debiased: True\n"
     ]
    }
   ],
   "source": [
    "mroz['Intercept']=np.ones(len(mroz))\n",
    "mroziv=IV2SLS(dependent=mroz.lfp,endog=mroz.educ,\n",
    "              exog=mroz[['Intercept','exper','expersq','kidsl6','age']],\n",
    "              instruments=mroz[['mothereduc']]).fit(cov_type='robust',debiased=True)\n",
    "print(mroziv.summary)"
   ]
  },
  {
   "cell_type": "code",
   "execution_count": 46,
   "id": "0e8b17d3-e863-47a2-85ac-088427256aec",
   "metadata": {},
   "outputs": [
    {
     "name": "stdout",
     "output_type": "stream",
     "text": [
      "==============================================================================\n",
      "                 coef    std err          z      P>|z|      [0.025      0.975]\n",
      "------------------------------------------------------------------------------\n",
      "Intercept      0.5919      0.238      2.482      0.013       0.125       1.059\n",
      "educ           0.0388      0.016      2.351      0.019       0.006       0.071\n",
      "exper          0.0394      0.006      6.606      0.000       0.028       0.051\n",
      "expersq       -0.0006      0.000     -2.954      0.003      -0.001      -0.000\n",
      "kidsl6        -0.2712      0.032     -8.436      0.000      -0.334      -0.208\n",
      "age           -0.0177      0.002     -7.773      0.000      -0.022      -0.013\n",
      "vhat          -0.0083      0.018     -0.460      0.646      -0.044       0.027\n",
      "==============================================================================\n"
     ]
    }
   ],
   "source": [
    "resHT_stage1=smf.ols('educ~exper+expersq+kidsl6+age+mothereduc',data=mroz\n",
    "                    ).fit(cov_type='HC1')\n",
    "mroz['vhat']=resHT_stage1.resid\n",
    "resHT_stage2=smf.ols('lfp~educ+exper+expersq+kidsl6+age+vhat',data=mroz\n",
    "                    ).fit(cov_type='HC1')\n",
    "print(resHT_stage2.summary().tables[1])"
   ]
  },
  {
   "cell_type": "code",
   "execution_count": 47,
   "id": "798e67ce",
   "metadata": {},
   "outputs": [
    {
     "name": "stdout",
     "output_type": "stream",
     "text": [
      "            count      mean        std   min    50%     max\n",
      "psechoice  1000.0   2.30500   0.810328  1.00   3.00    3.00\n",
      "hscath     1000.0   0.01900   0.136593  0.00   0.00    1.00\n",
      "grades     1000.0   6.53039   2.265855  1.74   6.64   12.33\n",
      "faminc     1000.0  51.39350  40.165795  0.00  42.50  250.00\n",
      "famsiz     1000.0   4.20600   1.291988  1.00   4.00   10.00\n",
      "parcoll    1000.0   0.30800   0.461898  0.00   0.00    1.00\n",
      "female     1000.0   0.49600   0.500234  0.00   0.00    1.00\n",
      "black      1000.0   0.05600   0.230037  0.00   0.00    1.00\n"
     ]
    }
   ],
   "source": [
    "nels=pd.read_csv(url+'nels_small.csv')\n",
    "print(nels.describe(percentiles=[]).transpose()) "
   ]
  },
  {
   "cell_type": "code",
   "execution_count": 48,
   "id": "b9a91bdd",
   "metadata": {},
   "outputs": [
    {
     "name": "stdout",
     "output_type": "stream",
     "text": [
      "psechoice\n",
      "1    222\n",
      "2    251\n",
      "3    527\n",
      "Name: count, dtype: int64 \n",
      "\n",
      "psechoice1\n",
      "No College        222\n",
      "2-Year College    251\n",
      "4-Year College    527\n",
      "Name: count, dtype: int64\n"
     ]
    }
   ],
   "source": [
    "print(nels['psechoice'].value_counts(ascending=True),'\\n')\n",
    "nels['psechoice1']=nels['psechoice'].replace(\n",
    "    [1,2,3],['No College','2-Year College','4-Year College'])\n",
    "print(nels['psechoice1'].value_counts(ascending=True))"
   ]
  },
  {
   "cell_type": "code",
   "execution_count": 49,
   "id": "7188c9f7",
   "metadata": {},
   "outputs": [
    {
     "name": "stdout",
     "output_type": "stream",
     "text": [
      "Optimization terminated successfully.\n",
      "         Current function value: 0.875313\n",
      "         Iterations 6\n",
      "                          MNLogit Regression Results                          \n",
      "==============================================================================\n",
      "Dep. Variable:              psechoice   No. Observations:                 1000\n",
      "Model:                        MNLogit   Df Residuals:                      996\n",
      "Method:                           MLE   Df Model:                            2\n",
      "Date:                Wed, 18 Jun 2025   Pseudo R-squ.:                  0.1407\n",
      "Time:                        09:29:23   Log-Likelihood:                -875.31\n",
      "converged:                       True   LL-Null:                       -1018.7\n",
      "Covariance Type:            nonrobust   LLR p-value:                 5.576e-63\n",
      "===============================================================================\n",
      "psechoice=2       coef    std err          z      P>|z|      [0.025      0.975]\n",
      "-------------------------------------------------------------------------------\n",
      "Intercept       2.5064      0.418      5.991      0.000       1.686       3.326\n",
      "grades         -0.3088      0.052     -5.906      0.000      -0.411      -0.206\n",
      "-------------------------------------------------------------------------------\n",
      "psechoice=3       coef    std err          z      P>|z|      [0.025      0.975]\n",
      "-------------------------------------------------------------------------------\n",
      "Intercept       5.7699      0.404     14.270      0.000       4.977       6.562\n",
      "grades         -0.7062      0.053    -13.343      0.000      -0.810      -0.602\n",
      "===============================================================================\n"
     ]
    }
   ],
   "source": [
    "resmnl=smf.mnlogit('psechoice~grades',data=nels).fit()\n",
    "print(resmnl.summary())"
   ]
  },
  {
   "cell_type": "code",
   "execution_count": 50,
   "id": "f8d94f9b",
   "metadata": {},
   "outputs": [
    {
     "name": "stdout",
     "output_type": "stream",
     "text": [
      "               count   mean       std       min        5%      25%       50%  \\\n",
      "NoCollege     1000.0  0.222  0.173975  0.009808  0.017819  0.07315  0.181006   \n",
      "2YearCollege  1000.0  0.251  0.078402  0.070269  0.096702  0.19676  0.279218   \n",
      "4YearCollege  1000.0  0.527  0.238892  0.039989  0.142322  0.32662  0.533394   \n",
      "\n",
      "                   75%       95%       max  \n",
      "NoCollege     0.343086  0.556214  0.754563  \n",
      "2YearCollege  0.319564  0.331112  0.331425  \n",
      "4YearCollege  0.730090  0.885479  0.919923  \n"
     ]
    }
   ],
   "source": [
    "phat=resmnl.predict()\n",
    "phat1=phat[:,0]\n",
    "phat2=phat[:,1]\n",
    "phat3=phat[:,2]\n",
    "nels['NoCollege']=phat1.tolist()\n",
    "nels['2YearCollege']=phat2.tolist()\n",
    "nels['4YearCollege']=phat3.tolist()\n",
    "print(nels[['NoCollege','2YearCollege','4YearCollege']\n",
    "          ].describe(percentiles=[0.05,0.25,0.50,0.75,0.95]).transpose())"
   ]
  },
  {
   "cell_type": "code",
   "execution_count": 51,
   "id": "62703241-24d1-43ae-baa2-c7003f05f09c",
   "metadata": {},
   "outputs": [
    {
     "name": "stdout",
     "output_type": "stream",
     "text": [
      "       MNLogit Marginal Effects      \n",
      "=====================================\n",
      "Dep. Variable:              psechoice\n",
      "Method:                          dydx\n",
      "At:                           overall\n",
      "===============================================================================\n",
      "psechoice=1      dy/dx    std err          z      P>|z|      [0.025      0.975]\n",
      "-------------------------------------------------------------------------------\n",
      "grades          0.0744      0.005     14.282      0.000       0.064       0.085\n",
      "-------------------------------------------------------------------------------\n",
      "psechoice=2      dy/dx    std err          z      P>|z|      [0.025      0.975]\n",
      "-------------------------------------------------------------------------------\n",
      "grades          0.0256      0.005      4.809      0.000       0.015       0.036\n",
      "-------------------------------------------------------------------------------\n",
      "psechoice=3      dy/dx    std err          z      P>|z|      [0.025      0.975]\n",
      "-------------------------------------------------------------------------------\n",
      "grades         -0.1000      0.004    -22.979      0.000      -0.109      -0.091\n",
      "===============================================================================\n"
     ]
    }
   ],
   "source": [
    "mef=resmnl.get_margeff(at='overall',method='dydx')\n",
    "print(mef.summary())"
   ]
  },
  {
   "cell_type": "code",
   "execution_count": 52,
   "id": "eccffeab",
   "metadata": {},
   "outputs": [
    {
     "name": "stdout",
     "output_type": "stream",
     "text": [
      "       MNLogit Marginal Effects      \n",
      "=====================================\n",
      "Dep. Variable:              psechoice\n",
      "Method:                          dydx\n",
      "At:                              mean\n",
      "===============================================================================\n",
      "psechoice=1      dy/dx    std err          z      P>|z|      [0.025      0.975]\n",
      "-------------------------------------------------------------------------------\n",
      "grades          0.0814      0.006     13.676      0.000       0.070       0.093\n",
      "-------------------------------------------------------------------------------\n",
      "psechoice=2      dy/dx    std err          z      P>|z|      [0.025      0.975]\n",
      "-------------------------------------------------------------------------------\n",
      "grades          0.0462      0.008      6.094      0.000       0.031       0.061\n",
      "-------------------------------------------------------------------------------\n",
      "psechoice=3      dy/dx    std err          z      P>|z|      [0.025      0.975]\n",
      "-------------------------------------------------------------------------------\n",
      "grades         -0.1275      0.009    -13.576      0.000      -0.146      -0.109\n",
      "===============================================================================\n"
     ]
    }
   ],
   "source": [
    "mef0=resmnl.get_margeff(at='mean',method='dydx')\n",
    "print(mef0.summary())"
   ]
  },
  {
   "cell_type": "code",
   "execution_count": 53,
   "id": "29b6bf16",
   "metadata": {},
   "outputs": [
    {
     "name": "stdout",
     "output_type": "stream",
     "text": [
      "       MNLogit Marginal Effects      \n",
      "=====================================\n",
      "Dep. Variable:              psechoice\n",
      "Method:                          dydx\n",
      "At:                           overall\n",
      "===============================================================================\n",
      "psechoice=1      dy/dx    std err          z      P>|z|      [0.025      0.975]\n",
      "-------------------------------------------------------------------------------\n",
      "grades          0.0117      0.002      5.393      0.000       0.007       0.016\n",
      "-------------------------------------------------------------------------------\n",
      "psechoice=2      dy/dx    std err          z      P>|z|      [0.025      0.975]\n",
      "-------------------------------------------------------------------------------\n",
      "grades          0.0335      0.002     14.217      0.000       0.029       0.038\n",
      "-------------------------------------------------------------------------------\n",
      "psechoice=3      dy/dx    std err          z      P>|z|      [0.025      0.975]\n",
      "-------------------------------------------------------------------------------\n",
      "grades         -0.0452      0.003    -15.032      0.000      -0.051      -0.039\n",
      "===============================================================================\n"
     ]
    }
   ],
   "source": [
    "mef3=resmnl.get_margeff(atexog={1:nels['grades'].quantile([0.05])},method='dydx')\n",
    "print(mef3.summary())"
   ]
  },
  {
   "cell_type": "code",
   "execution_count": 54,
   "id": "b217b452",
   "metadata": {},
   "outputs": [
    {
     "name": "stdout",
     "output_type": "stream",
     "text": [
      "psechoice      int64\n",
      "grades       float64\n",
      "dtype: object\n"
     ]
    }
   ],
   "source": [
    "nels=pd.read_csv(url+'nels_small.csv')\n",
    "print(nels[['psechoice','grades']].dtypes)"
   ]
  },
  {
   "cell_type": "code",
   "execution_count": 55,
   "id": "4a00d7de-73bc-4ce8-aae3-97982010c99d",
   "metadata": {},
   "outputs": [
    {
     "name": "stdout",
     "output_type": "stream",
     "text": [
      "            count     mean       std   min     25%   50%   75%    max\n",
      "psechoice  1000.0  2.30500  0.810328  1.00  2.0000  3.00  3.00   3.00\n",
      "grades     1000.0  6.53039  2.265855  1.74  4.9125  6.64  8.24  12.33\n"
     ]
    }
   ],
   "source": [
    "print(nels[['psechoice','grades']].describe().transpose())       "
   ]
  },
  {
   "cell_type": "code",
   "execution_count": 56,
   "id": "a99c1e1c",
   "metadata": {},
   "outputs": [
    {
     "name": "stdout",
     "output_type": "stream",
     "text": [
      "Optimization terminated successfully.\n",
      "         Current function value: 0.875822\n",
      "         Iterations: 12\n",
      "         Function evaluations: 14\n",
      "         Gradient evaluations: 14\n",
      "==============================================================================\n",
      "                 coef    std err          z      P>|z|      [0.025      0.975]\n",
      "------------------------------------------------------------------------------\n",
      "grades        -0.3066      0.019    -15.992      0.000      -0.344      -0.269\n",
      "1/2           -2.9456      0.147    -20.062      0.000      -3.233      -2.658\n",
      "2/3           -0.1559      0.056     -2.784      0.005      -0.266      -0.046\n",
      "==============================================================================\n"
     ]
    }
   ],
   "source": [
    "modop=OrderedModel(nels.psechoice,nels.grades,distr='probit')\n",
    "resop=modop.fit(method='bfgs')\n",
    "print(resop.summary().tables[1])"
   ]
  },
  {
   "cell_type": "code",
   "execution_count": 57,
   "id": "70c3a24e",
   "metadata": {},
   "outputs": [
    {
     "name": "stdout",
     "output_type": "stream",
     "text": [
      "Corrected mu1 threshhold = -2.9456\n",
      "Corrected mu2 threshhold = -2.08999\n"
     ]
    }
   ],
   "source": [
    "num_thr=2\n",
    "mu_thr=modop.transform_threshold_params(resop.params[-num_thr:])\n",
    "print(f'Corrected mu1 threshhold = {mu_thr[1]:.4f}')\n",
    "print(f'Corrected mu2 threshhold = {mu_thr[2]:.6}')"
   ]
  },
  {
   "cell_type": "code",
   "execution_count": 58,
   "id": "f8d992eb",
   "metadata": {},
   "outputs": [
    {
     "name": "stdout",
     "output_type": "stream",
     "text": [
      "docvis    int64\n",
      "age       int64\n",
      "female    int64\n",
      "public    int64\n",
      "dtype: object\n"
     ]
    }
   ],
   "source": [
    "rwm=pd.read_csv(url+'rwm88_small.csv')\n",
    "print(rwm[['docvis','age','female','public']].dtypes)"
   ]
  },
  {
   "cell_type": "code",
   "execution_count": 59,
   "id": "1045d670-8e4f-46a4-83d3-f5ab029454e1",
   "metadata": {},
   "outputs": [
    {
     "name": "stdout",
     "output_type": "stream",
     "text": [
      "         count       mean        std   min   25%   50%   75%   max\n",
      "docvis  1200.0   2.986667   5.496059   0.0   0.0   1.0   3.0  90.0\n",
      "age     1200.0  42.948333  11.127692  25.0  33.0  43.0  51.0  64.0\n",
      "female  1200.0   0.492500   0.500152   0.0   0.0   0.0   1.0   1.0\n",
      "public  1200.0   0.885833   0.318146   0.0   1.0   1.0   1.0   1.0\n"
     ]
    }
   ],
   "source": [
    "print(rwm[['docvis','age','female','public']].describe().transpose()) "
   ]
  },
  {
   "cell_type": "code",
   "execution_count": 60,
   "id": "c39b2e12-833b-4600-a03e-dbe9b16c16cd",
   "metadata": {},
   "outputs": [
    {
     "name": "stdout",
     "output_type": "stream",
     "text": [
      "Frequency Distribution: Doctor's Visits\n",
      " docvis\n",
      "0    443\n",
      "1    200\n",
      "2    163\n",
      "3    111\n",
      "4     51\n",
      "5     49\n",
      "6     37\n",
      "7      7\n",
      "8     25\n",
      "Name: count, dtype: int64\n",
      "\n",
      " Proportion of Patients with 8 or fewer doctor's visits: 90.5%\n"
     ]
    }
   ],
   "source": [
    "print(f'Frequency Distribution: Doctor\\'s Visits\\n {rwm['docvis'].value_counts(\n",
    "                                                                  )[[0,1,2,3,4,5,6,7,8]]}')\n",
    "ple8=rwm.loc[rwm['docvis']<=8].value_counts().sum()/len(rwm)\n",
    "print(f'\\n Proportion of Patients with 8 or fewer doctor\\'s visits: {ple8*100}%')"
   ]
  },
  {
   "cell_type": "code",
   "execution_count": 61,
   "id": "23fc76b2",
   "metadata": {},
   "outputs": [
    {
     "name": "stdout",
     "output_type": "stream",
     "text": [
      "Optimization terminated successfully.\n",
      "         Current function value: 3.777003\n",
      "         Iterations 5\n",
      "==============================================================================\n",
      "                 coef    std err          z      P>|z|      [0.025      0.975]\n",
      "------------------------------------------------------------------------------\n",
      "age            0.0116      0.001      7.804      0.000       0.009       0.015\n",
      "female         0.1283      0.034      3.826      0.000       0.063       0.194\n",
      "public         0.5726      0.068      8.423      0.000       0.439       0.706\n",
      "cons          -0.0030      0.092     -0.033      0.974      -0.183       0.177\n",
      "==============================================================================\n"
     ]
    }
   ],
   "source": [
    "rwm['cons']=1\n",
    "exog=rwm[['age','female','public','cons']]\n",
    "respo=sm.Poisson(rwm.docvis,exog).fit()\n",
    "print(respo.summary().tables[1])"
   ]
  },
  {
   "cell_type": "code",
   "execution_count": 62,
   "id": "eadd9f55",
   "metadata": {},
   "outputs": [
    {
     "data": {
      "text/markdown": [
       "$\\widehat{\\lambda}_{[30,1,1]}$ = $2.84922$ <br />$\\widehat{\\lambda}_{[50,1,1]}$ = $3.59599$ <br />$\\widehat{\\lambda}_{[70,1,1]}$ = $4.5385$"
      ],
      "text/plain": [
       "<IPython.core.display.Markdown object>"
      ]
     },
     "metadata": {},
     "output_type": "display_data"
    }
   ],
   "source": [
    "b0=respo.params.iloc[0]\n",
    "b1=respo.params.iloc[1]\n",
    "b2=respo.params.iloc[2]\n",
    "b3=respo.params.iloc[3]\n",
    "lam_hat3011=math.exp(b0*30+b1*1+b2*1+b3*1)\n",
    "lam_hat5011=math.exp(b0*50+b1*1+b2*1+b3*1)\n",
    "lam_hat7011=math.exp(b0*70+b1*1+b2*1+b3*1)\n",
    "\n",
    "display(Markdown(r'$\\widehat{\\lambda}_{[30,1,1]}$'rf' = ${round(lam_hat3011,5)}$ <br />' \n",
    "                 r'$\\widehat{\\lambda}_{[50,1,1]}$'rf' = ${round(lam_hat5011,5)}$ <br />'\n",
    "                 r'$\\widehat{\\lambda}_{[70,1,1]}$'rf' = ${round(lam_hat7011,5)}$' \n",
    "                 ))"
   ]
  },
  {
   "cell_type": "code",
   "execution_count": 63,
   "id": "4383967c",
   "metadata": {},
   "outputs": [
    {
     "data": {
      "text/markdown": [
       "$P(\\widehat{Y}=0)$ = $0.05789$ <br />$P(\\widehat{Y}=1)$ = $0.09865$<br />$P(\\widehat{Y}=2)$ = $0.11009$"
      ],
      "text/plain": [
       "<IPython.core.display.Markdown object>"
      ]
     },
     "metadata": {},
     "output_type": "display_data"
    }
   ],
   "source": [
    "p30=math.exp(-lam_hat3011)*lam_hat3011**0/math.factorial(0)\n",
    "p50=math.exp(-lam_hat5011)*lam_hat5011**1/math.factorial(1)\n",
    "p70=math.exp(-lam_hat7011)*lam_hat7011**2/math.factorial(2)\n",
    "display(Markdown(r'$P(\\widehat{Y}=0)$'rf' = ${round(p30,5)}$ <br />' \n",
    "                 r'$P(\\widehat{Y}=1)$'rf' = ${round(p50,5)}$<br />'\n",
    "                 r'$P(\\widehat{Y}=2)$'rf' = ${round(p70,5)}$' \n",
    "                 ))"
   ]
  },
  {
   "cell_type": "code",
   "execution_count": 64,
   "id": "80b332ae",
   "metadata": {},
   "outputs": [
    {
     "data": {
      "text/markdown": [
       "$\\frac{\\partial \\widehat\\lambda_{[30,1,1]}}{\\partial AGE}$ = $0.03316$ <br />$\\frac{\\partial \\widehat\\lambda_{[50,1,1]}}{\\partial AGE}$ = $0.04185$<br />$\\frac{\\partial \\widehat\\lambda_{[70,1,1]}}{\\partial AGE}$ = $0.05282$"
      ],
      "text/plain": [
       "<IPython.core.display.Markdown object>"
      ]
     },
     "metadata": {},
     "output_type": "display_data"
    }
   ],
   "source": [
    "display(Markdown(r'$\\frac{\\partial \\widehat\\lambda_{[30,1,1]}}{\\partial AGE}$' \\\n",
    "                 rf' = ${round(lam_hat3011*b0,5)}$ <br />' \n",
    "                 r'$\\frac{\\partial \\widehat\\lambda_{[50,1,1]}}{\\partial AGE}$' \\\n",
    "                 rf' = ${round(lam_hat5011*b0,5)}$<br />'\n",
    "                 r'$\\frac{\\partial \\widehat\\lambda_{[70,1,1]}}{\\partial AGE}$' \\\n",
    "                 rf' = ${round(lam_hat7011*b0,5)}$' \n",
    "                 ))"
   ]
  },
  {
   "cell_type": "code",
   "execution_count": 65,
   "id": "f0c3535e",
   "metadata": {},
   "outputs": [
    {
     "data": {
      "text/markdown": [
       "$\\Delta \\widehat{\\lambda}_1$ = $1.24214$ <br />$\\Delta \\widehat{\\lambda}_2$ = $1.5677$ <br />$\\Delta \\widehat{\\lambda}_3$ = $1.97859$"
      ],
      "text/plain": [
       "<IPython.core.display.Markdown object>"
      ]
     },
     "metadata": {},
     "output_type": "display_data"
    }
   ],
   "source": [
    "lam_hat3010=math.exp(b0*30+b1*1+b2*0+b3*1)\n",
    "lam_hat5010=math.exp(b0*50+b1*1+b2*0+b3*1)\n",
    "lam_hat7010=math.exp(b0*70+b1*1+b2*0+b3*1)\n",
    "diff1=lam_hat3011-lam_hat3010\n",
    "diff2=lam_hat5011-lam_hat5010\n",
    "diff3=lam_hat7011-lam_hat7010\n",
    "display(Markdown(r'$\\Delta \\widehat{\\lambda}_1$'rf' = ${round(diff1,5)}$ <br />' \n",
    "                 r'$\\Delta \\widehat{\\lambda}_2$'rf' = ${round(diff2,5)}$ <br />'\n",
    "                 r'$\\Delta \\widehat{\\lambda}_3$'rf' = ${round(diff3,5)}$' \n",
    "                 ))"
   ]
  },
  {
   "cell_type": "code",
   "execution_count": 66,
   "id": "bd3cca98",
   "metadata": {},
   "outputs": [
    {
     "name": "stdout",
     "output_type": "stream",
     "text": [
      "Correlation between Predicted and Actual Doctor Visits:\n",
      " [[1.     0.1179]\n",
      " [0.1179 1.    ]]\n"
     ]
    }
   ],
   "source": [
    "rwm['docvishat']=np.round(respo.predict(),0)\n",
    "corr=np.corrcoef(rwm.docvis,rwm.docvishat)\n",
    "print(f'Correlation between Predicted and Actual Doctor Visits:\\n {np.round(corr,4)}')"
   ]
  },
  {
   "cell_type": "code",
   "execution_count": 67,
   "id": "d11b50f6",
   "metadata": {},
   "outputs": [
    {
     "name": "stdout",
     "output_type": "stream",
     "text": [
      "lfp         int64\n",
      "hours       int64\n",
      "educ        int64\n",
      "exper       int64\n",
      "age         int64\n",
      "kidsl6      int64\n",
      "wage      float64\n",
      "dtype: object\n"
     ]
    }
   ],
   "source": [
    "mroz=pd.read_csv(url+'mroz.csv')\n",
    "print(mroz[['lfp','hours','educ','exper','age','kidsl6','wage']].dtypes)"
   ]
  },
  {
   "cell_type": "code",
   "execution_count": 68,
   "id": "cdcd6eb1-9496-4264-bb30-1a66f077f555",
   "metadata": {},
   "outputs": [
    {
     "name": "stdout",
     "output_type": "stream",
     "text": [
      "        count        mean         std   min   25%      50%        75%     max\n",
      "lfp     753.0    0.568393    0.495630   0.0   0.0    1.000     1.0000     1.0\n",
      "hours   753.0  740.576361  871.314216   0.0   0.0  288.000  1516.0000  4950.0\n",
      "educ    753.0   12.286853    2.280246   5.0  12.0   12.000    13.0000    17.0\n",
      "exper   753.0   10.630810    8.069130   0.0   4.0    9.000    15.0000    45.0\n",
      "age     753.0   42.537849    8.072574  30.0  36.0   43.000    49.0000    60.0\n",
      "kidsl6  753.0    0.237716    0.523959   0.0   0.0    0.000     0.0000     3.0\n",
      "wage    753.0    2.374565    3.241829   0.0   0.0    1.625     3.7879    25.0\n"
     ]
    }
   ],
   "source": [
    "print(mroz[['lfp','hours','educ','exper','age','kidsl6','wage']].describe().transpose())"
   ]
  },
  {
   "cell_type": "code",
   "execution_count": 69,
   "id": "02e2a276",
   "metadata": {},
   "outputs": [
    {
     "data": {
      "image/png": "[encoded data removed]",
      "text/plain": [
       "<Figure size 500x375 with 1 Axes>"
      ]
     },
     "metadata": {
      "image/png": {
       "height": 370,
       "width": 460
      }
     },
     "output_type": "display_data"
    }
   ],
   "source": [
    "gr1=plt.hist(x=mroz.hours,bins='auto')\n",
    "plt.grid(axis='y')\n",
    "plt.xlabel('Wife\\'s Hours of Work in 1975')\n",
    "plt.ylabel('Frequency')\n",
    "plt.title('Hours Worked by Married Women')\n",
    "plt.show()"
   ]
  },
  {
   "cell_type": "code",
   "execution_count": 70,
   "id": "ccb50325",
   "metadata": {},
   "outputs": [
    {
     "name": "stdout",
     "output_type": "stream",
     "text": [
      "        count         mean         std   min    25%     50%      75%     max\n",
      "hours   428.0  1302.929907  776.274385  12.0  609.5  1365.5  1910.50  4950.0\n",
      "educ    428.0    12.658879    2.285376   5.0   12.0    12.0    14.00    17.0\n",
      "exper   428.0    13.037383    8.055923   0.0    7.0    12.0    18.00    38.0\n",
      "age     428.0    41.971963    7.721084  30.0   35.0    42.0    47.25    60.0\n",
      "kidsl6  428.0     0.140187    0.391923   0.0    0.0     0.0     0.00     2.0\n"
     ]
    }
   ],
   "source": [
    "print(mroz[mroz['hours']>0][['hours','educ','exper','age','kidsl6']].describe().transpose())"
   ]
  },
  {
   "cell_type": "code",
   "execution_count": 71,
   "id": "1d3d5441",
   "metadata": {},
   "outputs": [
    {
     "name": "stdout",
     "output_type": "stream",
     "text": [
      "        count       mean       std   min   25%   50%   75%   max\n",
      "hours   325.0   0.000000  0.000000   0.0   0.0   0.0   0.0   0.0\n",
      "educ    325.0  11.796923  2.181995   5.0  11.0  12.0  12.0  17.0\n",
      "exper   325.0   7.461538  6.918567   0.0   3.0   5.0  10.0  45.0\n",
      "age     325.0  43.283077  8.467796  30.0  36.0  44.0  50.0  60.0\n",
      "kidsl6  325.0   0.366154  0.636900   0.0   0.0   0.0   1.0   3.0\n"
     ]
    }
   ],
   "source": [
    "print(mroz[mroz['hours']==0][['hours','educ','exper','age','kidsl6']]\n",
    "      .describe().transpose())"
   ]
  },
  {
   "cell_type": "code",
   "execution_count": 72,
   "id": "a89bae8f",
   "metadata": {},
   "outputs": [
    {
     "name": "stdout",
     "output_type": "stream",
     "text": [
      "==============================================================================\n",
      "                 coef    std err          t      P>|t|      [0.025      0.975]\n",
      "------------------------------------------------------------------------------\n",
      "Intercept   1335.3060    235.649      5.667      0.000     872.695    1797.918\n",
      "educ          27.0857     12.240      2.213      0.027       3.057      51.114\n",
      "exper         48.0398      3.642     13.191      0.000      40.890      55.189\n",
      "age          -31.3078      3.961     -7.904      0.000     -39.084     -23.532\n",
      "kidsl6      -447.8547     58.413     -7.667      0.000    -562.527    -333.183\n",
      "==============================================================================\n"
     ]
    }
   ],
   "source": [
    "resols=smf.ols(formula='hours~educ+exper+age+kidsl6',data=mroz).fit()\n",
    "print(resols.summary().tables[1])"
   ]
  },
  {
   "cell_type": "code",
   "execution_count": 73,
   "id": "e4e0c561",
   "metadata": {},
   "outputs": [
    {
     "name": "stdout",
     "output_type": "stream",
     "text": [
      "==============================================================================\n",
      "                 coef    std err          t      P>|t|      [0.025      0.975]\n",
      "------------------------------------------------------------------------------\n",
      "Intercept   1829.7459    292.536      6.255      0.000    1254.741    2404.750\n",
      "educ         -16.4621     15.581     -1.057      0.291     -47.088      14.163\n",
      "exper         33.9364      5.009      6.775      0.000      24.090      43.782\n",
      "age          -17.1082      5.458     -3.135      0.002     -27.836      -6.381\n",
      "kidsl6      -305.3090     96.449     -3.165      0.002    -494.888    -115.730\n",
      "==============================================================================\n"
     ]
    }
   ],
   "source": [
    "mrozhg0=mroz[mroz['hours']>0]\n",
    "resolshg0=smf.ols(formula='hours~educ+exper+age+kidsl6',data=mrozhg0).fit()\n",
    "print(resolshg0.summary().tables[1])"
   ]
  },
  {
   "cell_type": "code",
   "execution_count": 74,
   "id": "6408e198",
   "metadata": {},
   "outputs": [
    {
     "name": "stdout",
     "output_type": "stream",
     "text": [
      "Optimization terminated successfully.\n",
      "         Current function value: 5.082528\n",
      "         Iterations: 491\n",
      "         Function evaluations: 794\n",
      "==============================================================================\n",
      "                 coef    std err          z      P>|z|      [0.025      0.975]\n",
      "------------------------------------------------------------------------------\n",
      "cons        1349.8761    386.299      3.494      0.000     592.744    2107.008\n",
      "educ          73.2910     20.475      3.580      0.000      33.162     113.420\n",
      "exper         80.5353      6.288     12.808      0.000      68.211      92.859\n",
      "age          -60.7678      6.888     -8.822      0.000     -74.268     -47.267\n",
      "kidsl6      -918.9181    111.661     -8.230      0.000   -1137.769    -700.067\n",
      "Log(Sigma)     7.0332      0.037    189.565      0.000       6.961       7.106\n",
      "==============================================================================\n"
     ]
    }
   ],
   "source": [
    "mroz=pd.read_csv(url+'mroz.csv')\n",
    "y=mroz['hours']\n",
    "mroz['cons']=1\n",
    "x=mroz[['cons','educ','exper','age','kidsl6']]\n",
    "censored=pd.Series(np.zeros((len(y),)))\n",
    "censored[y==0]=-1\n",
    "mrto=tobit.Tobit(y,x,cens=censored)\n",
    "res=mrto.fit()\n",
    "print(res.summary().tables[1])"
   ]
  },
  {
   "cell_type": "code",
   "execution_count": 75,
   "id": "9c40bb38",
   "metadata": {},
   "outputs": [
    {
     "name": "stdout",
     "output_type": "stream",
     "text": [
      "             wage        educ      exper      kidsl6\n",
      "count  753.000000  753.000000  753.00000  753.000000\n",
      "mean     2.374565   12.286853   10.63081    0.237716\n",
      "std      3.241829    2.280246    8.06913    0.523959\n",
      "min      0.000000    5.000000    0.00000    0.000000\n",
      "25%      0.000000   12.000000    4.00000    0.000000\n",
      "50%      1.625000   12.000000    9.00000    0.000000\n",
      "75%      3.787900   13.000000   15.00000    0.000000\n",
      "max     25.000000   17.000000   45.00000    3.000000\n",
      "       wage  educ  exper  kidsl6     lwage\n",
      "0    3.3540    12     14       1  1.210154\n",
      "1    1.3889    12      5       0  0.328512\n",
      "2    4.5455    12     15       1  1.514138\n",
      "3    1.0965    12      6       0  0.092123\n",
      "4    4.5918    14      7       1  1.524272\n",
      "..      ...   ...    ...     ...       ...\n",
      "748  0.0000    13      5       0       NaN\n",
      "749  0.0000    12     14       2       NaN\n",
      "750  0.0000    12      4       0       NaN\n",
      "751  0.0000    12     15       0       NaN\n",
      "752  0.0000     9     12       0       NaN\n",
      "\n",
      "[753 rows x 5 columns]\n"
     ]
    },
    {
     "name": "stderr",
     "output_type": "stream",
     "text": [
      "/opt/anaconda3/lib/python3.12/site-packages/pandas/core/arraylike.py:399: RuntimeWarning: divide by zero encountered in log\n",
      "  result = getattr(ufunc, method)(*inputs, **kwargs)\n"
     ]
    }
   ],
   "source": [
    "mroz=pd.read_csv(url+'mroz.csv')\n",
    "print(mroz[['wage','educ','exper','kidsl6']].describe())\n",
    "mroz['lwage']=np.where(mroz['wage']>0,np.log(mroz['wage']),np.nan)\n",
    "print(mroz[['wage','educ','exper','kidsl6','lwage']])"
   ]
  },
  {
   "cell_type": "code",
   "execution_count": 76,
   "id": "c3bf0fa8-c3a7-40ff-954f-94147e2ed3a7",
   "metadata": {},
   "outputs": [
    {
     "name": "stdout",
     "output_type": "stream",
     "text": [
      "==============================================================================\n",
      "                 coef    std err          t      P>|t|      [0.025      0.975]\n",
      "------------------------------------------------------------------------------\n",
      "Intercept     -0.4002      0.190     -2.102      0.036      -0.774      -0.026\n",
      "educ           0.1095      0.014      7.728      0.000       0.082       0.137\n",
      "exper          0.0157      0.004      3.900      0.000       0.008       0.024\n",
      "==============================================================================\n"
     ]
    }
   ],
   "source": [
    "resols=smf.ols('lwage~educ+exper',data=mroz).fit()\n",
    "print(resols.summary().tables[1])"
   ]
  },
  {
   "cell_type": "code",
   "execution_count": 77,
   "id": "cbd89453",
   "metadata": {},
   "outputs": [
    {
     "name": "stdout",
     "output_type": "stream",
     "text": [
      "Optimization terminated successfully.\n",
      "         Current function value: 0.656237\n",
      "         Iterations 5\n",
      "                          Probit Regression Results                           \n",
      "==============================================================================\n",
      "Dep. Variable:                    lfp   No. Observations:                  753\n",
      "Model:                         Probit   Df Residuals:                      748\n",
      "Method:                           MLE   Df Model:                            4\n",
      "Date:                Wed, 18 Jun 2025   Pseudo R-squ.:                 0.04026\n",
      "Time:                        09:29:25   Log-Likelihood:                -494.15\n",
      "converged:                       True   LL-Null:                       -514.87\n",
      "Covariance Type:            nonrobust   LLR p-value:                 2.164e-08\n",
      "==============================================================================\n",
      "                 coef    std err          z      P>|z|      [0.025      0.975]\n",
      "------------------------------------------------------------------------------\n",
      "Intercept      1.1923      0.721      1.655      0.098      -0.220       2.605\n",
      "age           -0.0206      0.007     -2.926      0.003      -0.034      -0.007\n",
      "educ           0.0838      0.023      3.610      0.000       0.038       0.129\n",
      "kids          -0.3139      0.124     -2.537      0.011      -0.556      -0.071\n",
      "mtr           -1.3939      0.617     -2.261      0.024      -2.602      -0.185\n",
      "==============================================================================\n"
     ]
    }
   ],
   "source": [
    "mroz['kids']=np.where(mroz.kidsl6+mroz.kids618>0,1,0)\n",
    "resp=probit('lfp~age+educ+kids+mtr',data=mroz).fit()\n",
    "print(resp.summary())"
   ]
  },
  {
   "cell_type": "code",
   "execution_count": 78,
   "id": "2cc6be6a",
   "metadata": {},
   "outputs": [
    {
     "name": "stdout",
     "output_type": "stream",
     "text": [
      "==============================================================================\n",
      "                 coef    std err          t      P>|t|      [0.025      0.975]\n",
      "------------------------------------------------------------------------------\n",
      "Intercept      0.8105      0.494      1.639      0.102      -0.161       1.782\n",
      "educ           0.0585      0.024      2.451      0.015       0.012       0.105\n",
      "exper          0.0163      0.004      4.082      0.000       0.008       0.024\n",
      "imr           -0.8664      0.327     -2.650      0.008      -1.509      -0.224\n",
      "==============================================================================\n"
     ]
    }
   ],
   "source": [
    "mroz['what']=(resp.params.iloc[0]+\n",
    "              resp.params.iloc[1]*mroz.age+\n",
    "              resp.params.iloc[2]*mroz.educ+\n",
    "              resp.params.iloc[3]*mroz.kids+\n",
    "              resp.params.iloc[4]*mroz.mtr)\n",
    "mroz['imr']=stats.norm.pdf(mroz.what)/stats.norm.cdf(mroz.what)\n",
    "res=smf.ols('lwage~educ+exper+imr',data=mroz).fit()\n",
    "print(res.summary().tables[1])"
   ]
  },
  {
   "cell_type": "code",
   "execution_count": 79,
   "id": "70d83b32-e5fe-4a7e-b1dc-a7105e6ca75a",
   "metadata": {},
   "outputs": [
    {
     "name": "stdout",
     "output_type": "stream",
     "text": [
      "                           Heckit Regression Results                            \n",
      "================================================================================\n",
      "Dep. Variable:                    lwage   R-squared:                      -0.507\n",
      "Model:                           Heckit   Adj. R-squared:                 -0.514\n",
      "Method:                Heckman Two-Step   F-statistics:                  -71.520\n",
      "Date:                  Wed, 18 Jun 2025   Prob (F-statistic):              1.000\n",
      "Time:                          09:29:25   Cov in 1st Stage:            nonrobust\n",
      "No. Total Obs.:                     753   Cov in 2nd Stage:            nonrobust\n",
      "No. Censored Obs.:                  325                                         \n",
      "No. Uncensored Obs.:                428                                         \n",
      "==============================================================================\n",
      "                 coef    std err          z      P>|z|      [0.025      0.975]\n",
      "------------------------------------------------------------------------------\n",
      "cons           0.8105      0.611      1.327      0.185      -0.387       2.008\n",
      "educ           0.0585      0.030      1.973      0.049       0.000       0.117\n",
      "exper          0.0163      0.004      3.884      0.000       0.008       0.025\n",
      "==============================================================================\n",
      "                 coef    std err          z      P>|z|      [0.025      0.975]\n",
      "------------------------------------------------------------------------------\n",
      "cons           1.1923      0.721      1.655      0.098      -0.220       2.605\n",
      "age           -0.0206      0.007     -2.926      0.003      -0.034      -0.007\n",
      "educ           0.0838      0.023      3.610      0.000       0.038       0.129\n",
      "kids          -0.3139      0.124     -2.537      0.011      -0.556      -0.071\n",
      "mtr           -1.3939      0.617     -2.261      0.024      -2.602      -0.185\n",
      "================================================================================\n",
      "                   coef    std err          z      P>|z|      [0.025      0.975]\n",
      "--------------------------------------------------------------------------------\n",
      "IMR (Lambda)    -0.8664      0.399     -2.170      0.030      -1.649      -0.084\n",
      "=====================================\n",
      "rho:                           -0.929\n",
      "sigma:                          0.933\n",
      "=====================================\n",
      "\n",
      "First table are the estimates for the regression (response) equation.\n",
      "Second table are the estimates for the selection equation.\n",
      "Third table is the estimate for the coef of the inverse Mills ratio (Heckman's Lambda).\n"
     ]
    }
   ],
   "source": [
    "mroz['cons']=1\n",
    "modheck=heckit.Heckit(mroz.lwage,mroz[['cons','educ','exper']],\n",
    "                      mroz[['cons','age','educ','kids','mtr']])\n",
    "resheck=modheck.fit(method='twostep')\n",
    "print(resheck.summary())"
   ]
  }
 ],
 "metadata": {
  "kernelspec": {
   "display_name": "Python 3 (ipykernel)",
   "language": "python",
   "name": "python3"
  },
  "language_info": {
   "codemirror_mode": {
    "name": "ipython",
    "version": 3
   },
   "file_extension": ".py",
   "mimetype": "text/x-python",
   "name": "python",
   "nbconvert_exporter": "python",
   "pygments_lexer": "ipython3",
   "version": "3.12.4"
  }
 },
 "nbformat": 4,
 "nbformat_minor": 5
}
