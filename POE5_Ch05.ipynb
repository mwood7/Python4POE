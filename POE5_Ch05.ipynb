{
 "cells": [
  {
   "cell_type": "markdown",
   "metadata": {},
   "source": [
    "## POE5 Chapter 5 Codes"
   ]
  },
  {
   "cell_type": "markdown",
   "metadata": {},
   "source": [
    "### POE5 Example 5.1 Data for Hamberger Chain"
   ]
  },
  {
   "cell_type": "code",
   "execution_count": 1,
   "metadata": {},
   "outputs": [],
   "source": [
    "%matplotlib inline\n",
    "import pandas as pd\n",
    "import numpy as np\n",
    "from scipy.stats import t\n",
    "import matplotlib.pyplot as plt\n",
    "import seaborn as sns\n",
    "import statsmodels.api as sm\n",
    "\n",
    "sns.set(font_scale=1.3)\n",
    "\n",
    "df = pd.read_excel('andy.xlsx')"
   ]
  },
  {
   "cell_type": "code",
   "execution_count": 2,
   "metadata": {},
   "outputs": [
    {
     "data": {
      "text/html": [
       "<div>\n",
       "<style scoped>\n",
       "    .dataframe tbody tr th:only-of-type {\n",
       "        vertical-align: middle;\n",
       "    }\n",
       "\n",
       "    .dataframe tbody tr th {\n",
       "        vertical-align: top;\n",
       "    }\n",
       "\n",
       "    .dataframe thead th {\n",
       "        text-align: right;\n",
       "    }\n",
       "</style>\n",
       "<table border=\"1\" class=\"dataframe\">\n",
       "  <thead>\n",
       "    <tr style=\"text-align: right;\">\n",
       "      <th></th>\n",
       "      <th>sales</th>\n",
       "      <th>price</th>\n",
       "      <th>advert</th>\n",
       "    </tr>\n",
       "  </thead>\n",
       "  <tbody>\n",
       "    <tr>\n",
       "      <th>0</th>\n",
       "      <td>73.2</td>\n",
       "      <td>5.69</td>\n",
       "      <td>1.3</td>\n",
       "    </tr>\n",
       "    <tr>\n",
       "      <th>1</th>\n",
       "      <td>71.8</td>\n",
       "      <td>6.49</td>\n",
       "      <td>2.9</td>\n",
       "    </tr>\n",
       "    <tr>\n",
       "      <th>2</th>\n",
       "      <td>62.4</td>\n",
       "      <td>5.63</td>\n",
       "      <td>0.8</td>\n",
       "    </tr>\n",
       "    <tr>\n",
       "      <th>3</th>\n",
       "      <td>67.4</td>\n",
       "      <td>6.22</td>\n",
       "      <td>0.7</td>\n",
       "    </tr>\n",
       "    <tr>\n",
       "      <th>4</th>\n",
       "      <td>89.3</td>\n",
       "      <td>5.02</td>\n",
       "      <td>1.5</td>\n",
       "    </tr>\n",
       "  </tbody>\n",
       "</table>\n",
       "</div>"
      ],
      "text/plain": [
       "   sales  price  advert\n",
       "0   73.2   5.69     1.3\n",
       "1   71.8   6.49     2.9\n",
       "2   62.4   5.63     0.8\n",
       "3   67.4   6.22     0.7\n",
       "4   89.3   5.02     1.5"
      ]
     },
     "execution_count": 2,
     "metadata": {},
     "output_type": "execute_result"
    }
   ],
   "source": [
    "df.head()"
   ]
  },
  {
   "cell_type": "code",
   "execution_count": 3,
   "metadata": {},
   "outputs": [
    {
     "data": {
      "text/plain": [
       "count    75.000000\n",
       "mean      5.687200\n",
       "std       0.518432\n",
       "min       4.830000\n",
       "25%       5.220000\n",
       "50%       5.690000\n",
       "75%       6.210000\n",
       "max       6.490000\n",
       "Name: price, dtype: float64"
      ]
     },
     "execution_count": 3,
     "metadata": {},
     "output_type": "execute_result"
    }
   ],
   "source": [
    "df.price.describe()"
   ]
  },
  {
   "cell_type": "code",
   "execution_count": 4,
   "metadata": {},
   "outputs": [
    {
     "data": {
      "text/plain": [
       "0.2687717837837837"
      ]
     },
     "execution_count": 4,
     "metadata": {},
     "output_type": "execute_result"
    }
   ],
   "source": [
    "df.price.var()"
   ]
  },
  {
   "cell_type": "code",
   "execution_count": 5,
   "metadata": {},
   "outputs": [
    {
     "data": {
      "text/plain": [
       "0.06311511207705003"
      ]
     },
     "execution_count": 5,
     "metadata": {},
     "output_type": "execute_result"
    }
   ],
   "source": [
    "df.price.skew()"
   ]
  },
  {
   "cell_type": "code",
   "execution_count": 6,
   "metadata": {},
   "outputs": [
    {
     "data": {
      "text/plain": [
       "-1.3416823560008861"
      ]
     },
     "execution_count": 6,
     "metadata": {},
     "output_type": "execute_result"
    }
   ],
   "source": [
    "df.price.kurtosis()"
   ]
  },
  {
   "cell_type": "markdown",
   "metadata": {},
   "source": [
    "**NOTE:** This kurtosis value does not agree with STATA Manual, but I checked on Excel and that gives the result -1.341682, so likely Stata manual is wrong."
   ]
  },
  {
   "cell_type": "code",
   "execution_count": 7,
   "metadata": {},
   "outputs": [
    {
     "data": {
      "text/html": [
       "<div>\n",
       "<style scoped>\n",
       "    .dataframe tbody tr th:only-of-type {\n",
       "        vertical-align: middle;\n",
       "    }\n",
       "\n",
       "    .dataframe tbody tr th {\n",
       "        vertical-align: top;\n",
       "    }\n",
       "\n",
       "    .dataframe thead th {\n",
       "        text-align: right;\n",
       "    }\n",
       "</style>\n",
       "<table border=\"1\" class=\"dataframe\">\n",
       "  <thead>\n",
       "    <tr style=\"text-align: right;\">\n",
       "      <th></th>\n",
       "      <th>sales</th>\n",
       "      <th>price</th>\n",
       "      <th>advert</th>\n",
       "    </tr>\n",
       "  </thead>\n",
       "  <tbody>\n",
       "    <tr>\n",
       "      <th>0</th>\n",
       "      <td>73.2</td>\n",
       "      <td>5.69</td>\n",
       "      <td>1.3</td>\n",
       "    </tr>\n",
       "    <tr>\n",
       "      <th>1</th>\n",
       "      <td>71.8</td>\n",
       "      <td>6.49</td>\n",
       "      <td>2.9</td>\n",
       "    </tr>\n",
       "    <tr>\n",
       "      <th>2</th>\n",
       "      <td>62.4</td>\n",
       "      <td>5.63</td>\n",
       "      <td>0.8</td>\n",
       "    </tr>\n",
       "    <tr>\n",
       "      <th>3</th>\n",
       "      <td>67.4</td>\n",
       "      <td>6.22</td>\n",
       "      <td>0.7</td>\n",
       "    </tr>\n",
       "    <tr>\n",
       "      <th>4</th>\n",
       "      <td>89.3</td>\n",
       "      <td>5.02</td>\n",
       "      <td>1.5</td>\n",
       "    </tr>\n",
       "  </tbody>\n",
       "</table>\n",
       "</div>"
      ],
      "text/plain": [
       "   sales  price  advert\n",
       "0   73.2   5.69     1.3\n",
       "1   71.8   6.49     2.9\n",
       "2   62.4   5.63     0.8\n",
       "3   67.4   6.22     0.7\n",
       "4   89.3   5.02     1.5"
      ]
     },
     "execution_count": 7,
     "metadata": {},
     "output_type": "execute_result"
    }
   ],
   "source": [
    "df[0:5]  # or can use df.head()"
   ]
  },
  {
   "cell_type": "code",
   "execution_count": 8,
   "metadata": {},
   "outputs": [
    {
     "data": {
      "text/html": [
       "<div>\n",
       "<style scoped>\n",
       "    .dataframe tbody tr th:only-of-type {\n",
       "        vertical-align: middle;\n",
       "    }\n",
       "\n",
       "    .dataframe tbody tr th {\n",
       "        vertical-align: top;\n",
       "    }\n",
       "\n",
       "    .dataframe thead th {\n",
       "        text-align: right;\n",
       "    }\n",
       "</style>\n",
       "<table border=\"1\" class=\"dataframe\">\n",
       "  <thead>\n",
       "    <tr style=\"text-align: right;\">\n",
       "      <th></th>\n",
       "      <th>sales</th>\n",
       "      <th>price</th>\n",
       "      <th>advert</th>\n",
       "    </tr>\n",
       "  </thead>\n",
       "  <tbody>\n",
       "    <tr>\n",
       "      <th>72</th>\n",
       "      <td>75.4</td>\n",
       "      <td>5.71</td>\n",
       "      <td>0.7</td>\n",
       "    </tr>\n",
       "    <tr>\n",
       "      <th>73</th>\n",
       "      <td>81.3</td>\n",
       "      <td>5.45</td>\n",
       "      <td>2.0</td>\n",
       "    </tr>\n",
       "    <tr>\n",
       "      <th>74</th>\n",
       "      <td>75.0</td>\n",
       "      <td>6.05</td>\n",
       "      <td>2.2</td>\n",
       "    </tr>\n",
       "  </tbody>\n",
       "</table>\n",
       "</div>"
      ],
      "text/plain": [
       "    sales  price  advert\n",
       "72   75.4   5.71     0.7\n",
       "73   81.3   5.45     2.0\n",
       "74   75.0   6.05     2.2"
      ]
     },
     "execution_count": 8,
     "metadata": {},
     "output_type": "execute_result"
    }
   ],
   "source": [
    "df[-3:]"
   ]
  },
  {
   "cell_type": "code",
   "execution_count": 9,
   "metadata": {},
   "outputs": [
    {
     "data": {
      "text/html": [
       "<div>\n",
       "<style scoped>\n",
       "    .dataframe tbody tr th:only-of-type {\n",
       "        vertical-align: middle;\n",
       "    }\n",
       "\n",
       "    .dataframe tbody tr th {\n",
       "        vertical-align: top;\n",
       "    }\n",
       "\n",
       "    .dataframe thead th {\n",
       "        text-align: right;\n",
       "    }\n",
       "</style>\n",
       "<table border=\"1\" class=\"dataframe\">\n",
       "  <thead>\n",
       "    <tr style=\"text-align: right;\">\n",
       "      <th></th>\n",
       "      <th>sales</th>\n",
       "      <th>price</th>\n",
       "      <th>advert</th>\n",
       "    </tr>\n",
       "  </thead>\n",
       "  <tbody>\n",
       "    <tr>\n",
       "      <th>70</th>\n",
       "      <td>82.2</td>\n",
       "      <td>5.73</td>\n",
       "      <td>1.7</td>\n",
       "    </tr>\n",
       "    <tr>\n",
       "      <th>71</th>\n",
       "      <td>74.2</td>\n",
       "      <td>5.11</td>\n",
       "      <td>0.7</td>\n",
       "    </tr>\n",
       "    <tr>\n",
       "      <th>72</th>\n",
       "      <td>75.4</td>\n",
       "      <td>5.71</td>\n",
       "      <td>0.7</td>\n",
       "    </tr>\n",
       "    <tr>\n",
       "      <th>73</th>\n",
       "      <td>81.3</td>\n",
       "      <td>5.45</td>\n",
       "      <td>2.0</td>\n",
       "    </tr>\n",
       "    <tr>\n",
       "      <th>74</th>\n",
       "      <td>75.0</td>\n",
       "      <td>6.05</td>\n",
       "      <td>2.2</td>\n",
       "    </tr>\n",
       "  </tbody>\n",
       "</table>\n",
       "</div>"
      ],
      "text/plain": [
       "    sales  price  advert\n",
       "70   82.2   5.73     1.7\n",
       "71   74.2   5.11     0.7\n",
       "72   75.4   5.71     0.7\n",
       "73   81.3   5.45     2.0\n",
       "74   75.0   6.05     2.2"
      ]
     },
     "execution_count": 9,
     "metadata": {},
     "output_type": "execute_result"
    }
   ],
   "source": [
    "df.tail()  # shows last 5 lines"
   ]
  },
  {
   "cell_type": "code",
   "execution_count": 10,
   "metadata": {},
   "outputs": [
    {
     "data": {
      "text/html": [
       "<div>\n",
       "<style scoped>\n",
       "    .dataframe tbody tr th:only-of-type {\n",
       "        vertical-align: middle;\n",
       "    }\n",
       "\n",
       "    .dataframe tbody tr th {\n",
       "        vertical-align: top;\n",
       "    }\n",
       "\n",
       "    .dataframe thead th {\n",
       "        text-align: right;\n",
       "    }\n",
       "</style>\n",
       "<table border=\"1\" class=\"dataframe\">\n",
       "  <thead>\n",
       "    <tr style=\"text-align: right;\">\n",
       "      <th></th>\n",
       "      <th>sales</th>\n",
       "      <th>price</th>\n",
       "      <th>advert</th>\n",
       "    </tr>\n",
       "  </thead>\n",
       "  <tbody>\n",
       "    <tr>\n",
       "      <th>72</th>\n",
       "      <td>75.4</td>\n",
       "      <td>5.71</td>\n",
       "      <td>0.7</td>\n",
       "    </tr>\n",
       "    <tr>\n",
       "      <th>73</th>\n",
       "      <td>81.3</td>\n",
       "      <td>5.45</td>\n",
       "      <td>2.0</td>\n",
       "    </tr>\n",
       "    <tr>\n",
       "      <th>74</th>\n",
       "      <td>75.0</td>\n",
       "      <td>6.05</td>\n",
       "      <td>2.2</td>\n",
       "    </tr>\n",
       "  </tbody>\n",
       "</table>\n",
       "</div>"
      ],
      "text/plain": [
       "    sales  price  advert\n",
       "72   75.4   5.71     0.7\n",
       "73   81.3   5.45     2.0\n",
       "74   75.0   6.05     2.2"
      ]
     },
     "execution_count": 10,
     "metadata": {},
     "output_type": "execute_result"
    }
   ],
   "source": [
    "df.tail(3)  # to show last 3 lines"
   ]
  },
  {
   "cell_type": "markdown",
   "metadata": {},
   "source": [
    "### Now doing the regression"
   ]
  },
  {
   "cell_type": "code",
   "execution_count": 11,
   "metadata": {},
   "outputs": [
    {
     "name": "stdout",
     "output_type": "stream",
     "text": [
      "                 Results: Ordinary least squares\n",
      "=================================================================\n",
      "Model:              OLS              Adj. R-squared:     0.433   \n",
      "Dependent Variable: sales            AIC:                453.7390\n",
      "Date:               2020-08-06 13:37 BIC:                460.6915\n",
      "No. Observations:   75               Log-Likelihood:     -223.87 \n",
      "Df Model:           2                F-statistic:        29.25   \n",
      "Df Residuals:       72               Prob (F-statistic): 5.04e-10\n",
      "R-squared:          0.448            Scale:              23.874  \n",
      "------------------------------------------------------------------\n",
      "            Coef.    Std.Err.     t     P>|t|    [0.025    0.975] \n",
      "------------------------------------------------------------------\n",
      "const      118.9136    6.3516  18.7217  0.0000  106.2519  131.5754\n",
      "price       -7.9079    1.0960  -7.2152  0.0000  -10.0927   -5.7230\n",
      "advert       1.8626    0.6832   2.7263  0.0080    0.5007    3.2245\n",
      "-----------------------------------------------------------------\n",
      "Omnibus:               0.535        Durbin-Watson:          2.183\n",
      "Prob(Omnibus):         0.765        Jarque-Bera (JB):       0.159\n",
      "Skew:                  -0.072       Prob(JB):               0.924\n",
      "Kurtosis:              3.174        Condition No.:          70   \n",
      "=================================================================\n",
      "\n"
     ]
    }
   ],
   "source": [
    "df['const'] = 1.\n",
    "\n",
    "reg = sm.OLS(endog=df['sales'],exog=df[['const','price','advert']])\n",
    "res = reg.fit()\n",
    "\n",
    "print(res.summary2())"
   ]
  },
  {
   "cell_type": "markdown",
   "metadata": {},
   "source": [
    "### POE5 Example 5.2 (continued)"
   ]
  },
  {
   "cell_type": "code",
   "execution_count": 12,
   "metadata": {},
   "outputs": [],
   "source": [
    "beta0 = res.params.const\n",
    "beta1 = res.params.price\n",
    "beta2 = res.params.advert"
   ]
  },
  {
   "cell_type": "code",
   "execution_count": 13,
   "metadata": {},
   "outputs": [
    {
     "name": "stdout",
     "output_type": "stream",
     "text": [
      "Predicted sales = $77655.51\n"
     ]
    }
   ],
   "source": [
    "def predicted(price,advert):\n",
    "    return beta0 + beta1*price + beta2*advert\n",
    "\n",
    "price = 5.50\n",
    "advert = 1.2\n",
    "\n",
    "print(f\"Predicted sales = ${predicted(price,advert)*1000:.2f}\")"
   ]
  },
  {
   "cell_type": "markdown",
   "metadata": {},
   "source": [
    "### Carter uses 'lincom' in Stata manual.  Not sure how to do that in Python\n",
    "\n",
    "An alternative to the above is to use the predict method."
   ]
  },
  {
   "cell_type": "code",
   "execution_count": 14,
   "metadata": {},
   "outputs": [
    {
     "name": "stdout",
     "output_type": "stream",
     "text": [
      "Predicted sales = $77655.51\n"
     ]
    }
   ],
   "source": [
    "yhat = res.predict(exog=np.array([1,5.5,1.2]))\n",
    "print(f\"Predicted sales = ${yhat[0]*1000:.2f}\")"
   ]
  },
  {
   "cell_type": "markdown",
   "metadata": {},
   "source": [
    "With this approach, yhat is an array with one element, so we have to use the \"[0]\" to let the parser know we want just that element of the array.  Alternatively, we can add a comma (,) as shown below, and then we're telling the system that we just want that first element stored into the variable yhat.  You can use whichever approach feels cleaner to you.  (need to clean this up for the textbook) "
   ]
  },
  {
   "cell_type": "code",
   "execution_count": 15,
   "metadata": {},
   "outputs": [
    {
     "name": "stdout",
     "output_type": "stream",
     "text": [
      "Predicted sales = $77655.51\n"
     ]
    }
   ],
   "source": [
    "yhat, = res.predict(exog=np.array([1,5.5,1.2]))\n",
    "print(f\"Predicted sales = ${yhat*1000:.2f}\")"
   ]
  },
  {
   "cell_type": "markdown",
   "metadata": {},
   "source": [
    "**Rescaling the variables**\n",
    "\n",
    "POE5 Example 5.2 (continued)\n",
    "\n",
    "What if we change the units of measurement for the variables of the model such that PRICE is measured in cents and SALES in dollars?"
   ]
  },
  {
   "cell_type": "code",
   "execution_count": 16,
   "metadata": {},
   "outputs": [
    {
     "name": "stdout",
     "output_type": "stream",
     "text": [
      "                  Results: Ordinary least squares\n",
      "===================================================================\n",
      "Model:              OLS              Adj. R-squared:     0.433     \n",
      "Dependent Variable: sales2           AIC:                1489.9023 \n",
      "Date:               2020-08-06 13:37 BIC:                1496.8548 \n",
      "No. Observations:   75               Log-Likelihood:     -741.95   \n",
      "Df Model:           2                F-statistic:        29.25     \n",
      "Df Residuals:       72               Prob (F-statistic): 5.04e-10  \n",
      "R-squared:          0.448            Scale:              2.3874e+07\n",
      "-------------------------------------------------------------------\n",
      "          Coef.     Std.Err.    t    P>|t|     [0.025      0.975]  \n",
      "-------------------------------------------------------------------\n",
      "const  118913.6104 6351.6375 18.7217 0.0000 106251.8524 131575.3684\n",
      "price2    -79.0785   10.9599 -7.2152 0.0000   -100.9268    -57.2303\n",
      "advert   1862.5843  683.1955  2.7263 0.0080    500.6590   3224.5096\n",
      "-------------------------------------------------------------------\n",
      "Omnibus:               0.535         Durbin-Watson:           2.183\n",
      "Prob(Omnibus):         0.765         Jarque-Bera (JB):        0.159\n",
      "Skew:                  -0.072        Prob(JB):                0.924\n",
      "Kurtosis:              3.174         Condition No.:           6430 \n",
      "===================================================================\n",
      "* The condition number is large (6e+03). This might indicate\n",
      "strong multicollinearity or other numerical problems.\n"
     ]
    }
   ],
   "source": [
    "df['sales2'] = df.sales*1000\n",
    "df['price2'] = df.price*100\n",
    "\n",
    "reg2 = sm.OLS(endog=df['sales2'],exog=df[['const','price2','advert']])\n",
    "res2 = reg2.fit()\n",
    "\n",
    "print(res2.summary2())"
   ]
  },
  {
   "cell_type": "markdown",
   "metadata": {},
   "source": [
    "### 5.2.4 Estimating the Error Variance\n",
    "\n",
    "**POE5 Example 5.3 Error Variance Estimate for Hamburger Chain Data**\n",
    "\n",
    "To esimate the equation's error variance, use the equation\n",
    "\n",
    "$$\n",
    "\\hat\\sigma^2 = \\frac{\\sum_{i = 1}^{N} \\hat e_i^2}{N-K}\n",
    "$$\n",
    "\n",
    "This value is stored in the 'res' object as res.scale\n"
   ]
  },
  {
   "cell_type": "code",
   "execution_count": 17,
   "metadata": {},
   "outputs": [
    {
     "name": "stdout",
     "output_type": "stream",
     "text": [
      "23.874207456853224 4.886123970679952\n"
     ]
    }
   ],
   "source": [
    "print(res.scale,np.sqrt(res.scale))"
   ]
  },
  {
   "cell_type": "markdown",
   "metadata": {},
   "source": [
    "We could also calculate it via the equation if we wanted.  The sum in the numerator of equation N is stored in res.ssr, and the DOF of the model (N-K) is stored in res.df_resid, so"
   ]
  },
  {
   "cell_type": "code",
   "execution_count": 18,
   "metadata": {},
   "outputs": [],
   "source": [
    "sighat_squared = res.ssr / res.df_resid"
   ]
  },
  {
   "cell_type": "code",
   "execution_count": 19,
   "metadata": {},
   "outputs": [
    {
     "name": "stdout",
     "output_type": "stream",
     "text": [
      "23.874207456853224 4.886123970679952\n"
     ]
    }
   ],
   "source": [
    "print(sighat_squared,np.sqrt(sighat_squared))"
   ]
  },
  {
   "cell_type": "markdown",
   "metadata": {},
   "source": [
    "### 5.2.5 Measuring Goodness-of-Fit\n",
    "\n",
    "**POE5 Example 5.4 $R^2$ for Hamburger Chain Data**\n",
    "\n",
    "Decompose the total sum of square od fhte dependent variable (SST) into the explained (SSR) and unexplained (SSE) variation\n",
    "$$\n",
    "SST = SSR + SSE\n",
    "$$\n",
    "Then goodness-of-fit is \n",
    "$$\n",
    "R^2 = \\frac{SSR}{SST} = 1 - \\frac{SSE}{SST}\n",
    "$$\n",
    "The value of $R^2$ as estimated from the model is stored as res.rsquared."
   ]
  },
  {
   "cell_type": "code",
   "execution_count": 20,
   "metadata": {},
   "outputs": [
    {
     "name": "stdout",
     "output_type": "stream",
     "text": [
      "0.4482577622149434\n"
     ]
    }
   ],
   "source": [
    "print(res.rsquared)"
   ]
  },
  {
   "cell_type": "markdown",
   "metadata": {},
   "source": [
    "The adjusted $R^2$ is stored in res.rsquared_adj"
   ]
  },
  {
   "cell_type": "code",
   "execution_count": 21,
   "metadata": {},
   "outputs": [
    {
     "name": "stdout",
     "output_type": "stream",
     "text": [
      "0.4329315889431363\n"
     ]
    }
   ],
   "source": [
    "print(res.rsquared_adj)"
   ]
  },
  {
   "cell_type": "markdown",
   "metadata": {},
   "source": [
    "### 5.2.6 Frisch-Waugh-Lovel"
   ]
  },
  {
   "cell_type": "code",
   "execution_count": 22,
   "metadata": {},
   "outputs": [
    {
     "name": "stdout",
     "output_type": "stream",
     "text": [
      "                       Results: Ordinary least squares\n",
      "==============================================================================\n",
      "Model:                  OLS              Adj. R-squared (uncentered): 0.081   \n",
      "Dependent Variable:     sales_resid      AIC:                         449.7390\n",
      "Date:                   2020-08-06 13:37 BIC:                         452.0565\n",
      "No. Observations:       75               Log-Likelihood:              -223.87 \n",
      "Df Model:               1                F-statistic:                 7.639   \n",
      "Df Residuals:           74               Prob (F-statistic):          0.00720 \n",
      "R-squared (uncentered): 0.094            Scale:                       23.229  \n",
      "----------------------------------------------------------------------------------\n",
      "                   Coef.      Std.Err.       t        P>|t|      [0.025     0.975]\n",
      "----------------------------------------------------------------------------------\n",
      "advert_resid       1.8626       0.6739     2.7639     0.0072     0.5198     3.2054\n",
      "------------------------------------------------------------------------------\n",
      "Omnibus:                  0.535             Durbin-Watson:               2.183\n",
      "Prob(Omnibus):            0.765             Jarque-Bera (JB):            0.159\n",
      "Skew:                     -0.072            Prob(JB):                    0.924\n",
      "Kurtosis:                 3.174             Condition No.:               1    \n",
      "==============================================================================\n",
      "\n"
     ]
    }
   ],
   "source": [
    "reg = sm.OLS(endog=df['sales'],exog=df[['const','price']])\n",
    "res_sales = reg.fit()\n",
    "df['sales_resid'] = df.sales - res_sales.predict()\n",
    "\n",
    "reg = sm.OLS(endog=df['advert'],exog=df[['const','price']])\n",
    "res_advert = reg.fit()\n",
    "df['advert_resid'] = df.advert - res_advert.predict()\n",
    "\n",
    "reg = sm.OLS(endog=df['sales_resid'],exog=df[['advert_resid']])\n",
    "res = reg.fit()\n",
    "\n",
    "print(res.summary2())"
   ]
  },
  {
   "cell_type": "code",
   "execution_count": 23,
   "metadata": {},
   "outputs": [
    {
     "name": "stdout",
     "output_type": "stream",
     "text": [
      "                 Results: Ordinary least squares\n",
      "=================================================================\n",
      "Model:              OLS              Adj. R-squared:     0.433   \n",
      "Dependent Variable: sales            AIC:                453.7390\n",
      "Date:               2020-08-06 13:37 BIC:                460.6915\n",
      "No. Observations:   75               Log-Likelihood:     -223.87 \n",
      "Df Model:           2                F-statistic:        29.25   \n",
      "Df Residuals:       72               Prob (F-statistic): 5.04e-10\n",
      "R-squared:          0.448            Scale:              23.874  \n",
      "------------------------------------------------------------------\n",
      "            Coef.    Std.Err.     t     P>|t|    [0.025    0.975] \n",
      "------------------------------------------------------------------\n",
      "const      118.9136    6.3516  18.7217  0.0000  106.2519  131.5754\n",
      "price       -7.9079    1.0960  -7.2152  0.0000  -10.0927   -5.7230\n",
      "advert       1.8626    0.6832   2.7263  0.0080    0.5007    3.2245\n",
      "-----------------------------------------------------------------\n",
      "Omnibus:               0.535        Durbin-Watson:          2.183\n",
      "Prob(Omnibus):         0.765        Jarque-Bera (JB):       0.159\n",
      "Skew:                  -0.072       Prob(JB):               0.924\n",
      "Kurtosis:              3.174        Condition No.:          70   \n",
      "=================================================================\n",
      "\n"
     ]
    }
   ],
   "source": [
    "# Redoing the OLS here to get results in 'res' again.  Might want to \n",
    "# clean up the intermediate stuff so we don't have to do this ?\n",
    "\n",
    "reg = sm.OLS(endog=df['sales'],exog=df[['const','price','advert']])\n",
    "res = reg.fit()\n",
    "\n",
    "print(res.summary2())"
   ]
  },
  {
   "cell_type": "markdown",
   "metadata": {},
   "source": [
    "### 5.3 Least Squares Precision\n",
    "\n",
    "The covariance matrix is available via the method res.cov_params().  This returns a pandas dataframe object.\n",
    "\n",
    "$$\n",
    "{\\rm cov}(b_0,b_1,b_2) = \n",
    "\\begin{bmatrix}\n",
    "{\\rm var}(b_0) & {\\rm cov}(b_0,b_1) & {\\rm cov}(b_0,b_2) \\\\\n",
    "{\\rm cov}(b_0,b_1) & {\\rm var}(b_1) & {\\rm cov}(b_1,b_2) \\\\\n",
    "{\\rm cov}(b_0,b_2) & {\\rm cov}(b_1,b_2) & {\\rm var}(b_2)\n",
    "\\end{bmatrix}\n",
    "$$"
   ]
  },
  {
   "cell_type": "code",
   "execution_count": 24,
   "metadata": {},
   "outputs": [
    {
     "name": "stdout",
     "output_type": "stream",
     "text": [
      "            const     price    advert\n",
      "const   40.343299 -6.795064 -0.748421\n",
      "price   -6.795064  1.201201 -0.019742\n",
      "advert  -0.748421 -0.019742  0.466756\n"
     ]
    }
   ],
   "source": [
    "cov_matrix = res.cov_params()\n",
    "print(cov_matrix)"
   ]
  },
  {
   "cell_type": "markdown",
   "metadata": {},
   "source": [
    "So the estimated variance of $b_1$ (*price*) is 1.20 and its estimated covariance with $b_2$ (*advert*) is -0.0197.\n",
    "\n",
    "If we take the square roots of the diagonal elements we obtain the least squares standard errors.  We can use NumPy's `.diag` method as follows.  Comparing with the output table above confirms these are the reported standard errors.\n"
   ]
  },
  {
   "cell_type": "code",
   "execution_count": 25,
   "metadata": {},
   "outputs": [
    {
     "name": "stdout",
     "output_type": "stream",
     "text": [
      "[6.35163751 1.09599302 0.68319547]\n"
     ]
    }
   ],
   "source": [
    "print(np.sqrt(np.diag(cov_matrix)))"
   ]
  },
  {
   "cell_type": "markdown",
   "metadata": {},
   "source": [
    "We can also get these individually:"
   ]
  },
  {
   "cell_type": "code",
   "execution_count": 26,
   "metadata": {},
   "outputs": [
    {
     "name": "stdout",
     "output_type": "stream",
     "text": [
      "6.351637506245157\n",
      "1.095993022061845\n",
      "0.683195473785013\n"
     ]
    }
   ],
   "source": [
    "print(np.sqrt(cov_matrix.const.const))\n",
    "print(np.sqrt(cov_matrix.price.price))\n",
    "print(np.sqrt(cov_matrix.advert.advert))"
   ]
  },
  {
   "cell_type": "markdown",
   "metadata": {},
   "source": [
    "But the standard errors of the diagonal elements are available to us in `res.bse`.  The `b` in `bse` is a historical artifact from the linear model y = X b + u.  It would cause less confusion if this object was instead named `params_se` in parallel with `params`, but `bse` it is for the forseeable future."
   ]
  },
  {
   "cell_type": "code",
   "execution_count": 27,
   "metadata": {},
   "outputs": [
    {
     "name": "stdout",
     "output_type": "stream",
     "text": [
      "const     6.351638\n",
      "price     1.095993\n",
      "advert    0.683195\n",
      "dtype: float64\n"
     ]
    }
   ],
   "source": [
    "print(res.bse)"
   ]
  },
  {
   "cell_type": "markdown",
   "metadata": {},
   "source": [
    "And if we just want the standard error of the price, we can call `res.bse.price`"
   ]
  },
  {
   "cell_type": "code",
   "execution_count": 28,
   "metadata": {},
   "outputs": [
    {
     "name": "stdout",
     "output_type": "stream",
     "text": [
      "1.095993022061845\n"
     ]
    }
   ],
   "source": [
    "print(res.bse.price)"
   ]
  },
  {
   "cell_type": "markdown",
   "metadata": {},
   "source": [
    "### 5.4 Confidence Intervals\n",
    "\n",
    "**POE5 Example 5.6 Interval Estimates for Coefficients in Hamburger Sales Equation**\n",
    "\n",
    "Lots of description of what we're doing...\n",
    "\n"
   ]
  },
  {
   "cell_type": "markdown",
   "metadata": {},
   "source": [
    "Note that the 95% CI is given as part of the summary output.\n",
    "\n",
    "Other CIs are avialable via the `.conf_int()` method:\n"
   ]
  },
  {
   "cell_type": "code",
   "execution_count": 29,
   "metadata": {},
   "outputs": [
    {
     "name": "stdout",
     "output_type": "stream",
     "text": [
      "                 0           1\n",
      "const   106.251852  131.575368\n",
      "price   -10.092676   -5.723032\n",
      "advert    0.500659    3.224510\n"
     ]
    }
   ],
   "source": [
    "print(res.conf_int(alpha=0.05))\n",
    "\n"
   ]
  },
  {
   "cell_type": "code",
   "execution_count": 30,
   "metadata": {},
   "outputs": [
    {
     "name": "stdout",
     "output_type": "stream",
     "text": [
      "                 0           1\n",
      "const   102.108118  135.719103\n",
      "price   -10.807690   -5.008019\n",
      "advert    0.054950    3.670218\n"
     ]
    }
   ],
   "source": [
    "print(res.conf_int(alpha=0.01)) # 99% CI"
   ]
  },
  {
   "cell_type": "markdown",
   "metadata": {},
   "source": [
    "If we want to print the summary table with a different CI that 95%, we can do that.  Here we also show that we can change the title of the table, which might be useful if we are cutting/pasting into a journal article.\n"
   ]
  },
  {
   "cell_type": "code",
   "execution_count": 31,
   "metadata": {},
   "outputs": [
    {
     "name": "stdout",
     "output_type": "stream",
     "text": [
      "                            My Title\n",
      "=================================================================\n",
      "Model:              OLS              Adj. R-squared:     0.433   \n",
      "Dependent Variable: sales            AIC:                453.7390\n",
      "Date:               2020-08-06 13:37 BIC:                460.6915\n",
      "No. Observations:   75               Log-Likelihood:     -223.87 \n",
      "Df Model:           2                F-statistic:        29.25   \n",
      "Df Residuals:       72               Prob (F-statistic): 5.04e-10\n",
      "R-squared:          0.448            Scale:              23.874  \n",
      "------------------------------------------------------------------\n",
      "            Coef.    Std.Err.     t     P>|t|    [0.05     0.95]  \n",
      "------------------------------------------------------------------\n",
      "const      118.9136    6.3516  18.7217  0.0000  108.3299  129.4973\n",
      "price       -7.9079    1.0960  -7.2152  0.0000   -9.7341   -6.0816\n",
      "advert       1.8626    0.6832   2.7263  0.0080    0.7242    3.0010\n",
      "-----------------------------------------------------------------\n",
      "Omnibus:               0.535        Durbin-Watson:          2.183\n",
      "Prob(Omnibus):         0.765        Jarque-Bera (JB):       0.159\n",
      "Skew:                  -0.072       Prob(JB):               0.924\n",
      "Kurtosis:              3.174        Condition No.:          70   \n",
      "=================================================================\n",
      "\n"
     ]
    }
   ],
   "source": [
    "print(res.summary2(alpha=0.1,title=\"My Title\"))"
   ]
  },
  {
   "cell_type": "markdown",
   "metadata": {},
   "source": [
    "And if we are only interested in the 99% CI for the `advert` column, we can specify that as follows"
   ]
  },
  {
   "cell_type": "code",
   "execution_count": 32,
   "metadata": {},
   "outputs": [],
   "source": [
    "# Haven't figured this out yet - moving on!"
   ]
  },
  {
   "cell_type": "markdown",
   "metadata": {},
   "source": [
    "**This section above may need more cells, but I'm moving on for now.**"
   ]
  },
  {
   "cell_type": "markdown",
   "metadata": {},
   "source": [
    "### 5.4.2 Linear Combination of Parameters\n",
    "\n",
    "**POE5 Example 5.7 Interval Estimate for a Change in Sales**\n",
    "\n",
    "Do this later when I have internet\n"
   ]
  },
  {
   "cell_type": "markdown",
   "metadata": {},
   "source": [
    "### 5.6 Hypothesis Tests\n",
    "\n",
    "**POE5 Example 5.8 Testing the Significance of Price**\n",
    "\n",
    "The $t$-ratio test that $\\beta_1 = 0$ against the two-sided alternative that $\\beta_1\\ne0$ is\n",
    "$$\n",
    "t = \\frac{b_2 - 0}{se(b_2)}\\sim t_{(N-K)}\n",
    "$$\n",
    "The fit parameters $b_i$ are obtained via the method `.params` and then\n",
    "The value for $b_2$ is stored in `.price` (clean up the language)"
   ]
  },
  {
   "cell_type": "code",
   "execution_count": 33,
   "metadata": {},
   "outputs": [
    {
     "name": "stdout",
     "output_type": "stream",
     "text": [
      "-7.215241491451143\n"
     ]
    }
   ],
   "source": [
    "t1 = res.params.price/res.bse.price\n",
    "print(t1)"
   ]
  },
  {
   "cell_type": "markdown",
   "metadata": {},
   "source": [
    "This is also available directly, via (and might just want to include only this and not the cells above)"
   ]
  },
  {
   "cell_type": "code",
   "execution_count": 34,
   "metadata": {},
   "outputs": [
    {
     "name": "stdout",
     "output_type": "stream",
     "text": [
      "-7.215241491451143\n"
     ]
    }
   ],
   "source": [
    "print(res.tvalues.price)"
   ]
  },
  {
   "cell_type": "markdown",
   "metadata": {},
   "source": [
    "The $p$-values are available via res.pvalues"
   ]
  },
  {
   "cell_type": "code",
   "execution_count": 35,
   "metadata": {},
   "outputs": [
    {
     "name": "stdout",
     "output_type": "stream",
     "text": [
      "4.4239972874347194e-10\n"
     ]
    }
   ],
   "source": [
    "print(res.pvalues.price)"
   ]
  },
  {
   "cell_type": "code",
   "execution_count": 36,
   "metadata": {},
   "outputs": [
    {
     "name": "stdout",
     "output_type": "stream",
     "text": [
      "1.9934635662785827\n"
     ]
    }
   ],
   "source": [
    "from scipy.stats import t\n",
    "\n",
    "c1 = t.ppf(0.975,res.df_resid)\n",
    "print(c1)"
   ]
  },
  {
   "cell_type": "markdown",
   "metadata": {},
   "source": [
    "The null hypothesis is rejected if $|t| > c1$."
   ]
  },
  {
   "cell_type": "markdown",
   "metadata": {},
   "source": [
    "**POE5 Example 5.9 Testing the Significance of Advertising Expenditure**\n",
    "\n",
    "The two-sided test that $beta_2 = 0$ is similar to above\n"
   ]
  },
  {
   "cell_type": "code",
   "execution_count": 37,
   "metadata": {},
   "outputs": [
    {
     "name": "stdout",
     "output_type": "stream",
     "text": [
      "t2 = 2.7263\n",
      "p2 = 8.038e-03\n",
      "c2 = 1.9935\n"
     ]
    }
   ],
   "source": [
    "t2 = res.tvalues.advert\n",
    "p2 = res.pvalues.advert\n",
    "c2 = t.ppf(0.975,res.df_resid)\n",
    "print(f\"t2 = {t2:.4f}\\np2 = {p2:.3e}\\nc2 = {c2:.4f}\")"
   ]
  },
  {
   "cell_type": "markdown",
   "metadata": {},
   "source": [
    "Statsmodels.OLS includes the calculations of these two-tailed tests of significance when a regression is calculated **(insert image capture from summary2() or just point back to that figure).**"
   ]
  },
  {
   "cell_type": "markdown",
   "metadata": {},
   "source": [
    "### 5.5.2 One-Sided $t$-test\n",
    "\n",
    "**POE5 Example 5.10 Testing for Elastic Demand**\n",
    "\n",
    "To test the null hypythesis that $\\beta_1\\ge0$ agains the alternative $\\beta_1<0$, we use the same statistic as above for $t$, but the critical value is now in the left tail of the $t$-distribution  **Asli check Stata manual p 218 where 'scalar crit = -invttail...'  I think the '-' should not be there.** ??\n"
   ]
  },
  {
   "cell_type": "code",
   "execution_count": 38,
   "metadata": {},
   "outputs": [
    {
     "name": "stdout",
     "output_type": "stream",
     "text": [
      "t1   = -7.2152\n",
      "crit = -1.6663\n",
      "pval =  2.212e-10\n"
     ]
    }
   ],
   "source": [
    "t1 = res.tvalues.price\n",
    "crit = t.ppf(0.05,res.df_resid)\n",
    "pval = 1-t.sf(t1,res.df_resid)\n",
    "\n",
    "print(f\"t1   = {t1:7.4f}\\ncrit = {crit:7.4f}\\npval = {pval:10.3e}\")"
   ]
  },
  {
   "cell_type": "markdown",
   "metadata": {},
   "source": [
    "**POE5 Example 5.11 Testing Advertising Effectiveness**\n",
    "\n",
    "The test of advertising effectiveness is to compare the null hypothesis $\\beta_2\\le1$ against the alternative $\\beta_2>1$.  Because of this, we cannot simply use `res.tvalues.advert` but must do the calculation as follows:"
   ]
  },
  {
   "cell_type": "code",
   "execution_count": 39,
   "metadata": {},
   "outputs": [
    {
     "name": "stdout",
     "output_type": "stream",
     "text": [
      "t2   =  1.2626\n",
      "crit = -1.6663\n",
      "pval =  0.1054\n"
     ]
    }
   ],
   "source": [
    "t2 = (res.params.advert-1)/res.bse.advert\n",
    "\n",
    "crit = t.ppf(0.05,res.df_resid)\n",
    "pval = t.sf(t2,res.df_resid)\n",
    "\n",
    "print(f\"t2   = {t2:7.4f}\\ncrit = {crit:7.4f}\\npval = {pval:7.4f}\")"
   ]
  },
  {
   "cell_type": "markdown",
   "metadata": {},
   "source": [
    "### 5.5.3 Testing a Linear Combination\n",
    "\n",
    "**POE5 Example 5.12 Testing the Effect of Changes in Price and Advertising**\n",
    "\n",
    "(copied)Big Andy’s marketing adviser claims that dropping the price by 20 cents will be more effective for\n",
    "increasing sales revenue than increasing advertising expenditure by $500. In terms of the model,\n",
    "she thinks that −0.2 β2 > 0.5β3. The null hypothesis is that 2 3 −0.2 β − 0.5β ≤ 0 and the alternative\n",
    "is 2 3 −0.2 β − 0.5β > 0\n",
    "\n",
    "**Now that I have this figured out, it will be explained up above where we first talk about `lincom` stuff from Stata manual**\n",
    "\n",
    "        In order to test a linear combination using Statsmodels.OLS, we make use of the method `res.t_test(r)` which requires that we have an array `r` that specifies the linear restrictions. It is assumed that the linear combination is equal to zero.  In our case, we want to model $-0.2\\beta_1 - 0.5\\beta_2\\le 0$, so we have `r = [0, -0.2, -0.5]`."
   ]
  },
  {
   "cell_type": "code",
   "execution_count": 40,
   "metadata": {},
   "outputs": [
    {
     "name": "stdout",
     "output_type": "stream",
     "text": [
      "                             Test for Constraints                             \n",
      "==============================================================================\n",
      "                 coef    std err          t      P>|t|      [0.025      0.975]\n",
      "------------------------------------------------------------------------------\n",
      "c0             0.6503      0.401      1.622      0.109      -0.149       1.450\n",
      "==============================================================================\n"
     ]
    }
   ],
   "source": [
    "r = [0, -0.2, -0.5]\n",
    "t_test = res.t_test(r)\n",
    "print(t_test)"
   ]
  },
  {
   "cell_type": "markdown",
   "metadata": {},
   "source": [
    "Dividing the estimated coefficient, 0.6503, by the standard error, 0.401, yields the $t$-ratio of 1.62.  Again here we suggest putting this example into Spyder IDE, where you can double click in the Variable Explorer pane to view all of the information available to you.\n",
    "\n",
    "The one-sided $p$-value is half of the two-sided one, provided the esimated linear combination has the anticipated sign.  We can calculate this as follows **(Note this has some funkyness, so we might just want to say p value is half the one-sided one)**"
   ]
  },
  {
   "cell_type": "code",
   "execution_count": 41,
   "metadata": {},
   "outputs": [
    {
     "name": "stdout",
     "output_type": "stream",
     "text": [
      "-7.215241491451143 -1.6662936960297965 [[0.05461891]]\n"
     ]
    }
   ],
   "source": [
    "crit = t.ppf(0.05,res.df_resid)\n",
    "pval = t.sf(t_test.statistic,res.df_resid)\n",
    "print(t1,crit,pval)"
   ]
  },
  {
   "cell_type": "markdown",
   "metadata": {},
   "source": [
    "## 5.6 Interaction Variables\n",
    "\n",
    "### 5.6.1 Polynomial Regressors\n",
    "\n",
    "**POE5 Example 5.14 Extending the Model for Burger Barn Sales**\n",
    "\n",
    "We can explore non-linearity in the relationships between independent and dependent variables by making use of polynomials of the regressors in the model.  For example in our Burger Barn example, we would expect that the marginal return of \\\\$1000 of advertising expenditures would decrease as the net expenditure increased.  We can explore this with the model\n",
    "\n",
    "$$\n",
    "SALES = \\beta_0 + \\beta_1PRICE + \\beta_2ADVERT + \\beta_3ADVERT**2 + e\n",
    "$$\n",
    "\n",
    "We can accomplish easily by defining a new column for our pandas DataFrame, and calling Statsmodels.OLS with our new variable included.\n"
   ]
  },
  {
   "cell_type": "code",
   "execution_count": 42,
   "metadata": {},
   "outputs": [
    {
     "name": "stdout",
     "output_type": "stream",
     "text": [
      "                 Results: Ordinary least squares\n",
      "=================================================================\n",
      "Model:              OLS              Adj. R-squared:     0.487   \n",
      "Dependent Variable: sales            AIC:                447.1080\n",
      "Date:               2020-08-06 13:37 BIC:                456.3780\n",
      "No. Observations:   75               Log-Likelihood:     -219.55 \n",
      "Df Model:           3                F-statistic:        24.46   \n",
      "Df Residuals:       71               Prob (F-statistic): 5.60e-11\n",
      "R-squared:          0.508            Scale:              21.579  \n",
      "------------------------------------------------------------------\n",
      "             Coef.    Std.Err.     t     P>|t|    [0.025   0.975] \n",
      "------------------------------------------------------------------\n",
      "const       109.7190    6.7990  16.1374  0.0000  96.1621  123.2759\n",
      "price        -7.6400    1.0459  -7.3044  0.0000  -9.7255   -5.5545\n",
      "advert       12.1512    3.5562   3.4170  0.0011   5.0604   19.2420\n",
      "a2           -2.7680    0.9406  -2.9427  0.0044  -4.6435   -0.8924\n",
      "-----------------------------------------------------------------\n",
      "Omnibus:               1.004        Durbin-Watson:          2.043\n",
      "Prob(Omnibus):         0.605        Jarque-Bera (JB):       0.455\n",
      "Skew:                  -0.088       Prob(JB):               0.797\n",
      "Kurtosis:              3.339        Condition No.:          101  \n",
      "=================================================================\n",
      "\n"
     ]
    }
   ],
   "source": [
    "df['a2'] = df.advert**2\n",
    "\n",
    "reg = sm.OLS(endog=df['sales'],exog=df[['const','price','advert','a2']])\n",
    "res = reg.fit()\n",
    "\n",
    "print(res.summary2())"
   ]
  },
  {
   "cell_type": "markdown",
   "metadata": {},
   "source": [
    "The new variable `df.a2` is an example of an *interaction variable*.  \n",
    "\n",
    "When the variables interact, the marginal effect of another (\\\\$1000) unit of advertising of advertising on sales is a function of the amount spent on advertising.  To determine this effect, we take the partial derivative of the average sales with respect to advertising to obtain\n",
    "\n",
    "$$\\frac{\\partial E(SALES)}{\\partial ADVERT} = \\beta_2 + 2\\beta_3 ADVERT\n",
    "$$\n",
    "\n",
    "In the example in the textbook the situation is evaluated at two points, namely $ADVERT=0.5$ and $ADVERT=2.0$.  The python code for this is"
   ]
  },
  {
   "cell_type": "code",
   "execution_count": 43,
   "metadata": {},
   "outputs": [
    {
     "name": "stdout",
     "output_type": "stream",
     "text": [
      "me1 = 9.383\n",
      "me2 = 1.079\n"
     ]
    }
   ],
   "source": [
    "me1 = res.params.advert + 2*0.5*res.params.a2\n",
    "me2 = res.params.advert + 2*2.0*res.params.a2\n",
    "\n",
    "print(f\"me1 = {me1:.3f}\\nme2 = {me2:.3f}\")"
   ]
  },
  {
   "cell_type": "markdown",
   "metadata": {},
   "source": [
    "We could of course write a quick function to calculate this"
   ]
  },
  {
   "cell_type": "code",
   "execution_count": 44,
   "metadata": {},
   "outputs": [
    {
     "name": "stdout",
     "output_type": "stream",
     "text": [
      "me1 = 9.383\n",
      "me2 = 1.079\n"
     ]
    }
   ],
   "source": [
    "def me(advert):\n",
    "    return res.params.advert + 2*advert*res.params.a2\n",
    "\n",
    "print(f\"me1 = {me(0.5):.3f}\\nme2 = {me(2.0):.3f}\")"
   ]
  },
  {
   "cell_type": "markdown",
   "metadata": {},
   "source": [
    "### Using Factor Variables for Interactions\n",
    "\n",
    "Here Carter is using the built in 'margins' command in Stata, and factor variables.  This will be completely different in python/pandas/statsmodels.\n",
    "\n",
    "I don't see how to do this as an existing 'package' within Python ecosystem.  I just checked Gretl manual, and it's not in there, so although I wrote to Carter to ask, I think we don't do it!\n"
   ]
  },
  {
   "cell_type": "markdown",
   "metadata": {},
   "source": [
    "### 5.6.3 Interactions with Other Variables\n",
    "\n",
    "**POE5 Example 5.15 An Interaction Variable in a Wage Equation**\n",
    "\n",
    "$$\n",
    "WAGE = \\beta_0 + \\beta_1 EDUC + \\beta_2 EXPER + \\beta_3(EDUC\\times EXPER) + e\n",
    "$$\n",
    "\n"
   ]
  },
  {
   "cell_type": "code",
   "execution_count": 45,
   "metadata": {},
   "outputs": [
    {
     "name": "stdout",
     "output_type": "stream",
     "text": [
      "Marginal effect of experience if educ =  8: 0.216\n",
      "Marginal effect of experience if educ = 16: 0.194\n",
      "Marginal effect of experience if educ = 20: 0.183\n"
     ]
    },
    {
     "data": {
      "text/plain": [
       "[<matplotlib.lines.Line2D at 0x7fb24c74f610>]"
      ]
     },
     "execution_count": 45,
     "metadata": {},
     "output_type": "execute_result"
    },
    {
     "data": {
      "image/png": "[encoded data removed]",
      "text/plain": [
       "<Figure size 432x288 with 1 Axes>"
      ]
     },
     "metadata": {},
     "output_type": "display_data"
    }
   ],
   "source": [
    "df_cps = pd.read_excel('cps5_small.xlsx')\n",
    "\n",
    "df_cps['educ_exper'] = df_cps.educ*df_cps.exper\n",
    "\n",
    "df_cps['const'] = 1.\n",
    "\n",
    "res_cps = sm.OLS(endog=df_cps['wage'],exog=df_cps[['const','educ','exper','educ_exper']]).fit()\n",
    "\n",
    "def me(years):\n",
    "    return res_cps.params.exper + res_cps.params.educ_exper*years\n",
    "\n",
    "print(f\"Marginal effect of experience if educ =  8: {me(8):.3f}\")\n",
    "print(f\"Marginal effect of experience if educ = 16: {me(16):.3f}\")\n",
    "print(f\"Marginal effect of experience if educ = 20: {me(20):.3f}\")\n",
    "\n",
    "yrs = np.linspace(0,40,200)\n",
    "plt.plot(yrs,me(yrs))"
   ]
  },
  {
   "cell_type": "markdown",
   "metadata": {},
   "source": []
  },
  {
   "cell_type": "markdown",
   "metadata": {},
   "source": [
    "### Log-wages and quadratic interactions\n",
    "\n",
    "**POE5 Example 5.16 A Log-Quadratic Wage Equation**\n",
    "\n",
    "$$\\ln(WAGE) = \\beta_0 + \\beta_1 EDUC + \\beta_2 EXPER + \\beta_3(EDUC\\times EXPER) + \\beta_4 EXPER^2 + e\n",
    "$$"
   ]
  },
  {
   "cell_type": "code",
   "execution_count": 46,
   "metadata": {},
   "outputs": [
    {
     "name": "stdout",
     "output_type": "stream",
     "text": [
      "                 Results: Ordinary least squares\n",
      "==================================================================\n",
      "Model:              OLS              Adj. R-squared:     0.319    \n",
      "Dependent Variable: lwage            AIC:                1567.8798\n",
      "Date:               2020-08-06 13:37 BIC:                1593.3301\n",
      "No. Observations:   1200             Log-Likelihood:     -778.94  \n",
      "Df Model:           4                F-statistic:        141.4    \n",
      "Df Residuals:       1195             Prob (F-statistic): 5.29e-99 \n",
      "R-squared:          0.321            Scale:              0.21535  \n",
      "-------------------------------------------------------------------\n",
      "                Coef.   Std.Err.     t     P>|t|    [0.025   0.975]\n",
      "-------------------------------------------------------------------\n",
      "const           0.6792    0.1561   4.3503  0.0000   0.3729   0.9855\n",
      "educ            0.1359    0.0101  13.5128  0.0000   0.1162   0.1557\n",
      "exper           0.0489    0.0068   7.1452  0.0000   0.0355   0.0623\n",
      "educ_exper     -0.0013    0.0003  -3.7045  0.0002  -0.0019  -0.0006\n",
      "exper2         -0.0005    0.0001  -6.2409  0.0000  -0.0006  -0.0003\n",
      "------------------------------------------------------------------\n",
      "Omnibus:               5.786        Durbin-Watson:           1.988\n",
      "Prob(Omnibus):         0.055        Jarque-Bera (JB):        6.230\n",
      "Skew:                  0.106        Prob(JB):                0.044\n",
      "Kurtosis:              3.282        Condition No.:           12200\n",
      "==================================================================\n",
      "* The condition number is large (1e+04). This might indicate\n",
      "strong multicollinearity or other numerical problems.\n"
     ]
    }
   ],
   "source": [
    "df_cps['lwage'] = np.log(df_cps.wage)\n",
    "df_cps['exper2'] = df_cps.exper*df_cps.exper\n",
    "\n",
    "res_cps = sm.OLS(endog=df_cps['lwage'],\n",
    "             exog=df_cps[['const','educ','exper','educ_exper','exper2']]).fit()\n",
    "\n",
    "print(res_cps.summary2())"
   ]
  },
  {
   "cell_type": "markdown",
   "metadata": {},
   "source": [
    "The marginal effects are:\n",
    "$$\n",
    "\\frac{\\partial E[\\ln(wage)|EDUC,EXPER]}{\\partial EXPER}= \\beta_2 + \\beta_3 EDUC + 2\\beta_4 EXPER\n",
    "$$\n",
    "and\n",
    "$$\n",
    "\\frac{\\partial E[\\ln(wage)|EDUC,EXPER)]}{\\partial EDUC} = \\beta_1 + \\beta_3 EXPER\n",
    "$$\n",
    "These can be computed as above with function definitions.  Note how the name of the resulting fit parameters are represented in the `res` (results) object.\n",
    "\n",
    "Here we convert our equation into code, and we consider the four cases possible given by: years of education (`yrs_edu`) being either 8 or 16 years, and years of experience (`yrs_exp`) being 0 or 20.\n",
    "\n",
    "In this next cell, we calculate and print the marginal effect of an additional year of experience on wages, "
   ]
  },
  {
   "cell_type": "code",
   "execution_count": 47,
   "metadata": {},
   "outputs": [
    {
     "name": "stdout",
     "output_type": "stream",
     "text": [
      "me_exp(wage|8.0,0.0) =            0.0387521\n",
      "me_exp(wage|8.0,20.0) =            0.0197894\n",
      "me_exp(wage|16.0,0.0) =            0.0286081\n",
      "me_exp(wage|16.0,20.0) =            0.0096454\n"
     ]
    }
   ],
   "source": [
    "def me_exp(yrs_edu,yrs_exp):\n",
    "    return res_cps.params.exper + res_cps.params.educ_exper * yrs_edu +\\\n",
    "              2*res_cps.params.exper2*yrs_exp\n",
    "\n",
    "def me_edu(yrs_edu,yrs_exp):\n",
    "    return res_cps.params.educ + res_cps.params.educ_exper*yrs_exp\n",
    "\n",
    "yrs_edu =[8, 8, 16, 16]\n",
    "yrs_exp = [0, 20, 0, 20]\n",
    "\n",
    "for i in range(len(yrs_edu)):\n",
    "    print(f\"me_exp(wage|{yrs_edu[i]:.1f},{yrs_exp[i]:.1f}) =  \\\n",
    "          {me_exp(yrs_edu[i],yrs_exp[i]):.7f}\")\n",
    "\n",
    "\n"
   ]
  },
  {
   "cell_type": "markdown",
   "metadata": {},
   "source": [
    "Next we calculate the marginal effect of an addional year of education.  "
   ]
  },
  {
   "cell_type": "code",
   "execution_count": 48,
   "metadata": {},
   "outputs": [
    {
     "name": "stdout",
     "output_type": "stream",
     "text": [
      "me_edu(wage|8.0,0.0) =            0.1359463\n",
      "me_edu(wage|8.0,20.0) =            0.1105864\n",
      "me_edu(wage|16.0,0.0) =            0.1359463\n",
      "me_edu(wage|16.0,20.0) =            0.1105864\n"
     ]
    }
   ],
   "source": [
    "for i in range(len(yrs_edu)):\n",
    "    print(f\"me_edu(wage|{yrs_edu[i]:.1f},{yrs_exp[i]:.1f}) =  \\\n",
    "          {me_edu(yrs_edu[i],yrs_exp[i]):.7f}\")"
   ]
  },
  {
   "cell_type": "code",
   "execution_count": 49,
   "metadata": {},
   "outputs": [
    {
     "data": {
      "image/png": "[encoded data removed]",
      "text/plain": [
       "<Figure size 432x288 with 2 Axes>"
      ]
     },
     "metadata": {},
     "output_type": "display_data"
    },
    {
     "data": {
      "text/plain": [
       "<matplotlib.colorbar.Colorbar at 0x7fb24e595e50>"
      ]
     },
     "execution_count": 49,
     "metadata": {},
     "output_type": "execute_result"
    },
    {
     "data": {
      "image/png": "[encoded data removed]",
      "text/plain": [
       "<Figure size 432x288 with 2 Axes>"
      ]
     },
     "metadata": {},
     "output_type": "display_data"
    }
   ],
   "source": [
    "yrs_edu = np.linspace(8,16,200)\n",
    "yrs_exp = np.linspace(0,20,200)\n",
    "\n",
    "X, Y = np.meshgrid(yrs_edu,yrs_exp)\n",
    "\n",
    "plt.contour(X,Y,me_exp(X,Y))\n",
    "plt.xlabel(\"years of education\")\n",
    "plt.ylabel(\"years of experience\")\n",
    "plt.title(\"Marginal effects of Experience\")\n",
    "plt.colorbar()\n",
    "plt.show()\n",
    "plt.contour(X,Y,me_edu(X,Y))\n",
    "plt.xlabel(\"years of education\")\n",
    "plt.ylabel(\"years of experience\")\n",
    "plt.title(\"Marginal effects of Education\")\n",
    "plt.colorbar()"
   ]
  },
  {
   "cell_type": "markdown",
   "metadata": {},
   "source": [
    "### 5.6.5 Optimal Levl of Advertising\n",
    "\n",
    "**POE Example 5.17 The Optimal Level of Advertising**\n",
    "\n",
    "Equations\n",
    "\n",
    "$$\n",
    "\\beta2 + 2*\\beta_3 ADVERT = 1\n",
    "$$\n",
    "\n",
    "$$ ADVERT_0 = \\frac{1-\\beta2}{2\\beta_3} $$\n",
    "We still have our original DataFrame `df` containing our data for Andy's, but let's run the fit again since we've since used `res`."
   ]
  },
  {
   "cell_type": "code",
   "execution_count": 50,
   "metadata": {},
   "outputs": [
    {
     "name": "stdout",
     "output_type": "stream",
     "text": [
      "Optimal level of advertising = 2.014\n"
     ]
    }
   ],
   "source": [
    "res = sm.OLS(endog=df['sales'],exog=df[['const','price','advert','a2']]).fit()\n",
    "\n",
    "advert_opt = (1-res.params.advert) /  (2*res.params.a2)\n",
    "\n",
    "print(f\"Optimal level of advertising = {advert_opt:.3f}\")"
   ]
  },
  {
   "cell_type": "markdown",
   "metadata": {},
   "source": [
    "Asli: Gretl manual indicates how to calculate the error on this.  See how much of that you want to include.  I can do the latex for the equations if you like, although easy enough once you know \\partial give $\\partial$"
   ]
  },
  {
   "cell_type": "code",
   "execution_count": 51,
   "metadata": {},
   "outputs": [
    {
     "name": "stdout",
     "output_type": "stream",
     "text": [
      "Optimal level of advertising = 2014.34\n",
      "The 95% confidence interval is (1757.67,2271.01)\n"
     ]
    }
   ],
   "source": [
    "advert_opt = (1-res.params.advert) /  (2*res.params.a2)\n",
    "\n",
    "d3 = -1/(2*res.params.a2)\n",
    "d4 = -1*(1-res.params.advert)/(2*res.params.a2**2)\n",
    "\n",
    "d = np.array([0, 0, d3, d4])\n",
    "cov = res.cov_params()\n",
    "se = np.sqrt(np.dot(np.dot(d,cov),d.T))\n",
    "tc975 = t.ppf(0.975,res.df_resid)  # critical value\n",
    "\n",
    "lb = advert_opt - tc975*se  # Lower bound 95% CI\n",
    "ub = advert_opt + tc975*se  # Upper bound 95% CI\n",
    "\n",
    "\n",
    "print(f\"Optimal level of advertising = {advert_opt*1000:.2f}\")\n",
    "print(f\"The 95% confidence interval is ({lb*1000:.2f},{ub*1000:.2f})\")"
   ]
  },
  {
   "cell_type": "markdown",
   "metadata": {},
   "source": [
    "### 5.6.6 Maximizing waves via experience\n",
    "\n",
    "**POE5 Example 5.18 How Much Experience Maximizes Wages?**\n",
    "\n",
    "Here again we use\n",
    "\n",
    "$$\\ln(WAGE) = \\beta_0 + \\beta_1 EDUC + \\beta_2 EXPER + \\beta_3(EDUC\\times EXPER) + \\beta_4 EXPER^2 + e\n",
    "$$\n",
    "\n",
    "We found the marginal effect of another year of experience to be\n",
    "\n",
    "$$\n",
    "\\frac{\\partial E[\\ln(wage)|EDUC,EXPER]}{\\partial EXPER}= \\beta_2 + \\beta_3 EDUC + 2\\beta_4 EXPER\n",
    "$$\n",
    "\n",
    "The point at which this reaches a maximum is when the marginal effect becomes zero:\n",
    "\n",
    "$$ \\beta_2 + \\beta_3 EDUC + 2\\beta_4 EXPER_0 = 0$$\n",
    "\n",
    "Solving for $EXPER_0$,\n",
    "\n",
    "$$ EXPER_0 = \\frac{-\\beta_2-\\beta_3 EDUC}{2\\beta_4}$$\n",
    "\n",
    "We ran cells above and still have our results in `res_cps` so do not need to re-run the regression.\n",
    "\n",
    "Assuming 16 years current education, we have:"
   ]
  },
  {
   "cell_type": "code",
   "execution_count": 52,
   "metadata": {},
   "outputs": [
    {
     "name": "stdout",
     "output_type": "stream",
     "text": [
      "exper0 = 30.1730\n",
      "The 95% confidence interval is (26.6619,33.6841)\n"
     ]
    }
   ],
   "source": [
    "yrs_edu = 16\n",
    "\n",
    "exper0 = (-res_cps.params.exper - res_cps.params.educ_exper*yrs_edu)/ \\\n",
    "          (2*res_cps.params.exper2)\n",
    "          \n",
    "print(f\"exper0 = {exper0:.4f}\")\n",
    "\n",
    "d2 = -1/(2*res_cps.params.exper2)\n",
    "d3 = -yrs_edu / (2*res_cps.params.exper2)\n",
    "d4 = (res_cps.params.exper + yrs_edu*res_cps.params.educ_exper) \\\n",
    "       / (2*res_cps.params.exper2**2)\n",
    "       \n",
    "d = np.array([0,0,d2,d3,d4])\n",
    "\n",
    "cov = res_cps.cov_params()\n",
    "se = np.sqrt(np.dot(np.dot(d,cov),d.T))\n",
    "\n",
    "tc975 = t.ppf(0.975,res_cps.df_resid)  # critical value\n",
    "\n",
    "lb = exper0 - tc975*se  # Lower bound 95% CI\n",
    "ub = exper0 + tc975*se  # Upper bound 95% CI\n",
    "\n",
    "print(f\"The 95% confidence interval is ({lb:.4f},{ub:.4f})\")"
   ]
  },
  {
   "cell_type": "markdown",
   "metadata": {},
   "source": [
    "## See gretl manual for discussion of above"
   ]
  },
  {
   "cell_type": "markdown",
   "metadata": {},
   "source": [
    "## Appendix 5B.1 Nonlinear functions of a single parameter\n",
    "\n",
    "**POE5 Example 5.19 An Interval Estimate for $\\exp(\\beta_1/10)$**"
   ]
  },
  {
   "cell_type": "code",
   "execution_count": 53,
   "metadata": {},
   "outputs": [
    {
     "name": "stdout",
     "output_type": "stream",
     "text": [
      "g1hat = 2.9109\n",
      "The 95% confidence interval is (1.6006,4.2212)\n"
     ]
    }
   ],
   "source": [
    "df = pd.read_excel('mc20.xlsx')\n",
    "\n",
    "df['const'] = 1\n",
    "\n",
    "res = sm.OLS(endog=df['y'],exog=df[['const','x']]).fit()\n",
    "\n",
    "g1hat = np.exp(res.params.x/10)\n",
    "\n",
    "print(f\"g1hat = {g1hat:.4f}\")\n",
    "\n",
    "\n",
    "seg1 = res.bse.x*(np.exp(res.params.x/10)/10)\n",
    "\n",
    "tc975 = t.ppf(0.975,res.df_resid)  # critical value\n",
    "\n",
    "lb = g1hat - tc975*seg1  # Lower bound 95% CI\n",
    "ub = g1hat + tc975*seg1  # Upper bound 95% CI\n",
    "\n",
    "print(f\"The 95% confidence interval is ({lb:.4f},{ub:.4f})\")"
   ]
  },
  {
   "cell_type": "markdown",
   "metadata": {},
   "source": [
    "## Appendix 5B.2 Nonlinear Functions of Two Parameters\n",
    "\n",
    "**POE5 Example 5.20: An Interval Estimate for $\\beta_0/\\beta_1$**"
   ]
  },
  {
   "cell_type": "code",
   "execution_count": 54,
   "metadata": {},
   "outputs": [
    {
     "name": "stdout",
     "output_type": "stream",
     "text": [
      "g2hat = 8.1841\n",
      "The 95% confidence interval is (-1.8077,18.1758)\n"
     ]
    }
   ],
   "source": [
    "df = pd.read_excel('mc20.xlsx')\n",
    "\n",
    "df['const'] = 1\n",
    "\n",
    "res = sm.OLS(endog=df['y'],exog=df[['const','x']]).fit()\n",
    "\n",
    "g2hat = res.params.const/res.params.x\n",
    "\n",
    "print(f\"g2hat = {g2hat:.4f}\")\n",
    "\n",
    "d1 = 1/res.params.x\n",
    "d2 = -res.params.const/res.params.x**2\n",
    "\n",
    "d = np.array((d1,d2))\n",
    "cov = res.cov_params()\n",
    "se = np.sqrt(np.dot(np.dot(d,cov),d.T))\n",
    "\n",
    "\n",
    "tc975 = t.ppf(0.975,res.df_resid)  # critical value\n",
    "\n",
    "lb = g2hat - tc975*se  # Lower bound 95% CI\n",
    "ub = g2hat + tc975*se  # Upper bound 95% CI\n",
    "\n",
    "print(f\"The 95% confidence interval is ({lb:.4f},{ub:.4f})\")"
   ]
  },
  {
   "cell_type": "markdown",
   "metadata": {},
   "source": [
    "## Appendix 5.C1 Least Square Estimation with chi-square errors"
   ]
  },
  {
   "cell_type": "code",
   "execution_count": 55,
   "metadata": {},
   "outputs": [
    {
     "name": "stdout",
     "output_type": "stream",
     "text": [
      "Percent rejected = 4.930\n",
      "Percent kept.    = 94.910\n",
      "Percent close    = 81.640\n",
      "                b1r       b1r_sig           b2r       b2r_sig         tstat  \\\n",
      "count  10000.000000  10000.000000  10000.000000  10000.000000  10000.000000   \n",
      "mean       9.996061      1.559521    100.119116     24.658195     -0.001706   \n",
      "std        1.594013      0.269359     25.176358      4.258941      1.033053   \n",
      "min        3.862064      0.806449      1.980095     12.751080     -3.812077   \n",
      "25%        8.946777      1.367678     82.811069     21.624890     -0.686008   \n",
      "50%        9.997820      1.535191     99.345183     24.273496     -0.001647   \n",
      "75%       11.052567      1.724177    116.240701     27.261632      0.687768   \n",
      "max       16.732540      2.911992    209.237189     46.042639      4.121699   \n",
      "\n",
      "              sig2r  \n",
      "count  10000.000000  \n",
      "mean    2504.653403  \n",
      "std      885.217477  \n",
      "min      650.360130  \n",
      "25%     1870.543423  \n",
      "50%     2356.810423  \n",
      "75%     2972.786217  \n",
      "max     8479.698258  \n"
     ]
    }
   ],
   "source": [
    "import numpy as np\n",
    "import pandas as pd\n",
    "from numpy.random import seed, chisquare\n",
    "import statsmodels.api as sm\n",
    "from scipy.stats import t\n",
    "\n",
    "seed(42)\n",
    "\n",
    "nobs = 40\n",
    "beta1 = 100\n",
    "beta2 = 10\n",
    "sigma = 50\n",
    "nsamples = 10000\n",
    "nu = 4\n",
    "tc975 = t.ppf(0.975,nobs-2)\n",
    "\n",
    "intcp     = []  # list of best-fit beta0\n",
    "intcp_err = []  # best-fit beta0 err\n",
    "slope     = []  # best-fit beta1\n",
    "slope_err = []  # best-fit beta1 err\n",
    "ub = []         # CI upper bound\n",
    "lb = []         # CI lower bound\n",
    "tstat = []      # t statistic\n",
    "sigma2 = []\n",
    "\n",
    "df = pd.DataFrame(columns=['x','y','const'])\n",
    "df.x = 20*[10] + 20*[20]  # first 20 elements are '10', second 20 are '20'\n",
    "y0 = beta1 + beta2*df.x\n",
    "df.const = 1\n",
    "\n",
    "for i in range(nsamples):\n",
    "    e = sigma*(chisquare(nu,len(y0))-nu)/np.sqrt(2*nu)\n",
    "    df.y = y0 + e\n",
    "    reg = sm.OLS(endog=df['y'],exog=df[['const','x']])\n",
    "    results = reg.fit()\n",
    "\n",
    "    slope.append(results.params.x)\n",
    "    slope_err.append(results.bse.x)\n",
    "    intcp.append(results.params.const)\n",
    "    intcp_err.append(results.bse.const)\n",
    "    ub.append(slope[-1]+tc975*slope_err[-1])\n",
    "    lb.append(slope[-1]-tc975*slope_err[-1])\n",
    "    tstat.append((slope[-1]-beta2)/slope_err[-1])\n",
    "    sigma2.append(results.ssr/results.df_resid)\n",
    "\n",
    "columns = ['b1r','b1r_sig','b2r','b2r_sig','tstat','sig2r']\n",
    "data = np.array([slope,slope_err,intcp,intcp_err,tstat,sigma2]).T\n",
    "df_res = pd.DataFrame(data,columns=columns)\n",
    "\n",
    "tstat = np.array(tstat)  # convert to arrays for ease of handling\n",
    "lb = np.array(lb)\n",
    "ub = np.array(ub)\n",
    "\n",
    "reject = tstat > t.ppf(0.95,nobs-2)  # logical array ([False, True, ...])\n",
    "cover = (lb < beta2) & (ub > beta2)  # logical array\n",
    "close = ((lb<9) & (11<ub))\n",
    "\n",
    "n_rejected = sum(reject)/nsamples    # sum() returns number of \"True\" elements in reject\n",
    "n_kept = sum(cover)/nsamples\n",
    "n_close = sum(close)/nsamples\n",
    "\n",
    "\n",
    "print(f\"Percent rejected = {n_rejected*100:.3f}\")\n",
    "print(f\"Percent kept.    = {n_kept*100:.3f}\")\n",
    "print(f\"Percent close    = {n_close*100:.3f}\")\n",
    "\n",
    "print(df_res.describe(percentiles=None))"
   ]
  },
  {
   "cell_type": "markdown",
   "metadata": {},
   "source": [
    "## Appendix 5C.2 Monte Carlo Simulation of the Delta Method\n",
    "\n",
    "Asli: Do check that I have everything here - I'm not 100% certain."
   ]
  },
  {
   "cell_type": "code",
   "execution_count": 68,
   "metadata": {},
   "outputs": [
    {
     "name": "stdout",
     "output_type": "stream",
     "text": [
      "variable     mean    std. dev\n",
      "    g1      2.7519    0.4412\n",
      " se_g1      0.4293    0.1040\n",
      "    g2     10.7207    4.6895\n",
      " se_g1      4.3642    2.0619\n",
      "  p_g1      0.0545    0.2270\n",
      " p1_g1      0.9436    0.2307\n",
      " p2_g2      0.0493    0.2165\n",
      " close      0.9055    0.2925\n"
     ]
    }
   ],
   "source": [
    "import numpy as np\n",
    "import pandas as pd\n",
    "from numpy.random import seed, chisquare\n",
    "import statsmodels.api as sm\n",
    "from scipy.stats import t\n",
    "\n",
    "seed(42)\n",
    "\n",
    "nobs = 40\n",
    "beta1 = 100\n",
    "beta2 = 10\n",
    "sigma = 50\n",
    "nsamples = 10000\n",
    "nu = 4\n",
    "tc975 = t.ppf(0.975,nobs-2)\n",
    "tc950 = t.ppf(0.950,nobs-2)\n",
    "\n",
    "b0 = []\n",
    "b1 = []\n",
    "se_b1 = []\n",
    "g1 = []\n",
    "se_g1 = []\n",
    "p_g1 = []\n",
    "g2 = []\n",
    "se_g2 = []\n",
    "p1_g2 = []\n",
    "p2_g2 = []\n",
    "close = []\n",
    "\n",
    "df = pd.DataFrame(columns=['x','y','const'])\n",
    "df.x = 20*[10] + 20*[20]  # first 20 elements are '10', second 20 are '20'\n",
    "y0 = beta1 + beta2*df.x\n",
    "df.const = 1\n",
    "\n",
    "for i in range(nsamples):\n",
    "    e = sigma*(chisquare(nu,len(y0))-nu)/np.sqrt(2*nu)\n",
    "    df.y = y0 + e\n",
    "    res = sm.OLS(endog=df['y'],exog=df[['const','x']]).fit()\n",
    "    # coefficients\n",
    "    b0.append(res.params.const)\n",
    "    b1.append(res.params.x)\n",
    "    se_b1.append(res.bse.x)\n",
    "    # first function\n",
    "    g1.append(np.exp(res.params.x/10))\n",
    "    se_g1.append(res.bse.x*(np.exp(res.params.x/10)/10))\n",
    "    p_g1.append(np.abs((g1[-1]-np.exp(1))/se_g1[-1])>tc975)\n",
    "    # second function\n",
    "    g2.append(res.params.const/res.params.x)          \n",
    "    d1 = 1/res.params.x\n",
    "    d2 = -res.params.const/res.params.x**2 \n",
    "    d = np.array((d1,d2))\n",
    "    cov = res.cov_params()\n",
    "    se_g2.append(np.sqrt(np.dot(np.dot(d,cov),d.T)))\n",
    "    c2l = g2[-1] - tc975*se_g2[-1]\n",
    "    c2r = g2[-1] + tc975*se_g2[-1]\n",
    "    p1_g2.append((10>c2l) & (10<c2r))\n",
    "    p2_g2.append(((res.params.x-10)/res.bse.x)>tc950)\n",
    "    close.append((9>c2l) & (11<c2r))\n",
    "    \n",
    "print(\"variable     mean    std. dev\")\n",
    "print(f\"    g1    {np.mean(g1):8.4f}    {np.std(g1):.4f}\")\n",
    "print(f\" se_g1    {np.mean(se_g1):8.4f}    {np.std(se_g1):.4f}\")\n",
    "print(f\"    g2    {np.mean(g2):8.4f}    {np.std(g2):.4f}\")\n",
    "print(f\" se_g1    {np.mean(se_g2):8.4f}    {np.std(se_g2):.4f}\")\n",
    "print(f\"  p_g1    {np.mean(p_g1):8.4f}    {np.std(p_g1):.4f}\")\n",
    "print(f\" p1_g1    {np.mean(p1_g2):8.4f}    {np.std(p1_g2):.4f}\")\n",
    "print(f\" p2_g2    {np.mean(p2_g2):8.4f}    {np.std(p2_g2):.4f}\")\n",
    "print(f\" close    {np.mean(close):8.4f}    {np.std(close):.4f}\")"
   ]
  },
  {
   "cell_type": "markdown",
   "metadata": {},
   "source": [
    "Gretl manual includes runs with n=200 and n=1000 which is easy enough to do if you want.\n",
    "\n",
    "Plots shown below with normailzed pdfs.  Compare with Stata manual.  "
   ]
  },
  {
   "cell_type": "code",
   "execution_count": 72,
   "metadata": {},
   "outputs": [
    {
     "data": {
      "text/plain": [
       "[<matplotlib.lines.Line2D at 0x7fb24f8cae20>]"
      ]
     },
     "execution_count": 72,
     "metadata": {},
     "output_type": "execute_result"
    },
    {
     "data": {
      "image/png": "[encoded data removed]",
      "text/plain": [
       "<Figure size 432x288 with 1 Axes>"
      ]
     },
     "metadata": {},
     "output_type": "display_data"
    }
   ],
   "source": [
    "import seaborn as sns\n",
    "from scipy import stats\n",
    "\n",
    "sns.set(font_scale=1.3)\n",
    "\n",
    "fig, ax = plt.subplots()\n",
    "\n",
    "sns.distplot(b1,kde=False,norm_hist=True)\n",
    "ax.set_xlabel(r\"$\\hat\\beta_1$\")\n",
    "ax.set_ylabel(\"count\")\n",
    "\n",
    "x0 = np.linspace(min(b1),max(b1),100)\n",
    "plt.plot(x0, stats.norm.pdf(x0, beta2, np.mean(se_b1)))"
   ]
  },
  {
   "cell_type": "code",
   "execution_count": 74,
   "metadata": {},
   "outputs": [
    {
     "data": {
      "text/plain": [
       "[<matplotlib.lines.Line2D at 0x7fb24f614880>]"
      ]
     },
     "execution_count": 74,
     "metadata": {},
     "output_type": "execute_result"
    },
    {
     "data": {
      "image/png": "[encoded data removed]",
      "text/plain": [
       "<Figure size 432x288 with 1 Axes>"
      ]
     },
     "metadata": {},
     "output_type": "display_data"
    }
   ],
   "source": [
    "fig, ax = plt.subplots()\n",
    "sns.distplot(g1,kde=False,norm_hist=True)\n",
    "ax.set_xlabel(r\"$\\hat g_1$\")\n",
    "ax.set_ylabel(\"count\")\n",
    "\n",
    "x0 = np.linspace(min(g1),max(g1),100)\n",
    "plt.plot(x0, stats.norm.pdf(x0, np.mean(g1), np.mean(se_g1)))"
   ]
  },
  {
   "cell_type": "code",
   "execution_count": 75,
   "metadata": {},
   "outputs": [
    {
     "data": {
      "text/plain": [
       "[<matplotlib.lines.Line2D at 0x7fb24fce62e0>]"
      ]
     },
     "execution_count": 75,
     "metadata": {},
     "output_type": "execute_result"
    },
    {
     "data": {
      "image/png": "[encoded data removed]",
      "text/plain": [
       "<Figure size 432x288 with 1 Axes>"
      ]
     },
     "metadata": {},
     "output_type": "display_data"
    }
   ],
   "source": [
    "fig, ax = plt.subplots()\n",
    "sns.distplot(g2,kde=False,norm_hist=True)\n",
    "ax.set_xlabel(r\"$\\hat g_2$\")\n",
    "ax.set_ylabel(\"count\")\n",
    "\n",
    "x0 = np.linspace(min(g2),max(g2),100)\n",
    "plt.plot(x0, stats.norm.pdf(x0, np.mean(g2), np.mean(se_g2)))"
   ]
  },
  {
   "cell_type": "markdown",
   "metadata": {},
   "source": [
    "## Appendix 5D Bootstrapping\n",
    "\n",
    "$$ \n",
    "\\exp(b_2/10)\\pm\\left\\{{1.96\\times{\\rm se}[\\exp(b_2/10)]}\\right\\}\n",
    "$$\n",
    "\n",
    "**I have basically no idea what this is talking about - so we'll have to do this when you catch up and can explain it to me**\n"
   ]
  },
  {
   "cell_type": "markdown",
   "metadata": {},
   "source": []
  }
 ],
 "metadata": {
  "kernelspec": {
   "display_name": "Python 3",
   "language": "python",
   "name": "python3"
  },
  "language_info": {
   "codemirror_mode": {
    "name": "ipython",
    "version": 3
   },
   "file_extension": ".py",
   "mimetype": "text/x-python",
   "name": "python",
   "nbconvert_exporter": "python",
   "pygments_lexer": "ipython3",
   "version": "3.8.3"
  }
 },
 "nbformat": 4,
 "nbformat_minor": 4
}
