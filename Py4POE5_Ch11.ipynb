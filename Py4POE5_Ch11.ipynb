{
 "cells": [
  {
   "cell_type": "code",
   "execution_count": 1,
   "metadata": {},
   "outputs": [],
   "source": [
    "%config InlineBackend.figure_format='retina'\n",
    "\n",
    "import pandas as pd\n",
    "import numpy as np\n",
    "import statsmodels.api as sm\n",
    "import statsmodels.formula.api as smf\n",
    "import seaborn as sns;sns.set_style('whitegrid',{'grid.color':'0.95'})\n",
    "\n",
    "from linearmodels.iv import IV2SLS\n",
    "from linearmodels.iv import IVLIML\n",
    "from statsmodels.multivariate.cancorr import CanCorr\n",
    "from weak_instr import weak_instr"
   ]
  },
  {
   "cell_type": "code",
   "execution_count": 2,
   "metadata": {},
   "outputs": [
    {
     "name": "stdout",
     "output_type": "stream",
     "text": [
      "<class 'pandas.core.frame.DataFrame'>\n",
      "RangeIndex: 30 entries, 0 to 29\n",
      "Data columns (total 5 columns):\n",
      " #   Column  Non-Null Count  Dtype  \n",
      "---  ------  --------------  -----  \n",
      " 0   p       30 non-null     float64\n",
      " 1   q       30 non-null     float64\n",
      " 2   ps      30 non-null     float64\n",
      " 3   di      30 non-null     float64\n",
      " 4   pf      30 non-null     float64\n",
      "dtypes: float64(5)\n",
      "memory usage: 1.3 KB\n",
      "None\n"
     ]
    }
   ],
   "source": [
    "poe5csv='http://www.principlesofeconometrics.com/poe5/data/csv/'\n",
    "truf=pd.read_csv(poe5csv+'truffles.csv')\n",
    "print(truf.info())"
   ]
  },
  {
   "cell_type": "code",
   "execution_count": 3,
   "metadata": {},
   "outputs": [
    {
     "name": "stdout",
     "output_type": "stream",
     "text": [
      "    count       mean        std     min     50%      max\n",
      "p    30.0  62.724000  18.723462  29.640  63.075  105.450\n",
      "q    30.0  18.458333   4.613088   6.370  19.270   26.270\n",
      "ps   30.0  22.022000   4.077237  15.210  22.685   28.980\n",
      "di   30.0   3.526967   1.040803   1.525   3.708    5.125\n",
      "pf   30.0  22.753333   5.329654  10.520  24.145   34.010\n"
     ]
    }
   ],
   "source": [
    "print(truf.describe(percentiles=[]).transpose())"
   ]
  },
  {
   "cell_type": "code",
   "execution_count": 4,
   "metadata": {},
   "outputs": [
    {
     "name": "stdout",
     "output_type": "stream",
     "text": [
      "                            OLS Regression Results                            \n",
      "==============================================================================\n",
      "Dep. Variable:                      q   R-squared:                       0.697\n",
      "Model:                            OLS   Adj. R-squared:                  0.662\n",
      "No. Observations:                  30   F-statistic:                     19.97\n",
      "Covariance Type:            nonrobust   Prob (F-statistic):           6.33e-07\n",
      "==============================================================================\n",
      "                 coef    std err          t      P>|t|      [0.025      0.975]\n",
      "------------------------------------------------------------------------------\n",
      "Intercept      7.8951      3.243      2.434      0.022       1.228      14.562\n",
      "ps             0.6564      0.143      4.605      0.000       0.363       0.949\n",
      "di             2.1672      0.700      3.094      0.005       0.727       3.607\n",
      "pf            -0.5070      0.121     -4.181      0.000      -0.756      -0.258\n",
      "==============================================================================\n",
      "\n",
      "Notes:\n",
      "[1] Standard Errors assume that the covariance matrix of the errors is correctly specified.\n"
     ]
    }
   ],
   "source": [
    "resq=smf.ols('q~ps+di+pf+1',data=truf).fit()\n",
    "print(resq.summary(slim=True))"
   ]
  },
  {
   "cell_type": "code",
   "execution_count": 5,
   "metadata": {},
   "outputs": [
    {
     "name": "stdout",
     "output_type": "stream",
     "text": [
      "                            OLS Regression Results                            \n",
      "==============================================================================\n",
      "Dep. Variable:                      p   R-squared:                       0.889\n",
      "Model:                            OLS   Adj. R-squared:                  0.876\n",
      "No. Observations:                  30   F-statistic:                     69.19\n",
      "Covariance Type:            nonrobust   Prob (F-statistic):           1.60e-12\n",
      "==============================================================================\n",
      "                 coef    std err          t      P>|t|      [0.025      0.975]\n",
      "------------------------------------------------------------------------------\n",
      "Intercept    -32.5124      7.984     -4.072      0.000     -48.924     -16.101\n",
      "ps             1.7081      0.351      4.868      0.000       0.987       2.429\n",
      "di             7.6025      1.724      4.409      0.000       4.058      11.147\n",
      "pf             1.3539      0.299      4.536      0.000       0.740       1.967\n",
      "==============================================================================\n",
      "\n",
      "Notes:\n",
      "[1] Standard Errors assume that the covariance matrix of the errors is correctly specified.\n"
     ]
    }
   ],
   "source": [
    "resp=smf.ols('p~ps+di+pf+1',data=truf).fit()\n",
    "print(resp.summary(slim=True))\n",
    "truf['phat']=resp.predict()"
   ]
  },
  {
   "cell_type": "code",
   "execution_count": 6,
   "metadata": {},
   "outputs": [
    {
     "name": "stdout",
     "output_type": "stream",
     "text": [
      "                            OLS Regression Results                            \n",
      "==============================================================================\n",
      "Dep. Variable:                      q   R-squared:                       0.697\n",
      "Model:                            OLS   Adj. R-squared:                  0.662\n",
      "No. Observations:                  30   F-statistic:                     19.97\n",
      "Covariance Type:            nonrobust   Prob (F-statistic):           6.33e-07\n",
      "==============================================================================\n",
      "                 coef    std err          t      P>|t|      [0.025      0.975]\n",
      "------------------------------------------------------------------------------\n",
      "Intercept     -4.2795      3.014     -1.420      0.168     -10.474       1.916\n",
      "phat          -0.3745      0.090     -4.181      0.000      -0.559      -0.190\n",
      "ps             1.2960      0.193      6.712      0.000       0.899       1.693\n",
      "di             5.0140      1.241      4.039      0.000       2.462       7.566\n",
      "==============================================================================\n",
      "\n",
      "Notes:\n",
      "[1] Standard Errors assume that the covariance matrix of the errors is correctly specified.\n"
     ]
    }
   ],
   "source": [
    "res=smf.ols('q~phat+ps+di+1',data=truf).fit()\n",
    "print(res.summary(slim=True))"
   ]
  },
  {
   "cell_type": "code",
   "execution_count": 7,
   "metadata": {},
   "outputs": [
    {
     "name": "stdout",
     "output_type": "stream",
     "text": [
      "                          IV-2SLS Estimation Summary                          \n",
      "==============================================================================\n",
      "Dep. Variable:                      q   R-squared:                     -0.0239\n",
      "Estimator:                    IV-2SLS   Adj. R-squared:                -0.1421\n",
      "No. Observations:                  30   F-statistic:                    20.432\n",
      "Date:                Wed, Jun 18 2025   P-value (F-stat)                0.0001\n",
      "Time:                        09:25:29   Distribution:                  chi2(3)\n",
      "Cov. Estimator:            unadjusted                                         \n",
      "                                                                              \n",
      "                             Parameter Estimates                              \n",
      "==============================================================================\n",
      "            Parameter  Std. Err.     T-stat    P-value    Lower CI    Upper CI\n",
      "------------------------------------------------------------------------------\n",
      "Intercept     -4.2795     5.1611    -0.8292     0.4070     -14.395      5.8361\n",
      "di             5.0140     2.1259     2.3585     0.0183      0.8473      9.1806\n",
      "ps             1.2960     0.3307     3.9195     0.0001      0.6479      1.9441\n",
      "p             -0.3745     0.1534    -2.4415     0.0146     -0.6751     -0.0738\n",
      "==============================================================================\n",
      "\n",
      "Endogenous: p\n",
      "Instruments: pf\n",
      "Unadjusted Covariance (Homoskedastic)\n",
      "Debiased: False\n"
     ]
    }
   ],
   "source": [
    "truf['Intercept']=1\n",
    "res2sls=IV2SLS(dependent=truf.q,exog=truf[['Intercept','di','ps']],endog=truf.p\n",
    "               ,instruments=truf.pf).fit(cov_type='unadjusted')\n",
    "print(res2sls.summary)"
   ]
  },
  {
   "cell_type": "code",
   "execution_count": 8,
   "metadata": {},
   "outputs": [
    {
     "name": "stdout",
     "output_type": "stream",
     "text": [
      "                          IV-2SLS Estimation Summary                          \n",
      "==============================================================================\n",
      "Dep. Variable:                      q   R-squared:                     -0.0239\n",
      "Estimator:                    IV-2SLS   Adj. R-squared:                -0.1421\n",
      "No. Observations:                  30   F-statistic:                    5.9026\n",
      "Date:                Wed, Jun 18 2025   P-value (F-stat)                0.0033\n",
      "Time:                        09:25:29   Distribution:                  F(3,26)\n",
      "Cov. Estimator:            unadjusted                                         \n",
      "                                                                              \n",
      "                             Parameter Estimates                              \n",
      "==============================================================================\n",
      "            Parameter  Std. Err.     T-stat    P-value    Lower CI    Upper CI\n",
      "------------------------------------------------------------------------------\n",
      "Intercept     -4.2795     5.5439    -0.7719     0.4471     -15.675      7.1161\n",
      "di             5.0140     2.2836     2.1957     0.0372      0.3201      9.7079\n",
      "ps             1.2960     0.3552     3.6488     0.0012      0.5659      2.0261\n",
      "p             -0.3745     0.1648    -2.2729     0.0315     -0.7131     -0.0358\n",
      "==============================================================================\n",
      "\n",
      "Endogenous: p\n",
      "Instruments: pf\n",
      "Unadjusted Covariance (Homoskedastic)\n",
      "Debiased: True\n"
     ]
    }
   ],
   "source": [
    "res2sls=IV2SLS(dependent=truf.q,exog=truf[['Intercept','di','ps']],endog=truf.p\n",
    "               ,instruments=truf.pf).fit(cov_type='unadjusted',debiased='True')\n",
    "print(res2sls.summary)"
   ]
  },
  {
   "cell_type": "code",
   "execution_count": 9,
   "metadata": {},
   "outputs": [
    {
     "name": "stdout",
     "output_type": "stream",
     "text": [
      "    First Stage Estimation Results    \n",
      "======================================\n",
      "                                     p\n",
      "--------------------------------------\n",
      "R-squared                       0.8887\n",
      "Partial R-squared               0.4417\n",
      "Shea's R-squared                0.4417\n",
      "Partial F-statistic             20.572\n",
      "P-value (Partial F-stat)        0.0001\n",
      "Partial F-stat Distn           F(1,26)\n",
      "========================== ===========\n",
      "Intercept                      -32.512\n",
      "                             (-4.0721)\n",
      "di                              7.6025\n",
      "                              (4.4089)\n",
      "ps                              1.7081\n",
      "                              (4.8682)\n",
      "pf                              1.3539\n",
      "                              (4.5356)\n",
      "--------------------------------------\n",
      "\n",
      "T-stats reported in parentheses\n",
      "T-stats use same covariance type as original model\n"
     ]
    }
   ],
   "source": [
    "print(res2sls.first_stage)"
   ]
  },
  {
   "cell_type": "code",
   "execution_count": 10,
   "metadata": {},
   "outputs": [
    {
     "name": "stdout",
     "output_type": "stream",
     "text": [
      "\n",
      " Stock & Yogo (2005) Weak Instrument Critical Values\n",
      "--------------------------------------------------------------\n",
      "H0: Instruments are weak\n",
      "                                 # of endogenous regressors: 1\n",
      "                                 # of excluded instruments:  1\n",
      "--------------------------------------------------------------\n",
      "                                        5%    10%   20%    30%\n",
      "2SLS relative bias:                    nan    nan   nan    nan\n",
      "Fuller-k relative bias:              24.09  19.35 15.42  12.71\n",
      "Fuller-k maximum bias:               23.81  19.40 15.39  12.76\n",
      "--------------------------------------------------------------\n",
      "                                       10%    15%   20%    25%\n",
      "2SLS Size of nominal 5% Wald test:   16.38   8.96  6.66   5.53\n",
      "LIML Size of nominal 5% Wald test:   16.38   8.96  6.66   5.53\n",
      "--------------------------------------------------------------\n"
     ]
    }
   ],
   "source": [
    "weak_instr(1,1)"
   ]
  },
  {
   "cell_type": "code",
   "execution_count": 11,
   "metadata": {},
   "outputs": [
    {
     "name": "stdout",
     "output_type": "stream",
     "text": [
      "                             Parameter Estimates                              \n",
      "==============================================================================\n",
      "            Parameter  Std. Err.     T-stat    P-value    Lower CI    Upper CI\n",
      "------------------------------------------------------------------------------\n",
      "Intercept      20.033     1.2231     16.379     0.0000      17.523      22.542\n",
      "pf            -1.0009     0.0825    -12.128     0.0000     -1.1702     -0.8316\n",
      "p              0.3380     0.0249     13.563     0.0000      0.2869      0.3891\n",
      "==============================================================================\n"
     ]
    }
   ],
   "source": [
    "res2sls=IV2SLS(dependent=truf.q,exog=truf[['Intercept','pf']]\n",
    "               ,endog=truf.p,instruments=truf[['ps','di']]\n",
    "              ).fit(cov_type='unadjusted',debiased='True')\n",
    "print(res2sls.summary.tables[1])"
   ]
  },
  {
   "cell_type": "code",
   "execution_count": 12,
   "metadata": {},
   "outputs": [
    {
     "name": "stdout",
     "output_type": "stream",
     "text": [
      "    First Stage Estimation Results    \n",
      "======================================\n",
      "                                     p\n",
      "--------------------------------------\n",
      "R-squared                       0.8887\n",
      "Partial R-squared               0.7614\n",
      "Shea's R-squared                0.7614\n",
      "Partial F-statistic             41.487\n",
      "P-value (Partial F-stat)     8.117e-09\n",
      "Partial F-stat Distn           F(2,26)\n",
      "========================== ===========\n",
      "Intercept                      -32.512\n",
      "                             (-4.0721)\n",
      "pf                              1.3539\n",
      "                              (4.5356)\n",
      "ps                              1.7081\n",
      "                              (4.8682)\n",
      "di                              7.6025\n",
      "                              (4.4089)\n",
      "--------------------------------------\n",
      "\n",
      "T-stats reported in parentheses\n",
      "T-stats use same covariance type as original model\n"
     ]
    }
   ],
   "source": [
    "print(res2sls.first_stage)"
   ]
  },
  {
   "cell_type": "code",
   "execution_count": 13,
   "metadata": {},
   "outputs": [
    {
     "name": "stdout",
     "output_type": "stream",
     "text": [
      "      lquan    lprice  mon  tue  wed  thu  stormy\n",
      "0  8.994421 -0.430783    1    0    0    0       1\n",
      "1  7.707063  0.000000    0    1    0    0       1\n",
      "2  8.350194  0.072321    0    0    1    0       0\n",
      "3  8.656955  0.247139    0    0    0    1       1\n",
      "4  7.844241  0.664327    0    0    0    0       1\n"
     ]
    }
   ],
   "source": [
    "fsh=pd.read_csv(poe5csv+'fultonfish.csv')\n",
    "print(fsh[['lquan','lprice','mon','tue','wed','thu','stormy']].head())"
   ]
  },
  {
   "cell_type": "code",
   "execution_count": 14,
   "metadata": {},
   "outputs": [
    {
     "name": "stdout",
     "output_type": "stream",
     "text": [
      "        count      mean       std       min       50%       max\n",
      "lquan   111.0  8.523430  0.741672  6.194406  8.621193  9.981374\n",
      "lprice  111.0 -0.193681  0.381935 -1.107745 -0.206514  0.664327\n",
      "mon     111.0  0.189189  0.393435  0.000000  0.000000  1.000000\n",
      "tue     111.0  0.207207  0.407143  0.000000  0.000000  1.000000\n",
      "wed     111.0  0.189189  0.393435  0.000000  0.000000  1.000000\n",
      "thu     111.0  0.207207  0.407143  0.000000  0.000000  1.000000\n",
      "stormy  111.0  0.288288  0.455020  0.000000  0.000000  1.000000\n"
     ]
    }
   ],
   "source": [
    "print(fsh[['lquan','lprice','mon','tue','wed','thu','stormy']].\n",
    "      describe(percentiles=[]).transpose())"
   ]
  },
  {
   "cell_type": "code",
   "execution_count": 15,
   "metadata": {},
   "outputs": [
    {
     "name": "stdout",
     "output_type": "stream",
     "text": [
      "                            OLS Regression Results                            \n",
      "==============================================================================\n",
      "Dep. Variable:                  lquan   R-squared:                       0.193\n",
      "Model:                            OLS   Adj. R-squared:                  0.155\n",
      "No. Observations:                 111   F-statistic:                     5.034\n",
      "Covariance Type:            nonrobust   Prob (F-statistic):           0.000356\n",
      "==============================================================================\n",
      "                 coef    std err          t      P>|t|      [0.025      0.975]\n",
      "------------------------------------------------------------------------------\n",
      "Intercept      8.8101      0.147     59.922      0.000       8.519       9.102\n",
      "mon            0.1010      0.207      0.489      0.626      -0.308       0.510\n",
      "tue           -0.4847      0.201     -2.410      0.018      -0.884      -0.086\n",
      "wed           -0.5531      0.206     -2.688      0.008      -0.961      -0.145\n",
      "thu            0.0537      0.201      0.267      0.790      -0.345       0.452\n",
      "stormy        -0.3878      0.144     -2.698      0.008      -0.673      -0.103\n",
      "==============================================================================\n",
      "\n",
      "Notes:\n",
      "[1] Standard Errors assume that the covariance matrix of the errors is correctly specified.\n"
     ]
    }
   ],
   "source": [
    "resq=smf.ols('lquan~mon+tue+wed+thu+stormy+1',data=fsh).fit()\n",
    "print(resq.summary(slim=True))"
   ]
  },
  {
   "cell_type": "code",
   "execution_count": 16,
   "metadata": {},
   "outputs": [
    {
     "name": "stdout",
     "output_type": "stream",
     "text": [
      "                            OLS Regression Results                            \n",
      "==============================================================================\n",
      "Dep. Variable:                 lprice   R-squared:                       0.179\n",
      "Model:                            OLS   Adj. R-squared:                  0.140\n",
      "No. Observations:                 111   F-statistic:                     4.575\n",
      "Covariance Type:            nonrobust   Prob (F-statistic):           0.000816\n",
      "==============================================================================\n",
      "                 coef    std err          t      P>|t|      [0.025      0.975]\n",
      "------------------------------------------------------------------------------\n",
      "Intercept     -0.2717      0.076     -3.557      0.001      -0.423      -0.120\n",
      "mon           -0.1129      0.107     -1.052      0.295      -0.326       0.100\n",
      "tue           -0.0411      0.105     -0.394      0.695      -0.248       0.166\n",
      "wed           -0.0118      0.107     -0.111      0.912      -0.224       0.200\n",
      "thu            0.0496      0.104      0.475      0.636      -0.157       0.257\n",
      "stormy         0.3464      0.075      4.639      0.000       0.198       0.494\n",
      "==============================================================================\n",
      "\n",
      "Notes:\n",
      "[1] Standard Errors assume that the covariance matrix of the errors is correctly specified.\n"
     ]
    }
   ],
   "source": [
    "resp=smf.ols('lprice~mon+tue+wed+thu+stormy+1',data=fsh).fit()\n",
    "print(resp.summary(slim=True))"
   ]
  },
  {
   "cell_type": "code",
   "execution_count": 17,
   "metadata": {},
   "outputs": [
    {
     "name": "stdout",
     "output_type": "stream",
     "text": [
      "F(4,105) = 0.62\n",
      "p-value  = 0.6501\n"
     ]
    }
   ],
   "source": [
    "hypo='(mon=0,tue=0,wed=0,thu=0)'\n",
    "print(f'F(4,105) = {resp.f_test(hypo).fvalue:.2}')\n",
    "print(f'p-value  = {resp.f_test(hypo).pvalue.item(0):.4}')"
   ]
  },
  {
   "cell_type": "code",
   "execution_count": 18,
   "metadata": {},
   "outputs": [
    {
     "name": "stdout",
     "output_type": "stream",
     "text": [
      "    First Stage Estimation Results    \n",
      "======================================\n",
      "                                lprice\n",
      "--------------------------------------\n",
      "R-squared                       0.1789\n",
      "Partial R-squared               0.1701\n",
      "Shea's R-squared                0.1701\n",
      "Partial F-statistic             21.517\n",
      "P-value (Partial F-stat)     1.015e-05\n",
      "Partial F-stat Distn          F(1,105)\n",
      "========================== ===========\n",
      "Intercept                      -0.2717\n",
      "                             (-3.5569)\n",
      "mon                            -0.1129\n",
      "                             (-1.0525)\n",
      "tue                            -0.0411\n",
      "                             (-0.3937)\n",
      "wed                            -0.0118\n",
      "                             (-0.1106)\n",
      "thu                             0.0496\n",
      "                              (0.4753)\n",
      "stormy                          0.3464\n",
      "                              (4.6387)\n",
      "--------------------------------------\n",
      "\n",
      "T-stats reported in parentheses\n",
      "T-stats use same covariance type as original model\n"
     ]
    }
   ],
   "source": [
    "fsh['Intercept']=1\n",
    "res2sls=IV2SLS(dependent=fsh.lquan\n",
    "               ,exog=fsh[['Intercept','mon','tue','wed','thu']]\n",
    "               ,endog=fsh.lprice\n",
    "               ,instruments=fsh.stormy).fit(cov_type='unadjusted'\n",
    "                                           ,debiased='True')\n",
    "print(res2sls.first_stage)"
   ]
  },
  {
   "cell_type": "code",
   "execution_count": 19,
   "metadata": {},
   "outputs": [
    {
     "name": "stdout",
     "output_type": "stream",
     "text": [
      "\n",
      " Stock & Yogo (2005) Weak Instrument Critical Values\n",
      "--------------------------------------------------------------\n",
      "H0: Instruments are weak\n",
      "                                 # of endogenous regressors: 1\n",
      "                                 # of excluded instruments:  1\n",
      "--------------------------------------------------------------\n",
      "                                        5%    10%   20%    30%\n",
      "2SLS relative bias:                    nan    nan   nan    nan\n",
      "Fuller-k relative bias:              24.09  19.35 15.42  12.71\n",
      "Fuller-k maximum bias:               23.81  19.40 15.39  12.76\n",
      "--------------------------------------------------------------\n",
      "                                       10%    15%   20%    25%\n",
      "2SLS Size of nominal 5% Wald test:   16.38   8.96  6.66   5.53\n",
      "LIML Size of nominal 5% Wald test:   16.38   8.96  6.66   5.53\n",
      "--------------------------------------------------------------\n"
     ]
    }
   ],
   "source": [
    "weak_instr(1,1)"
   ]
  },
  {
   "cell_type": "code",
   "execution_count": 20,
   "metadata": {},
   "outputs": [
    {
     "name": "stdout",
     "output_type": "stream",
     "text": [
      "                             Parameter Estimates                              \n",
      "==============================================================================\n",
      "            Parameter  Std. Err.     T-stat    P-value    Lower CI    Upper CI\n",
      "------------------------------------------------------------------------------\n",
      "Intercept      8.5059     0.1662     51.189     0.0000      8.1764      8.8354\n",
      "mon           -0.0254     0.2148    -0.1183     0.9061     -0.4513      0.4005\n",
      "tue           -0.5308     0.2080    -2.5518     0.0122     -0.9432     -0.1183\n",
      "wed           -0.5664     0.2128    -2.6620     0.0090     -0.9882     -0.1445\n",
      "thu            0.1093     0.2088     0.5233     0.6018     -0.3047      0.5233\n",
      "lprice        -1.1194     0.4286    -2.6115     0.0103     -1.9693     -0.2695\n",
      "==============================================================================\n"
     ]
    }
   ],
   "source": [
    "print(res2sls.summary.tables[1])"
   ]
  },
  {
   "cell_type": "code",
   "execution_count": 21,
   "metadata": {},
   "outputs": [
    {
     "name": "stdout",
     "output_type": "stream",
     "text": [
      "                             Parameter Estimates                              \n",
      "==============================================================================\n",
      "            Parameter  Std. Err.     T-stat    P-value    Lower CI    Upper CI\n",
      "------------------------------------------------------------------------------\n",
      "Intercept   1.859e+04     3662.0     5.0759     0.0000   1.141e+04   2.577e+04\n",
      "kidsl6         207.55     162.30     1.2789     0.2009     -110.54      525.65\n",
      "nwifeinc      -104.94     20.565    -5.1028     0.0000     -145.25     -64.634\n",
      "mtr         -1.92e+04     3980.2    -4.8230     0.0000    -2.7e+04   -1.14e+04\n",
      "educ          -197.26     64.243    -3.0705     0.0021     -323.17     -71.346\n",
      "==============================================================================\n"
     ]
    }
   ],
   "source": [
    "mroz=pd.read_csv(poe5csv+'mroz.csv')\n",
    "mroz['Intercept']=1\n",
    "mroz=mroz[mroz.lfp>0]\n",
    "mroz['nwifeinc']=(mroz['faminc']-mroz['wage']*mroz['hours'])/1000\n",
    "resivliml=IVLIML(dependent=mroz['hours'],exog=mroz[['Intercept','kidsl6','nwifeinc']]\n",
    "                 ,endog=mroz[['mtr','educ']]\n",
    "                 ,instruments=mroz[['mothereduc','fathereduc','exper']\n",
    "                                  ]).fit(cov_type='unadjusted')\n",
    "print(resivliml.summary.tables[1])"
   ]
  },
  {
   "cell_type": "code",
   "execution_count": 22,
   "metadata": {},
   "outputs": [
    {
     "name": "stdout",
     "output_type": "stream",
     "text": [
      "          First Stage Estimation Results         \n",
      "=================================================\n",
      "                                   mtr       educ\n",
      "-------------------------------------------------\n",
      "R-squared                       0.6892     0.2792\n",
      "Partial R-squared               0.1182     0.1994\n",
      "Shea's R-squared                0.0618     0.1042\n",
      "Partial F-statistic             19.129     35.525\n",
      "P-value (Partial F-stat)     1.197e-11   1.11e-16\n",
      "Partial F-stat Distn          F(3,422)   F(3,422)\n",
      "========================== =========== ==========\n",
      "Intercept                       0.8296     8.1762\n",
      "                              (94.000)   (20.481)\n",
      "kidsl6                          0.0156     0.7292\n",
      "                              (2.8855)   (2.9845)\n",
      "nwifeinc                       -0.0058     0.0530\n",
      "                             (-29.167)   (5.8470)\n",
      "mothereduc                     -0.0013     0.1560\n",
      "                             (-1.7703)   (4.5732)\n",
      "fathereduc                     -0.0020     0.1675\n",
      "                             (-2.8259)   (5.1915)\n",
      "exper                          -0.0017     0.0296\n",
      "                             (-6.2766)   (2.4471)\n",
      "-------------------------------------------------\n",
      "\n",
      "T-stats reported in parentheses\n",
      "T-stats use same covariance type as original model\n"
     ]
    }
   ],
   "source": [
    "print(resivliml.first_stage)"
   ]
  },
  {
   "cell_type": "code",
   "execution_count": 23,
   "metadata": {},
   "outputs": [
    {
     "name": "stdout",
     "output_type": "stream",
     "text": [
      "                          Cancorr results\n",
      "====================================================================\n",
      "  Canonical Correlation Wilks' lambda Num DF  Den DF  F Value Pr > F\n",
      "--------------------------------------------------------------------\n",
      "0                0.4624        0.7409 6.0000 848.0000 22.8614 0.0000\n",
      "1                0.2400        0.9424 2.0000 425.0000 12.9938 0.0000\n",
      "--------------------------------------------------------------------\n",
      "                                                                    \n",
      "--------------------------------------------------------------------\n",
      "Multivariate Statistics and F Approximations                        \n",
      "----------------------------------------------------------------------\n",
      "                         Value    Num DF    Den DF    F Value   Pr > F\n",
      "----------------------------------------------------------------------\n",
      "Wilks' lambda            0.7409   6.0000   846.0000   22.8075   0.0000\n",
      "Pillai's trace           0.2714   6.0000   848.0000   22.1901   0.0000\n",
      "Hotelling-Lawley trace   0.3330   6.0000   562.2257   23.4524   0.0000\n",
      "Roy's greatest root      0.2719   3.0000   424.0000   38.4288   0.0000\n",
      "====================================================================\n",
      "\n"
     ]
    }
   ],
   "source": [
    "varlist=mroz[['mtr','educ','mothereduc','fathereduc','exper']]\n",
    "for v in varlist:\n",
    "    res=sm.OLS(mroz[v],mroz[['Intercept','kidsl6','nwifeinc']]).fit()\n",
    "    mroz[str(v+'r')]=res.resid\n",
    "ccor=CanCorr(mroz[['mtrr','educr']],mroz[['mothereducr','fathereducr','experr']])\n",
    "print(ccor.corr_test().summary())"
   ]
  },
  {
   "cell_type": "code",
   "execution_count": 24,
   "metadata": {},
   "outputs": [
    {
     "name": "stdout",
     "output_type": "stream",
     "text": [
      "Cragg-Donald F-statistic: 8.60138\n"
     ]
    }
   ],
   "source": [
    "n=resivliml.nobs\n",
    "l=resivliml.first_stage.instr.shape\n",
    "g=resivliml.first_stage.exog.shape\n",
    "minccor=ccor.cancorr.min()\n",
    "cd_stat=(n-(l[1]+g[1]))/l[1]*minccor**2/(1-minccor**2)\n",
    "print(f'Cragg-Donald F-statistic: {cd_stat:.6}')"
   ]
  },
  {
   "cell_type": "code",
   "execution_count": 25,
   "metadata": {},
   "outputs": [
    {
     "name": "stdout",
     "output_type": "stream",
     "text": [
      "\n",
      " Stock & Yogo (2005) Weak Instrument Critical Values\n",
      "--------------------------------------------------------------\n",
      "H0: Instruments are weak\n",
      "                                 # of endogenous regressors: 2\n",
      "                                 # of excluded instruments:  3\n",
      "--------------------------------------------------------------\n",
      "                                        5%    10%   20%    30%\n",
      "2SLS relative bias:                    nan    nan   nan    nan\n",
      "Fuller-k relative bias:              10.83   8.96  7.18   6.15\n",
      "Fuller-k maximum bias:               10.00   8.39  6.79   5.88\n",
      "--------------------------------------------------------------\n",
      "                                       10%    15%   20%    25%\n",
      "2SLS Size of nominal 5% Wald test:   13.43   8.18  6.40   5.45\n",
      "LIML Size of nominal 5% Wald test:    5.44   3.81  3.32   3.09\n",
      "--------------------------------------------------------------\n"
     ]
    }
   ],
   "source": [
    "weak_instr(2,3)"
   ]
  },
  {
   "cell_type": "code",
   "execution_count": 26,
   "metadata": {},
   "outputs": [
    {
     "name": "stdout",
     "output_type": "stream",
     "text": [
      "                    IV-LIML(fuller(alpha=1)) Estimation Summary                     \n",
      "====================================================================================\n",
      "Dep. Variable:                        hours   R-squared:                     -0.1746\n",
      "Estimator:         IV-LIML(fuller(alpha=1))   Adj. R-squared:                -0.1857\n",
      "No. Observations:                       428   F-statistic:                    37.319\n",
      "Date:                      Wed, Jun 18 2025   P-value (F-stat)                0.0000\n",
      "Time:                              09:25:30   Distribution:                  chi2(4)\n",
      "Cov. Estimator:                  unadjusted                                         \n",
      "                                                                                    \n",
      "                             Parameter Estimates                              \n",
      "==============================================================================\n",
      "            Parameter  Std. Err.     T-stat    P-value    Lower CI    Upper CI\n",
      "------------------------------------------------------------------------------\n",
      "Intercept   1.816e+04     3539.3     5.1301     0.0000   1.122e+04   2.509e+04\n",
      "kidsl6         193.23     158.21     1.2214     0.2220     -116.85      503.31\n",
      "nwifeinc      -102.63     19.915    -5.1532     0.0000     -141.66     -63.595\n",
      "mtr        -1.873e+04     3848.3    -4.8672     0.0000  -2.627e+04  -1.119e+04\n",
      "educ          -191.12     62.372    -3.0643     0.0022     -313.37     -68.878\n",
      "==============================================================================\n",
      "\n",
      "Endogenous: mtr, educ\n",
      "Instruments: mothereduc, fathereduc, exper\n",
      "Unadjusted Covariance (Homoskedastic)\n",
      "Debiased: False\n",
      "Kappa: 1.001\n"
     ]
    }
   ],
   "source": [
    "resivliml=IVLIML(dependent=mroz['hours'],exog=mroz[['Intercept','kidsl6','nwifeinc']]\n",
    "                 ,endog=mroz[['mtr','educ']]\n",
    "                 ,instruments=mroz[['mothereduc','fathereduc','exper']]\n",
    "                 ,fuller=1\n",
    "                ).fit(cov_type='unadjusted')\n",
    "print(resivliml.summary)"
   ]
  }
 ],
 "metadata": {
  "kernelspec": {
   "display_name": "Python 3 (ipykernel)",
   "language": "python",
   "name": "python3"
  },
  "language_info": {
   "codemirror_mode": {
    "name": "ipython",
    "version": 3
   },
   "file_extension": ".py",
   "mimetype": "text/x-python",
   "name": "python",
   "nbconvert_exporter": "python",
   "pygments_lexer": "ipython3",
   "version": "3.12.4"
  }
 },
 "nbformat": 4,
 "nbformat_minor": 4
}
